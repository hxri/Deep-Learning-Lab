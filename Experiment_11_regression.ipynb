{
  "nbformat": 4,
  "nbformat_minor": 0,
  "metadata": {
    "colab": {
      "name": "Experiment_11_regression.ipynb",
      "provenance": [],
      "authorship_tag": "ABX9TyP1OgAtF7ETAMKTM+xu+Xit",
      "include_colab_link": true
    },
    "kernelspec": {
      "name": "python3",
      "display_name": "Python 3"
    },
    "language_info": {
      "name": "python"
    }
  },
  "cells": [
    {
      "cell_type": "markdown",
      "metadata": {
        "id": "view-in-github",
        "colab_type": "text"
      },
      "source": [
        "<a href=\"https://colab.research.google.com/github/hxri/Deep-Learning-Lab/blob/main/Experiment_11_regression.ipynb\" target=\"_parent\"><img src=\"https://colab.research.google.com/assets/colab-badge.svg\" alt=\"Open In Colab\"/></a>"
      ]
    },
    {
      "cell_type": "markdown",
      "source": [
        "# Univariate Regression"
      ],
      "metadata": {
        "id": "Qr2UkLu-5MSw"
      }
    },
    {
      "cell_type": "code",
      "source": [
        "import numpy as np\n",
        "import pandas as pd\n",
        "import seaborn as sns\n",
        "import matplotlib.pyplot as plt\n",
        "from sklearn import preprocessing, svm\n",
        "from sklearn.model_selection import train_test_split\n",
        "from sklearn.linear_model import LinearRegression, Lasso, Ridge\n",
        "from sklearn.datasets import make_regression\n",
        "from sklearn.model_selection import train_test_split\n",
        "import sklearn.metrics as metrics"
      ],
      "metadata": {
        "id": "XcLJNFu-5tCx"
      },
      "execution_count": 139,
      "outputs": []
    },
    {
      "cell_type": "code",
      "source": [
        "X, y = make_regression(n_features=1, n_targets=1, noise=12)"
      ],
      "metadata": {
        "id": "Krj_YrIX4B09"
      },
      "execution_count": 132,
      "outputs": []
    },
    {
      "cell_type": "code",
      "source": [
        "X_train, X_test, y_train, y_test = train_test_split(X, y, test_size=0.33, random_state=42)"
      ],
      "metadata": {
        "id": "gP2AApYT577x"
      },
      "execution_count": 133,
      "outputs": []
    },
    {
      "cell_type": "code",
      "source": [
        "lr = LinearRegression()\n",
        "lr.fit(X_train, y_train)\n",
        "print(lr.score(X_test,y_test))"
      ],
      "metadata": {
        "colab": {
          "base_uri": "https://localhost:8080/"
        },
        "id": "rMeP46Mr6TLv",
        "outputId": "d508c9af-ced2-47ef-a81d-a5bdf629c11e"
      },
      "execution_count": 134,
      "outputs": [
        {
          "output_type": "stream",
          "name": "stdout",
          "text": [
            "0.06059659813078122\n"
          ]
        }
      ]
    },
    {
      "cell_type": "code",
      "source": [
        "y_pred = lr.predict(X_test)"
      ],
      "metadata": {
        "id": "NcN1Cl8b7iSL"
      },
      "execution_count": 135,
      "outputs": []
    },
    {
      "cell_type": "code",
      "source": [
        "coef = lr.coef_\n",
        "intercept = lr.intercept_\n",
        "print('coef= ', coef)\n",
        "print('intercept= ', intercept)"
      ],
      "metadata": {
        "colab": {
          "base_uri": "https://localhost:8080/"
        },
        "id": "Sf_XFnPd8Qay",
        "outputId": "6a581a52-7365-4bd9-9af0-bd837051abe9"
      },
      "execution_count": 136,
      "outputs": [
        {
          "output_type": "stream",
          "name": "stdout",
          "text": [
            "coef=  [1.76677118]\n",
            "intercept=  -0.15069148209274472\n"
          ]
        }
      ]
    },
    {
      "cell_type": "code",
      "source": [
        "mae = metrics.mean_absolute_error(y_test, y_pred)\n",
        "mse = metrics.mean_squared_error(y_test, y_pred)\n",
        "rmse = np.sqrt(mse) # or mse**(0.5)  \n",
        "r2 = metrics.r2_score(y_test,y_pred)\n",
        "\n",
        "print(\"Results of sklearn.metrics:\")\n",
        "print(\"MAE:\",mae)\n",
        "print(\"MSE:\", mse)\n",
        "print(\"RMSE:\", rmse)\n",
        "print(\"R-Squared:\", r2)"
      ],
      "metadata": {
        "colab": {
          "base_uri": "https://localhost:8080/"
        },
        "id": "P79URaqp8jeT",
        "outputId": "f7b4b98e-246c-4e92-bf62-8afd817e8444"
      },
      "execution_count": 137,
      "outputs": [
        {
          "output_type": "stream",
          "name": "stdout",
          "text": [
            "Results of sklearn.metrics:\n",
            "MAE: 11.855218803388116\n",
            "MSE: 215.3091095103337\n",
            "RMSE: 14.673415059567207\n",
            "R-Squared: 0.06059659813078122\n"
          ]
        }
      ]
    },
    {
      "cell_type": "code",
      "source": [
        "plt.scatter(y_pred, y_test, color=\"black\")\n",
        "plt.plot(y_pred, y_pred, color=\"blue\", linewidth=3)"
      ],
      "metadata": {
        "colab": {
          "base_uri": "https://localhost:8080/",
          "height": 282
        },
        "id": "FSviVfsy6us0",
        "outputId": "444c972f-90bd-4d89-d30c-ab152b90d2d7"
      },
      "execution_count": 138,
      "outputs": [
        {
          "output_type": "execute_result",
          "data": {
            "text/plain": [
              "[<matplotlib.lines.Line2D at 0x7f5cbc2a89d0>]"
            ]
          },
          "metadata": {},
          "execution_count": 138
        },
        {
          "output_type": "display_data",
          "data": {
            "text/plain": [
              "<Figure size 432x288 with 1 Axes>"
            ],
            "image/png": "[encoded data removed]"
          },
          "metadata": {
            "needs_background": "light"
          }
        }
      ]
    },
    {
      "cell_type": "markdown",
      "source": [
        "# Multivariate Regression"
      ],
      "metadata": {
        "id": "wHU0hvjo74OF"
      }
    },
    {
      "cell_type": "code",
      "source": [
        "X, y = make_regression(n_features=12, n_targets=1, noise=47)"
      ],
      "metadata": {
        "id": "mP6vc9yg8-nZ"
      },
      "execution_count": 121,
      "outputs": []
    },
    {
      "cell_type": "code",
      "source": [
        "X_train, X_test, y_train, y_test = train_test_split(X, y, test_size=0.33, random_state=42)"
      ],
      "metadata": {
        "id": "kRMUnv_A8-nh"
      },
      "execution_count": 122,
      "outputs": []
    },
    {
      "cell_type": "code",
      "source": [
        "lr = LinearRegression()\n",
        "lr.fit(X_train, y_train)\n",
        "print(lr.score(X_test,y_test))"
      ],
      "metadata": {
        "colab": {
          "base_uri": "https://localhost:8080/"
        },
        "outputId": "984420ea-73f2-41cc-b827-388b502a0d9a",
        "id": "RLI753KB8-nh"
      },
      "execution_count": 123,
      "outputs": [
        {
          "output_type": "stream",
          "name": "stdout",
          "text": [
            "0.9437875301546577\n"
          ]
        }
      ]
    },
    {
      "cell_type": "code",
      "source": [
        "y_pred = lr.predict(X_test)"
      ],
      "metadata": {
        "id": "_sp21PK28-nh"
      },
      "execution_count": 124,
      "outputs": []
    },
    {
      "cell_type": "code",
      "source": [
        "coef = lr.coef_\n",
        "intercept = lr.intercept_\n",
        "print('coef= ', coef)\n",
        "print('intercept= ', intercept)"
      ],
      "metadata": {
        "colab": {
          "base_uri": "https://localhost:8080/"
        },
        "outputId": "b1502dad-021f-4b7c-810b-dd8745a0410d",
        "id": "amjYGxZ88-nh"
      },
      "execution_count": 125,
      "outputs": [
        {
          "output_type": "stream",
          "name": "stdout",
          "text": [
            "coef=  [79.8637771  17.09495319 67.7075774   4.01975838 84.3445112  64.92484611\n",
            " -2.96159225 79.6410525  93.02152036 -1.9801198  47.18737577 72.03648947]\n",
            "intercept=  4.154771743351892\n"
          ]
        }
      ]
    },
    {
      "cell_type": "code",
      "source": [
        "mae = metrics.mean_absolute_error(y_test, y_pred)\n",
        "mse = metrics.mean_squared_error(y_test, y_pred)\n",
        "rmse = np.sqrt(mse) # or mse**(0.5)  \n",
        "r2 = metrics.r2_score(y_test,y_pred)\n",
        "\n",
        "print(\"MAE:\",mae)\n",
        "print(\"MSE:\", mse)\n",
        "print(\"RMSE:\", rmse)\n",
        "print(\"R-Squared:\", r2)"
      ],
      "metadata": {
        "colab": {
          "base_uri": "https://localhost:8080/"
        },
        "outputId": "2259eb00-4340-4921-9571-0267ae9c9b4a",
        "id": "fh4K4w578-ni"
      },
      "execution_count": 126,
      "outputs": [
        {
          "output_type": "stream",
          "name": "stdout",
          "text": [
            "MAE: 40.943173887103875\n",
            "MSE: 2514.234935243344\n",
            "RMSE: 50.1421472939018\n",
            "R-Squared: 0.9437875301546577\n"
          ]
        }
      ]
    },
    {
      "cell_type": "code",
      "source": [
        "y_pred"
      ],
      "metadata": {
        "colab": {
          "base_uri": "https://localhost:8080/"
        },
        "id": "LrPM8lWG9ZTN",
        "outputId": "364f7380-3703-4bab-82ce-7fac35d9d887"
      },
      "execution_count": 127,
      "outputs": [
        {
          "output_type": "execute_result",
          "data": {
            "text/plain": [
              "array([ -63.71944836, -166.84458908, -389.31860956, -320.28862244,\n",
              "        -25.35077365,  211.37081122,  164.38738608,   68.81808558,\n",
              "        183.14016867,  319.91287913, -141.83278994,   58.50825904,\n",
              "       -246.93670257,  200.74458105,   82.30305772, -251.8002337 ,\n",
              "       -388.55531145,  -47.98736472,  -43.24790807, -239.91979601,\n",
              "       -108.78927801,  202.49541237,  334.6980673 ,  -70.48538264,\n",
              "        151.91361118, -189.697756  ,   23.05799751,  -45.09397726,\n",
              "       -184.34528277,  179.29793672,    8.51960556, -229.63167436,\n",
              "        353.25361734])"
            ]
          },
          "metadata": {},
          "execution_count": 127
        }
      ]
    },
    {
      "cell_type": "code",
      "source": [
        "plt.scatter(y_pred, y_test, color=\"black\")\n",
        "plt.plot(y_pred, y_pred, color=\"blue\", linewidth=3)"
      ],
      "metadata": {
        "colab": {
          "base_uri": "https://localhost:8080/",
          "height": 282
        },
        "outputId": "de3a03e4-2a8d-4d51-8f1c-ca1cdf436d3d",
        "id": "0JThiO7g8-ni"
      },
      "execution_count": 128,
      "outputs": [
        {
          "output_type": "execute_result",
          "data": {
            "text/plain": [
              "[<matplotlib.lines.Line2D at 0x7f5cbc2c53d0>]"
            ]
          },
          "metadata": {},
          "execution_count": 128
        },
        {
          "output_type": "display_data",
          "data": {
            "text/plain": [
              "<Figure size 432x288 with 1 Axes>"
            ],
            "image/png": "[encoded data removed]"
          },
          "metadata": {
            "needs_background": "light"
          }
        }
      ]
    },
    {
      "cell_type": "markdown",
      "source": [
        "# Lasso Regression"
      ],
      "metadata": {
        "id": "_W0VgNC19vFr"
      }
    },
    {
      "cell_type": "code",
      "source": [
        "X, y = make_regression(n_features=12, n_targets=1, noise=47)"
      ],
      "metadata": {
        "id": "DKBf9-8W9vFy"
      },
      "execution_count": 140,
      "outputs": []
    },
    {
      "cell_type": "code",
      "source": [
        "X_train, X_test, y_train, y_test = train_test_split(X, y, test_size=0.33, random_state=42)"
      ],
      "metadata": {
        "id": "1EsUcwXF9vFy"
      },
      "execution_count": 141,
      "outputs": []
    },
    {
      "cell_type": "code",
      "source": [
        "lr = Lasso()\n",
        "lr.fit(X_train, y_train)\n",
        "print(lr.score(X_test,y_test))"
      ],
      "metadata": {
        "colab": {
          "base_uri": "https://localhost:8080/"
        },
        "outputId": "a67a9bb7-d166-4051-d8b5-159df9237d40",
        "id": "sMmmdZEb9vFz"
      },
      "execution_count": 142,
      "outputs": [
        {
          "output_type": "stream",
          "name": "stdout",
          "text": [
            "0.9317612858917751\n"
          ]
        }
      ]
    },
    {
      "cell_type": "code",
      "source": [
        "y_pred = lr.predict(X_test)"
      ],
      "metadata": {
        "id": "GAdd2vvZ9vFz"
      },
      "execution_count": 143,
      "outputs": []
    },
    {
      "cell_type": "code",
      "source": [
        "coef = lr.coef_\n",
        "intercept = lr.intercept_\n",
        "print('coef= ', coef)\n",
        "print('intercept= ', intercept)"
      ],
      "metadata": {
        "colab": {
          "base_uri": "https://localhost:8080/"
        },
        "outputId": "24b21f7b-9f6a-4138-f7c0-6ae2081540cd",
        "id": "PEdIHInA9vFz"
      },
      "execution_count": 144,
      "outputs": [
        {
          "output_type": "stream",
          "name": "stdout",
          "text": [
            "coef=  [ 0.95187201 77.76800037 41.24424478 18.89246294 -3.66277447 77.63232906\n",
            " 42.47429079 12.93052893 17.89768418 98.73896579 25.81389691 72.90271538]\n",
            "intercept=  4.596562305691516\n"
          ]
        }
      ]
    },
    {
      "cell_type": "code",
      "source": [
        "mae = metrics.mean_absolute_error(y_test, y_pred)\n",
        "mse = metrics.mean_squared_error(y_test, y_pred)\n",
        "rmse = np.sqrt(mse) # or mse**(0.5)  \n",
        "r2 = metrics.r2_score(y_test,y_pred)\n",
        "\n",
        "print(\"MAE:\",mae)\n",
        "print(\"MSE:\", mse)\n",
        "print(\"RMSE:\", rmse)\n",
        "print(\"R-Squared:\", r2)"
      ],
      "metadata": {
        "colab": {
          "base_uri": "https://localhost:8080/"
        },
        "outputId": "ac166226-3568-4d38-8435-db4534034e23",
        "id": "nbijc22Y9vFz"
      },
      "execution_count": 145,
      "outputs": [
        {
          "output_type": "stream",
          "name": "stdout",
          "text": [
            "MAE: 34.95726943672897\n",
            "MSE: 1813.3357241440335\n",
            "RMSE: 42.58327986597596\n",
            "R-Squared: 0.9317612858917751\n"
          ]
        }
      ]
    },
    {
      "cell_type": "code",
      "source": [
        "y_pred"
      ],
      "metadata": {
        "colab": {
          "base_uri": "https://localhost:8080/"
        },
        "outputId": "a4e7ce8e-3e1d-4ee0-e2e2-f97785a07658",
        "id": "w6syfKiN9vFz"
      },
      "execution_count": 146,
      "outputs": [
        {
          "output_type": "execute_result",
          "data": {
            "text/plain": [
              "array([  -5.36879308, -369.1207368 ,  -26.04847587, -127.3841386 ,\n",
              "         -8.88666366,  103.1121965 ,  328.94946432, -182.6312847 ,\n",
              "       -132.42937608,  109.95483302,   13.399063  ,   97.99282683,\n",
              "       -117.53938883,  -99.82939016,   -3.60547504,  206.88461221,\n",
              "       -110.18880459,   26.363121  ,    4.29558221,  -60.51489841,\n",
              "       -189.82958233,  297.36740344,   97.85380652,  271.79002785,\n",
              "        -54.04029788,  188.63561763,  288.64060207,  148.04448947,\n",
              "        289.8320226 , -231.23398188,  -41.04895335, -123.18733006,\n",
              "        -94.66142901])"
            ]
          },
          "metadata": {},
          "execution_count": 146
        }
      ]
    },
    {
      "cell_type": "code",
      "source": [
        "plt.scatter(y_pred, y_test, color=\"black\")\n",
        "plt.plot(y_pred, y_pred, color=\"blue\", linewidth=3)"
      ],
      "metadata": {
        "colab": {
          "base_uri": "https://localhost:8080/",
          "height": 282
        },
        "outputId": "edc7e177-40a8-4c5a-8533-d1ec0399da46",
        "id": "9KWGxGtz9vFz"
      },
      "execution_count": 147,
      "outputs": [
        {
          "output_type": "execute_result",
          "data": {
            "text/plain": [
              "[<matplotlib.lines.Line2D at 0x7f5cbec4ba50>]"
            ]
          },
          "metadata": {},
          "execution_count": 147
        },
        {
          "output_type": "display_data",
          "data": {
            "text/plain": [
              "<Figure size 432x288 with 1 Axes>"
            ],
            "image/png": "[encoded data removed]"
          },
          "metadata": {
            "needs_background": "light"
          }
        }
      ]
    },
    {
      "cell_type": "markdown",
      "source": [
        "# Ridge Regression"
      ],
      "metadata": {
        "id": "RxnktoEM-KJb"
      }
    },
    {
      "cell_type": "code",
      "source": [
        "X, y = make_regression(n_features=12, n_targets=1, noise=47)"
      ],
      "metadata": {
        "id": "L9zobp75-KJc"
      },
      "execution_count": 148,
      "outputs": []
    },
    {
      "cell_type": "code",
      "source": [
        "X_train, X_test, y_train, y_test = train_test_split(X, y, test_size=0.33, random_state=42)"
      ],
      "metadata": {
        "id": "el4TlKT2-KJd"
      },
      "execution_count": 149,
      "outputs": []
    },
    {
      "cell_type": "code",
      "source": [
        "lr = Ridge()\n",
        "lr.fit(X_train, y_train)\n",
        "print(lr.score(X_test,y_test))"
      ],
      "metadata": {
        "colab": {
          "base_uri": "https://localhost:8080/"
        },
        "outputId": "77da9a3c-387c-4b42-8b74-9efba1e7fc51",
        "id": "H1MiluAL-KJd"
      },
      "execution_count": 150,
      "outputs": [
        {
          "output_type": "stream",
          "name": "stdout",
          "text": [
            "0.8912892350447796\n"
          ]
        }
      ]
    },
    {
      "cell_type": "code",
      "source": [
        "y_pred = lr.predict(X_test)"
      ],
      "metadata": {
        "id": "nDQM7hzj-KJf"
      },
      "execution_count": 151,
      "outputs": []
    },
    {
      "cell_type": "code",
      "source": [
        "coef = lr.coef_\n",
        "intercept = lr.intercept_\n",
        "print('coef= ', coef)\n",
        "print('intercept= ', intercept)"
      ],
      "metadata": {
        "colab": {
          "base_uri": "https://localhost:8080/"
        },
        "outputId": "5e761608-76a3-464a-fa70-46fa210e6c01",
        "id": "ApejIcjH-KJg"
      },
      "execution_count": 152,
      "outputs": [
        {
          "output_type": "stream",
          "name": "stdout",
          "text": [
            "coef=  [ 5.71324429e+00  3.27669213e+01  6.95897344e+01  4.37416297e+01\n",
            "  8.28170256e+01  1.68951250e+00 -4.66134764e-03  8.20894828e+01\n",
            "  8.27898042e+01  1.72622920e+01  3.72695695e+01  1.33895271e+01]\n",
            "intercept=  -8.861678293306921\n"
          ]
        }
      ]
    },
    {
      "cell_type": "code",
      "source": [
        "mae = metrics.mean_absolute_error(y_test, y_pred)\n",
        "mse = metrics.mean_squared_error(y_test, y_pred)\n",
        "rmse = np.sqrt(mse) # or mse**(0.5)  \n",
        "r2 = metrics.r2_score(y_test,y_pred)\n",
        "\n",
        "print(\"MAE:\",mae)\n",
        "print(\"MSE:\", mse)\n",
        "print(\"RMSE:\", rmse)\n",
        "print(\"R-Squared:\", r2)"
      ],
      "metadata": {
        "colab": {
          "base_uri": "https://localhost:8080/"
        },
        "outputId": "8e6a13b5-4197-44e7-dfbf-14391cdaebca",
        "id": "kdZQ39r--KJh"
      },
      "execution_count": 153,
      "outputs": [
        {
          "output_type": "stream",
          "name": "stdout",
          "text": [
            "MAE: 45.4606414101987\n",
            "MSE: 3126.715861837728\n",
            "RMSE: 55.9170444662245\n",
            "R-Squared: 0.8912892350447796\n"
          ]
        }
      ]
    },
    {
      "cell_type": "code",
      "source": [
        "y_pred"
      ],
      "metadata": {
        "colab": {
          "base_uri": "https://localhost:8080/"
        },
        "outputId": "cea097a3-a40c-4300-bd9b-afb81857b300",
        "id": "ltSLPar2-KJi"
      },
      "execution_count": 154,
      "outputs": [
        {
          "output_type": "execute_result",
          "data": {
            "text/plain": [
              "array([ 123.14960516,  -82.88804121,  -14.19743443,  -29.46374271,\n",
              "       -167.82569025,  142.42281257,   89.63632605,  107.04998445,\n",
              "        -91.38646025, -198.7674152 ,   68.04193143,  189.69931501,\n",
              "        130.49829227,  -53.22432854,   85.47510888,  260.02154996,\n",
              "       -343.33146886,  -29.51146807, -118.43212188,  184.92913061,\n",
              "       -494.09135095,  -86.87485602,  -35.24548975,  190.98349451,\n",
              "         56.15025868,   54.87451154,  175.67550736, -189.01829993,\n",
              "         23.53408695,  293.72214527,   92.67802089,  366.19970087,\n",
              "        -52.21068259])"
            ]
          },
          "metadata": {},
          "execution_count": 154
        }
      ]
    },
    {
      "cell_type": "code",
      "source": [
        "plt.scatter(y_pred, y_test, color=\"black\")\n",
        "plt.plot(y_pred, y_pred, color=\"blue\", linewidth=3)"
      ],
      "metadata": {
        "colab": {
          "base_uri": "https://localhost:8080/",
          "height": 284
        },
        "outputId": "01fee32d-9dd2-43f0-de8d-f4ed8cc6b9c5",
        "id": "3t7JzqJn-KJi"
      },
      "execution_count": 155,
      "outputs": [
        {
          "output_type": "execute_result",
          "data": {
            "text/plain": [
              "[<matplotlib.lines.Line2D at 0x7f5cbf68d0d0>]"
            ]
          },
          "metadata": {},
          "execution_count": 155
        },
        {
          "output_type": "display_data",
          "data": {
            "text/plain": [
              "<Figure size 432x288 with 1 Axes>"
            ],
            "image/png": "[encoded data removed]"
          },
          "metadata": {
            "needs_background": "light"
          }
        }
      ]
    },
    {
      "cell_type": "code",
      "source": [
        ""
      ],
      "metadata": {
        "id": "VFCP0cj2-Q7U"
      },
      "execution_count": null,
      "outputs": []
    }
  ]
}