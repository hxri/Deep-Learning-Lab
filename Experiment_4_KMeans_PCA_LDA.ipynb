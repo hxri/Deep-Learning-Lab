{
  "nbformat": 4,
  "nbformat_minor": 0,
  "metadata": {
    "colab": {
      "name": "Experiment_4_PCA_LDA.ipynb",
      "provenance": [],
      "authorship_tag": "ABX9TyNr9m3+rZari0obB5oQaItu",
      "include_colab_link": true
    },
    "kernelspec": {
      "name": "python3",
      "display_name": "Python 3"
    },
    "language_info": {
      "name": "python"
    }
  },
  "cells": [
    {
      "cell_type": "markdown",
      "metadata": {
        "id": "view-in-github",
        "colab_type": "text"
      },
      "source": [
        "<a href=\"https://colab.research.google.com/github/hxri/Deep-Learning-Lab/blob/main/Experiment_4_PCA_LDA.ipynb\" target=\"_parent\"><img src=\"https://colab.research.google.com/assets/colab-badge.svg\" alt=\"Open In Colab\"/></a>"
      ]
    },
    {
      "cell_type": "code",
      "execution_count": 3,
      "metadata": {
        "id": "Cz1HmeBBaQ7P"
      },
      "outputs": [],
      "source": [
        "import numpy as np\n",
        "from sklearn.decomposition import PCA\n",
        "import pandas as pd"
      ]
    },
    {
      "cell_type": "code",
      "source": [
        "df = pd.read_csv('/content/Iris.csv')"
      ],
      "metadata": {
        "id": "hnX34dRyWgGx"
      },
      "execution_count": 20,
      "outputs": []
    },
    {
      "cell_type": "code",
      "source": [
        "df"
      ],
      "metadata": {
        "colab": {
          "base_uri": "https://localhost:8080/",
          "height": 424
        },
        "id": "syUaAP_cX8tM",
        "outputId": "b15443d2-bc9f-4251-bcfb-b738cc06ebb6"
      },
      "execution_count": 31,
      "outputs": [
        {
          "output_type": "execute_result",
          "data": {
            "text/plain": [
              "      Id  SepalLengthCm  SepalWidthCm  PetalLengthCm  PetalWidthCm  \\\n",
              "0      1            5.1           3.5            1.4           0.2   \n",
              "1      2            4.9           3.0            1.4           0.2   \n",
              "2      3            4.7           3.2            1.3           0.2   \n",
              "3      4            4.6           3.1            1.5           0.2   \n",
              "4      5            5.0           3.6            1.4           0.2   \n",
              "..   ...            ...           ...            ...           ...   \n",
              "145  146            6.7           3.0            5.2           2.3   \n",
              "146  147            6.3           2.5            5.0           1.9   \n",
              "147  148            6.5           3.0            5.2           2.0   \n",
              "148  149            6.2           3.4            5.4           2.3   \n",
              "149  150            5.9           3.0            5.1           1.8   \n",
              "\n",
              "            Species  \n",
              "0       Iris-setosa  \n",
              "1       Iris-setosa  \n",
              "2       Iris-setosa  \n",
              "3       Iris-setosa  \n",
              "4       Iris-setosa  \n",
              "..              ...  \n",
              "145  Iris-virginica  \n",
              "146  Iris-virginica  \n",
              "147  Iris-virginica  \n",
              "148  Iris-virginica  \n",
              "149  Iris-virginica  \n",
              "\n",
              "[150 rows x 6 columns]"
            ],
            "text/html": [
              "\n",
              "  <div id=\"df-2e7cd137-0c7f-47e6-b2e7-f5f460b6c39b\">\n",
              "    <div class=\"colab-df-container\">\n",
              "      <div>\n",
              "<style scoped>\n",
              "    .dataframe tbody tr th:only-of-type {\n",
              "        vertical-align: middle;\n",
              "    }\n",
              "\n",
              "    .dataframe tbody tr th {\n",
              "        vertical-align: top;\n",
              "    }\n",
              "\n",
              "    .dataframe thead th {\n",
              "        text-align: right;\n",
              "    }\n",
              "</style>\n",
              "<table border=\"1\" class=\"dataframe\">\n",
              "  <thead>\n",
              "    <tr style=\"text-align: right;\">\n",
              "      <th></th>\n",
              "      <th>Id</th>\n",
              "      <th>SepalLengthCm</th>\n",
              "      <th>SepalWidthCm</th>\n",
              "      <th>PetalLengthCm</th>\n",
              "      <th>PetalWidthCm</th>\n",
              "      <th>Species</th>\n",
              "    </tr>\n",
              "  </thead>\n",
              "  <tbody>\n",
              "    <tr>\n",
              "      <th>0</th>\n",
              "      <td>1</td>\n",
              "      <td>5.1</td>\n",
              "      <td>3.5</td>\n",
              "      <td>1.4</td>\n",
              "      <td>0.2</td>\n",
              "      <td>Iris-setosa</td>\n",
              "    </tr>\n",
              "    <tr>\n",
              "      <th>1</th>\n",
              "      <td>2</td>\n",
              "      <td>4.9</td>\n",
              "      <td>3.0</td>\n",
              "      <td>1.4</td>\n",
              "      <td>0.2</td>\n",
              "      <td>Iris-setosa</td>\n",
              "    </tr>\n",
              "    <tr>\n",
              "      <th>2</th>\n",
              "      <td>3</td>\n",
              "      <td>4.7</td>\n",
              "      <td>3.2</td>\n",
              "      <td>1.3</td>\n",
              "      <td>0.2</td>\n",
              "      <td>Iris-setosa</td>\n",
              "    </tr>\n",
              "    <tr>\n",
              "      <th>3</th>\n",
              "      <td>4</td>\n",
              "      <td>4.6</td>\n",
              "      <td>3.1</td>\n",
              "      <td>1.5</td>\n",
              "      <td>0.2</td>\n",
              "      <td>Iris-setosa</td>\n",
              "    </tr>\n",
              "    <tr>\n",
              "      <th>4</th>\n",
              "      <td>5</td>\n",
              "      <td>5.0</td>\n",
              "      <td>3.6</td>\n",
              "      <td>1.4</td>\n",
              "      <td>0.2</td>\n",
              "      <td>Iris-setosa</td>\n",
              "    </tr>\n",
              "    <tr>\n",
              "      <th>...</th>\n",
              "      <td>...</td>\n",
              "      <td>...</td>\n",
              "      <td>...</td>\n",
              "      <td>...</td>\n",
              "      <td>...</td>\n",
              "      <td>...</td>\n",
              "    </tr>\n",
              "    <tr>\n",
              "      <th>145</th>\n",
              "      <td>146</td>\n",
              "      <td>6.7</td>\n",
              "      <td>3.0</td>\n",
              "      <td>5.2</td>\n",
              "      <td>2.3</td>\n",
              "      <td>Iris-virginica</td>\n",
              "    </tr>\n",
              "    <tr>\n",
              "      <th>146</th>\n",
              "      <td>147</td>\n",
              "      <td>6.3</td>\n",
              "      <td>2.5</td>\n",
              "      <td>5.0</td>\n",
              "      <td>1.9</td>\n",
              "      <td>Iris-virginica</td>\n",
              "    </tr>\n",
              "    <tr>\n",
              "      <th>147</th>\n",
              "      <td>148</td>\n",
              "      <td>6.5</td>\n",
              "      <td>3.0</td>\n",
              "      <td>5.2</td>\n",
              "      <td>2.0</td>\n",
              "      <td>Iris-virginica</td>\n",
              "    </tr>\n",
              "    <tr>\n",
              "      <th>148</th>\n",
              "      <td>149</td>\n",
              "      <td>6.2</td>\n",
              "      <td>3.4</td>\n",
              "      <td>5.4</td>\n",
              "      <td>2.3</td>\n",
              "      <td>Iris-virginica</td>\n",
              "    </tr>\n",
              "    <tr>\n",
              "      <th>149</th>\n",
              "      <td>150</td>\n",
              "      <td>5.9</td>\n",
              "      <td>3.0</td>\n",
              "      <td>5.1</td>\n",
              "      <td>1.8</td>\n",
              "      <td>Iris-virginica</td>\n",
              "    </tr>\n",
              "  </tbody>\n",
              "</table>\n",
              "<p>150 rows × 6 columns</p>\n",
              "</div>\n",
              "      <button class=\"colab-df-convert\" onclick=\"convertToInteractive('df-2e7cd137-0c7f-47e6-b2e7-f5f460b6c39b')\"\n",
              "              title=\"Convert this dataframe to an interactive table.\"\n",
              "              style=\"display:none;\">\n",
              "        \n",
              "  <svg xmlns=\"http://www.w3.org/2000/svg\" height=\"24px\"viewBox=\"0 0 24 24\"\n",
              "       width=\"24px\">\n",
              "    <path d=\"M0 0h24v24H0V0z\" fill=\"none\"/>\n",
              "    <path d=\"M18.56 5.44l.94 2.06.94-2.06 2.06-.94-2.06-.94-.94-2.06-.94 2.06-2.06.94zm-11 1L8.5 8.5l.94-2.06 2.06-.94-2.06-.94L8.5 2.5l-.94 2.06-2.06.94zm10 10l.94 2.06.94-2.06 2.06-.94-2.06-.94-.94-2.06-.94 2.06-2.06.94z\"/><path d=\"M17.41 7.96l-1.37-1.37c-.4-.4-.92-.59-1.43-.59-.52 0-1.04.2-1.43.59L10.3 9.45l-7.72 7.72c-.78.78-.78 2.05 0 2.83L4 21.41c.39.39.9.59 1.41.59.51 0 1.02-.2 1.41-.59l7.78-7.78 2.81-2.81c.8-.78.8-2.07 0-2.86zM5.41 20L4 18.59l7.72-7.72 1.47 1.35L5.41 20z\"/>\n",
              "  </svg>\n",
              "      </button>\n",
              "      \n",
              "  <style>\n",
              "    .colab-df-container {\n",
              "      display:flex;\n",
              "      flex-wrap:wrap;\n",
              "      gap: 12px;\n",
              "    }\n",
              "\n",
              "    .colab-df-convert {\n",
              "      background-color: #E8F0FE;\n",
              "      border: none;\n",
              "      border-radius: 50%;\n",
              "      cursor: pointer;\n",
              "      display: none;\n",
              "      fill: #1967D2;\n",
              "      height: 32px;\n",
              "      padding: 0 0 0 0;\n",
              "      width: 32px;\n",
              "    }\n",
              "\n",
              "    .colab-df-convert:hover {\n",
              "      background-color: #E2EBFA;\n",
              "      box-shadow: 0px 1px 2px rgba(60, 64, 67, 0.3), 0px 1px 3px 1px rgba(60, 64, 67, 0.15);\n",
              "      fill: #174EA6;\n",
              "    }\n",
              "\n",
              "    [theme=dark] .colab-df-convert {\n",
              "      background-color: #3B4455;\n",
              "      fill: #D2E3FC;\n",
              "    }\n",
              "\n",
              "    [theme=dark] .colab-df-convert:hover {\n",
              "      background-color: #434B5C;\n",
              "      box-shadow: 0px 1px 3px 1px rgba(0, 0, 0, 0.15);\n",
              "      filter: drop-shadow(0px 1px 2px rgba(0, 0, 0, 0.3));\n",
              "      fill: #FFFFFF;\n",
              "    }\n",
              "  </style>\n",
              "\n",
              "      <script>\n",
              "        const buttonEl =\n",
              "          document.querySelector('#df-2e7cd137-0c7f-47e6-b2e7-f5f460b6c39b button.colab-df-convert');\n",
              "        buttonEl.style.display =\n",
              "          google.colab.kernel.accessAllowed ? 'block' : 'none';\n",
              "\n",
              "        async function convertToInteractive(key) {\n",
              "          const element = document.querySelector('#df-2e7cd137-0c7f-47e6-b2e7-f5f460b6c39b');\n",
              "          const dataTable =\n",
              "            await google.colab.kernel.invokeFunction('convertToInteractive',\n",
              "                                                     [key], {});\n",
              "          if (!dataTable) return;\n",
              "\n",
              "          const docLinkHtml = 'Like what you see? Visit the ' +\n",
              "            '<a target=\"_blank\" href=https://colab.research.google.com/notebooks/data_table.ipynb>data table notebook</a>'\n",
              "            + ' to learn more about interactive tables.';\n",
              "          element.innerHTML = '';\n",
              "          dataTable['output_type'] = 'display_data';\n",
              "          await google.colab.output.renderOutput(dataTable, element);\n",
              "          const docLink = document.createElement('div');\n",
              "          docLink.innerHTML = docLinkHtml;\n",
              "          element.appendChild(docLink);\n",
              "        }\n",
              "      </script>\n",
              "    </div>\n",
              "  </div>\n",
              "  "
            ]
          },
          "metadata": {},
          "execution_count": 31
        }
      ]
    },
    {
      "cell_type": "code",
      "source": [
        "X = df[['SepalLengthCm','PetalLengthCm','PetalLengthCm','PetalWidthCm']].values"
      ],
      "metadata": {
        "id": "6H0bBJU2XtRg"
      },
      "execution_count": 32,
      "outputs": []
    },
    {
      "cell_type": "code",
      "source": [
        "pca = PCA(n_components=2)\n",
        "data = pca.fit_transform(X)"
      ],
      "metadata": {
        "id": "BufJFjmWozp4"
      },
      "execution_count": 36,
      "outputs": []
    },
    {
      "cell_type": "code",
      "source": [
        "data"
      ],
      "metadata": {
        "colab": {
          "base_uri": "https://localhost:8080/"
        },
        "id": "u-msnMFGYxUe",
        "outputId": "9488a325-9f04-41fa-fb60-52d1d7c4315c"
      },
      "execution_count": 45,
      "outputs": [
        {
          "output_type": "execute_result",
          "data": {
            "text/plain": [
              "array([[-3.55269786e+00, -2.33419057e-01],\n",
              "       [-3.60721064e+00, -4.26490300e-02],\n",
              "       [-3.79220764e+00,  1.16725555e-01],\n",
              "       [-3.55849559e+00,  2.74901452e-01],\n",
              "       [-3.57995425e+00, -1.38034043e-01],\n",
              "       [-3.02492245e+00, -3.84947083e-01],\n",
              "       [-3.66170301e+00,  2.63726355e-01],\n",
              "       [-3.44947004e+00, -1.06638602e-01],\n",
              "       [-3.74349259e+00,  4.34276037e-01],\n",
              "       [-3.50400322e+00, -3.14739331e-02],\n",
              "       [-3.34044448e+00, -4.88178656e-01],\n",
              "       [-3.37349860e+00,  1.15526867e-01],\n",
              "       [-3.66174383e+00,  3.25156387e-02],\n",
              "       [-4.18947843e+00,  4.15254381e-01],\n",
              "       [-3.62287158e+00, -9.63905034e-01],\n",
              "       [-3.20412172e+00, -7.33893006e-01],\n",
              "       [-3.54685932e+00, -5.10528849e-01],\n",
              "       [-3.52542107e+00, -2.13198712e-01],\n",
              "       [-2.97043008e+00, -6.91322468e-01],\n",
              "       [-3.39493685e+00, -1.81803271e-01],\n",
              "       [-3.07947604e+00, -4.25387773e-01],\n",
              "       [-3.36766005e+00, -1.61582926e-01],\n",
              "       [-4.21091668e+00,  1.17924244e-01],\n",
              "       [-3.07941482e+00, -7.85716982e-02],\n",
              "       [-2.98204594e+00,  2.09713191e-01],\n",
              "       [-3.31898582e+00, -7.52431603e-02],\n",
              "       [-3.26443222e+00, -3.48024710e-02],\n",
              "       [-3.39495726e+00, -2.97408629e-01],\n",
              "       [-3.52544148e+00, -3.28804070e-01],\n",
              "       [-3.40075498e+00,  2.10911880e-01],\n",
              "       [-3.37349860e+00,  1.15526867e-01],\n",
              "       [-3.28589089e+00, -4.47737966e-01],\n",
              "       [-3.42223405e+00, -3.17628973e-01],\n",
              "       [-3.44367231e+00, -6.14959111e-01],\n",
              "       [-3.50400322e+00, -3.14739331e-02],\n",
              "       [-3.84092269e+00, -2.00824926e-01],\n",
              "       [-3.57415653e+00, -6.46354552e-01],\n",
              "       [-3.50400322e+00, -3.14739331e-02],\n",
              "       [-3.87397681e+00,  4.02880596e-01],\n",
              "       [-3.42221365e+00, -2.02023615e-01],\n",
              "       [-3.68316168e+00, -1.49209140e-01],\n",
              "       [-3.81944362e+00,  3.27715927e-01],\n",
              "       [-3.87397681e+00,  4.02880596e-01],\n",
              "       [-3.20987863e+00,  5.63821841e-03],\n",
              "       [-2.84572318e+00, -3.60011598e-02],\n",
              "       [-3.60719024e+00,  7.29563281e-02],\n",
              "       [-3.29172943e+00, -1.70628174e-01],\n",
              "       [-3.68897981e+00,  2.43506010e-01],\n",
              "       [-3.36770087e+00, -3.92793642e-01],\n",
              "       [-3.57995425e+00, -1.38034043e-01],\n",
              "       [ 1.59847429e+00, -7.67040605e-01],\n",
              "       [ 1.20124432e+00, -2.37301063e-01],\n",
              "       [ 1.85946314e+00, -5.88644364e-01],\n",
              "       [ 2.48962131e-01,  4.23746161e-01],\n",
              "       [ 1.35898493e+00, -3.01290635e-01],\n",
              "       [ 9.55896002e-01,  3.89953342e-01],\n",
              "       [ 1.46223316e+00, -5.89048216e-02],\n",
              "       [-9.09796122e-01,  7.15627117e-01],\n",
              "       [ 1.33168772e+00, -4.37116338e-01],\n",
              "       [ 6.39855415e-02,  6.98726104e-01],\n",
              "       [-6.21571296e-01,  6.83032986e-01],\n",
              "       [ 6.73509718e-01,  1.45437680e-01],\n",
              "       [ 3.03413688e-01, -1.13839940e-01],\n",
              "       [ 1.35316679e+00,  9.14245158e-02],\n",
              "       [-2.45718353e-01,  2.02779381e-01],\n",
              "       [ 1.12525247e+00, -5.75071889e-01],\n",
              "       [ 9.83193205e-01,  5.25779045e-01],\n",
              "       [ 3.79385128e-01,  1.08325528e-01],\n",
              "       [ 1.14673154e+00, -4.65310360e-02],\n",
              "       [ 9.11807092e-02,  2.56525017e-01],\n",
              "       [ 1.53824542e+00,  3.94471363e-01],\n",
              "       [ 4.12500466e-01, -1.48563920e-01],\n",
              "       [ 1.69592480e+00, -1.63342833e-02],\n",
              "       [ 1.29861320e+00,  5.09838265e-02],\n",
              "       [ 8.85722289e-01, -3.40532635e-01],\n",
              "       [ 1.09799608e+00, -4.79686876e-01],\n",
              "       [ 1.67444573e+00, -5.44875137e-01],\n",
              "       [ 1.98998817e+00, -3.26038206e-01],\n",
              "       [ 1.09221876e+00,  1.44238991e-01],\n",
              "       [-4.30776572e-01,  1.53378924e-02],\n",
              "       [-6.65598984e-02,  3.20514589e-01],\n",
              "       [-2.24320913e-01,  2.68898802e-01],\n",
              "       [ 1.72970284e-01,  8.59753344e-02],\n",
              "       [ 1.90240087e+00,  3.52831985e-01],\n",
              "       [ 9.28680427e-01,  7.16549071e-01],\n",
              "       [ 1.11949556e+00,  1.64459336e-01],\n",
              "       [ 1.54398192e+00, -4.60665220e-01],\n",
              "       [ 9.88950118e-01, -2.13752180e-01],\n",
              "       [ 4.06702739e-01,  3.59756589e-01],\n",
              "       [ 2.48962131e-01,  4.23746161e-01],\n",
              "       [ 7.43622208e-01,  5.29107582e-01],\n",
              "       [ 1.22268257e+00,  6.00290743e-02],\n",
              "       [ 3.03454502e-01,  1.17370776e-01],\n",
              "       [-8.82539733e-01,  6.20242103e-01],\n",
              "       [ 5.37186957e-01,  3.91152031e-01],\n",
              "       [ 5.37166550e-01,  2.75546672e-01],\n",
              "       [ 5.64443346e-01,  2.95767017e-01],\n",
              "       [ 8.31209511e-01, -1.49762608e-01],\n",
              "       [-1.21945920e+00,  4.50891110e-01],\n",
              "       [ 4.33959128e-01,  2.64371576e-01],\n",
              "       [ 3.40401917e+00,  5.31219021e-01],\n",
              "       [ 1.92971848e+00,  6.04263046e-01],\n",
              "       [ 3.38247888e+00, -3.44137907e-01],\n",
              "       [ 2.69114472e+00,  2.64094842e-01],\n",
              "       [ 3.11573312e+00,  2.16997077e-01],\n",
              "       [ 4.43215035e+00, -6.01294884e-01],\n",
              "       [ 8.46952074e-01,  1.23391483e+00],\n",
              "       [ 3.87709814e+00, -4.69987202e-01],\n",
              "       [ 3.06113871e+00, -5.46543291e-02],\n",
              "       [ 3.77981089e+00, -2.95850659e-01],\n",
              "       [ 2.14779000e+00, -4.32117036e-02],\n",
              "       [ 2.35422525e+00,  9.47438482e-02],\n",
              "       [ 2.77877284e+00, -1.83564633e-01],\n",
              "       [ 1.79925467e+00,  6.88472962e-01],\n",
              "       [ 2.06610246e+00,  7.05364769e-01],\n",
              "       [ 2.46333244e+00,  1.75625227e-01],\n",
              "       [ 2.61517328e+00,  4.19293732e-02],\n",
              "       [ 4.61716776e+00, -6.45064111e-01],\n",
              "       [ 4.90541299e+00, -5.62052883e-01],\n",
              "       [ 1.74463985e+00,  3.01216199e-01],\n",
              "       [ 3.12155126e+00, -1.75718074e-01],\n",
              "       [ 1.64151406e+00,  7.52462534e-01],\n",
              "       [ 4.56261417e+00, -6.85504800e-01],\n",
              "       [ 1.77775519e+00,  4.43267508e-02],\n",
              "       [ 3.01248489e+00, -2.53887365e-02],\n",
              "       [ 3.45838910e+00, -4.68788513e-01],\n",
              "       [ 1.62001458e+00,  1.08316323e-01],\n",
              "       [ 1.72324241e+00,  2.35096778e-01],\n",
              "       [ 2.80023150e+00,  2.29370862e-01],\n",
              "       [ 3.14286707e+00, -5.72020086e-01],\n",
              "       [ 3.67066289e+00, -6.07942754e-01],\n",
              "       [ 4.22567429e+00, -9.70461152e-01],\n",
              "       [ 2.82750830e+00,  2.49591207e-01],\n",
              "       [ 1.95689324e+00,  4.64565998e-02],\n",
              "       [ 2.52752476e+00,  3.73983490e-01],\n",
              "       [ 3.86153924e+00, -8.13216415e-01],\n",
              "       [ 2.85480550e+00,  3.85416910e-01],\n",
              "       [ 2.58791689e+00,  1.37314387e-01],\n",
              "       [ 1.56550181e+00,  2.99086350e-01],\n",
              "       [ 2.67554501e+00, -3.10345088e-01],\n",
              "       [ 2.96383106e+00,  3.87685598e-03],\n",
              "       [ 2.33864595e+00, -3.64090723e-01],\n",
              "       [ 1.92971848e+00,  6.04263046e-01],\n",
              "       [ 3.35526330e+00, -1.75421775e-02],\n",
              "       [ 3.12159207e+00,  5.54926422e-02],\n",
              "       [ 2.41461739e+00, -1.41925255e-01],\n",
              "       [ 1.93551621e+00,  9.59425370e-02],\n",
              "       [ 2.27827422e+00, -1.18162621e-02],\n",
              "       [ 2.53930388e+00,  3.97790695e-01],\n",
              "       [ 1.92969807e+00,  4.88657688e-01]])"
            ]
          },
          "metadata": {},
          "execution_count": 45
        }
      ]
    },
    {
      "cell_type": "code",
      "source": [
        "print(pca.components_)"
      ],
      "metadata": {
        "colab": {
          "base_uri": "https://localhost:8080/"
        },
        "id": "Xls4Gv4yYaCy",
        "outputId": "962fe2c1-8dc9-40d1-ddd7-b3493f32d636"
      },
      "execution_count": 39,
      "outputs": [
        {
          "output_type": "stream",
          "name": "stdout",
          "text": [
            "[[ 0.27256389  0.65242109  0.65242109  0.27276796]\n",
            " [-0.95385013  0.15697721  0.15697721  0.20220345]]\n"
          ]
        }
      ]
    },
    {
      "cell_type": "code",
      "source": [
        "import matplotlib.pyplot as plt\n",
        "plt.scatter(data[0], data[1])"
      ],
      "metadata": {
        "colab": {
          "base_uri": "https://localhost:8080/",
          "height": 282
        },
        "id": "jF6KLrwPYfPu",
        "outputId": "84a87681-6b8f-4edc-f51c-9d01c18ac40b"
      },
      "execution_count": 41,
      "outputs": [
        {
          "output_type": "execute_result",
          "data": {
            "text/plain": [
              "<matplotlib.collections.PathCollection at 0x7ff6f1237810>"
            ]
          },
          "metadata": {},
          "execution_count": 41
        },
        {
          "output_type": "display_data",
          "data": {
            "text/plain": [
              "<Figure size 432x288 with 1 Axes>"
            ],
            "image/png": "[encoded data removed]"
          },
          "metadata": {
            "needs_background": "light"
          }
        }
      ]
    },
    {
      "cell_type": "code",
      "source": [
        "data.shape"
      ],
      "metadata": {
        "colab": {
          "base_uri": "https://localhost:8080/"
        },
        "id": "kM6EN-QmZwVJ",
        "outputId": "7554c8b4-ac13-4346-adb7-7a9df46b7b07"
      },
      "execution_count": 48,
      "outputs": [
        {
          "output_type": "execute_result",
          "data": {
            "text/plain": [
              "(150, 2)"
            ]
          },
          "metadata": {},
          "execution_count": 48
        }
      ]
    },
    {
      "cell_type": "code",
      "source": [
        "new_df = pd.DataFrame(data, columns=['pc1','pc2'])"
      ],
      "metadata": {
        "id": "Lp98UTrXZD_r"
      },
      "execution_count": 52,
      "outputs": []
    },
    {
      "cell_type": "code",
      "source": [
        "new_df"
      ],
      "metadata": {
        "colab": {
          "base_uri": "https://localhost:8080/",
          "height": 424
        },
        "id": "hWG3D0ihZOqe",
        "outputId": "badb9c3d-2441-4a62-9d63-18f1eebf4d6d"
      },
      "execution_count": 53,
      "outputs": [
        {
          "output_type": "execute_result",
          "data": {
            "text/plain": [
              "          pc1       pc2\n",
              "0   -3.552698 -0.233419\n",
              "1   -3.607211 -0.042649\n",
              "2   -3.792208  0.116726\n",
              "3   -3.558496  0.274901\n",
              "4   -3.579954 -0.138034\n",
              "..        ...       ...\n",
              "145  2.414617 -0.141925\n",
              "146  1.935516  0.095943\n",
              "147  2.278274 -0.011816\n",
              "148  2.539304  0.397791\n",
              "149  1.929698  0.488658\n",
              "\n",
              "[150 rows x 2 columns]"
            ],
            "text/html": [
              "\n",
              "  <div id=\"df-6a74570e-41e3-4138-8be3-3b772f9e7df7\">\n",
              "    <div class=\"colab-df-container\">\n",
              "      <div>\n",
              "<style scoped>\n",
              "    .dataframe tbody tr th:only-of-type {\n",
              "        vertical-align: middle;\n",
              "    }\n",
              "\n",
              "    .dataframe tbody tr th {\n",
              "        vertical-align: top;\n",
              "    }\n",
              "\n",
              "    .dataframe thead th {\n",
              "        text-align: right;\n",
              "    }\n",
              "</style>\n",
              "<table border=\"1\" class=\"dataframe\">\n",
              "  <thead>\n",
              "    <tr style=\"text-align: right;\">\n",
              "      <th></th>\n",
              "      <th>pc1</th>\n",
              "      <th>pc2</th>\n",
              "    </tr>\n",
              "  </thead>\n",
              "  <tbody>\n",
              "    <tr>\n",
              "      <th>0</th>\n",
              "      <td>-3.552698</td>\n",
              "      <td>-0.233419</td>\n",
              "    </tr>\n",
              "    <tr>\n",
              "      <th>1</th>\n",
              "      <td>-3.607211</td>\n",
              "      <td>-0.042649</td>\n",
              "    </tr>\n",
              "    <tr>\n",
              "      <th>2</th>\n",
              "      <td>-3.792208</td>\n",
              "      <td>0.116726</td>\n",
              "    </tr>\n",
              "    <tr>\n",
              "      <th>3</th>\n",
              "      <td>-3.558496</td>\n",
              "      <td>0.274901</td>\n",
              "    </tr>\n",
              "    <tr>\n",
              "      <th>4</th>\n",
              "      <td>-3.579954</td>\n",
              "      <td>-0.138034</td>\n",
              "    </tr>\n",
              "    <tr>\n",
              "      <th>...</th>\n",
              "      <td>...</td>\n",
              "      <td>...</td>\n",
              "    </tr>\n",
              "    <tr>\n",
              "      <th>145</th>\n",
              "      <td>2.414617</td>\n",
              "      <td>-0.141925</td>\n",
              "    </tr>\n",
              "    <tr>\n",
              "      <th>146</th>\n",
              "      <td>1.935516</td>\n",
              "      <td>0.095943</td>\n",
              "    </tr>\n",
              "    <tr>\n",
              "      <th>147</th>\n",
              "      <td>2.278274</td>\n",
              "      <td>-0.011816</td>\n",
              "    </tr>\n",
              "    <tr>\n",
              "      <th>148</th>\n",
              "      <td>2.539304</td>\n",
              "      <td>0.397791</td>\n",
              "    </tr>\n",
              "    <tr>\n",
              "      <th>149</th>\n",
              "      <td>1.929698</td>\n",
              "      <td>0.488658</td>\n",
              "    </tr>\n",
              "  </tbody>\n",
              "</table>\n",
              "<p>150 rows × 2 columns</p>\n",
              "</div>\n",
              "      <button class=\"colab-df-convert\" onclick=\"convertToInteractive('df-6a74570e-41e3-4138-8be3-3b772f9e7df7')\"\n",
              "              title=\"Convert this dataframe to an interactive table.\"\n",
              "              style=\"display:none;\">\n",
              "        \n",
              "  <svg xmlns=\"http://www.w3.org/2000/svg\" height=\"24px\"viewBox=\"0 0 24 24\"\n",
              "       width=\"24px\">\n",
              "    <path d=\"M0 0h24v24H0V0z\" fill=\"none\"/>\n",
              "    <path d=\"M18.56 5.44l.94 2.06.94-2.06 2.06-.94-2.06-.94-.94-2.06-.94 2.06-2.06.94zm-11 1L8.5 8.5l.94-2.06 2.06-.94-2.06-.94L8.5 2.5l-.94 2.06-2.06.94zm10 10l.94 2.06.94-2.06 2.06-.94-2.06-.94-.94-2.06-.94 2.06-2.06.94z\"/><path d=\"M17.41 7.96l-1.37-1.37c-.4-.4-.92-.59-1.43-.59-.52 0-1.04.2-1.43.59L10.3 9.45l-7.72 7.72c-.78.78-.78 2.05 0 2.83L4 21.41c.39.39.9.59 1.41.59.51 0 1.02-.2 1.41-.59l7.78-7.78 2.81-2.81c.8-.78.8-2.07 0-2.86zM5.41 20L4 18.59l7.72-7.72 1.47 1.35L5.41 20z\"/>\n",
              "  </svg>\n",
              "      </button>\n",
              "      \n",
              "  <style>\n",
              "    .colab-df-container {\n",
              "      display:flex;\n",
              "      flex-wrap:wrap;\n",
              "      gap: 12px;\n",
              "    }\n",
              "\n",
              "    .colab-df-convert {\n",
              "      background-color: #E8F0FE;\n",
              "      border: none;\n",
              "      border-radius: 50%;\n",
              "      cursor: pointer;\n",
              "      display: none;\n",
              "      fill: #1967D2;\n",
              "      height: 32px;\n",
              "      padding: 0 0 0 0;\n",
              "      width: 32px;\n",
              "    }\n",
              "\n",
              "    .colab-df-convert:hover {\n",
              "      background-color: #E2EBFA;\n",
              "      box-shadow: 0px 1px 2px rgba(60, 64, 67, 0.3), 0px 1px 3px 1px rgba(60, 64, 67, 0.15);\n",
              "      fill: #174EA6;\n",
              "    }\n",
              "\n",
              "    [theme=dark] .colab-df-convert {\n",
              "      background-color: #3B4455;\n",
              "      fill: #D2E3FC;\n",
              "    }\n",
              "\n",
              "    [theme=dark] .colab-df-convert:hover {\n",
              "      background-color: #434B5C;\n",
              "      box-shadow: 0px 1px 3px 1px rgba(0, 0, 0, 0.15);\n",
              "      filter: drop-shadow(0px 1px 2px rgba(0, 0, 0, 0.3));\n",
              "      fill: #FFFFFF;\n",
              "    }\n",
              "  </style>\n",
              "\n",
              "      <script>\n",
              "        const buttonEl =\n",
              "          document.querySelector('#df-6a74570e-41e3-4138-8be3-3b772f9e7df7 button.colab-df-convert');\n",
              "        buttonEl.style.display =\n",
              "          google.colab.kernel.accessAllowed ? 'block' : 'none';\n",
              "\n",
              "        async function convertToInteractive(key) {\n",
              "          const element = document.querySelector('#df-6a74570e-41e3-4138-8be3-3b772f9e7df7');\n",
              "          const dataTable =\n",
              "            await google.colab.kernel.invokeFunction('convertToInteractive',\n",
              "                                                     [key], {});\n",
              "          if (!dataTable) return;\n",
              "\n",
              "          const docLinkHtml = 'Like what you see? Visit the ' +\n",
              "            '<a target=\"_blank\" href=https://colab.research.google.com/notebooks/data_table.ipynb>data table notebook</a>'\n",
              "            + ' to learn more about interactive tables.';\n",
              "          element.innerHTML = '';\n",
              "          dataTable['output_type'] = 'display_data';\n",
              "          await google.colab.output.renderOutput(dataTable, element);\n",
              "          const docLink = document.createElement('div');\n",
              "          docLink.innerHTML = docLinkHtml;\n",
              "          element.appendChild(docLink);\n",
              "        }\n",
              "      </script>\n",
              "    </div>\n",
              "  </div>\n",
              "  "
            ]
          },
          "metadata": {},
          "execution_count": 53
        }
      ]
    },
    {
      "cell_type": "code",
      "source": [
        "plt.scatter(new_df['pc1'], new_df['pc2'])"
      ],
      "metadata": {
        "colab": {
          "base_uri": "https://localhost:8080/",
          "height": 282
        },
        "id": "MOBfKAhiZsCt",
        "outputId": "6aa75d82-014e-4900-b8f0-28a9025bd6a1"
      },
      "execution_count": 55,
      "outputs": [
        {
          "output_type": "execute_result",
          "data": {
            "text/plain": [
              "<matplotlib.collections.PathCollection at 0x7ff6f0c67c90>"
            ]
          },
          "metadata": {},
          "execution_count": 55
        },
        {
          "output_type": "display_data",
          "data": {
            "text/plain": [
              "<Figure size 432x288 with 1 Axes>"
            ],
            "image/png": "[encoded data removed]"
          },
          "metadata": {
            "needs_background": "light"
          }
        }
      ]
    },
    {
      "cell_type": "markdown",
      "source": [
        "# K Means Clustering"
      ],
      "metadata": {
        "id": "4FGBde9Tb2qo"
      }
    },
    {
      "cell_type": "code",
      "source": [
        "from sklearn.cluster import KMeans"
      ],
      "metadata": {
        "id": "SZ_v5m3EbxY5"
      },
      "execution_count": 56,
      "outputs": []
    },
    {
      "cell_type": "code",
      "source": [
        "kmeans = KMeans(n_clusters=2, random_state=0).fit(new_df.values)"
      ],
      "metadata": {
        "id": "eAovA8bvb_Ud"
      },
      "execution_count": 58,
      "outputs": []
    },
    {
      "cell_type": "code",
      "source": [
        "lb = kmeans.labels_"
      ],
      "metadata": {
        "id": "3yfG8F17cD7h"
      },
      "execution_count": 83,
      "outputs": []
    },
    {
      "cell_type": "code",
      "source": [
        "lb"
      ],
      "metadata": {
        "colab": {
          "base_uri": "https://localhost:8080/"
        },
        "id": "OQQkMgsmiLB9",
        "outputId": "1d72c8dd-e31c-4396-8610-a1d6816f34e3"
      },
      "execution_count": 91,
      "outputs": [
        {
          "output_type": "execute_result",
          "data": {
            "text/plain": [
              "array([0, 0, 0, 0, 0, 0, 0, 0, 0, 0, 0, 0, 0, 0, 0, 0, 0, 0, 0, 0, 0, 0,\n",
              "       0, 0, 0, 0, 0, 0, 0, 0, 0, 0, 0, 0, 0, 0, 0, 0, 0, 0, 0, 0, 0, 0,\n",
              "       0, 0, 0, 0, 0, 0, 1, 1, 1, 1, 1, 1, 1, 0, 1, 1, 1, 1, 1, 1, 1, 1,\n",
              "       1, 1, 1, 1, 1, 1, 1, 1, 1, 1, 1, 1, 1, 1, 1, 1, 1, 1, 1, 1, 1, 1,\n",
              "       1, 1, 1, 1, 1, 0, 1, 1, 1, 1, 0, 1, 1, 1, 1, 1, 1, 1, 1, 1, 1, 1,\n",
              "       1, 1, 1, 1, 1, 1, 1, 1, 1, 1, 1, 1, 1, 1, 1, 1, 1, 1, 1, 1, 1, 1,\n",
              "       1, 1, 1, 1, 1, 1, 1, 1, 1, 1, 1, 1, 1, 1, 1, 1, 1, 1], dtype=int32)"
            ]
          },
          "metadata": {},
          "execution_count": 91
        }
      ]
    },
    {
      "cell_type": "code",
      "source": [
        "centers = kmeans.cluster_centers_"
      ],
      "metadata": {
        "id": "vSV600-scJFd"
      },
      "execution_count": 76,
      "outputs": []
    },
    {
      "cell_type": "code",
      "source": [
        "centers"
      ],
      "metadata": {
        "colab": {
          "base_uri": "https://localhost:8080/"
        },
        "id": "BqYi-3bjd_ED",
        "outputId": "d9515f34-a0e1-4e47-a85b-4bd3e193025b"
      },
      "execution_count": 77,
      "outputs": [
        {
          "output_type": "execute_result",
          "data": {
            "text/plain": [
              "array([[-3.34249347, -0.0745584 ],\n",
              "       [ 1.82631087,  0.04073809]])"
            ]
          },
          "metadata": {},
          "execution_count": 77
        }
      ]
    },
    {
      "cell_type": "code",
      "source": [
        "out = kmeans.fit_transform(new_df.values)"
      ],
      "metadata": {
        "id": "f-32djlTcSlt"
      },
      "execution_count": 62,
      "outputs": []
    },
    {
      "cell_type": "code",
      "source": [
        "final_df = pd.DataFrame(out)"
      ],
      "metadata": {
        "id": "tK7XFi1Icj16"
      },
      "execution_count": 65,
      "outputs": []
    },
    {
      "cell_type": "code",
      "source": [
        "final_df"
      ],
      "metadata": {
        "colab": {
          "base_uri": "https://localhost:8080/",
          "height": 424
        },
        "id": "L-N7j6QBc1gk",
        "outputId": "faf86a44-5715-4652-f87a-63e8d58a1ef2"
      },
      "execution_count": 67,
      "outputs": [
        {
          "output_type": "execute_result",
          "data": {
            "text/plain": [
              "            0         1\n",
              "0    0.263482  5.385991\n",
              "1    0.266633  5.434161\n",
              "2    0.488705  5.619032\n",
              "3    0.410827  5.389895\n",
              "4    0.245798  5.409220\n",
              "..        ...       ...\n",
              "145  5.757505  0.616012\n",
              "146  5.280763  0.122366\n",
              "147  5.621118  0.455009\n",
              "148  5.900733  0.797399\n",
              "149  5.302190  0.459697\n",
              "\n",
              "[150 rows x 2 columns]"
            ],
            "text/html": [
              "\n",
              "  <div id=\"df-cf68d8f1-aeca-473e-ad26-123012808a22\">\n",
              "    <div class=\"colab-df-container\">\n",
              "      <div>\n",
              "<style scoped>\n",
              "    .dataframe tbody tr th:only-of-type {\n",
              "        vertical-align: middle;\n",
              "    }\n",
              "\n",
              "    .dataframe tbody tr th {\n",
              "        vertical-align: top;\n",
              "    }\n",
              "\n",
              "    .dataframe thead th {\n",
              "        text-align: right;\n",
              "    }\n",
              "</style>\n",
              "<table border=\"1\" class=\"dataframe\">\n",
              "  <thead>\n",
              "    <tr style=\"text-align: right;\">\n",
              "      <th></th>\n",
              "      <th>0</th>\n",
              "      <th>1</th>\n",
              "    </tr>\n",
              "  </thead>\n",
              "  <tbody>\n",
              "    <tr>\n",
              "      <th>0</th>\n",
              "      <td>0.263482</td>\n",
              "      <td>5.385991</td>\n",
              "    </tr>\n",
              "    <tr>\n",
              "      <th>1</th>\n",
              "      <td>0.266633</td>\n",
              "      <td>5.434161</td>\n",
              "    </tr>\n",
              "    <tr>\n",
              "      <th>2</th>\n",
              "      <td>0.488705</td>\n",
              "      <td>5.619032</td>\n",
              "    </tr>\n",
              "    <tr>\n",
              "      <th>3</th>\n",
              "      <td>0.410827</td>\n",
              "      <td>5.389895</td>\n",
              "    </tr>\n",
              "    <tr>\n",
              "      <th>4</th>\n",
              "      <td>0.245798</td>\n",
              "      <td>5.409220</td>\n",
              "    </tr>\n",
              "    <tr>\n",
              "      <th>...</th>\n",
              "      <td>...</td>\n",
              "      <td>...</td>\n",
              "    </tr>\n",
              "    <tr>\n",
              "      <th>145</th>\n",
              "      <td>5.757505</td>\n",
              "      <td>0.616012</td>\n",
              "    </tr>\n",
              "    <tr>\n",
              "      <th>146</th>\n",
              "      <td>5.280763</td>\n",
              "      <td>0.122366</td>\n",
              "    </tr>\n",
              "    <tr>\n",
              "      <th>147</th>\n",
              "      <td>5.621118</td>\n",
              "      <td>0.455009</td>\n",
              "    </tr>\n",
              "    <tr>\n",
              "      <th>148</th>\n",
              "      <td>5.900733</td>\n",
              "      <td>0.797399</td>\n",
              "    </tr>\n",
              "    <tr>\n",
              "      <th>149</th>\n",
              "      <td>5.302190</td>\n",
              "      <td>0.459697</td>\n",
              "    </tr>\n",
              "  </tbody>\n",
              "</table>\n",
              "<p>150 rows × 2 columns</p>\n",
              "</div>\n",
              "      <button class=\"colab-df-convert\" onclick=\"convertToInteractive('df-cf68d8f1-aeca-473e-ad26-123012808a22')\"\n",
              "              title=\"Convert this dataframe to an interactive table.\"\n",
              "              style=\"display:none;\">\n",
              "        \n",
              "  <svg xmlns=\"http://www.w3.org/2000/svg\" height=\"24px\"viewBox=\"0 0 24 24\"\n",
              "       width=\"24px\">\n",
              "    <path d=\"M0 0h24v24H0V0z\" fill=\"none\"/>\n",
              "    <path d=\"M18.56 5.44l.94 2.06.94-2.06 2.06-.94-2.06-.94-.94-2.06-.94 2.06-2.06.94zm-11 1L8.5 8.5l.94-2.06 2.06-.94-2.06-.94L8.5 2.5l-.94 2.06-2.06.94zm10 10l.94 2.06.94-2.06 2.06-.94-2.06-.94-.94-2.06-.94 2.06-2.06.94z\"/><path d=\"M17.41 7.96l-1.37-1.37c-.4-.4-.92-.59-1.43-.59-.52 0-1.04.2-1.43.59L10.3 9.45l-7.72 7.72c-.78.78-.78 2.05 0 2.83L4 21.41c.39.39.9.59 1.41.59.51 0 1.02-.2 1.41-.59l7.78-7.78 2.81-2.81c.8-.78.8-2.07 0-2.86zM5.41 20L4 18.59l7.72-7.72 1.47 1.35L5.41 20z\"/>\n",
              "  </svg>\n",
              "      </button>\n",
              "      \n",
              "  <style>\n",
              "    .colab-df-container {\n",
              "      display:flex;\n",
              "      flex-wrap:wrap;\n",
              "      gap: 12px;\n",
              "    }\n",
              "\n",
              "    .colab-df-convert {\n",
              "      background-color: #E8F0FE;\n",
              "      border: none;\n",
              "      border-radius: 50%;\n",
              "      cursor: pointer;\n",
              "      display: none;\n",
              "      fill: #1967D2;\n",
              "      height: 32px;\n",
              "      padding: 0 0 0 0;\n",
              "      width: 32px;\n",
              "    }\n",
              "\n",
              "    .colab-df-convert:hover {\n",
              "      background-color: #E2EBFA;\n",
              "      box-shadow: 0px 1px 2px rgba(60, 64, 67, 0.3), 0px 1px 3px 1px rgba(60, 64, 67, 0.15);\n",
              "      fill: #174EA6;\n",
              "    }\n",
              "\n",
              "    [theme=dark] .colab-df-convert {\n",
              "      background-color: #3B4455;\n",
              "      fill: #D2E3FC;\n",
              "    }\n",
              "\n",
              "    [theme=dark] .colab-df-convert:hover {\n",
              "      background-color: #434B5C;\n",
              "      box-shadow: 0px 1px 3px 1px rgba(0, 0, 0, 0.15);\n",
              "      filter: drop-shadow(0px 1px 2px rgba(0, 0, 0, 0.3));\n",
              "      fill: #FFFFFF;\n",
              "    }\n",
              "  </style>\n",
              "\n",
              "      <script>\n",
              "        const buttonEl =\n",
              "          document.querySelector('#df-cf68d8f1-aeca-473e-ad26-123012808a22 button.colab-df-convert');\n",
              "        buttonEl.style.display =\n",
              "          google.colab.kernel.accessAllowed ? 'block' : 'none';\n",
              "\n",
              "        async function convertToInteractive(key) {\n",
              "          const element = document.querySelector('#df-cf68d8f1-aeca-473e-ad26-123012808a22');\n",
              "          const dataTable =\n",
              "            await google.colab.kernel.invokeFunction('convertToInteractive',\n",
              "                                                     [key], {});\n",
              "          if (!dataTable) return;\n",
              "\n",
              "          const docLinkHtml = 'Like what you see? Visit the ' +\n",
              "            '<a target=\"_blank\" href=https://colab.research.google.com/notebooks/data_table.ipynb>data table notebook</a>'\n",
              "            + ' to learn more about interactive tables.';\n",
              "          element.innerHTML = '';\n",
              "          dataTable['output_type'] = 'display_data';\n",
              "          await google.colab.output.renderOutput(dataTable, element);\n",
              "          const docLink = document.createElement('div');\n",
              "          docLink.innerHTML = docLinkHtml;\n",
              "          element.appendChild(docLink);\n",
              "        }\n",
              "      </script>\n",
              "    </div>\n",
              "  </div>\n",
              "  "
            ]
          },
          "metadata": {},
          "execution_count": 67
        }
      ]
    },
    {
      "cell_type": "code",
      "source": [
        "plt.scatter(final_df[0], final_df[1])"
      ],
      "metadata": {
        "colab": {
          "base_uri": "https://localhost:8080/",
          "height": 282
        },
        "id": "gWsGSgo8cku2",
        "outputId": "218215a4-117d-4c30-d42c-ae3bd703e516"
      },
      "execution_count": 90,
      "outputs": [
        {
          "output_type": "execute_result",
          "data": {
            "text/plain": [
              "<matplotlib.collections.PathCollection at 0x7ff6ebd20a90>"
            ]
          },
          "metadata": {},
          "execution_count": 90
        },
        {
          "output_type": "display_data",
          "data": {
            "text/plain": [
              "<Figure size 432x288 with 1 Axes>"
            ],
            "image/png": "[encoded data removed]"
          },
          "metadata": {
            "needs_background": "light"
          }
        }
      ]
    },
    {
      "cell_type": "code",
      "source": [
        "pds = kmeans.predict(new_df.values)"
      ],
      "metadata": {
        "id": "_5t5JaE6cyiq"
      },
      "execution_count": 71,
      "outputs": []
    },
    {
      "cell_type": "code",
      "source": [
        "pds.shape"
      ],
      "metadata": {
        "colab": {
          "base_uri": "https://localhost:8080/"
        },
        "id": "Yjty3dzidXfs",
        "outputId": "68365f4a-4fcc-495f-c058-b234de56f281"
      },
      "execution_count": 75,
      "outputs": [
        {
          "output_type": "execute_result",
          "data": {
            "text/plain": [
              "(150,)"
            ]
          },
          "metadata": {},
          "execution_count": 75
        }
      ]
    },
    {
      "cell_type": "code",
      "source": [
        "plt.scatter(centers[0], centers[1], color='green')\n",
        "plt.scatter(new_df['pc1'], new_df['pc2'], c=lb, cmap='rainbow')"
      ],
      "metadata": {
        "colab": {
          "base_uri": "https://localhost:8080/",
          "height": 282
        },
        "id": "Qst3l-Bpda6n",
        "outputId": "20e4d660-d62f-4411-e2dd-209d27a887a9"
      },
      "execution_count": 88,
      "outputs": [
        {
          "output_type": "execute_result",
          "data": {
            "text/plain": [
              "<matplotlib.collections.PathCollection at 0x7ff6ebdb4d50>"
            ]
          },
          "metadata": {},
          "execution_count": 88
        },
        {
          "output_type": "display_data",
          "data": {
            "text/plain": [
              "<Figure size 432x288 with 1 Axes>"
            ],
            "image/png": "[encoded data removed]"
          },
          "metadata": {
            "needs_background": "light"
          }
        }
      ]
    },
    {
      "cell_type": "code",
      "source": [
        ""
      ],
      "metadata": {
        "id": "qpzsEpJDeCsi"
      },
      "execution_count": null,
      "outputs": []
    }
  ]
}
