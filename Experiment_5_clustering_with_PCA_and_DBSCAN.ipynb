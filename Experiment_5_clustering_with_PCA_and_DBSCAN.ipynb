{
  "nbformat": 4,
  "nbformat_minor": 0,
  "metadata": {
    "colab": {
      "name": "Experiment_5_clustering_with_PCA_and DBSCAN.ipynb",
      "provenance": [],
      "authorship_tag": "ABX9TyNuqYCHbNb11uTz4k2h36jB",
      "include_colab_link": true
    },
    "kernelspec": {
      "name": "python3",
      "display_name": "Python 3"
    },
    "language_info": {
      "name": "python"
    }
  },
  "cells": [
    {
      "cell_type": "markdown",
      "metadata": {
        "id": "view-in-github",
        "colab_type": "text"
      },
      "source": [
        "<a href=\"https://colab.research.google.com/github/hxri/Deep-Learning-Lab/blob/main/Experiment_5_clustering_with_PCA_and_DBSCAN.ipynb\" target=\"_parent\"><img src=\"https://colab.research.google.com/assets/colab-badge.svg\" alt=\"Open In Colab\"/></a>"
      ]
    },
    {
      "cell_type": "code",
      "execution_count": 8,
      "metadata": {
        "id": "7eQ3M-AgkNg6"
      },
      "outputs": [],
      "source": [
        "import numpy as np\n",
        "from scipy.cluster import hierarchy \n",
        "from sklearn import datasets"
      ]
    },
    {
      "cell_type": "code",
      "source": [
        "iris = datasets.load_iris()\n",
        "X = iris.data # we only take the first two features.\n",
        "y = iris.target"
      ],
      "metadata": {
        "id": "FbT6N-J8kdl9"
      },
      "execution_count": 201,
      "outputs": []
    },
    {
      "cell_type": "markdown",
      "source": [
        "#PCA"
      ],
      "metadata": {
        "id": "anO6lm-r1ho6"
      }
    },
    {
      "cell_type": "code",
      "source": [
        "from sklearn.decomposition import PCA"
      ],
      "metadata": {
        "id": "6QeTPSrekxCw"
      },
      "execution_count": 202,
      "outputs": []
    },
    {
      "cell_type": "code",
      "source": [
        "pca = PCA(n_components=2)\n",
        "out = pca.fit_transform(X)\n",
        "out"
      ],
      "metadata": {
        "colab": {
          "base_uri": "https://localhost:8080/"
        },
        "id": "mUfwwMTClBUo",
        "outputId": "becb11e6-2445-482e-af1f-a21392022fdc"
      },
      "execution_count": 203,
      "outputs": [
        {
          "output_type": "execute_result",
          "data": {
            "text/plain": [
              "array([[-2.68412563,  0.31939725],\n",
              "       [-2.71414169, -0.17700123],\n",
              "       [-2.88899057, -0.14494943],\n",
              "       [-2.74534286, -0.31829898],\n",
              "       [-2.72871654,  0.32675451],\n",
              "       [-2.28085963,  0.74133045],\n",
              "       [-2.82053775, -0.08946138],\n",
              "       [-2.62614497,  0.16338496],\n",
              "       [-2.88638273, -0.57831175],\n",
              "       [-2.6727558 , -0.11377425],\n",
              "       [-2.50694709,  0.6450689 ],\n",
              "       [-2.61275523,  0.01472994],\n",
              "       [-2.78610927, -0.235112  ],\n",
              "       [-3.22380374, -0.51139459],\n",
              "       [-2.64475039,  1.17876464],\n",
              "       [-2.38603903,  1.33806233],\n",
              "       [-2.62352788,  0.81067951],\n",
              "       [-2.64829671,  0.31184914],\n",
              "       [-2.19982032,  0.87283904],\n",
              "       [-2.5879864 ,  0.51356031],\n",
              "       [-2.31025622,  0.39134594],\n",
              "       [-2.54370523,  0.43299606],\n",
              "       [-3.21593942,  0.13346807],\n",
              "       [-2.30273318,  0.09870885],\n",
              "       [-2.35575405, -0.03728186],\n",
              "       [-2.50666891, -0.14601688],\n",
              "       [-2.46882007,  0.13095149],\n",
              "       [-2.56231991,  0.36771886],\n",
              "       [-2.63953472,  0.31203998],\n",
              "       [-2.63198939, -0.19696122],\n",
              "       [-2.58739848, -0.20431849],\n",
              "       [-2.4099325 ,  0.41092426],\n",
              "       [-2.64886233,  0.81336382],\n",
              "       [-2.59873675,  1.09314576],\n",
              "       [-2.63692688, -0.12132235],\n",
              "       [-2.86624165,  0.06936447],\n",
              "       [-2.62523805,  0.59937002],\n",
              "       [-2.80068412,  0.26864374],\n",
              "       [-2.98050204, -0.48795834],\n",
              "       [-2.59000631,  0.22904384],\n",
              "       [-2.77010243,  0.26352753],\n",
              "       [-2.84936871, -0.94096057],\n",
              "       [-2.99740655, -0.34192606],\n",
              "       [-2.40561449,  0.18887143],\n",
              "       [-2.20948924,  0.43666314],\n",
              "       [-2.71445143, -0.2502082 ],\n",
              "       [-2.53814826,  0.50377114],\n",
              "       [-2.83946217, -0.22794557],\n",
              "       [-2.54308575,  0.57941002],\n",
              "       [-2.70335978,  0.10770608],\n",
              "       [ 1.28482569,  0.68516047],\n",
              "       [ 0.93248853,  0.31833364],\n",
              "       [ 1.46430232,  0.50426282],\n",
              "       [ 0.18331772, -0.82795901],\n",
              "       [ 1.08810326,  0.07459068],\n",
              "       [ 0.64166908, -0.41824687],\n",
              "       [ 1.09506066,  0.28346827],\n",
              "       [-0.74912267, -1.00489096],\n",
              "       [ 1.04413183,  0.2283619 ],\n",
              "       [-0.0087454 , -0.72308191],\n",
              "       [-0.50784088, -1.26597119],\n",
              "       [ 0.51169856, -0.10398124],\n",
              "       [ 0.26497651, -0.55003646],\n",
              "       [ 0.98493451, -0.12481785],\n",
              "       [-0.17392537, -0.25485421],\n",
              "       [ 0.92786078,  0.46717949],\n",
              "       [ 0.66028376, -0.35296967],\n",
              "       [ 0.23610499, -0.33361077],\n",
              "       [ 0.94473373, -0.54314555],\n",
              "       [ 0.04522698, -0.58383438],\n",
              "       [ 1.11628318, -0.08461685],\n",
              "       [ 0.35788842, -0.06892503],\n",
              "       [ 1.29818388, -0.32778731],\n",
              "       [ 0.92172892, -0.18273779],\n",
              "       [ 0.71485333,  0.14905594],\n",
              "       [ 0.90017437,  0.32850447],\n",
              "       [ 1.33202444,  0.24444088],\n",
              "       [ 1.55780216,  0.26749545],\n",
              "       [ 0.81329065, -0.1633503 ],\n",
              "       [-0.30558378, -0.36826219],\n",
              "       [-0.06812649, -0.70517213],\n",
              "       [-0.18962247, -0.68028676],\n",
              "       [ 0.13642871, -0.31403244],\n",
              "       [ 1.38002644, -0.42095429],\n",
              "       [ 0.58800644, -0.48428742],\n",
              "       [ 0.80685831,  0.19418231],\n",
              "       [ 1.22069088,  0.40761959],\n",
              "       [ 0.81509524, -0.37203706],\n",
              "       [ 0.24595768, -0.2685244 ],\n",
              "       [ 0.16641322, -0.68192672],\n",
              "       [ 0.46480029, -0.67071154],\n",
              "       [ 0.8908152 , -0.03446444],\n",
              "       [ 0.23054802, -0.40438585],\n",
              "       [-0.70453176, -1.01224823],\n",
              "       [ 0.35698149, -0.50491009],\n",
              "       [ 0.33193448, -0.21265468],\n",
              "       [ 0.37621565, -0.29321893],\n",
              "       [ 0.64257601,  0.01773819],\n",
              "       [-0.90646986, -0.75609337],\n",
              "       [ 0.29900084, -0.34889781],\n",
              "       [ 2.53119273, -0.00984911],\n",
              "       [ 1.41523588, -0.57491635],\n",
              "       [ 2.61667602,  0.34390315],\n",
              "       [ 1.97153105, -0.1797279 ],\n",
              "       [ 2.35000592, -0.04026095],\n",
              "       [ 3.39703874,  0.55083667],\n",
              "       [ 0.52123224, -1.19275873],\n",
              "       [ 2.93258707,  0.3555    ],\n",
              "       [ 2.32122882, -0.2438315 ],\n",
              "       [ 2.91675097,  0.78279195],\n",
              "       [ 1.66177415,  0.24222841],\n",
              "       [ 1.80340195, -0.21563762],\n",
              "       [ 2.1655918 ,  0.21627559],\n",
              "       [ 1.34616358, -0.77681835],\n",
              "       [ 1.58592822, -0.53964071],\n",
              "       [ 1.90445637,  0.11925069],\n",
              "       [ 1.94968906,  0.04194326],\n",
              "       [ 3.48705536,  1.17573933],\n",
              "       [ 3.79564542,  0.25732297],\n",
              "       [ 1.30079171, -0.76114964],\n",
              "       [ 2.42781791,  0.37819601],\n",
              "       [ 1.19900111, -0.60609153],\n",
              "       [ 3.49992004,  0.4606741 ],\n",
              "       [ 1.38876613, -0.20439933],\n",
              "       [ 2.2754305 ,  0.33499061],\n",
              "       [ 2.61409047,  0.56090136],\n",
              "       [ 1.25850816, -0.17970479],\n",
              "       [ 1.29113206, -0.11666865],\n",
              "       [ 2.12360872, -0.20972948],\n",
              "       [ 2.38800302,  0.4646398 ],\n",
              "       [ 2.84167278,  0.37526917],\n",
              "       [ 3.23067366,  1.37416509],\n",
              "       [ 2.15943764, -0.21727758],\n",
              "       [ 1.44416124, -0.14341341],\n",
              "       [ 1.78129481, -0.49990168],\n",
              "       [ 3.07649993,  0.68808568],\n",
              "       [ 2.14424331,  0.1400642 ],\n",
              "       [ 1.90509815,  0.04930053],\n",
              "       [ 1.16932634, -0.16499026],\n",
              "       [ 2.10761114,  0.37228787],\n",
              "       [ 2.31415471,  0.18365128],\n",
              "       [ 1.9222678 ,  0.40920347],\n",
              "       [ 1.41523588, -0.57491635],\n",
              "       [ 2.56301338,  0.2778626 ],\n",
              "       [ 2.41874618,  0.3047982 ],\n",
              "       [ 1.94410979,  0.1875323 ],\n",
              "       [ 1.52716661, -0.37531698],\n",
              "       [ 1.76434572,  0.07885885],\n",
              "       [ 1.90094161,  0.11662796],\n",
              "       [ 1.39018886, -0.28266094]])"
            ]
          },
          "metadata": {},
          "execution_count": 203
        }
      ]
    },
    {
      "cell_type": "code",
      "source": [
        "np.shape(out[:,1])"
      ],
      "metadata": {
        "colab": {
          "base_uri": "https://localhost:8080/"
        },
        "id": "ZLKcSNBJokz3",
        "outputId": "66bd55a4-54f6-4d7b-866e-afd0125368a3"
      },
      "execution_count": 204,
      "outputs": [
        {
          "output_type": "execute_result",
          "data": {
            "text/plain": [
              "(150,)"
            ]
          },
          "metadata": {},
          "execution_count": 204
        }
      ]
    },
    {
      "cell_type": "code",
      "source": [
        "links = hierarchy.linkage(out, 'complete')"
      ],
      "metadata": {
        "id": "NvhFLGCWlmRq"
      },
      "execution_count": 205,
      "outputs": []
    },
    {
      "cell_type": "code",
      "source": [
        "dn = hierarchy.dendrogram(links)"
      ],
      "metadata": {
        "colab": {
          "base_uri": "https://localhost:8080/",
          "height": 265
        },
        "id": "ymxNpJSwlq1Y",
        "outputId": "e11c142a-4fb6-4bc7-aac5-653e414fde90"
      },
      "execution_count": 206,
      "outputs": [
        {
          "output_type": "display_data",
          "data": {
            "text/plain": [
              "<Figure size 432x288 with 1 Axes>"
            ],
            "image/png": "[encoded data removed]"
          },
          "metadata": {
            "needs_background": "light"
          }
        }
      ]
    },
    {
      "cell_type": "markdown",
      "source": [
        "# DBSCAN"
      ],
      "metadata": {
        "id": "xb8j7kgv1fJQ"
      }
    },
    {
      "cell_type": "code",
      "source": [
        "from sklearn.cluster import DBSCAN\n",
        "dbs = DBSCAN(eps=1, min_samples=2)"
      ],
      "metadata": {
        "id": "b-97lmoone78"
      },
      "execution_count": 207,
      "outputs": []
    },
    {
      "cell_type": "code",
      "source": [
        "dbs.fit(out)\n",
        "labels = dbs.labels_"
      ],
      "metadata": {
        "id": "j90SgkDNnxvc"
      },
      "execution_count": 208,
      "outputs": []
    },
    {
      "cell_type": "code",
      "source": [
        "labels"
      ],
      "metadata": {
        "colab": {
          "base_uri": "https://localhost:8080/"
        },
        "id": "HtPp0MRaqSur",
        "outputId": "3e8eb3a5-dcde-4833-fde1-05ed0d9f9f70"
      },
      "execution_count": 209,
      "outputs": [
        {
          "output_type": "execute_result",
          "data": {
            "text/plain": [
              "array([0, 0, 0, 0, 0, 0, 0, 0, 0, 0, 0, 0, 0, 0, 0, 0, 0, 0, 0, 0, 0, 0,\n",
              "       0, 0, 0, 0, 0, 0, 0, 0, 0, 0, 0, 0, 0, 0, 0, 0, 0, 0, 0, 0, 0, 0,\n",
              "       0, 0, 0, 0, 0, 0, 1, 1, 1, 1, 1, 1, 1, 1, 1, 1, 1, 1, 1, 1, 1, 1,\n",
              "       1, 1, 1, 1, 1, 1, 1, 1, 1, 1, 1, 1, 1, 1, 1, 1, 1, 1, 1, 1, 1, 1,\n",
              "       1, 1, 1, 1, 1, 1, 1, 1, 1, 1, 1, 1, 1, 1, 1, 1, 1, 1, 1, 1, 1, 1,\n",
              "       1, 1, 1, 1, 1, 1, 1, 1, 1, 1, 1, 1, 1, 1, 1, 1, 1, 1, 1, 1, 1, 1,\n",
              "       1, 1, 1, 1, 1, 1, 1, 1, 1, 1, 1, 1, 1, 1, 1, 1, 1, 1])"
            ]
          },
          "metadata": {},
          "execution_count": 209
        }
      ]
    },
    {
      "cell_type": "code",
      "source": [
        "ax1 = out[:,0]\n",
        "ax2 = out[:,1]"
      ],
      "metadata": {
        "id": "9aTy4K4Hn4QC"
      },
      "execution_count": 210,
      "outputs": []
    },
    {
      "cell_type": "code",
      "source": [
        "ax1"
      ],
      "metadata": {
        "colab": {
          "base_uri": "https://localhost:8080/"
        },
        "id": "TosCxOyjoYpg",
        "outputId": "1382d4ed-d88e-4c35-8802-d17f34a763b6"
      },
      "execution_count": 211,
      "outputs": [
        {
          "output_type": "execute_result",
          "data": {
            "text/plain": [
              "array([-2.68412563, -2.71414169, -2.88899057, -2.74534286, -2.72871654,\n",
              "       -2.28085963, -2.82053775, -2.62614497, -2.88638273, -2.6727558 ,\n",
              "       -2.50694709, -2.61275523, -2.78610927, -3.22380374, -2.64475039,\n",
              "       -2.38603903, -2.62352788, -2.64829671, -2.19982032, -2.5879864 ,\n",
              "       -2.31025622, -2.54370523, -3.21593942, -2.30273318, -2.35575405,\n",
              "       -2.50666891, -2.46882007, -2.56231991, -2.63953472, -2.63198939,\n",
              "       -2.58739848, -2.4099325 , -2.64886233, -2.59873675, -2.63692688,\n",
              "       -2.86624165, -2.62523805, -2.80068412, -2.98050204, -2.59000631,\n",
              "       -2.77010243, -2.84936871, -2.99740655, -2.40561449, -2.20948924,\n",
              "       -2.71445143, -2.53814826, -2.83946217, -2.54308575, -2.70335978,\n",
              "        1.28482569,  0.93248853,  1.46430232,  0.18331772,  1.08810326,\n",
              "        0.64166908,  1.09506066, -0.74912267,  1.04413183, -0.0087454 ,\n",
              "       -0.50784088,  0.51169856,  0.26497651,  0.98493451, -0.17392537,\n",
              "        0.92786078,  0.66028376,  0.23610499,  0.94473373,  0.04522698,\n",
              "        1.11628318,  0.35788842,  1.29818388,  0.92172892,  0.71485333,\n",
              "        0.90017437,  1.33202444,  1.55780216,  0.81329065, -0.30558378,\n",
              "       -0.06812649, -0.18962247,  0.13642871,  1.38002644,  0.58800644,\n",
              "        0.80685831,  1.22069088,  0.81509524,  0.24595768,  0.16641322,\n",
              "        0.46480029,  0.8908152 ,  0.23054802, -0.70453176,  0.35698149,\n",
              "        0.33193448,  0.37621565,  0.64257601, -0.90646986,  0.29900084,\n",
              "        2.53119273,  1.41523588,  2.61667602,  1.97153105,  2.35000592,\n",
              "        3.39703874,  0.52123224,  2.93258707,  2.32122882,  2.91675097,\n",
              "        1.66177415,  1.80340195,  2.1655918 ,  1.34616358,  1.58592822,\n",
              "        1.90445637,  1.94968906,  3.48705536,  3.79564542,  1.30079171,\n",
              "        2.42781791,  1.19900111,  3.49992004,  1.38876613,  2.2754305 ,\n",
              "        2.61409047,  1.25850816,  1.29113206,  2.12360872,  2.38800302,\n",
              "        2.84167278,  3.23067366,  2.15943764,  1.44416124,  1.78129481,\n",
              "        3.07649993,  2.14424331,  1.90509815,  1.16932634,  2.10761114,\n",
              "        2.31415471,  1.9222678 ,  1.41523588,  2.56301338,  2.41874618,\n",
              "        1.94410979,  1.52716661,  1.76434572,  1.90094161,  1.39018886])"
            ]
          },
          "metadata": {},
          "execution_count": 211
        }
      ]
    },
    {
      "cell_type": "code",
      "source": [
        "import matplotlib.pyplot as plt"
      ],
      "metadata": {
        "id": "J-R1Fcsbnz7g"
      },
      "execution_count": 212,
      "outputs": []
    },
    {
      "cell_type": "code",
      "source": [
        "plt.scatter(ax1, ax2, c=labels, cmap='rainbow')"
      ],
      "metadata": {
        "colab": {
          "base_uri": "https://localhost:8080/",
          "height": 286
        },
        "id": "cnc6kISSoJTV",
        "outputId": "86794445-7609-493c-8d3b-ba3cd3b92165"
      },
      "execution_count": 213,
      "outputs": [
        {
          "output_type": "execute_result",
          "data": {
            "text/plain": [
              "<matplotlib.collections.PathCollection at 0x7f9078223050>"
            ]
          },
          "metadata": {},
          "execution_count": 213
        },
        {
          "output_type": "display_data",
          "data": {
            "text/plain": [
              "<Figure size 432x288 with 1 Axes>"
            ],
            "image/png": "[encoded data removed]"
          },
          "metadata": {
            "needs_background": "light"
          }
        }
      ]
    },
    {
      "cell_type": "markdown",
      "source": [
        "# Kaggle Dataset"
      ],
      "metadata": {
        "id": "I7DKk4Wt1YgM"
      }
    },
    {
      "cell_type": "code",
      "source": [
        "import pandas as pd"
      ],
      "metadata": {
        "id": "mg-8xiMnxbKU"
      },
      "execution_count": 165,
      "outputs": []
    },
    {
      "cell_type": "code",
      "source": [
        "data = pd.read_excel('/content/data.xlsx')"
      ],
      "metadata": {
        "id": "j8zK54InoOXb"
      },
      "execution_count": 214,
      "outputs": []
    },
    {
      "cell_type": "code",
      "source": [
        "data.drop(['region','state'], axis=1, inplace=True)\n",
        "data = data[1:]\n",
        "data.values"
      ],
      "metadata": {
        "colab": {
          "base_uri": "https://localhost:8080/"
        },
        "id": "aCKqd4GnyVEj",
        "outputId": "40eae10f-abd1-4901-fc77-ea163102d9bb"
      },
      "execution_count": 215,
      "outputs": [
        {
          "output_type": "execute_result",
          "data": {
            "text/plain": [
              "array([[2.510000e+03, 0.000000e+00, 1.500000e+02, 0.000000e+00,\n",
              "        0.000000e+00, 2.000000e+02, 6.930000e+01, 4.561780e+03,\n",
              "        0.000000e+00, 0.000000e+00, 0.000000e+00, 0.000000e+00,\n",
              "        5.390000e+02, 7.359300e+02, 1.564800e+03, 0.000000e+00,\n",
              "        5.356100e+02, 0.000000e+00, 1.009400e+02, 1.579520e+03,\n",
              "        5.000000e+00],\n",
              "       [0.000000e+00, 0.000000e+00, 0.000000e+00, 0.000000e+00,\n",
              "        0.000000e+00, 8.056000e+02, 2.566100e+02, 0.000000e+00,\n",
              "        0.000000e+00, 0.000000e+00, 0.000000e+00, 0.000000e+00,\n",
              "        8.944000e+02, 7.337400e+02, 1.516900e+02, 0.000000e+00,\n",
              "        6.201000e+01, 0.000000e+00, 2.895000e+01, 1.223880e+03,\n",
              "        0.000000e+00],\n",
              "       [0.000000e+00, 0.000000e+00, 1.750000e+02, 0.000000e+00,\n",
              "        0.000000e+00, 1.230000e+03, 1.309800e+02, 0.000000e+00,\n",
              "        0.000000e+00, 0.000000e+00, 0.000000e+00, 0.000000e+00,\n",
              "        0.000000e+00, 8.005000e+01, 5.771400e+02, 0.000000e+00,\n",
              "        1.290700e+02, 0.000000e+00, 6.798000e+01, 1.091880e+03,\n",
              "        0.000000e+00],\n",
              "       [1.760000e+03, 0.000000e+00, 1.500000e+02, 0.000000e+00,\n",
              "        0.000000e+00, 1.243400e+03, 1.278000e+02, 5.115500e+03,\n",
              "        0.000000e+00, 0.000000e+00, 0.000000e+00, 0.000000e+00,\n",
              "        2.880000e+02, 1.498580e+03, 1.440000e+03, 0.000000e+00,\n",
              "        2.640100e+02, 0.000000e+00, 1.968100e+02, 2.277720e+03,\n",
              "        0.000000e+00],\n",
              "       [6.920000e+03, 2.500000e+02, 6.038000e+02, 0.000000e+00,\n",
              "        0.000000e+00, 4.330000e+02, 2.385000e+01, 2.957000e+03,\n",
              "        1.080000e+03, 0.000000e+00, 0.000000e+00, 0.000000e+00,\n",
              "        1.040000e+02, 1.068477e+04, 1.062590e+03, 2.500000e+02,\n",
              "        2.211000e+02, 0.000000e+00, 5.567400e+02, 1.402190e+03,\n",
              "        3.440000e+02],\n",
              "       [5.469000e+03, 0.000000e+00, 0.000000e+00, 0.000000e+00,\n",
              "        0.000000e+00, 7.241000e+02, 4.910000e+01, 8.814330e+03,\n",
              "        0.000000e+00, 0.000000e+00, 0.000000e+00, 0.000000e+00,\n",
              "        8.424000e+02, 3.927540e+03, 5.470510e+03, 0.000000e+00,\n",
              "        5.494900e+02, 0.000000e+00, 2.894800e+02, 1.857530e+03,\n",
              "        3.000000e+01],\n",
              "       [0.000000e+00, 0.000000e+00, 0.000000e+00, 0.000000e+00,\n",
              "        0.000000e+00, 1.252150e+03, 6.787000e+01, 9.900000e+01,\n",
              "        0.000000e+00, 4.500000e+02, 0.000000e+00, 0.000000e+00,\n",
              "        2.482000e+02, 6.749700e+02, 3.926000e+02, 0.000000e+00,\n",
              "        6.966000e+01, 0.000000e+00, 3.124000e+01, 4.755400e+02,\n",
              "        0.000000e+00],\n",
              "       [0.000000e+00, 0.000000e+00, 0.000000e+00, 0.000000e+00,\n",
              "        0.000000e+00, 0.000000e+00, 0.000000e+00, 0.000000e+00,\n",
              "        0.000000e+00, 0.000000e+00, 0.000000e+00, 0.000000e+00,\n",
              "        0.000000e+00, 4.958000e+01, 4.483000e+01, 0.000000e+00,\n",
              "        1.503000e+01, 0.000000e+00, 8.010000e+00, 1.017100e+02,\n",
              "        0.000000e+00],\n",
              "       [0.000000e+00, 0.000000e+00, 0.000000e+00, 0.000000e+00,\n",
              "        0.000000e+00, 0.000000e+00, 5.000000e-02, 0.000000e+00,\n",
              "        0.000000e+00, 4.800000e+01, 0.000000e+00, 0.000000e+00,\n",
              "        0.000000e+00, 7.780000e+00, 4.922700e+02, 0.000000e+00,\n",
              "        1.967000e+01, 0.000000e+00, 2.600000e+01, 2.000000e+00,\n",
              "        0.000000e+00],\n",
              "       [0.000000e+00, 0.000000e+00, 0.000000e+00, 0.000000e+00,\n",
              "        0.000000e+00, 0.000000e+00, 0.000000e+00, 0.000000e+00,\n",
              "        0.000000e+00, 0.000000e+00, 0.000000e+00, 0.000000e+00,\n",
              "        0.000000e+00, 4.066000e+01, 1.647400e+02, 0.000000e+00,\n",
              "        4.334000e+01, 0.000000e+00, 7.000000e+00, 0.000000e+00,\n",
              "        0.000000e+00],\n",
              "       [4.510000e+03, 9.000000e+02, 2.177820e+03, 0.000000e+00,\n",
              "        0.000000e+00, 7.720000e+02, 8.609000e+01, 7.144670e+03,\n",
              "        5.000000e+02, 3.985000e+03, 0.000000e+00, 0.000000e+00,\n",
              "        0.000000e+00, 1.372062e+04, 4.301500e+03, 0.000000e+00,\n",
              "        4.240000e+02, 0.000000e+00, 5.590000e+02, 0.000000e+00,\n",
              "        2.433000e+02],\n",
              "       [5.400000e+03, 0.000000e+00, 0.000000e+00, 0.000000e+00,\n",
              "        0.000000e+00, 1.703660e+03, 8.396000e+01, 6.079000e+03,\n",
              "        0.000000e+00, 7.500000e+01, 0.000000e+00, 0.000000e+00,\n",
              "        0.000000e+00, 4.897550e+03, 4.608480e+03, 0.000000e+00,\n",
              "        2.570000e+02, 0.000000e+00, 2.730000e+02, 1.520000e+03,\n",
              "        3.000000e+02],\n",
              "       [1.840000e+03, 0.000000e+00, 0.000000e+00, 0.000000e+00,\n",
              "        0.000000e+00, 1.200000e+02, 1.105000e+01, 0.000000e+00,\n",
              "        0.000000e+00, 0.000000e+00, 0.000000e+00, 0.000000e+00,\n",
              "        0.000000e+00, 5.873300e+02, 2.714390e+03, 0.000000e+00,\n",
              "        0.000000e+00, 0.000000e+00, 4.800000e+01, 1.130000e+02,\n",
              "        0.000000e+00],\n",
              "       [9.750000e+03, 0.000000e+00, 6.720000e+02, 0.000000e+00,\n",
              "        0.000000e+00, 2.850840e+03, 3.881300e+02, 1.175600e+04,\n",
              "        0.000000e+00, 5.680000e+02, 0.000000e+00, 0.000000e+00,\n",
              "        4.810000e+02, 9.872220e+03, 4.858180e+03, 0.000000e+00,\n",
              "        2.272730e+03, 0.000000e+00, 6.900000e+02, 0.000000e+00,\n",
              "        1.230000e+02],\n",
              "       [0.000000e+00, 0.000000e+00, 0.000000e+00, 0.000000e+00,\n",
              "        0.000000e+00, 0.000000e+00, 0.000000e+00, 2.000000e+02,\n",
              "        0.000000e+00, 0.000000e+00, 0.000000e+00, 0.000000e+00,\n",
              "        0.000000e+00, 5.460000e+00, 2.224400e+02, 0.000000e+00,\n",
              "        6.634000e+01, 0.000000e+00, 9.000000e+00, 0.000000e+00,\n",
              "        0.000000e+00],\n",
              "       [5.010000e+03, 0.000000e+00, 2.354000e+02, 0.000000e+00,\n",
              "        0.000000e+00, 1.673600e+03, 5.618000e+01, 3.873880e+03,\n",
              "        0.000000e+00, 3.831320e+03, 3.680000e+01, 0.000000e+00,\n",
              "        0.000000e+00, 8.713680e+03, 1.546830e+03, 1.802300e+02,\n",
              "        0.000000e+00, 0.000000e+00, 1.272700e+02, 0.000000e+00,\n",
              "        2.500000e+02],\n",
              "       [5.972500e+03, 0.000000e+00, 0.000000e+00, 0.000000e+00,\n",
              "        0.000000e+00, 2.479930e+03, 4.122000e+01, 1.389450e+03,\n",
              "        0.000000e+00, 8.318200e+02, 0.000000e+00, 0.000000e+00,\n",
              "        0.000000e+00, 4.338250e+03, 1.806850e+03, 2.105700e+02,\n",
              "        0.000000e+00, 0.000000e+00, 1.487300e+02, 0.000000e+00,\n",
              "        1.000000e+01],\n",
              "       [5.020000e+03, 0.000000e+00, 0.000000e+00, 0.000000e+00,\n",
              "        0.000000e+00, 3.586600e+03, 1.938900e+02, 1.948500e+03,\n",
              "        0.000000e+00, 0.000000e+00, 2.520000e+01, 0.000000e+00,\n",
              "        0.000000e+00, 1.532314e+04, 2.877800e+03, 4.719000e+02,\n",
              "        0.000000e+00, 0.000000e+00, 6.980000e+02, 0.000000e+00,\n",
              "        0.000000e+00],\n",
              "       [0.000000e+00, 0.000000e+00, 0.000000e+00, 1.599600e+02,\n",
              "        0.000000e+00, 1.856500e+03, 1.789000e+02, 1.047500e+03,\n",
              "        0.000000e+00, 1.740000e+02, 0.000000e+00, 0.000000e+00,\n",
              "        0.000000e+00, 3.443700e+02, 1.011420e+03, 3.142000e+02,\n",
              "        3.595800e+02, 0.000000e+00, 3.620000e+02, 0.000000e+00,\n",
              "        5.000000e+01],\n",
              "       [4.320000e+03, 0.000000e+00, 5.240800e+02, 0.000000e+00,\n",
              "        0.000000e+00, 2.178200e+03, 1.227000e+02, 4.487670e+03,\n",
              "        2.500000e+02, 5.031000e+02, 2.117000e+02, 0.000000e+00,\n",
              "        0.000000e+00, 1.497420e+04, 3.025320e+03, 1.517300e+03,\n",
              "        0.000000e+00, 0.000000e+00, 1.448000e+03, 0.000000e+00,\n",
              "        2.319000e+02],\n",
              "       [0.000000e+00, 0.000000e+00, 0.000000e+00, 0.000000e+00,\n",
              "        0.000000e+00, 0.000000e+00, 0.000000e+00, 0.000000e+00,\n",
              "        0.000000e+00, 0.000000e+00, 0.000000e+00, 0.000000e+00,\n",
              "        0.000000e+00, 0.000000e+00, 0.000000e+00, 1.660000e+02,\n",
              "        0.000000e+00, 0.000000e+00, 0.000000e+00, 0.000000e+00,\n",
              "        0.000000e+00],\n",
              "       [0.000000e+00, 0.000000e+00, 3.250000e+01, 0.000000e+00,\n",
              "        0.000000e+00, 0.000000e+00, 0.000000e+00, 0.000000e+00,\n",
              "        0.000000e+00, 0.000000e+00, 0.000000e+00, 0.000000e+00,\n",
              "        0.000000e+00, 9.330000e+00, 1.408000e+02, 1.118000e+02,\n",
              "        0.000000e+00, 0.000000e+00, 8.600000e+01, 0.000000e+00,\n",
              "        0.000000e+00],\n",
              "       [0.000000e+00, 0.000000e+00, 0.000000e+00, 0.000000e+00,\n",
              "        0.000000e+00, 0.000000e+00, 7.070000e+01, 7.000000e+02,\n",
              "        0.000000e+00, 0.000000e+00, 0.000000e+00, 0.000000e+00,\n",
              "        0.000000e+00, 2.941800e+02, 5.155890e+03, 0.000000e+00,\n",
              "        0.000000e+00, 0.000000e+00, 0.000000e+00, 1.100000e+02,\n",
              "        0.000000e+00],\n",
              "       [4.200000e+02, 0.000000e+00, 0.000000e+00, 0.000000e+00,\n",
              "        0.000000e+00, 1.300000e+02, 4.050000e+00, 5.800000e+02,\n",
              "        0.000000e+00, 0.000000e+00, 0.000000e+00, 0.000000e+00,\n",
              "        0.000000e+00, 5.636000e+01, 1.296460e+03, 0.000000e+00,\n",
              "        0.000000e+00, 0.000000e+00, 0.000000e+00, 6.100000e+01,\n",
              "        0.000000e+00],\n",
              "       [5.290000e+03, 0.000000e+00, 1.000000e+02, 0.000000e+00,\n",
              "        0.000000e+00, 9.860000e+02, 1.219500e+02, 2.437000e+03,\n",
              "        0.000000e+00, 0.000000e+00, 0.000000e+00, 0.000000e+00,\n",
              "        0.000000e+00, 4.463100e+02, 1.245620e+03, 0.000000e+00,\n",
              "        0.000000e+00, 0.000000e+00, 0.000000e+00, 4.100000e+02,\n",
              "        0.000000e+00],\n",
              "       [0.000000e+00, 0.000000e+00, 0.000000e+00, 0.000000e+00,\n",
              "        0.000000e+00, 0.000000e+00, 0.000000e+00, 1.500000e+02,\n",
              "        0.000000e+00, 0.000000e+00, 0.000000e+00, 0.000000e+00,\n",
              "        0.000000e+00, 0.000000e+00, 3.097020e+03, 0.000000e+00,\n",
              "        0.000000e+00, 0.000000e+00, 0.000000e+00, 1.862000e+02,\n",
              "        0.000000e+00],\n",
              "       [1.740000e+03, 0.000000e+00, 0.000000e+00, 0.000000e+00,\n",
              "        0.000000e+00, 2.061920e+03, 2.630000e+01, 2.286000e+03,\n",
              "        0.000000e+00, 0.000000e+00, 0.000000e+00, 0.000000e+00,\n",
              "        0.000000e+00, 5.132700e+02, 1.407980e+03, 0.000000e+00,\n",
              "        0.000000e+00, 0.000000e+00, 0.000000e+00, 8.900000e+01,\n",
              "        1.000000e+01],\n",
              "       [0.000000e+00, 0.000000e+00, 0.000000e+00, 0.000000e+00,\n",
              "        0.000000e+00, 3.600000e+02, 5.211000e+01, 0.000000e+00,\n",
              "        0.000000e+00, 0.000000e+00, 0.000000e+00, 0.000000e+00,\n",
              "        2.090000e+02, 7.000000e-02, 2.568000e+01, 0.000000e+00,\n",
              "        0.000000e+00, 0.000000e+00, 0.000000e+00, 6.400000e+01,\n",
              "        0.000000e+00],\n",
              "       [0.000000e+00, 0.000000e+00, 3.293600e+02, 0.000000e+00,\n",
              "        0.000000e+00, 1.000000e+02, 5.010000e+00, 0.000000e+00,\n",
              "        0.000000e+00, 2.450000e+01, 0.000000e+00, 0.000000e+00,\n",
              "        0.000000e+00, 6.525000e+01, 4.025200e+02, 0.000000e+00,\n",
              "        4.355600e+02, 0.000000e+00, 0.000000e+00, 4.220800e+02,\n",
              "        2.500000e+01],\n",
              "       [0.000000e+00, 0.000000e+00, 0.000000e+00, 0.000000e+00,\n",
              "        0.000000e+00, 0.000000e+00, 1.071100e+02, 0.000000e+00,\n",
              "        0.000000e+00, 0.000000e+00, 0.000000e+00, 0.000000e+00,\n",
              "        0.000000e+00, 2.961000e+01, 3.705000e+01, 0.000000e+00,\n",
              "        4.682000e+01, 0.000000e+00, 0.000000e+00, 5.445500e+02,\n",
              "        0.000000e+00],\n",
              "       [0.000000e+00, 0.000000e+00, 0.000000e+00, 0.000000e+00,\n",
              "        0.000000e+00, 3.220000e+02, 3.253000e+01, 0.000000e+00,\n",
              "        0.000000e+00, 0.000000e+00, 0.000000e+00, 0.000000e+00,\n",
              "        0.000000e+00, 1.399000e+01, 5.160000e+01, 0.000000e+00,\n",
              "        1.096900e+02, 0.000000e+00, 0.000000e+00, 8.727000e+01,\n",
              "        0.000000e+00],\n",
              "       [0.000000e+00, 0.000000e+00, 1.370000e+02, 0.000000e+00,\n",
              "        0.000000e+00, 0.000000e+00, 1.601000e+01, 0.000000e+00,\n",
              "        0.000000e+00, 0.000000e+00, 0.000000e+00, 0.000000e+00,\n",
              "        0.000000e+00, 1.399000e+01, 5.160000e+01, 0.000000e+00,\n",
              "        1.096900e+02, 0.000000e+00, 0.000000e+00, 8.727000e+01,\n",
              "        0.000000e+00],\n",
              "       [0.000000e+00, 0.000000e+00, 0.000000e+00, 3.600000e+01,\n",
              "        0.000000e+00, 0.000000e+00, 5.450000e+00, 0.000000e+00,\n",
              "        0.000000e+00, 0.000000e+00, 0.000000e+00, 0.000000e+00,\n",
              "        0.000000e+00, 6.360000e+00, 4.710000e+01, 0.000000e+00,\n",
              "        7.157000e+01, 0.000000e+00, 0.000000e+00, 9.534000e+01,\n",
              "        0.000000e+00],\n",
              "       [0.000000e+00, 0.000000e+00, 0.000000e+00, 0.000000e+00,\n",
              "        0.000000e+00, 0.000000e+00, 3.067000e+01, 0.000000e+00,\n",
              "        0.000000e+00, 0.000000e+00, 0.000000e+00, 0.000000e+00,\n",
              "        0.000000e+00, 1.000000e+00, 3.210000e+01, 0.000000e+00,\n",
              "        4.893000e+01, 0.000000e+00, 0.000000e+00, 6.633000e+01,\n",
              "        0.000000e+00],\n",
              "       [0.000000e+00, 0.000000e+00, 0.000000e+00, 0.000000e+00,\n",
              "        0.000000e+00, 0.000000e+00, 3.647000e+01, 0.000000e+00,\n",
              "        0.000000e+00, 0.000000e+00, 0.000000e+00, 0.000000e+00,\n",
              "        0.000000e+00, 1.530000e+00, 3.105000e+01, 0.000000e+00,\n",
              "        4.046000e+01, 0.000000e+00, 0.000000e+00, 9.794000e+01,\n",
              "        0.000000e+00],\n",
              "       [0.000000e+00, 0.000000e+00, 0.000000e+00, 4.005000e+01,\n",
              "        0.000000e+00, 0.000000e+00, 5.250000e+00, 0.000000e+00,\n",
              "        0.000000e+00, 0.000000e+00, 0.000000e+00, 0.000000e+00,\n",
              "        0.000000e+00, 2.412000e+01, 0.000000e+00, 0.000000e+00,\n",
              "        0.000000e+00, 0.000000e+00, 0.000000e+00, 0.000000e+00,\n",
              "        5.100000e+00],\n",
              "       [0.000000e+00, 0.000000e+00, 0.000000e+00, 0.000000e+00,\n",
              "        0.000000e+00, 0.000000e+00, 0.000000e+00, 0.000000e+00,\n",
              "        0.000000e+00, 0.000000e+00, 0.000000e+00, 0.000000e+00,\n",
              "        0.000000e+00, 7.500000e-01, 0.000000e+00, 0.000000e+00,\n",
              "        0.000000e+00, 0.000000e+00, 0.000000e+00, 0.000000e+00,\n",
              "        0.000000e+00]])"
            ]
          },
          "metadata": {},
          "execution_count": 215
        }
      ]
    },
    {
      "cell_type": "code",
      "source": [
        "np.shape(data)"
      ],
      "metadata": {
        "colab": {
          "base_uri": "https://localhost:8080/"
        },
        "id": "gjJnLEsS0H8B",
        "outputId": "361854e8-9edb-4a8e-8320-919dfba60e83"
      },
      "execution_count": 216,
      "outputs": [
        {
          "output_type": "execute_result",
          "data": {
            "text/plain": [
              "(37, 21)"
            ]
          },
          "metadata": {},
          "execution_count": 216
        }
      ]
    },
    {
      "cell_type": "code",
      "source": [
        "pca = PCA(n_components=2)\n",
        "out2 = pca.fit_transform(data)\n",
        "out2"
      ],
      "metadata": {
        "colab": {
          "base_uri": "https://localhost:8080/"
        },
        "id": "I5t1vdcSyqzO",
        "outputId": "bd50ca12-52b3-4f04-c9a7-dd436da8787a"
      },
      "execution_count": 217,
      "outputs": [
        {
          "output_type": "execute_result",
          "data": {
            "text/plain": [
              "array([[   66.08524012,  3401.8364408 ],\n",
              "       [-3094.2530018 ,  -866.10659633],\n",
              "       [-3458.2308644 ,  -418.42344615],\n",
              "       [  669.40383296,  3096.26170623],\n",
              "       [ 8863.09170713, -2489.52717083],\n",
              "       [ 6363.09920387,  6421.92924776],\n",
              "       [-2978.34491114,  -852.6048441 ],\n",
              "       [-3765.77147937,  -676.67516155],\n",
              "       [-3703.03459625,  -536.17070617],\n",
              "       [-3748.78617896,  -646.39887131],\n",
              "       [12979.18029346, -1678.76537523],\n",
              "       [ 5884.29547427,  3635.49768402],\n",
              "       [-2025.6201669 ,   340.65364006],\n",
              "       [14162.45141296,  5809.24407088],\n",
              "       [-3681.15243479,  -473.85098773],\n",
              "       [ 7398.95995161, -1542.80453565],\n",
              "       [ 3311.24219016,   -74.87961389],\n",
              "       [11899.47056181, -6141.0479694 ],\n",
              "       [-2644.88917498,    92.83905878],\n",
              "       [12371.99227509, -4527.70156542],\n",
              "       [-3811.74421524,  -683.71755246],\n",
              "       [-3771.88249404,  -647.87467378],\n",
              "       [-2244.46862739,  1145.24511145],\n",
              "       [-3078.06960711,   190.52287888],\n",
              "       [  107.97411811,  2675.9401607 ],\n",
              "       [-3116.95404627,   357.99155744],\n",
              "       [-1227.84848387,  1467.42670859],\n",
              "       [-3764.8300772 ,  -652.16257812],\n",
              "       [-3633.89584859,  -508.87871447],\n",
              "       [-3774.16960846,  -607.31149409],\n",
              "       [-3751.01353278,  -649.501304  ],\n",
              "       [-3783.32391719,  -648.56534291],\n",
              "       [-3797.06210299,  -645.83714745],\n",
              "       [-3805.25713913,  -652.65733584],\n",
              "       [-3804.80297133,  -650.02843807],\n",
              "       [-3796.90165698,  -688.82997984],\n",
              "       [-3814.9391244 ,  -675.06686081]])"
            ]
          },
          "metadata": {},
          "execution_count": 217
        }
      ]
    },
    {
      "cell_type": "code",
      "source": [
        "dbs = DBSCAN(eps=12, min_samples=2)\n",
        "dbs.fit(out2)\n",
        "labels = dbs.labels_"
      ],
      "metadata": {
        "id": "cA3tZxU00EEx"
      },
      "execution_count": 240,
      "outputs": []
    },
    {
      "cell_type": "code",
      "source": [
        "labels"
      ],
      "metadata": {
        "colab": {
          "base_uri": "https://localhost:8080/"
        },
        "id": "X-awvq1h0RSm",
        "outputId": "6633628c-56aa-4d9e-fe7d-988dda6247c1"
      },
      "execution_count": 241,
      "outputs": [
        {
          "output_type": "execute_result",
          "data": {
            "text/plain": [
              "array([-1, -1, -1, -1, -1, -1, -1, -1, -1,  0, -1, -1, -1, -1, -1, -1, -1,\n",
              "       -1, -1, -1,  1,  2, -1, -1, -1, -1, -1,  2, -1, -1,  0,  2,  3,  3,\n",
              "        3, -1,  1])"
            ]
          },
          "metadata": {},
          "execution_count": 241
        }
      ]
    },
    {
      "cell_type": "code",
      "source": [
        "ax1 = out2[:,0]\n",
        "ax2 = out2[:,1]"
      ],
      "metadata": {
        "id": "hXN_v71V0bpP"
      },
      "execution_count": 242,
      "outputs": []
    },
    {
      "cell_type": "code",
      "source": [
        "ax1"
      ],
      "metadata": {
        "colab": {
          "base_uri": "https://localhost:8080/"
        },
        "outputId": "d5a7a2f8-44ff-4ff9-fbd4-2752fd2215c9",
        "id": "Y6OZGPKW0bpR"
      },
      "execution_count": 243,
      "outputs": [
        {
          "output_type": "execute_result",
          "data": {
            "text/plain": [
              "array([   66.08524012, -3094.2530018 , -3458.2308644 ,   669.40383296,\n",
              "        8863.09170713,  6363.09920387, -2978.34491114, -3765.77147937,\n",
              "       -3703.03459625, -3748.78617896, 12979.18029346,  5884.29547427,\n",
              "       -2025.6201669 , 14162.45141296, -3681.15243479,  7398.95995161,\n",
              "        3311.24219016, 11899.47056181, -2644.88917498, 12371.99227509,\n",
              "       -3811.74421524, -3771.88249404, -2244.46862739, -3078.06960711,\n",
              "         107.97411811, -3116.95404627, -1227.84848387, -3764.8300772 ,\n",
              "       -3633.89584859, -3774.16960846, -3751.01353278, -3783.32391719,\n",
              "       -3797.06210299, -3805.25713913, -3804.80297133, -3796.90165698,\n",
              "       -3814.9391244 ])"
            ]
          },
          "metadata": {},
          "execution_count": 243
        }
      ]
    },
    {
      "cell_type": "code",
      "source": [
        "import matplotlib.pyplot as plt"
      ],
      "metadata": {
        "id": "LRb_R9wB0bpT"
      },
      "execution_count": 244,
      "outputs": []
    },
    {
      "cell_type": "code",
      "source": [
        "plt.scatter(ax1, ax2, c=labels, cmap='rainbow')"
      ],
      "metadata": {
        "colab": {
          "base_uri": "https://localhost:8080/",
          "height": 282
        },
        "outputId": "c3cbad5f-53ad-4eae-fdde-201d9635a2a2",
        "id": "u_nOUGa30bpT"
      },
      "execution_count": 245,
      "outputs": [
        {
          "output_type": "execute_result",
          "data": {
            "text/plain": [
              "<matplotlib.collections.PathCollection at 0x7f907999c090>"
            ]
          },
          "metadata": {},
          "execution_count": 245
        },
        {
          "output_type": "display_data",
          "data": {
            "text/plain": [
              "<Figure size 432x288 with 1 Axes>"
            ],
            "image/png": "[encoded data removed]"
          },
          "metadata": {
            "needs_background": "light"
          }
        }
      ]
    },
    {
      "cell_type": "code",
      "source": [
        ""
      ],
      "metadata": {
        "id": "2NXT2BFF0hSE"
      },
      "execution_count": null,
      "outputs": []
    }
  ]
}