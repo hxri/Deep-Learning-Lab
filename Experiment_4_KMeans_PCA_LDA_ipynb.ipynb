{
  "nbformat": 4,
  "nbformat_minor": 0,
  "metadata": {
    "colab": {
      "name": "Experiment_4_KMeans_PCA_LDA.ipynb.ipynb",
      "provenance": [],
      "authorship_tag": "ABX9TyPkiWTFEJtfRl2VXC+VpbVD",
      "include_colab_link": true
    },
    "kernelspec": {
      "name": "python3",
      "display_name": "Python 3"
    },
    "language_info": {
      "name": "python"
    }
  },
  "cells": [
    {
      "cell_type": "markdown",
      "metadata": {
        "id": "view-in-github",
        "colab_type": "text"
      },
      "source": [
        "<a href=\"https://colab.research.google.com/github/hxri/Deep-Learning-Lab/blob/main/Experiment_4_KMeans_PCA_LDA_ipynb.ipynb\" target=\"_parent\"><img src=\"https://colab.research.google.com/assets/colab-badge.svg\" alt=\"Open In Colab\"/></a>"
      ]
    },
    {
      "cell_type": "markdown",
      "source": [
        "# PCA"
      ],
      "metadata": {
        "id": "ncM7f12HljWj"
      }
    },
    {
      "cell_type": "code",
      "execution_count": 1,
      "metadata": {
        "id": "Cz1HmeBBaQ7P"
      },
      "outputs": [],
      "source": [
        "import numpy as np\n",
        "from sklearn.decomposition import PCA\n",
        "import pandas as pd"
      ]
    },
    {
      "cell_type": "code",
      "source": [
        "df = pd.read_csv('/content/Iris.csv')"
      ],
      "metadata": {
        "id": "hnX34dRyWgGx"
      },
      "execution_count": null,
      "outputs": []
    },
    {
      "cell_type": "code",
      "source": [
        "df"
      ],
      "metadata": {
        "colab": {
          "base_uri": "https://localhost:8080/",
          "height": 424
        },
        "id": "syUaAP_cX8tM",
        "outputId": "b15443d2-bc9f-4251-bcfb-b738cc06ebb6"
      },
      "execution_count": null,
      "outputs": [
        {
          "output_type": "execute_result",
          "data": {
            "text/plain": [
              "      Id  SepalLengthCm  SepalWidthCm  PetalLengthCm  PetalWidthCm  \\\n",
              "0      1            5.1           3.5            1.4           0.2   \n",
              "1      2            4.9           3.0            1.4           0.2   \n",
              "2      3            4.7           3.2            1.3           0.2   \n",
              "3      4            4.6           3.1            1.5           0.2   \n",
              "4      5            5.0           3.6            1.4           0.2   \n",
              "..   ...            ...           ...            ...           ...   \n",
              "145  146            6.7           3.0            5.2           2.3   \n",
              "146  147            6.3           2.5            5.0           1.9   \n",
              "147  148            6.5           3.0            5.2           2.0   \n",
              "148  149            6.2           3.4            5.4           2.3   \n",
              "149  150            5.9           3.0            5.1           1.8   \n",
              "\n",
              "            Species  \n",
              "0       Iris-setosa  \n",
              "1       Iris-setosa  \n",
              "2       Iris-setosa  \n",
              "3       Iris-setosa  \n",
              "4       Iris-setosa  \n",
              "..              ...  \n",
              "145  Iris-virginica  \n",
              "146  Iris-virginica  \n",
              "147  Iris-virginica  \n",
              "148  Iris-virginica  \n",
              "149  Iris-virginica  \n",
              "\n",
              "[150 rows x 6 columns]"
            ],
            "text/html": [
              "\n",
              "  <div id=\"df-2e7cd137-0c7f-47e6-b2e7-f5f460b6c39b\">\n",
              "    <div class=\"colab-df-container\">\n",
              "      <div>\n",
              "<style scoped>\n",
              "    .dataframe tbody tr th:only-of-type {\n",
              "        vertical-align: middle;\n",
              "    }\n",
              "\n",
              "    .dataframe tbody tr th {\n",
              "        vertical-align: top;\n",
              "    }\n",
              "\n",
              "    .dataframe thead th {\n",
              "        text-align: right;\n",
              "    }\n",
              "</style>\n",
              "<table border=\"1\" class=\"dataframe\">\n",
              "  <thead>\n",
              "    <tr style=\"text-align: right;\">\n",
              "      <th></th>\n",
              "      <th>Id</th>\n",
              "      <th>SepalLengthCm</th>\n",
              "      <th>SepalWidthCm</th>\n",
              "      <th>PetalLengthCm</th>\n",
              "      <th>PetalWidthCm</th>\n",
              "      <th>Species</th>\n",
              "    </tr>\n",
              "  </thead>\n",
              "  <tbody>\n",
              "    <tr>\n",
              "      <th>0</th>\n",
              "      <td>1</td>\n",
              "      <td>5.1</td>\n",
              "      <td>3.5</td>\n",
              "      <td>1.4</td>\n",
              "      <td>0.2</td>\n",
              "      <td>Iris-setosa</td>\n",
              "    </tr>\n",
              "    <tr>\n",
              "      <th>1</th>\n",
              "      <td>2</td>\n",
              "      <td>4.9</td>\n",
              "      <td>3.0</td>\n",
              "      <td>1.4</td>\n",
              "      <td>0.2</td>\n",
              "      <td>Iris-setosa</td>\n",
              "    </tr>\n",
              "    <tr>\n",
              "      <th>2</th>\n",
              "      <td>3</td>\n",
              "      <td>4.7</td>\n",
              "      <td>3.2</td>\n",
              "      <td>1.3</td>\n",
              "      <td>0.2</td>\n",
              "      <td>Iris-setosa</td>\n",
              "    </tr>\n",
              "    <tr>\n",
              "      <th>3</th>\n",
              "      <td>4</td>\n",
              "      <td>4.6</td>\n",
              "      <td>3.1</td>\n",
              "      <td>1.5</td>\n",
              "      <td>0.2</td>\n",
              "      <td>Iris-setosa</td>\n",
              "    </tr>\n",
              "    <tr>\n",
              "      <th>4</th>\n",
              "      <td>5</td>\n",
              "      <td>5.0</td>\n",
              "      <td>3.6</td>\n",
              "      <td>1.4</td>\n",
              "      <td>0.2</td>\n",
              "      <td>Iris-setosa</td>\n",
              "    </tr>\n",
              "    <tr>\n",
              "      <th>...</th>\n",
              "      <td>...</td>\n",
              "      <td>...</td>\n",
              "      <td>...</td>\n",
              "      <td>...</td>\n",
              "      <td>...</td>\n",
              "      <td>...</td>\n",
              "    </tr>\n",
              "    <tr>\n",
              "      <th>145</th>\n",
              "      <td>146</td>\n",
              "      <td>6.7</td>\n",
              "      <td>3.0</td>\n",
              "      <td>5.2</td>\n",
              "      <td>2.3</td>\n",
              "      <td>Iris-virginica</td>\n",
              "    </tr>\n",
              "    <tr>\n",
              "      <th>146</th>\n",
              "      <td>147</td>\n",
              "      <td>6.3</td>\n",
              "      <td>2.5</td>\n",
              "      <td>5.0</td>\n",
              "      <td>1.9</td>\n",
              "      <td>Iris-virginica</td>\n",
              "    </tr>\n",
              "    <tr>\n",
              "      <th>147</th>\n",
              "      <td>148</td>\n",
              "      <td>6.5</td>\n",
              "      <td>3.0</td>\n",
              "      <td>5.2</td>\n",
              "      <td>2.0</td>\n",
              "      <td>Iris-virginica</td>\n",
              "    </tr>\n",
              "    <tr>\n",
              "      <th>148</th>\n",
              "      <td>149</td>\n",
              "      <td>6.2</td>\n",
              "      <td>3.4</td>\n",
              "      <td>5.4</td>\n",
              "      <td>2.3</td>\n",
              "      <td>Iris-virginica</td>\n",
              "    </tr>\n",
              "    <tr>\n",
              "      <th>149</th>\n",
              "      <td>150</td>\n",
              "      <td>5.9</td>\n",
              "      <td>3.0</td>\n",
              "      <td>5.1</td>\n",
              "      <td>1.8</td>\n",
              "      <td>Iris-virginica</td>\n",
              "    </tr>\n",
              "  </tbody>\n",
              "</table>\n",
              "<p>150 rows × 6 columns</p>\n",
              "</div>\n",
              "      <button class=\"colab-df-convert\" onclick=\"convertToInteractive('df-2e7cd137-0c7f-47e6-b2e7-f5f460b6c39b')\"\n",
              "              title=\"Convert this dataframe to an interactive table.\"\n",
              "              style=\"display:none;\">\n",
              "        \n",
              "  <svg xmlns=\"http://www.w3.org/2000/svg\" height=\"24px\"viewBox=\"0 0 24 24\"\n",
              "       width=\"24px\">\n",
              "    <path d=\"M0 0h24v24H0V0z\" fill=\"none\"/>\n",
              "    <path d=\"M18.56 5.44l.94 2.06.94-2.06 2.06-.94-2.06-.94-.94-2.06-.94 2.06-2.06.94zm-11 1L8.5 8.5l.94-2.06 2.06-.94-2.06-.94L8.5 2.5l-.94 2.06-2.06.94zm10 10l.94 2.06.94-2.06 2.06-.94-2.06-.94-.94-2.06-.94 2.06-2.06.94z\"/><path d=\"M17.41 7.96l-1.37-1.37c-.4-.4-.92-.59-1.43-.59-.52 0-1.04.2-1.43.59L10.3 9.45l-7.72 7.72c-.78.78-.78 2.05 0 2.83L4 21.41c.39.39.9.59 1.41.59.51 0 1.02-.2 1.41-.59l7.78-7.78 2.81-2.81c.8-.78.8-2.07 0-2.86zM5.41 20L4 18.59l7.72-7.72 1.47 1.35L5.41 20z\"/>\n",
              "  </svg>\n",
              "      </button>\n",
              "      \n",
              "  <style>\n",
              "    .colab-df-container {\n",
              "      display:flex;\n",
              "      flex-wrap:wrap;\n",
              "      gap: 12px;\n",
              "    }\n",
              "\n",
              "    .colab-df-convert {\n",
              "      background-color: #E8F0FE;\n",
              "      border: none;\n",
              "      border-radius: 50%;\n",
              "      cursor: pointer;\n",
              "      display: none;\n",
              "      fill: #1967D2;\n",
              "      height: 32px;\n",
              "      padding: 0 0 0 0;\n",
              "      width: 32px;\n",
              "    }\n",
              "\n",
              "    .colab-df-convert:hover {\n",
              "      background-color: #E2EBFA;\n",
              "      box-shadow: 0px 1px 2px rgba(60, 64, 67, 0.3), 0px 1px 3px 1px rgba(60, 64, 67, 0.15);\n",
              "      fill: #174EA6;\n",
              "    }\n",
              "\n",
              "    [theme=dark] .colab-df-convert {\n",
              "      background-color: #3B4455;\n",
              "      fill: #D2E3FC;\n",
              "    }\n",
              "\n",
              "    [theme=dark] .colab-df-convert:hover {\n",
              "      background-color: #434B5C;\n",
              "      box-shadow: 0px 1px 3px 1px rgba(0, 0, 0, 0.15);\n",
              "      filter: drop-shadow(0px 1px 2px rgba(0, 0, 0, 0.3));\n",
              "      fill: #FFFFFF;\n",
              "    }\n",
              "  </style>\n",
              "\n",
              "      <script>\n",
              "        const buttonEl =\n",
              "          document.querySelector('#df-2e7cd137-0c7f-47e6-b2e7-f5f460b6c39b button.colab-df-convert');\n",
              "        buttonEl.style.display =\n",
              "          google.colab.kernel.accessAllowed ? 'block' : 'none';\n",
              "\n",
              "        async function convertToInteractive(key) {\n",
              "          const element = document.querySelector('#df-2e7cd137-0c7f-47e6-b2e7-f5f460b6c39b');\n",
              "          const dataTable =\n",
              "            await google.colab.kernel.invokeFunction('convertToInteractive',\n",
              "                                                     [key], {});\n",
              "          if (!dataTable) return;\n",
              "\n",
              "          const docLinkHtml = 'Like what you see? Visit the ' +\n",
              "            '<a target=\"_blank\" href=https://colab.research.google.com/notebooks/data_table.ipynb>data table notebook</a>'\n",
              "            + ' to learn more about interactive tables.';\n",
              "          element.innerHTML = '';\n",
              "          dataTable['output_type'] = 'display_data';\n",
              "          await google.colab.output.renderOutput(dataTable, element);\n",
              "          const docLink = document.createElement('div');\n",
              "          docLink.innerHTML = docLinkHtml;\n",
              "          element.appendChild(docLink);\n",
              "        }\n",
              "      </script>\n",
              "    </div>\n",
              "  </div>\n",
              "  "
            ]
          },
          "metadata": {},
          "execution_count": 31
        }
      ]
    },
    {
      "cell_type": "code",
      "source": [
        "X = df[['SepalLengthCm','PetalLengthCm','PetalLengthCm','PetalWidthCm']].values"
      ],
      "metadata": {
        "id": "6H0bBJU2XtRg"
      },
      "execution_count": null,
      "outputs": []
    },
    {
      "cell_type": "code",
      "source": [
        "pca = PCA(n_components=2)\n",
        "data = pca.fit_transform(X)"
      ],
      "metadata": {
        "id": "BufJFjmWozp4"
      },
      "execution_count": null,
      "outputs": []
    },
    {
      "cell_type": "code",
      "source": [
        "data"
      ],
      "metadata": {
        "colab": {
          "base_uri": "https://localhost:8080/"
        },
        "id": "u-msnMFGYxUe",
        "outputId": "9488a325-9f04-41fa-fb60-52d1d7c4315c"
      },
      "execution_count": null,
      "outputs": [
        {
          "output_type": "execute_result",
          "data": {
            "text/plain": [
              "array([[-3.55269786e+00, -2.33419057e-01],\n",
              "       [-3.60721064e+00, -4.26490300e-02],\n",
              "       [-3.79220764e+00,  1.16725555e-01],\n",
              "       [-3.55849559e+00,  2.74901452e-01],\n",
              "       [-3.57995425e+00, -1.38034043e-01],\n",
              "       [-3.02492245e+00, -3.84947083e-01],\n",
              "       [-3.66170301e+00,  2.63726355e-01],\n",
              "       [-3.44947004e+00, -1.06638602e-01],\n",
              "       [-3.74349259e+00,  4.34276037e-01],\n",
              "       [-3.50400322e+00, -3.14739331e-02],\n",
              "       [-3.34044448e+00, -4.88178656e-01],\n",
              "       [-3.37349860e+00,  1.15526867e-01],\n",
              "       [-3.66174383e+00,  3.25156387e-02],\n",
              "       [-4.18947843e+00,  4.15254381e-01],\n",
              "       [-3.62287158e+00, -9.63905034e-01],\n",
              "       [-3.20412172e+00, -7.33893006e-01],\n",
              "       [-3.54685932e+00, -5.10528849e-01],\n",
              "       [-3.52542107e+00, -2.13198712e-01],\n",
              "       [-2.97043008e+00, -6.91322468e-01],\n",
              "       [-3.39493685e+00, -1.81803271e-01],\n",
              "       [-3.07947604e+00, -4.25387773e-01],\n",
              "       [-3.36766005e+00, -1.61582926e-01],\n",
              "       [-4.21091668e+00,  1.17924244e-01],\n",
              "       [-3.07941482e+00, -7.85716982e-02],\n",
              "       [-2.98204594e+00,  2.09713191e-01],\n",
              "       [-3.31898582e+00, -7.52431603e-02],\n",
              "       [-3.26443222e+00, -3.48024710e-02],\n",
              "       [-3.39495726e+00, -2.97408629e-01],\n",
              "       [-3.52544148e+00, -3.28804070e-01],\n",
              "       [-3.40075498e+00,  2.10911880e-01],\n",
              "       [-3.37349860e+00,  1.15526867e-01],\n",
              "       [-3.28589089e+00, -4.47737966e-01],\n",
              "       [-3.42223405e+00, -3.17628973e-01],\n",
              "       [-3.44367231e+00, -6.14959111e-01],\n",
              "       [-3.50400322e+00, -3.14739331e-02],\n",
              "       [-3.84092269e+00, -2.00824926e-01],\n",
              "       [-3.57415653e+00, -6.46354552e-01],\n",
              "       [-3.50400322e+00, -3.14739331e-02],\n",
              "       [-3.87397681e+00,  4.02880596e-01],\n",
              "       [-3.42221365e+00, -2.02023615e-01],\n",
              "       [-3.68316168e+00, -1.49209140e-01],\n",
              "       [-3.81944362e+00,  3.27715927e-01],\n",
              "       [-3.87397681e+00,  4.02880596e-01],\n",
              "       [-3.20987863e+00,  5.63821841e-03],\n",
              "       [-2.84572318e+00, -3.60011598e-02],\n",
              "       [-3.60719024e+00,  7.29563281e-02],\n",
              "       [-3.29172943e+00, -1.70628174e-01],\n",
              "       [-3.68897981e+00,  2.43506010e-01],\n",
              "       [-3.36770087e+00, -3.92793642e-01],\n",
              "       [-3.57995425e+00, -1.38034043e-01],\n",
              "       [ 1.59847429e+00, -7.67040605e-01],\n",
              "       [ 1.20124432e+00, -2.37301063e-01],\n",
              "       [ 1.85946314e+00, -5.88644364e-01],\n",
              "       [ 2.48962131e-01,  4.23746161e-01],\n",
              "       [ 1.35898493e+00, -3.01290635e-01],\n",
              "       [ 9.55896002e-01,  3.89953342e-01],\n",
              "       [ 1.46223316e+00, -5.89048216e-02],\n",
              "       [-9.09796122e-01,  7.15627117e-01],\n",
              "       [ 1.33168772e+00, -4.37116338e-01],\n",
              "       [ 6.39855415e-02,  6.98726104e-01],\n",
              "       [-6.21571296e-01,  6.83032986e-01],\n",
              "       [ 6.73509718e-01,  1.45437680e-01],\n",
              "       [ 3.03413688e-01, -1.13839940e-01],\n",
              "       [ 1.35316679e+00,  9.14245158e-02],\n",
              "       [-2.45718353e-01,  2.02779381e-01],\n",
              "       [ 1.12525247e+00, -5.75071889e-01],\n",
              "       [ 9.83193205e-01,  5.25779045e-01],\n",
              "       [ 3.79385128e-01,  1.08325528e-01],\n",
              "       [ 1.14673154e+00, -4.65310360e-02],\n",
              "       [ 9.11807092e-02,  2.56525017e-01],\n",
              "       [ 1.53824542e+00,  3.94471363e-01],\n",
              "       [ 4.12500466e-01, -1.48563920e-01],\n",
              "       [ 1.69592480e+00, -1.63342833e-02],\n",
              "       [ 1.29861320e+00,  5.09838265e-02],\n",
              "       [ 8.85722289e-01, -3.40532635e-01],\n",
              "       [ 1.09799608e+00, -4.79686876e-01],\n",
              "       [ 1.67444573e+00, -5.44875137e-01],\n",
              "       [ 1.98998817e+00, -3.26038206e-01],\n",
              "       [ 1.09221876e+00,  1.44238991e-01],\n",
              "       [-4.30776572e-01,  1.53378924e-02],\n",
              "       [-6.65598984e-02,  3.20514589e-01],\n",
              "       [-2.24320913e-01,  2.68898802e-01],\n",
              "       [ 1.72970284e-01,  8.59753344e-02],\n",
              "       [ 1.90240087e+00,  3.52831985e-01],\n",
              "       [ 9.28680427e-01,  7.16549071e-01],\n",
              "       [ 1.11949556e+00,  1.64459336e-01],\n",
              "       [ 1.54398192e+00, -4.60665220e-01],\n",
              "       [ 9.88950118e-01, -2.13752180e-01],\n",
              "       [ 4.06702739e-01,  3.59756589e-01],\n",
              "       [ 2.48962131e-01,  4.23746161e-01],\n",
              "       [ 7.43622208e-01,  5.29107582e-01],\n",
              "       [ 1.22268257e+00,  6.00290743e-02],\n",
              "       [ 3.03454502e-01,  1.17370776e-01],\n",
              "       [-8.82539733e-01,  6.20242103e-01],\n",
              "       [ 5.37186957e-01,  3.91152031e-01],\n",
              "       [ 5.37166550e-01,  2.75546672e-01],\n",
              "       [ 5.64443346e-01,  2.95767017e-01],\n",
              "       [ 8.31209511e-01, -1.49762608e-01],\n",
              "       [-1.21945920e+00,  4.50891110e-01],\n",
              "       [ 4.33959128e-01,  2.64371576e-01],\n",
              "       [ 3.40401917e+00,  5.31219021e-01],\n",
              "       [ 1.92971848e+00,  6.04263046e-01],\n",
              "       [ 3.38247888e+00, -3.44137907e-01],\n",
              "       [ 2.69114472e+00,  2.64094842e-01],\n",
              "       [ 3.11573312e+00,  2.16997077e-01],\n",
              "       [ 4.43215035e+00, -6.01294884e-01],\n",
              "       [ 8.46952074e-01,  1.23391483e+00],\n",
              "       [ 3.87709814e+00, -4.69987202e-01],\n",
              "       [ 3.06113871e+00, -5.46543291e-02],\n",
              "       [ 3.77981089e+00, -2.95850659e-01],\n",
              "       [ 2.14779000e+00, -4.32117036e-02],\n",
              "       [ 2.35422525e+00,  9.47438482e-02],\n",
              "       [ 2.77877284e+00, -1.83564633e-01],\n",
              "       [ 1.79925467e+00,  6.88472962e-01],\n",
              "       [ 2.06610246e+00,  7.05364769e-01],\n",
              "       [ 2.46333244e+00,  1.75625227e-01],\n",
              "       [ 2.61517328e+00,  4.19293732e-02],\n",
              "       [ 4.61716776e+00, -6.45064111e-01],\n",
              "       [ 4.90541299e+00, -5.62052883e-01],\n",
              "       [ 1.74463985e+00,  3.01216199e-01],\n",
              "       [ 3.12155126e+00, -1.75718074e-01],\n",
              "       [ 1.64151406e+00,  7.52462534e-01],\n",
              "       [ 4.56261417e+00, -6.85504800e-01],\n",
              "       [ 1.77775519e+00,  4.43267508e-02],\n",
              "       [ 3.01248489e+00, -2.53887365e-02],\n",
              "       [ 3.45838910e+00, -4.68788513e-01],\n",
              "       [ 1.62001458e+00,  1.08316323e-01],\n",
              "       [ 1.72324241e+00,  2.35096778e-01],\n",
              "       [ 2.80023150e+00,  2.29370862e-01],\n",
              "       [ 3.14286707e+00, -5.72020086e-01],\n",
              "       [ 3.67066289e+00, -6.07942754e-01],\n",
              "       [ 4.22567429e+00, -9.70461152e-01],\n",
              "       [ 2.82750830e+00,  2.49591207e-01],\n",
              "       [ 1.95689324e+00,  4.64565998e-02],\n",
              "       [ 2.52752476e+00,  3.73983490e-01],\n",
              "       [ 3.86153924e+00, -8.13216415e-01],\n",
              "       [ 2.85480550e+00,  3.85416910e-01],\n",
              "       [ 2.58791689e+00,  1.37314387e-01],\n",
              "       [ 1.56550181e+00,  2.99086350e-01],\n",
              "       [ 2.67554501e+00, -3.10345088e-01],\n",
              "       [ 2.96383106e+00,  3.87685598e-03],\n",
              "       [ 2.33864595e+00, -3.64090723e-01],\n",
              "       [ 1.92971848e+00,  6.04263046e-01],\n",
              "       [ 3.35526330e+00, -1.75421775e-02],\n",
              "       [ 3.12159207e+00,  5.54926422e-02],\n",
              "       [ 2.41461739e+00, -1.41925255e-01],\n",
              "       [ 1.93551621e+00,  9.59425370e-02],\n",
              "       [ 2.27827422e+00, -1.18162621e-02],\n",
              "       [ 2.53930388e+00,  3.97790695e-01],\n",
              "       [ 1.92969807e+00,  4.88657688e-01]])"
            ]
          },
          "metadata": {},
          "execution_count": 45
        }
      ]
    },
    {
      "cell_type": "code",
      "source": [
        "print(pca.components_)"
      ],
      "metadata": {
        "colab": {
          "base_uri": "https://localhost:8080/"
        },
        "id": "Xls4Gv4yYaCy",
        "outputId": "962fe2c1-8dc9-40d1-ddd7-b3493f32d636"
      },
      "execution_count": null,
      "outputs": [
        {
          "output_type": "stream",
          "name": "stdout",
          "text": [
            "[[ 0.27256389  0.65242109  0.65242109  0.27276796]\n",
            " [-0.95385013  0.15697721  0.15697721  0.20220345]]\n"
          ]
        }
      ]
    },
    {
      "cell_type": "code",
      "source": [
        "import matplotlib.pyplot as plt\n",
        "plt.scatter(data[0], data[1])"
      ],
      "metadata": {
        "colab": {
          "base_uri": "https://localhost:8080/",
          "height": 284
        },
        "id": "jF6KLrwPYfPu",
        "outputId": "46748c44-bd1e-45a5-f226-dbc882566b7c"
      },
      "execution_count": 30,
      "outputs": [
        {
          "output_type": "execute_result",
          "data": {
            "text/plain": [
              "<matplotlib.collections.PathCollection at 0x7f56248a29d0>"
            ]
          },
          "metadata": {},
          "execution_count": 30
        },
        {
          "output_type": "display_data",
          "data": {
            "text/plain": [
              "<Figure size 432x288 with 1 Axes>"
            ],
            "image/png": "[encoded data removed]"
          },
          "metadata": {
            "needs_background": "light"
          }
        }
      ]
    },
    {
      "cell_type": "code",
      "source": [
        "data.shape"
      ],
      "metadata": {
        "colab": {
          "base_uri": "https://localhost:8080/"
        },
        "id": "kM6EN-QmZwVJ",
        "outputId": "7554c8b4-ac13-4346-adb7-7a9df46b7b07"
      },
      "execution_count": null,
      "outputs": [
        {
          "output_type": "execute_result",
          "data": {
            "text/plain": [
              "(150, 2)"
            ]
          },
          "metadata": {},
          "execution_count": 48
        }
      ]
    },
    {
      "cell_type": "code",
      "source": [
        "new_df = pd.DataFrame(data, columns=['pc1','pc2'])"
      ],
      "metadata": {
        "id": "Lp98UTrXZD_r"
      },
      "execution_count": null,
      "outputs": []
    },
    {
      "cell_type": "code",
      "source": [
        "new_df"
      ],
      "metadata": {
        "colab": {
          "base_uri": "https://localhost:8080/",
          "height": 424
        },
        "id": "hWG3D0ihZOqe",
        "outputId": "badb9c3d-2441-4a62-9d63-18f1eebf4d6d"
      },
      "execution_count": null,
      "outputs": [
        {
          "output_type": "execute_result",
          "data": {
            "text/plain": [
              "          pc1       pc2\n",
              "0   -3.552698 -0.233419\n",
              "1   -3.607211 -0.042649\n",
              "2   -3.792208  0.116726\n",
              "3   -3.558496  0.274901\n",
              "4   -3.579954 -0.138034\n",
              "..        ...       ...\n",
              "145  2.414617 -0.141925\n",
              "146  1.935516  0.095943\n",
              "147  2.278274 -0.011816\n",
              "148  2.539304  0.397791\n",
              "149  1.929698  0.488658\n",
              "\n",
              "[150 rows x 2 columns]"
            ],
            "text/html": [
              "\n",
              "  <div id=\"df-6a74570e-41e3-4138-8be3-3b772f9e7df7\">\n",
              "    <div class=\"colab-df-container\">\n",
              "      <div>\n",
              "<style scoped>\n",
              "    .dataframe tbody tr th:only-of-type {\n",
              "        vertical-align: middle;\n",
              "    }\n",
              "\n",
              "    .dataframe tbody tr th {\n",
              "        vertical-align: top;\n",
              "    }\n",
              "\n",
              "    .dataframe thead th {\n",
              "        text-align: right;\n",
              "    }\n",
              "</style>\n",
              "<table border=\"1\" class=\"dataframe\">\n",
              "  <thead>\n",
              "    <tr style=\"text-align: right;\">\n",
              "      <th></th>\n",
              "      <th>pc1</th>\n",
              "      <th>pc2</th>\n",
              "    </tr>\n",
              "  </thead>\n",
              "  <tbody>\n",
              "    <tr>\n",
              "      <th>0</th>\n",
              "      <td>-3.552698</td>\n",
              "      <td>-0.233419</td>\n",
              "    </tr>\n",
              "    <tr>\n",
              "      <th>1</th>\n",
              "      <td>-3.607211</td>\n",
              "      <td>-0.042649</td>\n",
              "    </tr>\n",
              "    <tr>\n",
              "      <th>2</th>\n",
              "      <td>-3.792208</td>\n",
              "      <td>0.116726</td>\n",
              "    </tr>\n",
              "    <tr>\n",
              "      <th>3</th>\n",
              "      <td>-3.558496</td>\n",
              "      <td>0.274901</td>\n",
              "    </tr>\n",
              "    <tr>\n",
              "      <th>4</th>\n",
              "      <td>-3.579954</td>\n",
              "      <td>-0.138034</td>\n",
              "    </tr>\n",
              "    <tr>\n",
              "      <th>...</th>\n",
              "      <td>...</td>\n",
              "      <td>...</td>\n",
              "    </tr>\n",
              "    <tr>\n",
              "      <th>145</th>\n",
              "      <td>2.414617</td>\n",
              "      <td>-0.141925</td>\n",
              "    </tr>\n",
              "    <tr>\n",
              "      <th>146</th>\n",
              "      <td>1.935516</td>\n",
              "      <td>0.095943</td>\n",
              "    </tr>\n",
              "    <tr>\n",
              "      <th>147</th>\n",
              "      <td>2.278274</td>\n",
              "      <td>-0.011816</td>\n",
              "    </tr>\n",
              "    <tr>\n",
              "      <th>148</th>\n",
              "      <td>2.539304</td>\n",
              "      <td>0.397791</td>\n",
              "    </tr>\n",
              "    <tr>\n",
              "      <th>149</th>\n",
              "      <td>1.929698</td>\n",
              "      <td>0.488658</td>\n",
              "    </tr>\n",
              "  </tbody>\n",
              "</table>\n",
              "<p>150 rows × 2 columns</p>\n",
              "</div>\n",
              "      <button class=\"colab-df-convert\" onclick=\"convertToInteractive('df-6a74570e-41e3-4138-8be3-3b772f9e7df7')\"\n",
              "              title=\"Convert this dataframe to an interactive table.\"\n",
              "              style=\"display:none;\">\n",
              "        \n",
              "  <svg xmlns=\"http://www.w3.org/2000/svg\" height=\"24px\"viewBox=\"0 0 24 24\"\n",
              "       width=\"24px\">\n",
              "    <path d=\"M0 0h24v24H0V0z\" fill=\"none\"/>\n",
              "    <path d=\"M18.56 5.44l.94 2.06.94-2.06 2.06-.94-2.06-.94-.94-2.06-.94 2.06-2.06.94zm-11 1L8.5 8.5l.94-2.06 2.06-.94-2.06-.94L8.5 2.5l-.94 2.06-2.06.94zm10 10l.94 2.06.94-2.06 2.06-.94-2.06-.94-.94-2.06-.94 2.06-2.06.94z\"/><path d=\"M17.41 7.96l-1.37-1.37c-.4-.4-.92-.59-1.43-.59-.52 0-1.04.2-1.43.59L10.3 9.45l-7.72 7.72c-.78.78-.78 2.05 0 2.83L4 21.41c.39.39.9.59 1.41.59.51 0 1.02-.2 1.41-.59l7.78-7.78 2.81-2.81c.8-.78.8-2.07 0-2.86zM5.41 20L4 18.59l7.72-7.72 1.47 1.35L5.41 20z\"/>\n",
              "  </svg>\n",
              "      </button>\n",
              "      \n",
              "  <style>\n",
              "    .colab-df-container {\n",
              "      display:flex;\n",
              "      flex-wrap:wrap;\n",
              "      gap: 12px;\n",
              "    }\n",
              "\n",
              "    .colab-df-convert {\n",
              "      background-color: #E8F0FE;\n",
              "      border: none;\n",
              "      border-radius: 50%;\n",
              "      cursor: pointer;\n",
              "      display: none;\n",
              "      fill: #1967D2;\n",
              "      height: 32px;\n",
              "      padding: 0 0 0 0;\n",
              "      width: 32px;\n",
              "    }\n",
              "\n",
              "    .colab-df-convert:hover {\n",
              "      background-color: #E2EBFA;\n",
              "      box-shadow: 0px 1px 2px rgba(60, 64, 67, 0.3), 0px 1px 3px 1px rgba(60, 64, 67, 0.15);\n",
              "      fill: #174EA6;\n",
              "    }\n",
              "\n",
              "    [theme=dark] .colab-df-convert {\n",
              "      background-color: #3B4455;\n",
              "      fill: #D2E3FC;\n",
              "    }\n",
              "\n",
              "    [theme=dark] .colab-df-convert:hover {\n",
              "      background-color: #434B5C;\n",
              "      box-shadow: 0px 1px 3px 1px rgba(0, 0, 0, 0.15);\n",
              "      filter: drop-shadow(0px 1px 2px rgba(0, 0, 0, 0.3));\n",
              "      fill: #FFFFFF;\n",
              "    }\n",
              "  </style>\n",
              "\n",
              "      <script>\n",
              "        const buttonEl =\n",
              "          document.querySelector('#df-6a74570e-41e3-4138-8be3-3b772f9e7df7 button.colab-df-convert');\n",
              "        buttonEl.style.display =\n",
              "          google.colab.kernel.accessAllowed ? 'block' : 'none';\n",
              "\n",
              "        async function convertToInteractive(key) {\n",
              "          const element = document.querySelector('#df-6a74570e-41e3-4138-8be3-3b772f9e7df7');\n",
              "          const dataTable =\n",
              "            await google.colab.kernel.invokeFunction('convertToInteractive',\n",
              "                                                     [key], {});\n",
              "          if (!dataTable) return;\n",
              "\n",
              "          const docLinkHtml = 'Like what you see? Visit the ' +\n",
              "            '<a target=\"_blank\" href=https://colab.research.google.com/notebooks/data_table.ipynb>data table notebook</a>'\n",
              "            + ' to learn more about interactive tables.';\n",
              "          element.innerHTML = '';\n",
              "          dataTable['output_type'] = 'display_data';\n",
              "          await google.colab.output.renderOutput(dataTable, element);\n",
              "          const docLink = document.createElement('div');\n",
              "          docLink.innerHTML = docLinkHtml;\n",
              "          element.appendChild(docLink);\n",
              "        }\n",
              "      </script>\n",
              "    </div>\n",
              "  </div>\n",
              "  "
            ]
          },
          "metadata": {},
          "execution_count": 53
        }
      ]
    },
    {
      "cell_type": "code",
      "source": [
        "plt.scatter(new_df['pc1'], new_df['pc2'])"
      ],
      "metadata": {
        "colab": {
          "base_uri": "https://localhost:8080/",
          "height": 282
        },
        "id": "MOBfKAhiZsCt",
        "outputId": "6aa75d82-014e-4900-b8f0-28a9025bd6a1"
      },
      "execution_count": null,
      "outputs": [
        {
          "output_type": "execute_result",
          "data": {
            "text/plain": [
              "<matplotlib.collections.PathCollection at 0x7ff6f0c67c90>"
            ]
          },
          "metadata": {},
          "execution_count": 55
        },
        {
          "output_type": "display_data",
          "data": {
            "text/plain": [
              "<Figure size 432x288 with 1 Axes>"
            ],
            "image/png": "[encoded data removed]"
          },
          "metadata": {
            "needs_background": "light"
          }
        }
      ]
    },
    {
      "cell_type": "markdown",
      "source": [
        "# K Means - Sklearn Data"
      ],
      "metadata": {
        "id": "4FGBde9Tb2qo"
      }
    },
    {
      "cell_type": "code",
      "source": [
        "from sklearn.cluster import KMeans"
      ],
      "metadata": {
        "id": "SZ_v5m3EbxY5"
      },
      "execution_count": 2,
      "outputs": []
    },
    {
      "cell_type": "code",
      "source": [
        "kmeans = KMeans(n_clusters=2, random_state=0).fit(new_df.values)"
      ],
      "metadata": {
        "id": "eAovA8bvb_Ud"
      },
      "execution_count": null,
      "outputs": []
    },
    {
      "cell_type": "code",
      "source": [
        "lb = kmeans.labels_"
      ],
      "metadata": {
        "id": "3yfG8F17cD7h"
      },
      "execution_count": null,
      "outputs": []
    },
    {
      "cell_type": "code",
      "source": [
        "lb"
      ],
      "metadata": {
        "colab": {
          "base_uri": "https://localhost:8080/"
        },
        "id": "OQQkMgsmiLB9",
        "outputId": "1d72c8dd-e31c-4396-8610-a1d6816f34e3"
      },
      "execution_count": null,
      "outputs": [
        {
          "output_type": "execute_result",
          "data": {
            "text/plain": [
              "array([0, 0, 0, 0, 0, 0, 0, 0, 0, 0, 0, 0, 0, 0, 0, 0, 0, 0, 0, 0, 0, 0,\n",
              "       0, 0, 0, 0, 0, 0, 0, 0, 0, 0, 0, 0, 0, 0, 0, 0, 0, 0, 0, 0, 0, 0,\n",
              "       0, 0, 0, 0, 0, 0, 1, 1, 1, 1, 1, 1, 1, 0, 1, 1, 1, 1, 1, 1, 1, 1,\n",
              "       1, 1, 1, 1, 1, 1, 1, 1, 1, 1, 1, 1, 1, 1, 1, 1, 1, 1, 1, 1, 1, 1,\n",
              "       1, 1, 1, 1, 1, 0, 1, 1, 1, 1, 0, 1, 1, 1, 1, 1, 1, 1, 1, 1, 1, 1,\n",
              "       1, 1, 1, 1, 1, 1, 1, 1, 1, 1, 1, 1, 1, 1, 1, 1, 1, 1, 1, 1, 1, 1,\n",
              "       1, 1, 1, 1, 1, 1, 1, 1, 1, 1, 1, 1, 1, 1, 1, 1, 1, 1], dtype=int32)"
            ]
          },
          "metadata": {},
          "execution_count": 91
        }
      ]
    },
    {
      "cell_type": "code",
      "source": [
        "centers = kmeans.cluster_centers_"
      ],
      "metadata": {
        "id": "vSV600-scJFd"
      },
      "execution_count": null,
      "outputs": []
    },
    {
      "cell_type": "code",
      "source": [
        "centers"
      ],
      "metadata": {
        "colab": {
          "base_uri": "https://localhost:8080/"
        },
        "id": "BqYi-3bjd_ED",
        "outputId": "d9515f34-a0e1-4e47-a85b-4bd3e193025b"
      },
      "execution_count": null,
      "outputs": [
        {
          "output_type": "execute_result",
          "data": {
            "text/plain": [
              "array([[-3.34249347, -0.0745584 ],\n",
              "       [ 1.82631087,  0.04073809]])"
            ]
          },
          "metadata": {},
          "execution_count": 77
        }
      ]
    },
    {
      "cell_type": "code",
      "source": [
        "out = kmeans.fit_transform(new_df.values)"
      ],
      "metadata": {
        "id": "f-32djlTcSlt"
      },
      "execution_count": null,
      "outputs": []
    },
    {
      "cell_type": "code",
      "source": [
        "final_df = pd.DataFrame(out)"
      ],
      "metadata": {
        "id": "tK7XFi1Icj16"
      },
      "execution_count": null,
      "outputs": []
    },
    {
      "cell_type": "code",
      "source": [
        "final_df"
      ],
      "metadata": {
        "colab": {
          "base_uri": "https://localhost:8080/",
          "height": 424
        },
        "id": "L-N7j6QBc1gk",
        "outputId": "faf86a44-5715-4652-f87a-63e8d58a1ef2"
      },
      "execution_count": null,
      "outputs": [
        {
          "output_type": "execute_result",
          "data": {
            "text/plain": [
              "            0         1\n",
              "0    0.263482  5.385991\n",
              "1    0.266633  5.434161\n",
              "2    0.488705  5.619032\n",
              "3    0.410827  5.389895\n",
              "4    0.245798  5.409220\n",
              "..        ...       ...\n",
              "145  5.757505  0.616012\n",
              "146  5.280763  0.122366\n",
              "147  5.621118  0.455009\n",
              "148  5.900733  0.797399\n",
              "149  5.302190  0.459697\n",
              "\n",
              "[150 rows x 2 columns]"
            ],
            "text/html": [
              "\n",
              "  <div id=\"df-cf68d8f1-aeca-473e-ad26-123012808a22\">\n",
              "    <div class=\"colab-df-container\">\n",
              "      <div>\n",
              "<style scoped>\n",
              "    .dataframe tbody tr th:only-of-type {\n",
              "        vertical-align: middle;\n",
              "    }\n",
              "\n",
              "    .dataframe tbody tr th {\n",
              "        vertical-align: top;\n",
              "    }\n",
              "\n",
              "    .dataframe thead th {\n",
              "        text-align: right;\n",
              "    }\n",
              "</style>\n",
              "<table border=\"1\" class=\"dataframe\">\n",
              "  <thead>\n",
              "    <tr style=\"text-align: right;\">\n",
              "      <th></th>\n",
              "      <th>0</th>\n",
              "      <th>1</th>\n",
              "    </tr>\n",
              "  </thead>\n",
              "  <tbody>\n",
              "    <tr>\n",
              "      <th>0</th>\n",
              "      <td>0.263482</td>\n",
              "      <td>5.385991</td>\n",
              "    </tr>\n",
              "    <tr>\n",
              "      <th>1</th>\n",
              "      <td>0.266633</td>\n",
              "      <td>5.434161</td>\n",
              "    </tr>\n",
              "    <tr>\n",
              "      <th>2</th>\n",
              "      <td>0.488705</td>\n",
              "      <td>5.619032</td>\n",
              "    </tr>\n",
              "    <tr>\n",
              "      <th>3</th>\n",
              "      <td>0.410827</td>\n",
              "      <td>5.389895</td>\n",
              "    </tr>\n",
              "    <tr>\n",
              "      <th>4</th>\n",
              "      <td>0.245798</td>\n",
              "      <td>5.409220</td>\n",
              "    </tr>\n",
              "    <tr>\n",
              "      <th>...</th>\n",
              "      <td>...</td>\n",
              "      <td>...</td>\n",
              "    </tr>\n",
              "    <tr>\n",
              "      <th>145</th>\n",
              "      <td>5.757505</td>\n",
              "      <td>0.616012</td>\n",
              "    </tr>\n",
              "    <tr>\n",
              "      <th>146</th>\n",
              "      <td>5.280763</td>\n",
              "      <td>0.122366</td>\n",
              "    </tr>\n",
              "    <tr>\n",
              "      <th>147</th>\n",
              "      <td>5.621118</td>\n",
              "      <td>0.455009</td>\n",
              "    </tr>\n",
              "    <tr>\n",
              "      <th>148</th>\n",
              "      <td>5.900733</td>\n",
              "      <td>0.797399</td>\n",
              "    </tr>\n",
              "    <tr>\n",
              "      <th>149</th>\n",
              "      <td>5.302190</td>\n",
              "      <td>0.459697</td>\n",
              "    </tr>\n",
              "  </tbody>\n",
              "</table>\n",
              "<p>150 rows × 2 columns</p>\n",
              "</div>\n",
              "      <button class=\"colab-df-convert\" onclick=\"convertToInteractive('df-cf68d8f1-aeca-473e-ad26-123012808a22')\"\n",
              "              title=\"Convert this dataframe to an interactive table.\"\n",
              "              style=\"display:none;\">\n",
              "        \n",
              "  <svg xmlns=\"http://www.w3.org/2000/svg\" height=\"24px\"viewBox=\"0 0 24 24\"\n",
              "       width=\"24px\">\n",
              "    <path d=\"M0 0h24v24H0V0z\" fill=\"none\"/>\n",
              "    <path d=\"M18.56 5.44l.94 2.06.94-2.06 2.06-.94-2.06-.94-.94-2.06-.94 2.06-2.06.94zm-11 1L8.5 8.5l.94-2.06 2.06-.94-2.06-.94L8.5 2.5l-.94 2.06-2.06.94zm10 10l.94 2.06.94-2.06 2.06-.94-2.06-.94-.94-2.06-.94 2.06-2.06.94z\"/><path d=\"M17.41 7.96l-1.37-1.37c-.4-.4-.92-.59-1.43-.59-.52 0-1.04.2-1.43.59L10.3 9.45l-7.72 7.72c-.78.78-.78 2.05 0 2.83L4 21.41c.39.39.9.59 1.41.59.51 0 1.02-.2 1.41-.59l7.78-7.78 2.81-2.81c.8-.78.8-2.07 0-2.86zM5.41 20L4 18.59l7.72-7.72 1.47 1.35L5.41 20z\"/>\n",
              "  </svg>\n",
              "      </button>\n",
              "      \n",
              "  <style>\n",
              "    .colab-df-container {\n",
              "      display:flex;\n",
              "      flex-wrap:wrap;\n",
              "      gap: 12px;\n",
              "    }\n",
              "\n",
              "    .colab-df-convert {\n",
              "      background-color: #E8F0FE;\n",
              "      border: none;\n",
              "      border-radius: 50%;\n",
              "      cursor: pointer;\n",
              "      display: none;\n",
              "      fill: #1967D2;\n",
              "      height: 32px;\n",
              "      padding: 0 0 0 0;\n",
              "      width: 32px;\n",
              "    }\n",
              "\n",
              "    .colab-df-convert:hover {\n",
              "      background-color: #E2EBFA;\n",
              "      box-shadow: 0px 1px 2px rgba(60, 64, 67, 0.3), 0px 1px 3px 1px rgba(60, 64, 67, 0.15);\n",
              "      fill: #174EA6;\n",
              "    }\n",
              "\n",
              "    [theme=dark] .colab-df-convert {\n",
              "      background-color: #3B4455;\n",
              "      fill: #D2E3FC;\n",
              "    }\n",
              "\n",
              "    [theme=dark] .colab-df-convert:hover {\n",
              "      background-color: #434B5C;\n",
              "      box-shadow: 0px 1px 3px 1px rgba(0, 0, 0, 0.15);\n",
              "      filter: drop-shadow(0px 1px 2px rgba(0, 0, 0, 0.3));\n",
              "      fill: #FFFFFF;\n",
              "    }\n",
              "  </style>\n",
              "\n",
              "      <script>\n",
              "        const buttonEl =\n",
              "          document.querySelector('#df-cf68d8f1-aeca-473e-ad26-123012808a22 button.colab-df-convert');\n",
              "        buttonEl.style.display =\n",
              "          google.colab.kernel.accessAllowed ? 'block' : 'none';\n",
              "\n",
              "        async function convertToInteractive(key) {\n",
              "          const element = document.querySelector('#df-cf68d8f1-aeca-473e-ad26-123012808a22');\n",
              "          const dataTable =\n",
              "            await google.colab.kernel.invokeFunction('convertToInteractive',\n",
              "                                                     [key], {});\n",
              "          if (!dataTable) return;\n",
              "\n",
              "          const docLinkHtml = 'Like what you see? Visit the ' +\n",
              "            '<a target=\"_blank\" href=https://colab.research.google.com/notebooks/data_table.ipynb>data table notebook</a>'\n",
              "            + ' to learn more about interactive tables.';\n",
              "          element.innerHTML = '';\n",
              "          dataTable['output_type'] = 'display_data';\n",
              "          await google.colab.output.renderOutput(dataTable, element);\n",
              "          const docLink = document.createElement('div');\n",
              "          docLink.innerHTML = docLinkHtml;\n",
              "          element.appendChild(docLink);\n",
              "        }\n",
              "      </script>\n",
              "    </div>\n",
              "  </div>\n",
              "  "
            ]
          },
          "metadata": {},
          "execution_count": 67
        }
      ]
    },
    {
      "cell_type": "code",
      "source": [
        "plt.scatter(final_df[0], final_df[1])"
      ],
      "metadata": {
        "colab": {
          "base_uri": "https://localhost:8080/",
          "height": 282
        },
        "id": "gWsGSgo8cku2",
        "outputId": "218215a4-117d-4c30-d42c-ae3bd703e516"
      },
      "execution_count": null,
      "outputs": [
        {
          "output_type": "execute_result",
          "data": {
            "text/plain": [
              "<matplotlib.collections.PathCollection at 0x7ff6ebd20a90>"
            ]
          },
          "metadata": {},
          "execution_count": 90
        },
        {
          "output_type": "display_data",
          "data": {
            "text/plain": [
              "<Figure size 432x288 with 1 Axes>"
            ],
            "image/png": "[encoded data removed]"
          },
          "metadata": {
            "needs_background": "light"
          }
        }
      ]
    },
    {
      "cell_type": "code",
      "source": [
        "pds = kmeans.predict(new_df.values)"
      ],
      "metadata": {
        "id": "_5t5JaE6cyiq"
      },
      "execution_count": null,
      "outputs": []
    },
    {
      "cell_type": "code",
      "source": [
        "pds.shape"
      ],
      "metadata": {
        "colab": {
          "base_uri": "https://localhost:8080/"
        },
        "id": "Yjty3dzidXfs",
        "outputId": "68365f4a-4fcc-495f-c058-b234de56f281"
      },
      "execution_count": null,
      "outputs": [
        {
          "output_type": "execute_result",
          "data": {
            "text/plain": [
              "(150,)"
            ]
          },
          "metadata": {},
          "execution_count": 75
        }
      ]
    },
    {
      "cell_type": "code",
      "source": [
        "plt.scatter(centers[0], centers[1], color='green')\n",
        "plt.scatter(new_df['pc1'], new_df['pc2'], c=lb, cmap='rainbow')"
      ],
      "metadata": {
        "colab": {
          "base_uri": "https://localhost:8080/",
          "height": 282
        },
        "id": "Qst3l-Bpda6n",
        "outputId": "20e4d660-d62f-4411-e2dd-209d27a887a9"
      },
      "execution_count": null,
      "outputs": [
        {
          "output_type": "execute_result",
          "data": {
            "text/plain": [
              "<matplotlib.collections.PathCollection at 0x7ff6ebdb4d50>"
            ]
          },
          "metadata": {},
          "execution_count": 88
        },
        {
          "output_type": "display_data",
          "data": {
            "text/plain": [
              "<Figure size 432x288 with 1 Axes>"
            ],
            "image/png": "[encoded data removed]"
          },
          "metadata": {
            "needs_background": "light"
          }
        }
      ]
    },
    {
      "cell_type": "markdown",
      "source": [
        "# Kaggle Data"
      ],
      "metadata": {
        "id": "Fn27jaMPkOL4"
      }
    },
    {
      "cell_type": "code",
      "source": [
        "!wget https://raw.githubusercontent.com/hxri/Deep-Learning-Lab/main/Datasets/bank.csv"
      ],
      "metadata": {
        "colab": {
          "base_uri": "https://localhost:8080/"
        },
        "id": "qpzsEpJDeCsi",
        "outputId": "db87057d-b406-4f07-819b-207af2f28909"
      },
      "execution_count": 3,
      "outputs": [
        {
          "output_type": "stream",
          "name": "stdout",
          "text": [
            "--2022-05-12 09:11:34--  https://raw.githubusercontent.com/hxri/Deep-Learning-Lab/main/Datasets/bank.csv\n",
            "Resolving raw.githubusercontent.com (raw.githubusercontent.com)... 185.199.108.133, 185.199.109.133, 185.199.110.133, ...\n",
            "Connecting to raw.githubusercontent.com (raw.githubusercontent.com)|185.199.108.133|:443... connected.\n",
            "HTTP request sent, awaiting response... 200 OK\n",
            "Length: 918960 (897K) [text/plain]\n",
            "Saving to: ‘bank.csv’\n",
            "\n",
            "bank.csv            100%[===================>] 897.42K  --.-KB/s    in 0.03s   \n",
            "\n",
            "2022-05-12 09:11:35 (30.6 MB/s) - ‘bank.csv’ saved [918960/918960]\n",
            "\n"
          ]
        }
      ]
    },
    {
      "cell_type": "code",
      "source": [
        "df = pd.read_csv('/content/bank.csv')\n",
        "df"
      ],
      "metadata": {
        "colab": {
          "base_uri": "https://localhost:8080/",
          "height": 424
        },
        "id": "_a7N-TL3kQgP",
        "outputId": "8bb3e61c-a97e-4ad7-d737-23cc445732d1"
      },
      "execution_count": 4,
      "outputs": [
        {
          "output_type": "execute_result",
          "data": {
            "text/plain": [
              "       age          job  marital  education default  balance housing loan  \\\n",
              "0       59       admin.  married  secondary      no     2343     yes   no   \n",
              "1       56       admin.  married  secondary      no       45      no   no   \n",
              "2       41   technician  married  secondary      no     1270     yes   no   \n",
              "3       55     services  married  secondary      no     2476     yes   no   \n",
              "4       54       admin.  married   tertiary      no      184      no   no   \n",
              "...    ...          ...      ...        ...     ...      ...     ...  ...   \n",
              "11157   33  blue-collar   single    primary      no        1     yes   no   \n",
              "11158   39     services  married  secondary      no      733      no   no   \n",
              "11159   32   technician   single  secondary      no       29      no   no   \n",
              "11160   43   technician  married  secondary      no        0      no  yes   \n",
              "11161   34   technician  married  secondary      no        0      no   no   \n",
              "\n",
              "        contact  day month  duration  campaign  pdays  previous poutcome  \\\n",
              "0       unknown    5   may      1042         1     -1         0  unknown   \n",
              "1       unknown    5   may      1467         1     -1         0  unknown   \n",
              "2       unknown    5   may      1389         1     -1         0  unknown   \n",
              "3       unknown    5   may       579         1     -1         0  unknown   \n",
              "4       unknown    5   may       673         2     -1         0  unknown   \n",
              "...         ...  ...   ...       ...       ...    ...       ...      ...   \n",
              "11157  cellular   20   apr       257         1     -1         0  unknown   \n",
              "11158   unknown   16   jun        83         4     -1         0  unknown   \n",
              "11159  cellular   19   aug       156         2     -1         0  unknown   \n",
              "11160  cellular    8   may         9         2    172         5  failure   \n",
              "11161  cellular    9   jul       628         1     -1         0  unknown   \n",
              "\n",
              "      deposit  \n",
              "0         yes  \n",
              "1         yes  \n",
              "2         yes  \n",
              "3         yes  \n",
              "4         yes  \n",
              "...       ...  \n",
              "11157      no  \n",
              "11158      no  \n",
              "11159      no  \n",
              "11160      no  \n",
              "11161      no  \n",
              "\n",
              "[11162 rows x 17 columns]"
            ],
            "text/html": [
              "\n",
              "  <div id=\"df-af7997ed-e764-4b47-826f-ebe6e756a8a1\">\n",
              "    <div class=\"colab-df-container\">\n",
              "      <div>\n",
              "<style scoped>\n",
              "    .dataframe tbody tr th:only-of-type {\n",
              "        vertical-align: middle;\n",
              "    }\n",
              "\n",
              "    .dataframe tbody tr th {\n",
              "        vertical-align: top;\n",
              "    }\n",
              "\n",
              "    .dataframe thead th {\n",
              "        text-align: right;\n",
              "    }\n",
              "</style>\n",
              "<table border=\"1\" class=\"dataframe\">\n",
              "  <thead>\n",
              "    <tr style=\"text-align: right;\">\n",
              "      <th></th>\n",
              "      <th>age</th>\n",
              "      <th>job</th>\n",
              "      <th>marital</th>\n",
              "      <th>education</th>\n",
              "      <th>default</th>\n",
              "      <th>balance</th>\n",
              "      <th>housing</th>\n",
              "      <th>loan</th>\n",
              "      <th>contact</th>\n",
              "      <th>day</th>\n",
              "      <th>month</th>\n",
              "      <th>duration</th>\n",
              "      <th>campaign</th>\n",
              "      <th>pdays</th>\n",
              "      <th>previous</th>\n",
              "      <th>poutcome</th>\n",
              "      <th>deposit</th>\n",
              "    </tr>\n",
              "  </thead>\n",
              "  <tbody>\n",
              "    <tr>\n",
              "      <th>0</th>\n",
              "      <td>59</td>\n",
              "      <td>admin.</td>\n",
              "      <td>married</td>\n",
              "      <td>secondary</td>\n",
              "      <td>no</td>\n",
              "      <td>2343</td>\n",
              "      <td>yes</td>\n",
              "      <td>no</td>\n",
              "      <td>unknown</td>\n",
              "      <td>5</td>\n",
              "      <td>may</td>\n",
              "      <td>1042</td>\n",
              "      <td>1</td>\n",
              "      <td>-1</td>\n",
              "      <td>0</td>\n",
              "      <td>unknown</td>\n",
              "      <td>yes</td>\n",
              "    </tr>\n",
              "    <tr>\n",
              "      <th>1</th>\n",
              "      <td>56</td>\n",
              "      <td>admin.</td>\n",
              "      <td>married</td>\n",
              "      <td>secondary</td>\n",
              "      <td>no</td>\n",
              "      <td>45</td>\n",
              "      <td>no</td>\n",
              "      <td>no</td>\n",
              "      <td>unknown</td>\n",
              "      <td>5</td>\n",
              "      <td>may</td>\n",
              "      <td>1467</td>\n",
              "      <td>1</td>\n",
              "      <td>-1</td>\n",
              "      <td>0</td>\n",
              "      <td>unknown</td>\n",
              "      <td>yes</td>\n",
              "    </tr>\n",
              "    <tr>\n",
              "      <th>2</th>\n",
              "      <td>41</td>\n",
              "      <td>technician</td>\n",
              "      <td>married</td>\n",
              "      <td>secondary</td>\n",
              "      <td>no</td>\n",
              "      <td>1270</td>\n",
              "      <td>yes</td>\n",
              "      <td>no</td>\n",
              "      <td>unknown</td>\n",
              "      <td>5</td>\n",
              "      <td>may</td>\n",
              "      <td>1389</td>\n",
              "      <td>1</td>\n",
              "      <td>-1</td>\n",
              "      <td>0</td>\n",
              "      <td>unknown</td>\n",
              "      <td>yes</td>\n",
              "    </tr>\n",
              "    <tr>\n",
              "      <th>3</th>\n",
              "      <td>55</td>\n",
              "      <td>services</td>\n",
              "      <td>married</td>\n",
              "      <td>secondary</td>\n",
              "      <td>no</td>\n",
              "      <td>2476</td>\n",
              "      <td>yes</td>\n",
              "      <td>no</td>\n",
              "      <td>unknown</td>\n",
              "      <td>5</td>\n",
              "      <td>may</td>\n",
              "      <td>579</td>\n",
              "      <td>1</td>\n",
              "      <td>-1</td>\n",
              "      <td>0</td>\n",
              "      <td>unknown</td>\n",
              "      <td>yes</td>\n",
              "    </tr>\n",
              "    <tr>\n",
              "      <th>4</th>\n",
              "      <td>54</td>\n",
              "      <td>admin.</td>\n",
              "      <td>married</td>\n",
              "      <td>tertiary</td>\n",
              "      <td>no</td>\n",
              "      <td>184</td>\n",
              "      <td>no</td>\n",
              "      <td>no</td>\n",
              "      <td>unknown</td>\n",
              "      <td>5</td>\n",
              "      <td>may</td>\n",
              "      <td>673</td>\n",
              "      <td>2</td>\n",
              "      <td>-1</td>\n",
              "      <td>0</td>\n",
              "      <td>unknown</td>\n",
              "      <td>yes</td>\n",
              "    </tr>\n",
              "    <tr>\n",
              "      <th>...</th>\n",
              "      <td>...</td>\n",
              "      <td>...</td>\n",
              "      <td>...</td>\n",
              "      <td>...</td>\n",
              "      <td>...</td>\n",
              "      <td>...</td>\n",
              "      <td>...</td>\n",
              "      <td>...</td>\n",
              "      <td>...</td>\n",
              "      <td>...</td>\n",
              "      <td>...</td>\n",
              "      <td>...</td>\n",
              "      <td>...</td>\n",
              "      <td>...</td>\n",
              "      <td>...</td>\n",
              "      <td>...</td>\n",
              "      <td>...</td>\n",
              "    </tr>\n",
              "    <tr>\n",
              "      <th>11157</th>\n",
              "      <td>33</td>\n",
              "      <td>blue-collar</td>\n",
              "      <td>single</td>\n",
              "      <td>primary</td>\n",
              "      <td>no</td>\n",
              "      <td>1</td>\n",
              "      <td>yes</td>\n",
              "      <td>no</td>\n",
              "      <td>cellular</td>\n",
              "      <td>20</td>\n",
              "      <td>apr</td>\n",
              "      <td>257</td>\n",
              "      <td>1</td>\n",
              "      <td>-1</td>\n",
              "      <td>0</td>\n",
              "      <td>unknown</td>\n",
              "      <td>no</td>\n",
              "    </tr>\n",
              "    <tr>\n",
              "      <th>11158</th>\n",
              "      <td>39</td>\n",
              "      <td>services</td>\n",
              "      <td>married</td>\n",
              "      <td>secondary</td>\n",
              "      <td>no</td>\n",
              "      <td>733</td>\n",
              "      <td>no</td>\n",
              "      <td>no</td>\n",
              "      <td>unknown</td>\n",
              "      <td>16</td>\n",
              "      <td>jun</td>\n",
              "      <td>83</td>\n",
              "      <td>4</td>\n",
              "      <td>-1</td>\n",
              "      <td>0</td>\n",
              "      <td>unknown</td>\n",
              "      <td>no</td>\n",
              "    </tr>\n",
              "    <tr>\n",
              "      <th>11159</th>\n",
              "      <td>32</td>\n",
              "      <td>technician</td>\n",
              "      <td>single</td>\n",
              "      <td>secondary</td>\n",
              "      <td>no</td>\n",
              "      <td>29</td>\n",
              "      <td>no</td>\n",
              "      <td>no</td>\n",
              "      <td>cellular</td>\n",
              "      <td>19</td>\n",
              "      <td>aug</td>\n",
              "      <td>156</td>\n",
              "      <td>2</td>\n",
              "      <td>-1</td>\n",
              "      <td>0</td>\n",
              "      <td>unknown</td>\n",
              "      <td>no</td>\n",
              "    </tr>\n",
              "    <tr>\n",
              "      <th>11160</th>\n",
              "      <td>43</td>\n",
              "      <td>technician</td>\n",
              "      <td>married</td>\n",
              "      <td>secondary</td>\n",
              "      <td>no</td>\n",
              "      <td>0</td>\n",
              "      <td>no</td>\n",
              "      <td>yes</td>\n",
              "      <td>cellular</td>\n",
              "      <td>8</td>\n",
              "      <td>may</td>\n",
              "      <td>9</td>\n",
              "      <td>2</td>\n",
              "      <td>172</td>\n",
              "      <td>5</td>\n",
              "      <td>failure</td>\n",
              "      <td>no</td>\n",
              "    </tr>\n",
              "    <tr>\n",
              "      <th>11161</th>\n",
              "      <td>34</td>\n",
              "      <td>technician</td>\n",
              "      <td>married</td>\n",
              "      <td>secondary</td>\n",
              "      <td>no</td>\n",
              "      <td>0</td>\n",
              "      <td>no</td>\n",
              "      <td>no</td>\n",
              "      <td>cellular</td>\n",
              "      <td>9</td>\n",
              "      <td>jul</td>\n",
              "      <td>628</td>\n",
              "      <td>1</td>\n",
              "      <td>-1</td>\n",
              "      <td>0</td>\n",
              "      <td>unknown</td>\n",
              "      <td>no</td>\n",
              "    </tr>\n",
              "  </tbody>\n",
              "</table>\n",
              "<p>11162 rows × 17 columns</p>\n",
              "</div>\n",
              "      <button class=\"colab-df-convert\" onclick=\"convertToInteractive('df-af7997ed-e764-4b47-826f-ebe6e756a8a1')\"\n",
              "              title=\"Convert this dataframe to an interactive table.\"\n",
              "              style=\"display:none;\">\n",
              "        \n",
              "  <svg xmlns=\"http://www.w3.org/2000/svg\" height=\"24px\"viewBox=\"0 0 24 24\"\n",
              "       width=\"24px\">\n",
              "    <path d=\"M0 0h24v24H0V0z\" fill=\"none\"/>\n",
              "    <path d=\"M18.56 5.44l.94 2.06.94-2.06 2.06-.94-2.06-.94-.94-2.06-.94 2.06-2.06.94zm-11 1L8.5 8.5l.94-2.06 2.06-.94-2.06-.94L8.5 2.5l-.94 2.06-2.06.94zm10 10l.94 2.06.94-2.06 2.06-.94-2.06-.94-.94-2.06-.94 2.06-2.06.94z\"/><path d=\"M17.41 7.96l-1.37-1.37c-.4-.4-.92-.59-1.43-.59-.52 0-1.04.2-1.43.59L10.3 9.45l-7.72 7.72c-.78.78-.78 2.05 0 2.83L4 21.41c.39.39.9.59 1.41.59.51 0 1.02-.2 1.41-.59l7.78-7.78 2.81-2.81c.8-.78.8-2.07 0-2.86zM5.41 20L4 18.59l7.72-7.72 1.47 1.35L5.41 20z\"/>\n",
              "  </svg>\n",
              "      </button>\n",
              "      \n",
              "  <style>\n",
              "    .colab-df-container {\n",
              "      display:flex;\n",
              "      flex-wrap:wrap;\n",
              "      gap: 12px;\n",
              "    }\n",
              "\n",
              "    .colab-df-convert {\n",
              "      background-color: #E8F0FE;\n",
              "      border: none;\n",
              "      border-radius: 50%;\n",
              "      cursor: pointer;\n",
              "      display: none;\n",
              "      fill: #1967D2;\n",
              "      height: 32px;\n",
              "      padding: 0 0 0 0;\n",
              "      width: 32px;\n",
              "    }\n",
              "\n",
              "    .colab-df-convert:hover {\n",
              "      background-color: #E2EBFA;\n",
              "      box-shadow: 0px 1px 2px rgba(60, 64, 67, 0.3), 0px 1px 3px 1px rgba(60, 64, 67, 0.15);\n",
              "      fill: #174EA6;\n",
              "    }\n",
              "\n",
              "    [theme=dark] .colab-df-convert {\n",
              "      background-color: #3B4455;\n",
              "      fill: #D2E3FC;\n",
              "    }\n",
              "\n",
              "    [theme=dark] .colab-df-convert:hover {\n",
              "      background-color: #434B5C;\n",
              "      box-shadow: 0px 1px 3px 1px rgba(0, 0, 0, 0.15);\n",
              "      filter: drop-shadow(0px 1px 2px rgba(0, 0, 0, 0.3));\n",
              "      fill: #FFFFFF;\n",
              "    }\n",
              "  </style>\n",
              "\n",
              "      <script>\n",
              "        const buttonEl =\n",
              "          document.querySelector('#df-af7997ed-e764-4b47-826f-ebe6e756a8a1 button.colab-df-convert');\n",
              "        buttonEl.style.display =\n",
              "          google.colab.kernel.accessAllowed ? 'block' : 'none';\n",
              "\n",
              "        async function convertToInteractive(key) {\n",
              "          const element = document.querySelector('#df-af7997ed-e764-4b47-826f-ebe6e756a8a1');\n",
              "          const dataTable =\n",
              "            await google.colab.kernel.invokeFunction('convertToInteractive',\n",
              "                                                     [key], {});\n",
              "          if (!dataTable) return;\n",
              "\n",
              "          const docLinkHtml = 'Like what you see? Visit the ' +\n",
              "            '<a target=\"_blank\" href=https://colab.research.google.com/notebooks/data_table.ipynb>data table notebook</a>'\n",
              "            + ' to learn more about interactive tables.';\n",
              "          element.innerHTML = '';\n",
              "          dataTable['output_type'] = 'display_data';\n",
              "          await google.colab.output.renderOutput(dataTable, element);\n",
              "          const docLink = document.createElement('div');\n",
              "          docLink.innerHTML = docLinkHtml;\n",
              "          element.appendChild(docLink);\n",
              "        }\n",
              "      </script>\n",
              "    </div>\n",
              "  </div>\n",
              "  "
            ]
          },
          "metadata": {},
          "execution_count": 4
        }
      ]
    },
    {
      "cell_type": "code",
      "source": [
        "from sklearn import preprocessing\n",
        "\n",
        "le = preprocessing.LabelEncoder()\n",
        "df = df.apply(le.fit_transform)"
      ],
      "metadata": {
        "id": "mHRogt0xkUBH"
      },
      "execution_count": 5,
      "outputs": []
    },
    {
      "cell_type": "code",
      "source": [
        "X=df.drop(['deposit', 'age', 'balance', 'day', 'day', 'month', 'duration', 'campaign', 'pdays', 'previous'],axis=1)\n",
        "y=df['deposit']"
      ],
      "metadata": {
        "id": "Pmj98XeLkXX2"
      },
      "execution_count": 6,
      "outputs": []
    },
    {
      "cell_type": "code",
      "source": [
        "X"
      ],
      "metadata": {
        "colab": {
          "base_uri": "https://localhost:8080/",
          "height": 424
        },
        "id": "Xq3wU1P5kfAj",
        "outputId": "05bf2022-9d7a-4cc4-94e3-c91bc1d11e77"
      },
      "execution_count": 7,
      "outputs": [
        {
          "output_type": "execute_result",
          "data": {
            "text/plain": [
              "       job  marital  education  default  housing  loan  contact  poutcome\n",
              "0        0        1          1        0        1     0        2         3\n",
              "1        0        1          1        0        0     0        2         3\n",
              "2        9        1          1        0        1     0        2         3\n",
              "3        7        1          1        0        1     0        2         3\n",
              "4        0        1          2        0        0     0        2         3\n",
              "...    ...      ...        ...      ...      ...   ...      ...       ...\n",
              "11157    1        2          0        0        1     0        0         3\n",
              "11158    7        1          1        0        0     0        2         3\n",
              "11159    9        2          1        0        0     0        0         3\n",
              "11160    9        1          1        0        0     1        0         0\n",
              "11161    9        1          1        0        0     0        0         3\n",
              "\n",
              "[11162 rows x 8 columns]"
            ],
            "text/html": [
              "\n",
              "  <div id=\"df-360f5700-80aa-49e1-9abb-dddb3e4fc632\">\n",
              "    <div class=\"colab-df-container\">\n",
              "      <div>\n",
              "<style scoped>\n",
              "    .dataframe tbody tr th:only-of-type {\n",
              "        vertical-align: middle;\n",
              "    }\n",
              "\n",
              "    .dataframe tbody tr th {\n",
              "        vertical-align: top;\n",
              "    }\n",
              "\n",
              "    .dataframe thead th {\n",
              "        text-align: right;\n",
              "    }\n",
              "</style>\n",
              "<table border=\"1\" class=\"dataframe\">\n",
              "  <thead>\n",
              "    <tr style=\"text-align: right;\">\n",
              "      <th></th>\n",
              "      <th>job</th>\n",
              "      <th>marital</th>\n",
              "      <th>education</th>\n",
              "      <th>default</th>\n",
              "      <th>housing</th>\n",
              "      <th>loan</th>\n",
              "      <th>contact</th>\n",
              "      <th>poutcome</th>\n",
              "    </tr>\n",
              "  </thead>\n",
              "  <tbody>\n",
              "    <tr>\n",
              "      <th>0</th>\n",
              "      <td>0</td>\n",
              "      <td>1</td>\n",
              "      <td>1</td>\n",
              "      <td>0</td>\n",
              "      <td>1</td>\n",
              "      <td>0</td>\n",
              "      <td>2</td>\n",
              "      <td>3</td>\n",
              "    </tr>\n",
              "    <tr>\n",
              "      <th>1</th>\n",
              "      <td>0</td>\n",
              "      <td>1</td>\n",
              "      <td>1</td>\n",
              "      <td>0</td>\n",
              "      <td>0</td>\n",
              "      <td>0</td>\n",
              "      <td>2</td>\n",
              "      <td>3</td>\n",
              "    </tr>\n",
              "    <tr>\n",
              "      <th>2</th>\n",
              "      <td>9</td>\n",
              "      <td>1</td>\n",
              "      <td>1</td>\n",
              "      <td>0</td>\n",
              "      <td>1</td>\n",
              "      <td>0</td>\n",
              "      <td>2</td>\n",
              "      <td>3</td>\n",
              "    </tr>\n",
              "    <tr>\n",
              "      <th>3</th>\n",
              "      <td>7</td>\n",
              "      <td>1</td>\n",
              "      <td>1</td>\n",
              "      <td>0</td>\n",
              "      <td>1</td>\n",
              "      <td>0</td>\n",
              "      <td>2</td>\n",
              "      <td>3</td>\n",
              "    </tr>\n",
              "    <tr>\n",
              "      <th>4</th>\n",
              "      <td>0</td>\n",
              "      <td>1</td>\n",
              "      <td>2</td>\n",
              "      <td>0</td>\n",
              "      <td>0</td>\n",
              "      <td>0</td>\n",
              "      <td>2</td>\n",
              "      <td>3</td>\n",
              "    </tr>\n",
              "    <tr>\n",
              "      <th>...</th>\n",
              "      <td>...</td>\n",
              "      <td>...</td>\n",
              "      <td>...</td>\n",
              "      <td>...</td>\n",
              "      <td>...</td>\n",
              "      <td>...</td>\n",
              "      <td>...</td>\n",
              "      <td>...</td>\n",
              "    </tr>\n",
              "    <tr>\n",
              "      <th>11157</th>\n",
              "      <td>1</td>\n",
              "      <td>2</td>\n",
              "      <td>0</td>\n",
              "      <td>0</td>\n",
              "      <td>1</td>\n",
              "      <td>0</td>\n",
              "      <td>0</td>\n",
              "      <td>3</td>\n",
              "    </tr>\n",
              "    <tr>\n",
              "      <th>11158</th>\n",
              "      <td>7</td>\n",
              "      <td>1</td>\n",
              "      <td>1</td>\n",
              "      <td>0</td>\n",
              "      <td>0</td>\n",
              "      <td>0</td>\n",
              "      <td>2</td>\n",
              "      <td>3</td>\n",
              "    </tr>\n",
              "    <tr>\n",
              "      <th>11159</th>\n",
              "      <td>9</td>\n",
              "      <td>2</td>\n",
              "      <td>1</td>\n",
              "      <td>0</td>\n",
              "      <td>0</td>\n",
              "      <td>0</td>\n",
              "      <td>0</td>\n",
              "      <td>3</td>\n",
              "    </tr>\n",
              "    <tr>\n",
              "      <th>11160</th>\n",
              "      <td>9</td>\n",
              "      <td>1</td>\n",
              "      <td>1</td>\n",
              "      <td>0</td>\n",
              "      <td>0</td>\n",
              "      <td>1</td>\n",
              "      <td>0</td>\n",
              "      <td>0</td>\n",
              "    </tr>\n",
              "    <tr>\n",
              "      <th>11161</th>\n",
              "      <td>9</td>\n",
              "      <td>1</td>\n",
              "      <td>1</td>\n",
              "      <td>0</td>\n",
              "      <td>0</td>\n",
              "      <td>0</td>\n",
              "      <td>0</td>\n",
              "      <td>3</td>\n",
              "    </tr>\n",
              "  </tbody>\n",
              "</table>\n",
              "<p>11162 rows × 8 columns</p>\n",
              "</div>\n",
              "      <button class=\"colab-df-convert\" onclick=\"convertToInteractive('df-360f5700-80aa-49e1-9abb-dddb3e4fc632')\"\n",
              "              title=\"Convert this dataframe to an interactive table.\"\n",
              "              style=\"display:none;\">\n",
              "        \n",
              "  <svg xmlns=\"http://www.w3.org/2000/svg\" height=\"24px\"viewBox=\"0 0 24 24\"\n",
              "       width=\"24px\">\n",
              "    <path d=\"M0 0h24v24H0V0z\" fill=\"none\"/>\n",
              "    <path d=\"M18.56 5.44l.94 2.06.94-2.06 2.06-.94-2.06-.94-.94-2.06-.94 2.06-2.06.94zm-11 1L8.5 8.5l.94-2.06 2.06-.94-2.06-.94L8.5 2.5l-.94 2.06-2.06.94zm10 10l.94 2.06.94-2.06 2.06-.94-2.06-.94-.94-2.06-.94 2.06-2.06.94z\"/><path d=\"M17.41 7.96l-1.37-1.37c-.4-.4-.92-.59-1.43-.59-.52 0-1.04.2-1.43.59L10.3 9.45l-7.72 7.72c-.78.78-.78 2.05 0 2.83L4 21.41c.39.39.9.59 1.41.59.51 0 1.02-.2 1.41-.59l7.78-7.78 2.81-2.81c.8-.78.8-2.07 0-2.86zM5.41 20L4 18.59l7.72-7.72 1.47 1.35L5.41 20z\"/>\n",
              "  </svg>\n",
              "      </button>\n",
              "      \n",
              "  <style>\n",
              "    .colab-df-container {\n",
              "      display:flex;\n",
              "      flex-wrap:wrap;\n",
              "      gap: 12px;\n",
              "    }\n",
              "\n",
              "    .colab-df-convert {\n",
              "      background-color: #E8F0FE;\n",
              "      border: none;\n",
              "      border-radius: 50%;\n",
              "      cursor: pointer;\n",
              "      display: none;\n",
              "      fill: #1967D2;\n",
              "      height: 32px;\n",
              "      padding: 0 0 0 0;\n",
              "      width: 32px;\n",
              "    }\n",
              "\n",
              "    .colab-df-convert:hover {\n",
              "      background-color: #E2EBFA;\n",
              "      box-shadow: 0px 1px 2px rgba(60, 64, 67, 0.3), 0px 1px 3px 1px rgba(60, 64, 67, 0.15);\n",
              "      fill: #174EA6;\n",
              "    }\n",
              "\n",
              "    [theme=dark] .colab-df-convert {\n",
              "      background-color: #3B4455;\n",
              "      fill: #D2E3FC;\n",
              "    }\n",
              "\n",
              "    [theme=dark] .colab-df-convert:hover {\n",
              "      background-color: #434B5C;\n",
              "      box-shadow: 0px 1px 3px 1px rgba(0, 0, 0, 0.15);\n",
              "      filter: drop-shadow(0px 1px 2px rgba(0, 0, 0, 0.3));\n",
              "      fill: #FFFFFF;\n",
              "    }\n",
              "  </style>\n",
              "\n",
              "      <script>\n",
              "        const buttonEl =\n",
              "          document.querySelector('#df-360f5700-80aa-49e1-9abb-dddb3e4fc632 button.colab-df-convert');\n",
              "        buttonEl.style.display =\n",
              "          google.colab.kernel.accessAllowed ? 'block' : 'none';\n",
              "\n",
              "        async function convertToInteractive(key) {\n",
              "          const element = document.querySelector('#df-360f5700-80aa-49e1-9abb-dddb3e4fc632');\n",
              "          const dataTable =\n",
              "            await google.colab.kernel.invokeFunction('convertToInteractive',\n",
              "                                                     [key], {});\n",
              "          if (!dataTable) return;\n",
              "\n",
              "          const docLinkHtml = 'Like what you see? Visit the ' +\n",
              "            '<a target=\"_blank\" href=https://colab.research.google.com/notebooks/data_table.ipynb>data table notebook</a>'\n",
              "            + ' to learn more about interactive tables.';\n",
              "          element.innerHTML = '';\n",
              "          dataTable['output_type'] = 'display_data';\n",
              "          await google.colab.output.renderOutput(dataTable, element);\n",
              "          const docLink = document.createElement('div');\n",
              "          docLink.innerHTML = docLinkHtml;\n",
              "          element.appendChild(docLink);\n",
              "        }\n",
              "      </script>\n",
              "    </div>\n",
              "  </div>\n",
              "  "
            ]
          },
          "metadata": {},
          "execution_count": 7
        }
      ]
    },
    {
      "cell_type": "code",
      "source": [
        "X[:100].shape"
      ],
      "metadata": {
        "colab": {
          "base_uri": "https://localhost:8080/"
        },
        "id": "8RV5BYUuh8tj",
        "outputId": "8ea22eef-07c2-4c9b-b460-fc3d8abeb1ca"
      },
      "execution_count": 16,
      "outputs": [
        {
          "output_type": "execute_result",
          "data": {
            "text/plain": [
              "(100, 8)"
            ]
          },
          "metadata": {},
          "execution_count": 16
        }
      ]
    },
    {
      "cell_type": "code",
      "source": [
        "pca = PCA(n_components=2)\n",
        "data = pca.fit_transform(X[:100])"
      ],
      "metadata": {
        "id": "WZ4_9ATflXKO"
      },
      "execution_count": 23,
      "outputs": []
    },
    {
      "cell_type": "code",
      "source": [
        "data"
      ],
      "metadata": {
        "colab": {
          "base_uri": "https://localhost:8080/"
        },
        "outputId": "33b5fedf-4f61-43d5-ddc2-7e42702eb443",
        "id": "KUn8C8XLlXKO"
      },
      "execution_count": 24,
      "outputs": [
        {
          "output_type": "execute_result",
          "data": {
            "text/plain": [
              "array([[-3.62222732, -0.09567138],\n",
              "       [-3.62540726, -0.14036658],\n",
              "       [ 5.35660247,  0.51223991],\n",
              "       [ 3.36130696,  0.37714851],\n",
              "       [-3.56979871, -1.00961805],\n",
              "       [ 0.47082462, -1.19715003],\n",
              "       [ 0.43168948, -0.70968916],\n",
              "       [ 1.32687631,  0.72951798],\n",
              "       [ 5.35660247,  0.51223991],\n",
              "       [ 3.40044211, -0.11031236],\n",
              "       [-3.58309218, -0.58313225],\n",
              "       [-2.62457957, -0.02812568],\n",
              "       [ 0.43168948, -0.70968916],\n",
              "       [-2.52983587, -1.38483802],\n",
              "       [ 5.45134617, -0.84447243],\n",
              "       [ 0.38483711, -0.20727919],\n",
              "       [-2.64105298,  0.35366492],\n",
              "       [ 3.36130696,  0.37714851],\n",
              "       [-3.62222732, -0.09567138],\n",
              "       [-3.65364524,  0.37684039],\n",
              "       [-3.66136247,  0.39178948],\n",
              "       [ 0.4631074 , -1.18220093],\n",
              "       [ 0.38483711, -0.20727919],\n",
              "       [-2.68018813,  0.84112579],\n",
              "       [ 6.39338537,  0.09232474],\n",
              "       [-2.58544443, -0.51558655],\n",
              "       [ 5.45134617, -0.84447243],\n",
              "       [-2.58544443, -0.51558655],\n",
              "       [-3.62222732, -0.09567138],\n",
              "       [-2.58544443, -0.51558655],\n",
              "       [-2.62690718, -0.02859529],\n",
              "       [ 5.30099392,  1.38149138],\n",
              "       [-2.58544443, -0.51558655],\n",
              "       [-2.62457957, -0.02812568],\n",
              "       [-2.71932327,  1.32858666],\n",
              "       [ 0.45992746, -1.22689612],\n",
              "       [-2.68336806,  0.7964306 ],\n",
              "       [ 0.32922855,  0.66197228],\n",
              "       [ 0.42397225, -0.69474006],\n",
              "       [-1.64340523,  0.42121062],\n",
              "       [-2.6724709 ,  0.82617669],\n",
              "       [ 0.42397225, -0.69474006],\n",
              "       [-1.6104584 , -0.34237059],\n",
              "       [-2.62457957, -0.02812568],\n",
              "       [ 0.47958081, -1.56399153],\n",
              "       [-2.71932327,  1.32858666],\n",
              "       [ 5.35660247,  0.51223991],\n",
              "       [-0.62928406,  0.10696571],\n",
              "       [ 5.26185877,  1.86895225],\n",
              "       [-2.71932327,  1.32858666],\n",
              "       [-2.64105298,  0.35366492],\n",
              "       [ 0.39255433, -0.22222829],\n",
              "       [ 1.37372868,  0.22710801],\n",
              "       [-2.62457957, -0.02812568],\n",
              "       [-2.62457957, -0.02812568],\n",
              "       [-3.62222732, -0.09567138],\n",
              "       [-2.62457957, -0.02812568],\n",
              "       [ 1.3104029 ,  1.11130859],\n",
              "       [ 5.50695473, -1.7137239 ],\n",
              "       [ 5.40903109, -0.40170676],\n",
              "       [-2.62457957, -0.02812568],\n",
              "       [-2.66371471,  0.45933518],\n",
              "       [-2.62457957, -0.02812568],\n",
              "       [-2.71932327,  1.32858666],\n",
              "       [-2.68018813,  0.84112579],\n",
              "       [-2.51336246, -1.76662863],\n",
              "       [ 7.30400665,  1.50163368],\n",
              "       [ 3.30569841,  1.24639999],\n",
              "       [-3.67783588,  0.77358009],\n",
              "       [ 5.41221103, -0.35701156],\n",
              "       [ 3.34483355,  0.75893912],\n",
              "       [ 0.42079232, -0.73943525],\n",
              "       [ 1.27126775,  1.59876945],\n",
              "       [-2.68018813,  0.84112579],\n",
              "       [ 5.39573762,  0.02477904],\n",
              "       [ 3.51165922, -1.8488153 ],\n",
              "       [ 5.41992825, -0.37196066],\n",
              "       [ 2.45840291, -1.04710953],\n",
              "       [-2.62457957, -0.02812568],\n",
              "       [-2.62457957, -0.02812568],\n",
              "       [-3.57537496, -0.59808135],\n",
              "       [ 3.32217182,  0.86460938],\n",
              "       [-2.58544443, -0.51558655],\n",
              "       [ 5.39573762,  0.02477904],\n",
              "       [-3.66136247,  0.39178948],\n",
              "       [ 5.45134617, -0.84447243],\n",
              "       [ 0.4631074 , -1.18220093],\n",
              "       [ 5.39573762,  0.02477904],\n",
              "       [-2.6724709 ,  0.82617669],\n",
              "       [ 0.40749884, -0.31294945],\n",
              "       [-3.58309218, -0.58313225],\n",
              "       [-2.62457957, -0.02812568],\n",
              "       [-3.62222732, -0.09567138],\n",
              "       [-2.62457957, -0.02812568],\n",
              "       [ 3.32217182,  0.86460938],\n",
              "       [ 0.38483711, -0.20727919],\n",
              "       [ 5.4590634 , -0.85942153],\n",
              "       [ 5.35660247,  0.51223991],\n",
              "       [-2.62457957, -0.02812568],\n",
              "       [-2.66371471,  0.45933518]])"
            ]
          },
          "metadata": {},
          "execution_count": 24
        }
      ]
    },
    {
      "cell_type": "code",
      "source": [
        "print(pca.components_)"
      ],
      "metadata": {
        "colab": {
          "base_uri": "https://localhost:8080/"
        },
        "outputId": "3f8ed621-31a8-4eb9-eb67-09c19a990751",
        "id": "ZCZEnWuulXKP"
      },
      "execution_count": 25,
      "outputs": [
        {
          "output_type": "stream",
          "name": "stdout",
          "text": [
            "[[ 9.97647755e-01  3.91351432e-02  5.56085567e-02 -2.32761631e-03\n",
            "   3.17993852e-03  7.71722260e-03  0.00000000e+00  0.00000000e+00]\n",
            " [ 6.75456993e-02 -4.87460867e-01 -8.69251474e-01 -4.69604499e-04\n",
            "   4.46951929e-02 -1.49490991e-02  0.00000000e+00  0.00000000e+00]]\n"
          ]
        }
      ]
    },
    {
      "cell_type": "code",
      "source": [
        "data.shape"
      ],
      "metadata": {
        "colab": {
          "base_uri": "https://localhost:8080/"
        },
        "outputId": "2ae4aa8a-5bb2-4f5f-abac-dc65730cbcde",
        "id": "nn3Zw2mzlXKP"
      },
      "execution_count": 26,
      "outputs": [
        {
          "output_type": "execute_result",
          "data": {
            "text/plain": [
              "(100, 2)"
            ]
          },
          "metadata": {},
          "execution_count": 26
        }
      ]
    },
    {
      "cell_type": "code",
      "source": [
        "new_df = pd.DataFrame(data, columns=['pc1','pc2'])"
      ],
      "metadata": {
        "id": "INiP012ilXKQ"
      },
      "execution_count": 27,
      "outputs": []
    },
    {
      "cell_type": "code",
      "source": [
        "new_df"
      ],
      "metadata": {
        "colab": {
          "base_uri": "https://localhost:8080/",
          "height": 424
        },
        "outputId": "e18d86ef-502b-4cd2-91a2-6e99f1a50671",
        "id": "o9LDHRwhlXKQ"
      },
      "execution_count": 28,
      "outputs": [
        {
          "output_type": "execute_result",
          "data": {
            "text/plain": [
              "         pc1       pc2\n",
              "0  -3.622227 -0.095671\n",
              "1  -3.625407 -0.140367\n",
              "2   5.356602  0.512240\n",
              "3   3.361307  0.377149\n",
              "4  -3.569799 -1.009618\n",
              "..       ...       ...\n",
              "95  0.384837 -0.207279\n",
              "96  5.459063 -0.859422\n",
              "97  5.356602  0.512240\n",
              "98 -2.624580 -0.028126\n",
              "99 -2.663715  0.459335\n",
              "\n",
              "[100 rows x 2 columns]"
            ],
            "text/html": [
              "\n",
              "  <div id=\"df-3aada4f1-8ed4-48b1-883c-47ef3086e6b2\">\n",
              "    <div class=\"colab-df-container\">\n",
              "      <div>\n",
              "<style scoped>\n",
              "    .dataframe tbody tr th:only-of-type {\n",
              "        vertical-align: middle;\n",
              "    }\n",
              "\n",
              "    .dataframe tbody tr th {\n",
              "        vertical-align: top;\n",
              "    }\n",
              "\n",
              "    .dataframe thead th {\n",
              "        text-align: right;\n",
              "    }\n",
              "</style>\n",
              "<table border=\"1\" class=\"dataframe\">\n",
              "  <thead>\n",
              "    <tr style=\"text-align: right;\">\n",
              "      <th></th>\n",
              "      <th>pc1</th>\n",
              "      <th>pc2</th>\n",
              "    </tr>\n",
              "  </thead>\n",
              "  <tbody>\n",
              "    <tr>\n",
              "      <th>0</th>\n",
              "      <td>-3.622227</td>\n",
              "      <td>-0.095671</td>\n",
              "    </tr>\n",
              "    <tr>\n",
              "      <th>1</th>\n",
              "      <td>-3.625407</td>\n",
              "      <td>-0.140367</td>\n",
              "    </tr>\n",
              "    <tr>\n",
              "      <th>2</th>\n",
              "      <td>5.356602</td>\n",
              "      <td>0.512240</td>\n",
              "    </tr>\n",
              "    <tr>\n",
              "      <th>3</th>\n",
              "      <td>3.361307</td>\n",
              "      <td>0.377149</td>\n",
              "    </tr>\n",
              "    <tr>\n",
              "      <th>4</th>\n",
              "      <td>-3.569799</td>\n",
              "      <td>-1.009618</td>\n",
              "    </tr>\n",
              "    <tr>\n",
              "      <th>...</th>\n",
              "      <td>...</td>\n",
              "      <td>...</td>\n",
              "    </tr>\n",
              "    <tr>\n",
              "      <th>95</th>\n",
              "      <td>0.384837</td>\n",
              "      <td>-0.207279</td>\n",
              "    </tr>\n",
              "    <tr>\n",
              "      <th>96</th>\n",
              "      <td>5.459063</td>\n",
              "      <td>-0.859422</td>\n",
              "    </tr>\n",
              "    <tr>\n",
              "      <th>97</th>\n",
              "      <td>5.356602</td>\n",
              "      <td>0.512240</td>\n",
              "    </tr>\n",
              "    <tr>\n",
              "      <th>98</th>\n",
              "      <td>-2.624580</td>\n",
              "      <td>-0.028126</td>\n",
              "    </tr>\n",
              "    <tr>\n",
              "      <th>99</th>\n",
              "      <td>-2.663715</td>\n",
              "      <td>0.459335</td>\n",
              "    </tr>\n",
              "  </tbody>\n",
              "</table>\n",
              "<p>100 rows × 2 columns</p>\n",
              "</div>\n",
              "      <button class=\"colab-df-convert\" onclick=\"convertToInteractive('df-3aada4f1-8ed4-48b1-883c-47ef3086e6b2')\"\n",
              "              title=\"Convert this dataframe to an interactive table.\"\n",
              "              style=\"display:none;\">\n",
              "        \n",
              "  <svg xmlns=\"http://www.w3.org/2000/svg\" height=\"24px\"viewBox=\"0 0 24 24\"\n",
              "       width=\"24px\">\n",
              "    <path d=\"M0 0h24v24H0V0z\" fill=\"none\"/>\n",
              "    <path d=\"M18.56 5.44l.94 2.06.94-2.06 2.06-.94-2.06-.94-.94-2.06-.94 2.06-2.06.94zm-11 1L8.5 8.5l.94-2.06 2.06-.94-2.06-.94L8.5 2.5l-.94 2.06-2.06.94zm10 10l.94 2.06.94-2.06 2.06-.94-2.06-.94-.94-2.06-.94 2.06-2.06.94z\"/><path d=\"M17.41 7.96l-1.37-1.37c-.4-.4-.92-.59-1.43-.59-.52 0-1.04.2-1.43.59L10.3 9.45l-7.72 7.72c-.78.78-.78 2.05 0 2.83L4 21.41c.39.39.9.59 1.41.59.51 0 1.02-.2 1.41-.59l7.78-7.78 2.81-2.81c.8-.78.8-2.07 0-2.86zM5.41 20L4 18.59l7.72-7.72 1.47 1.35L5.41 20z\"/>\n",
              "  </svg>\n",
              "      </button>\n",
              "      \n",
              "  <style>\n",
              "    .colab-df-container {\n",
              "      display:flex;\n",
              "      flex-wrap:wrap;\n",
              "      gap: 12px;\n",
              "    }\n",
              "\n",
              "    .colab-df-convert {\n",
              "      background-color: #E8F0FE;\n",
              "      border: none;\n",
              "      border-radius: 50%;\n",
              "      cursor: pointer;\n",
              "      display: none;\n",
              "      fill: #1967D2;\n",
              "      height: 32px;\n",
              "      padding: 0 0 0 0;\n",
              "      width: 32px;\n",
              "    }\n",
              "\n",
              "    .colab-df-convert:hover {\n",
              "      background-color: #E2EBFA;\n",
              "      box-shadow: 0px 1px 2px rgba(60, 64, 67, 0.3), 0px 1px 3px 1px rgba(60, 64, 67, 0.15);\n",
              "      fill: #174EA6;\n",
              "    }\n",
              "\n",
              "    [theme=dark] .colab-df-convert {\n",
              "      background-color: #3B4455;\n",
              "      fill: #D2E3FC;\n",
              "    }\n",
              "\n",
              "    [theme=dark] .colab-df-convert:hover {\n",
              "      background-color: #434B5C;\n",
              "      box-shadow: 0px 1px 3px 1px rgba(0, 0, 0, 0.15);\n",
              "      filter: drop-shadow(0px 1px 2px rgba(0, 0, 0, 0.3));\n",
              "      fill: #FFFFFF;\n",
              "    }\n",
              "  </style>\n",
              "\n",
              "      <script>\n",
              "        const buttonEl =\n",
              "          document.querySelector('#df-3aada4f1-8ed4-48b1-883c-47ef3086e6b2 button.colab-df-convert');\n",
              "        buttonEl.style.display =\n",
              "          google.colab.kernel.accessAllowed ? 'block' : 'none';\n",
              "\n",
              "        async function convertToInteractive(key) {\n",
              "          const element = document.querySelector('#df-3aada4f1-8ed4-48b1-883c-47ef3086e6b2');\n",
              "          const dataTable =\n",
              "            await google.colab.kernel.invokeFunction('convertToInteractive',\n",
              "                                                     [key], {});\n",
              "          if (!dataTable) return;\n",
              "\n",
              "          const docLinkHtml = 'Like what you see? Visit the ' +\n",
              "            '<a target=\"_blank\" href=https://colab.research.google.com/notebooks/data_table.ipynb>data table notebook</a>'\n",
              "            + ' to learn more about interactive tables.';\n",
              "          element.innerHTML = '';\n",
              "          dataTable['output_type'] = 'display_data';\n",
              "          await google.colab.output.renderOutput(dataTable, element);\n",
              "          const docLink = document.createElement('div');\n",
              "          docLink.innerHTML = docLinkHtml;\n",
              "          element.appendChild(docLink);\n",
              "        }\n",
              "      </script>\n",
              "    </div>\n",
              "  </div>\n",
              "  "
            ]
          },
          "metadata": {},
          "execution_count": 28
        }
      ]
    },
    {
      "cell_type": "code",
      "source": [
        "plt.scatter(new_df['pc1'], new_df['pc2'])"
      ],
      "metadata": {
        "colab": {
          "base_uri": "https://localhost:8080/",
          "height": 283
        },
        "outputId": "b974d302-cbc5-4544-dff0-7b70ceb8d1e2",
        "id": "H42TeSP4lXKQ"
      },
      "execution_count": 31,
      "outputs": [
        {
          "output_type": "execute_result",
          "data": {
            "text/plain": [
              "<matplotlib.collections.PathCollection at 0x7f56250bfe10>"
            ]
          },
          "metadata": {},
          "execution_count": 31
        },
        {
          "output_type": "display_data",
          "data": {
            "text/plain": [
              "<Figure size 432x288 with 1 Axes>"
            ],
            "image/png": "[encoded data removed]"
          },
          "metadata": {
            "needs_background": "light"
          }
        }
      ]
    },
    {
      "cell_type": "code",
      "source": [
        "kmeans2 = KMeans(n_clusters=2, random_state=0).fit(new_df.values)"
      ],
      "metadata": {
        "id": "SqwKYlcFkiZV"
      },
      "execution_count": 32,
      "outputs": []
    },
    {
      "cell_type": "code",
      "source": [
        "lb = kmeans2.labels_"
      ],
      "metadata": {
        "id": "6iFxeGMpk10G"
      },
      "execution_count": 33,
      "outputs": []
    },
    {
      "cell_type": "code",
      "source": [
        "lb"
      ],
      "metadata": {
        "colab": {
          "base_uri": "https://localhost:8080/"
        },
        "outputId": "a98f75f1-b4d3-4b93-ed3d-0add11d5029b",
        "id": "Cb-mHm3jk10L"
      },
      "execution_count": 34,
      "outputs": [
        {
          "output_type": "execute_result",
          "data": {
            "text/plain": [
              "array([1, 1, 0, 0, 1, 1, 1, 0, 0, 0, 1, 1, 1, 1, 0, 1, 1, 0, 1, 1, 1, 1,\n",
              "       1, 1, 0, 1, 0, 1, 1, 1, 1, 0, 1, 1, 1, 1, 1, 1, 1, 1, 1, 1, 1, 1,\n",
              "       1, 1, 0, 1, 0, 1, 1, 1, 0, 1, 1, 1, 1, 0, 0, 0, 1, 1, 1, 1, 1, 1,\n",
              "       0, 0, 1, 0, 0, 1, 0, 1, 0, 0, 0, 0, 1, 1, 1, 0, 1, 0, 1, 0, 1, 0,\n",
              "       1, 1, 1, 1, 1, 1, 0, 1, 0, 0, 1, 1], dtype=int32)"
            ]
          },
          "metadata": {},
          "execution_count": 34
        }
      ]
    },
    {
      "cell_type": "code",
      "source": [
        "centers = kmeans2.cluster_centers_"
      ],
      "metadata": {
        "id": "W0gFVBVok10L"
      },
      "execution_count": 35,
      "outputs": []
    },
    {
      "cell_type": "code",
      "source": [
        "centers"
      ],
      "metadata": {
        "colab": {
          "base_uri": "https://localhost:8080/"
        },
        "outputId": "9826a53b-5089-4fa4-939f-c36932f6b713",
        "id": "611tzqxak10L"
      },
      "execution_count": 36,
      "outputs": [
        {
          "output_type": "execute_result",
          "data": {
            "text/plain": [
              "array([[ 4.37829262,  0.18374309],\n",
              "       [-2.060373  , -0.08646734]])"
            ]
          },
          "metadata": {},
          "execution_count": 36
        }
      ]
    },
    {
      "cell_type": "code",
      "source": [
        "out = kmeans2.fit_transform(new_df.values)"
      ],
      "metadata": {
        "id": "xp7ss3C-k10L"
      },
      "execution_count": 37,
      "outputs": []
    },
    {
      "cell_type": "code",
      "source": [
        "final_df = pd.DataFrame(out)"
      ],
      "metadata": {
        "id": "Bkh9PF-ok10L"
      },
      "execution_count": 38,
      "outputs": []
    },
    {
      "cell_type": "code",
      "source": [
        "final_df"
      ],
      "metadata": {
        "colab": {
          "base_uri": "https://localhost:8080/",
          "height": 424
        },
        "outputId": "f4d25e51-9692-491e-8f24-210ba314ce22",
        "id": "dsQv6eZhk10M"
      },
      "execution_count": 39,
      "outputs": [
        {
          "output_type": "execute_result",
          "data": {
            "text/plain": [
              "           0         1\n",
              "0   8.005398  1.561881\n",
              "1   8.010260  1.565962\n",
              "2   1.031989  7.441100\n",
              "3   1.035213  5.441466\n",
              "4   8.037180  1.769343\n",
              "..       ...       ...\n",
              "95  4.012553  2.448193\n",
              "96  1.502085  7.559060\n",
              "97  1.031989  7.441100\n",
              "98  7.006076  0.567215\n",
              "99  7.047398  0.813586\n",
              "\n",
              "[100 rows x 2 columns]"
            ],
            "text/html": [
              "\n",
              "  <div id=\"df-58d80cd4-a2d1-4e48-8123-e750e36dbc82\">\n",
              "    <div class=\"colab-df-container\">\n",
              "      <div>\n",
              "<style scoped>\n",
              "    .dataframe tbody tr th:only-of-type {\n",
              "        vertical-align: middle;\n",
              "    }\n",
              "\n",
              "    .dataframe tbody tr th {\n",
              "        vertical-align: top;\n",
              "    }\n",
              "\n",
              "    .dataframe thead th {\n",
              "        text-align: right;\n",
              "    }\n",
              "</style>\n",
              "<table border=\"1\" class=\"dataframe\">\n",
              "  <thead>\n",
              "    <tr style=\"text-align: right;\">\n",
              "      <th></th>\n",
              "      <th>0</th>\n",
              "      <th>1</th>\n",
              "    </tr>\n",
              "  </thead>\n",
              "  <tbody>\n",
              "    <tr>\n",
              "      <th>0</th>\n",
              "      <td>8.005398</td>\n",
              "      <td>1.561881</td>\n",
              "    </tr>\n",
              "    <tr>\n",
              "      <th>1</th>\n",
              "      <td>8.010260</td>\n",
              "      <td>1.565962</td>\n",
              "    </tr>\n",
              "    <tr>\n",
              "      <th>2</th>\n",
              "      <td>1.031989</td>\n",
              "      <td>7.441100</td>\n",
              "    </tr>\n",
              "    <tr>\n",
              "      <th>3</th>\n",
              "      <td>1.035213</td>\n",
              "      <td>5.441466</td>\n",
              "    </tr>\n",
              "    <tr>\n",
              "      <th>4</th>\n",
              "      <td>8.037180</td>\n",
              "      <td>1.769343</td>\n",
              "    </tr>\n",
              "    <tr>\n",
              "      <th>...</th>\n",
              "      <td>...</td>\n",
              "      <td>...</td>\n",
              "    </tr>\n",
              "    <tr>\n",
              "      <th>95</th>\n",
              "      <td>4.012553</td>\n",
              "      <td>2.448193</td>\n",
              "    </tr>\n",
              "    <tr>\n",
              "      <th>96</th>\n",
              "      <td>1.502085</td>\n",
              "      <td>7.559060</td>\n",
              "    </tr>\n",
              "    <tr>\n",
              "      <th>97</th>\n",
              "      <td>1.031989</td>\n",
              "      <td>7.441100</td>\n",
              "    </tr>\n",
              "    <tr>\n",
              "      <th>98</th>\n",
              "      <td>7.006076</td>\n",
              "      <td>0.567215</td>\n",
              "    </tr>\n",
              "    <tr>\n",
              "      <th>99</th>\n",
              "      <td>7.047398</td>\n",
              "      <td>0.813586</td>\n",
              "    </tr>\n",
              "  </tbody>\n",
              "</table>\n",
              "<p>100 rows × 2 columns</p>\n",
              "</div>\n",
              "      <button class=\"colab-df-convert\" onclick=\"convertToInteractive('df-58d80cd4-a2d1-4e48-8123-e750e36dbc82')\"\n",
              "              title=\"Convert this dataframe to an interactive table.\"\n",
              "              style=\"display:none;\">\n",
              "        \n",
              "  <svg xmlns=\"http://www.w3.org/2000/svg\" height=\"24px\"viewBox=\"0 0 24 24\"\n",
              "       width=\"24px\">\n",
              "    <path d=\"M0 0h24v24H0V0z\" fill=\"none\"/>\n",
              "    <path d=\"M18.56 5.44l.94 2.06.94-2.06 2.06-.94-2.06-.94-.94-2.06-.94 2.06-2.06.94zm-11 1L8.5 8.5l.94-2.06 2.06-.94-2.06-.94L8.5 2.5l-.94 2.06-2.06.94zm10 10l.94 2.06.94-2.06 2.06-.94-2.06-.94-.94-2.06-.94 2.06-2.06.94z\"/><path d=\"M17.41 7.96l-1.37-1.37c-.4-.4-.92-.59-1.43-.59-.52 0-1.04.2-1.43.59L10.3 9.45l-7.72 7.72c-.78.78-.78 2.05 0 2.83L4 21.41c.39.39.9.59 1.41.59.51 0 1.02-.2 1.41-.59l7.78-7.78 2.81-2.81c.8-.78.8-2.07 0-2.86zM5.41 20L4 18.59l7.72-7.72 1.47 1.35L5.41 20z\"/>\n",
              "  </svg>\n",
              "      </button>\n",
              "      \n",
              "  <style>\n",
              "    .colab-df-container {\n",
              "      display:flex;\n",
              "      flex-wrap:wrap;\n",
              "      gap: 12px;\n",
              "    }\n",
              "\n",
              "    .colab-df-convert {\n",
              "      background-color: #E8F0FE;\n",
              "      border: none;\n",
              "      border-radius: 50%;\n",
              "      cursor: pointer;\n",
              "      display: none;\n",
              "      fill: #1967D2;\n",
              "      height: 32px;\n",
              "      padding: 0 0 0 0;\n",
              "      width: 32px;\n",
              "    }\n",
              "\n",
              "    .colab-df-convert:hover {\n",
              "      background-color: #E2EBFA;\n",
              "      box-shadow: 0px 1px 2px rgba(60, 64, 67, 0.3), 0px 1px 3px 1px rgba(60, 64, 67, 0.15);\n",
              "      fill: #174EA6;\n",
              "    }\n",
              "\n",
              "    [theme=dark] .colab-df-convert {\n",
              "      background-color: #3B4455;\n",
              "      fill: #D2E3FC;\n",
              "    }\n",
              "\n",
              "    [theme=dark] .colab-df-convert:hover {\n",
              "      background-color: #434B5C;\n",
              "      box-shadow: 0px 1px 3px 1px rgba(0, 0, 0, 0.15);\n",
              "      filter: drop-shadow(0px 1px 2px rgba(0, 0, 0, 0.3));\n",
              "      fill: #FFFFFF;\n",
              "    }\n",
              "  </style>\n",
              "\n",
              "      <script>\n",
              "        const buttonEl =\n",
              "          document.querySelector('#df-58d80cd4-a2d1-4e48-8123-e750e36dbc82 button.colab-df-convert');\n",
              "        buttonEl.style.display =\n",
              "          google.colab.kernel.accessAllowed ? 'block' : 'none';\n",
              "\n",
              "        async function convertToInteractive(key) {\n",
              "          const element = document.querySelector('#df-58d80cd4-a2d1-4e48-8123-e750e36dbc82');\n",
              "          const dataTable =\n",
              "            await google.colab.kernel.invokeFunction('convertToInteractive',\n",
              "                                                     [key], {});\n",
              "          if (!dataTable) return;\n",
              "\n",
              "          const docLinkHtml = 'Like what you see? Visit the ' +\n",
              "            '<a target=\"_blank\" href=https://colab.research.google.com/notebooks/data_table.ipynb>data table notebook</a>'\n",
              "            + ' to learn more about interactive tables.';\n",
              "          element.innerHTML = '';\n",
              "          dataTable['output_type'] = 'display_data';\n",
              "          await google.colab.output.renderOutput(dataTable, element);\n",
              "          const docLink = document.createElement('div');\n",
              "          docLink.innerHTML = docLinkHtml;\n",
              "          element.appendChild(docLink);\n",
              "        }\n",
              "      </script>\n",
              "    </div>\n",
              "  </div>\n",
              "  "
            ]
          },
          "metadata": {},
          "execution_count": 39
        }
      ]
    },
    {
      "cell_type": "code",
      "source": [
        "plt.scatter(final_df[0], final_df[1])"
      ],
      "metadata": {
        "colab": {
          "base_uri": "https://localhost:8080/",
          "height": 282
        },
        "outputId": "0cc3ec91-4e56-4dac-88a4-93b7f7b0c128",
        "id": "-GDABgAJk10M"
      },
      "execution_count": 40,
      "outputs": [
        {
          "output_type": "execute_result",
          "data": {
            "text/plain": [
              "<matplotlib.collections.PathCollection at 0x7f5623aabc50>"
            ]
          },
          "metadata": {},
          "execution_count": 40
        },
        {
          "output_type": "display_data",
          "data": {
            "text/plain": [
              "<Figure size 432x288 with 1 Axes>"
            ],
            "image/png": "[encoded data removed]"
          },
          "metadata": {
            "needs_background": "light"
          }
        }
      ]
    },
    {
      "cell_type": "code",
      "source": [
        "pds = kmeans2.predict(new_df.values)"
      ],
      "metadata": {
        "id": "gQK59dnSk10M"
      },
      "execution_count": 44,
      "outputs": []
    },
    {
      "cell_type": "code",
      "source": [
        "pds.shape"
      ],
      "metadata": {
        "colab": {
          "base_uri": "https://localhost:8080/"
        },
        "outputId": "bc7bf015-feff-49d3-955f-256badb6aea8",
        "id": "6Cwl6G3ik10M"
      },
      "execution_count": 45,
      "outputs": [
        {
          "output_type": "execute_result",
          "data": {
            "text/plain": [
              "(100,)"
            ]
          },
          "metadata": {},
          "execution_count": 45
        }
      ]
    },
    {
      "cell_type": "code",
      "source": [
        "plt.scatter(centers[0], centers[1], color='green')\n",
        "plt.scatter(new_df['pc1'], new_df['pc2'], c=lb, cmap='rainbow')"
      ],
      "metadata": {
        "colab": {
          "base_uri": "https://localhost:8080/",
          "height": 283
        },
        "outputId": "70d0c56e-e992-4947-e753-8ad4126162e0",
        "id": "gj33nQ3mk10M"
      },
      "execution_count": 46,
      "outputs": [
        {
          "output_type": "execute_result",
          "data": {
            "text/plain": [
              "<matplotlib.collections.PathCollection at 0x7f56239f9350>"
            ]
          },
          "metadata": {},
          "execution_count": 46
        },
        {
          "output_type": "display_data",
          "data": {
            "text/plain": [
              "<Figure size 432x288 with 1 Axes>"
            ],
            "image/png": "[encoded data removed]"
          },
          "metadata": {
            "needs_background": "light"
          }
        }
      ]
    },
    {
      "cell_type": "code",
      "source": [
        ""
      ],
      "metadata": {
        "id": "i9f-Wo2ClwvN"
      },
      "execution_count": null,
      "outputs": []
    },
    {
      "cell_type": "markdown",
      "source": [
        "# LDA"
      ],
      "metadata": {
        "id": "L7-SC-WOl4Ts"
      }
    },
    {
      "cell_type": "code",
      "source": [
        "import numpy as np\n",
        "from sklearn.discriminant_analysis import LinearDiscriminantAnalysis"
      ],
      "metadata": {
        "id": "uXBwVXhql8jM"
      },
      "execution_count": 47,
      "outputs": []
    },
    {
      "cell_type": "code",
      "source": [
        "import pandas as pd"
      ],
      "metadata": {
        "id": "TffoHFVamF48"
      },
      "execution_count": 48,
      "outputs": []
    },
    {
      "cell_type": "code",
      "source": [
        "df = pd.read_csv('/content/Iris.csv')"
      ],
      "metadata": {
        "id": "uTUH1zkGmU_O"
      },
      "execution_count": 49,
      "outputs": []
    },
    {
      "cell_type": "code",
      "source": [
        "df"
      ],
      "metadata": {
        "colab": {
          "base_uri": "https://localhost:8080/",
          "height": 424
        },
        "id": "Cd3VEngGmZyu",
        "outputId": "ad8f96d9-d56c-4f9a-a0f5-f5051f2b47fd"
      },
      "execution_count": 50,
      "outputs": [
        {
          "output_type": "execute_result",
          "data": {
            "text/plain": [
              "      Id  SepalLengthCm  SepalWidthCm  PetalLengthCm  PetalWidthCm  \\\n",
              "0      1            5.1           3.5            1.4           0.2   \n",
              "1      2            4.9           3.0            1.4           0.2   \n",
              "2      3            4.7           3.2            1.3           0.2   \n",
              "3      4            4.6           3.1            1.5           0.2   \n",
              "4      5            5.0           3.6            1.4           0.2   \n",
              "..   ...            ...           ...            ...           ...   \n",
              "145  146            6.7           3.0            5.2           2.3   \n",
              "146  147            6.3           2.5            5.0           1.9   \n",
              "147  148            6.5           3.0            5.2           2.0   \n",
              "148  149            6.2           3.4            5.4           2.3   \n",
              "149  150            5.9           3.0            5.1           1.8   \n",
              "\n",
              "            Species  \n",
              "0       Iris-setosa  \n",
              "1       Iris-setosa  \n",
              "2       Iris-setosa  \n",
              "3       Iris-setosa  \n",
              "4       Iris-setosa  \n",
              "..              ...  \n",
              "145  Iris-virginica  \n",
              "146  Iris-virginica  \n",
              "147  Iris-virginica  \n",
              "148  Iris-virginica  \n",
              "149  Iris-virginica  \n",
              "\n",
              "[150 rows x 6 columns]"
            ],
            "text/html": [
              "\n",
              "  <div id=\"df-f29eac83-c59d-4c99-b174-f23af78556e6\">\n",
              "    <div class=\"colab-df-container\">\n",
              "      <div>\n",
              "<style scoped>\n",
              "    .dataframe tbody tr th:only-of-type {\n",
              "        vertical-align: middle;\n",
              "    }\n",
              "\n",
              "    .dataframe tbody tr th {\n",
              "        vertical-align: top;\n",
              "    }\n",
              "\n",
              "    .dataframe thead th {\n",
              "        text-align: right;\n",
              "    }\n",
              "</style>\n",
              "<table border=\"1\" class=\"dataframe\">\n",
              "  <thead>\n",
              "    <tr style=\"text-align: right;\">\n",
              "      <th></th>\n",
              "      <th>Id</th>\n",
              "      <th>SepalLengthCm</th>\n",
              "      <th>SepalWidthCm</th>\n",
              "      <th>PetalLengthCm</th>\n",
              "      <th>PetalWidthCm</th>\n",
              "      <th>Species</th>\n",
              "    </tr>\n",
              "  </thead>\n",
              "  <tbody>\n",
              "    <tr>\n",
              "      <th>0</th>\n",
              "      <td>1</td>\n",
              "      <td>5.1</td>\n",
              "      <td>3.5</td>\n",
              "      <td>1.4</td>\n",
              "      <td>0.2</td>\n",
              "      <td>Iris-setosa</td>\n",
              "    </tr>\n",
              "    <tr>\n",
              "      <th>1</th>\n",
              "      <td>2</td>\n",
              "      <td>4.9</td>\n",
              "      <td>3.0</td>\n",
              "      <td>1.4</td>\n",
              "      <td>0.2</td>\n",
              "      <td>Iris-setosa</td>\n",
              "    </tr>\n",
              "    <tr>\n",
              "      <th>2</th>\n",
              "      <td>3</td>\n",
              "      <td>4.7</td>\n",
              "      <td>3.2</td>\n",
              "      <td>1.3</td>\n",
              "      <td>0.2</td>\n",
              "      <td>Iris-setosa</td>\n",
              "    </tr>\n",
              "    <tr>\n",
              "      <th>3</th>\n",
              "      <td>4</td>\n",
              "      <td>4.6</td>\n",
              "      <td>3.1</td>\n",
              "      <td>1.5</td>\n",
              "      <td>0.2</td>\n",
              "      <td>Iris-setosa</td>\n",
              "    </tr>\n",
              "    <tr>\n",
              "      <th>4</th>\n",
              "      <td>5</td>\n",
              "      <td>5.0</td>\n",
              "      <td>3.6</td>\n",
              "      <td>1.4</td>\n",
              "      <td>0.2</td>\n",
              "      <td>Iris-setosa</td>\n",
              "    </tr>\n",
              "    <tr>\n",
              "      <th>...</th>\n",
              "      <td>...</td>\n",
              "      <td>...</td>\n",
              "      <td>...</td>\n",
              "      <td>...</td>\n",
              "      <td>...</td>\n",
              "      <td>...</td>\n",
              "    </tr>\n",
              "    <tr>\n",
              "      <th>145</th>\n",
              "      <td>146</td>\n",
              "      <td>6.7</td>\n",
              "      <td>3.0</td>\n",
              "      <td>5.2</td>\n",
              "      <td>2.3</td>\n",
              "      <td>Iris-virginica</td>\n",
              "    </tr>\n",
              "    <tr>\n",
              "      <th>146</th>\n",
              "      <td>147</td>\n",
              "      <td>6.3</td>\n",
              "      <td>2.5</td>\n",
              "      <td>5.0</td>\n",
              "      <td>1.9</td>\n",
              "      <td>Iris-virginica</td>\n",
              "    </tr>\n",
              "    <tr>\n",
              "      <th>147</th>\n",
              "      <td>148</td>\n",
              "      <td>6.5</td>\n",
              "      <td>3.0</td>\n",
              "      <td>5.2</td>\n",
              "      <td>2.0</td>\n",
              "      <td>Iris-virginica</td>\n",
              "    </tr>\n",
              "    <tr>\n",
              "      <th>148</th>\n",
              "      <td>149</td>\n",
              "      <td>6.2</td>\n",
              "      <td>3.4</td>\n",
              "      <td>5.4</td>\n",
              "      <td>2.3</td>\n",
              "      <td>Iris-virginica</td>\n",
              "    </tr>\n",
              "    <tr>\n",
              "      <th>149</th>\n",
              "      <td>150</td>\n",
              "      <td>5.9</td>\n",
              "      <td>3.0</td>\n",
              "      <td>5.1</td>\n",
              "      <td>1.8</td>\n",
              "      <td>Iris-virginica</td>\n",
              "    </tr>\n",
              "  </tbody>\n",
              "</table>\n",
              "<p>150 rows × 6 columns</p>\n",
              "</div>\n",
              "      <button class=\"colab-df-convert\" onclick=\"convertToInteractive('df-f29eac83-c59d-4c99-b174-f23af78556e6')\"\n",
              "              title=\"Convert this dataframe to an interactive table.\"\n",
              "              style=\"display:none;\">\n",
              "        \n",
              "  <svg xmlns=\"http://www.w3.org/2000/svg\" height=\"24px\"viewBox=\"0 0 24 24\"\n",
              "       width=\"24px\">\n",
              "    <path d=\"M0 0h24v24H0V0z\" fill=\"none\"/>\n",
              "    <path d=\"M18.56 5.44l.94 2.06.94-2.06 2.06-.94-2.06-.94-.94-2.06-.94 2.06-2.06.94zm-11 1L8.5 8.5l.94-2.06 2.06-.94-2.06-.94L8.5 2.5l-.94 2.06-2.06.94zm10 10l.94 2.06.94-2.06 2.06-.94-2.06-.94-.94-2.06-.94 2.06-2.06.94z\"/><path d=\"M17.41 7.96l-1.37-1.37c-.4-.4-.92-.59-1.43-.59-.52 0-1.04.2-1.43.59L10.3 9.45l-7.72 7.72c-.78.78-.78 2.05 0 2.83L4 21.41c.39.39.9.59 1.41.59.51 0 1.02-.2 1.41-.59l7.78-7.78 2.81-2.81c.8-.78.8-2.07 0-2.86zM5.41 20L4 18.59l7.72-7.72 1.47 1.35L5.41 20z\"/>\n",
              "  </svg>\n",
              "      </button>\n",
              "      \n",
              "  <style>\n",
              "    .colab-df-container {\n",
              "      display:flex;\n",
              "      flex-wrap:wrap;\n",
              "      gap: 12px;\n",
              "    }\n",
              "\n",
              "    .colab-df-convert {\n",
              "      background-color: #E8F0FE;\n",
              "      border: none;\n",
              "      border-radius: 50%;\n",
              "      cursor: pointer;\n",
              "      display: none;\n",
              "      fill: #1967D2;\n",
              "      height: 32px;\n",
              "      padding: 0 0 0 0;\n",
              "      width: 32px;\n",
              "    }\n",
              "\n",
              "    .colab-df-convert:hover {\n",
              "      background-color: #E2EBFA;\n",
              "      box-shadow: 0px 1px 2px rgba(60, 64, 67, 0.3), 0px 1px 3px 1px rgba(60, 64, 67, 0.15);\n",
              "      fill: #174EA6;\n",
              "    }\n",
              "\n",
              "    [theme=dark] .colab-df-convert {\n",
              "      background-color: #3B4455;\n",
              "      fill: #D2E3FC;\n",
              "    }\n",
              "\n",
              "    [theme=dark] .colab-df-convert:hover {\n",
              "      background-color: #434B5C;\n",
              "      box-shadow: 0px 1px 3px 1px rgba(0, 0, 0, 0.15);\n",
              "      filter: drop-shadow(0px 1px 2px rgba(0, 0, 0, 0.3));\n",
              "      fill: #FFFFFF;\n",
              "    }\n",
              "  </style>\n",
              "\n",
              "      <script>\n",
              "        const buttonEl =\n",
              "          document.querySelector('#df-f29eac83-c59d-4c99-b174-f23af78556e6 button.colab-df-convert');\n",
              "        buttonEl.style.display =\n",
              "          google.colab.kernel.accessAllowed ? 'block' : 'none';\n",
              "\n",
              "        async function convertToInteractive(key) {\n",
              "          const element = document.querySelector('#df-f29eac83-c59d-4c99-b174-f23af78556e6');\n",
              "          const dataTable =\n",
              "            await google.colab.kernel.invokeFunction('convertToInteractive',\n",
              "                                                     [key], {});\n",
              "          if (!dataTable) return;\n",
              "\n",
              "          const docLinkHtml = 'Like what you see? Visit the ' +\n",
              "            '<a target=\"_blank\" href=https://colab.research.google.com/notebooks/data_table.ipynb>data table notebook</a>'\n",
              "            + ' to learn more about interactive tables.';\n",
              "          element.innerHTML = '';\n",
              "          dataTable['output_type'] = 'display_data';\n",
              "          await google.colab.output.renderOutput(dataTable, element);\n",
              "          const docLink = document.createElement('div');\n",
              "          docLink.innerHTML = docLinkHtml;\n",
              "          element.appendChild(docLink);\n",
              "        }\n",
              "      </script>\n",
              "    </div>\n",
              "  </div>\n",
              "  "
            ]
          },
          "metadata": {},
          "execution_count": 50
        }
      ]
    },
    {
      "cell_type": "code",
      "source": [
        "X = df[['SepalLengthCm','PetalLengthCm','PetalLengthCm','PetalWidthCm']].values"
      ],
      "metadata": {
        "id": "aX6pXBRSmaym"
      },
      "execution_count": 51,
      "outputs": []
    },
    {
      "cell_type": "code",
      "source": [
        "X"
      ],
      "metadata": {
        "colab": {
          "base_uri": "https://localhost:8080/"
        },
        "id": "869XgfhrmqgR",
        "outputId": "05876254-95be-4655-af80-c80f578e3538"
      },
      "execution_count": 53,
      "outputs": [
        {
          "output_type": "execute_result",
          "data": {
            "text/plain": [
              "array([[5.1, 1.4, 1.4, 0.2],\n",
              "       [4.9, 1.4, 1.4, 0.2],\n",
              "       [4.7, 1.3, 1.3, 0.2],\n",
              "       [4.6, 1.5, 1.5, 0.2],\n",
              "       [5. , 1.4, 1.4, 0.2],\n",
              "       [5.4, 1.7, 1.7, 0.4],\n",
              "       [4.6, 1.4, 1.4, 0.3],\n",
              "       [5. , 1.5, 1.5, 0.2],\n",
              "       [4.4, 1.4, 1.4, 0.2],\n",
              "       [4.9, 1.5, 1.5, 0.1],\n",
              "       [5.4, 1.5, 1.5, 0.2],\n",
              "       [4.8, 1.6, 1.6, 0.2],\n",
              "       [4.8, 1.4, 1.4, 0.1],\n",
              "       [4.3, 1.1, 1.1, 0.1],\n",
              "       [5.8, 1.2, 1.2, 0.2],\n",
              "       [5.7, 1.5, 1.5, 0.4],\n",
              "       [5.4, 1.3, 1.3, 0.4],\n",
              "       [5.1, 1.4, 1.4, 0.3],\n",
              "       [5.7, 1.7, 1.7, 0.3],\n",
              "       [5.1, 1.5, 1.5, 0.3],\n",
              "       [5.4, 1.7, 1.7, 0.2],\n",
              "       [5.1, 1.5, 1.5, 0.4],\n",
              "       [4.6, 1. , 1. , 0.2],\n",
              "       [5.1, 1.7, 1.7, 0.5],\n",
              "       [4.8, 1.9, 1.9, 0.2],\n",
              "       [5. , 1.6, 1.6, 0.2],\n",
              "       [5. , 1.6, 1.6, 0.4],\n",
              "       [5.2, 1.5, 1.5, 0.2],\n",
              "       [5.2, 1.4, 1.4, 0.2],\n",
              "       [4.7, 1.6, 1.6, 0.2],\n",
              "       [4.8, 1.6, 1.6, 0.2],\n",
              "       [5.4, 1.5, 1.5, 0.4],\n",
              "       [5.2, 1.5, 1.5, 0.1],\n",
              "       [5.5, 1.4, 1.4, 0.2],\n",
              "       [4.9, 1.5, 1.5, 0.1],\n",
              "       [5. , 1.2, 1.2, 0.2],\n",
              "       [5.5, 1.3, 1.3, 0.2],\n",
              "       [4.9, 1.5, 1.5, 0.1],\n",
              "       [4.4, 1.3, 1.3, 0.2],\n",
              "       [5.1, 1.5, 1.5, 0.2],\n",
              "       [5. , 1.3, 1.3, 0.3],\n",
              "       [4.5, 1.3, 1.3, 0.3],\n",
              "       [4.4, 1.3, 1.3, 0.2],\n",
              "       [5. , 1.6, 1.6, 0.6],\n",
              "       [5.1, 1.9, 1.9, 0.4],\n",
              "       [4.8, 1.4, 1.4, 0.3],\n",
              "       [5.1, 1.6, 1.6, 0.2],\n",
              "       [4.6, 1.4, 1.4, 0.2],\n",
              "       [5.3, 1.5, 1.5, 0.2],\n",
              "       [5. , 1.4, 1.4, 0.2],\n",
              "       [7. , 4.7, 4.7, 1.4],\n",
              "       [6.4, 4.5, 4.5, 1.5],\n",
              "       [6.9, 4.9, 4.9, 1.5],\n",
              "       [5.5, 4. , 4. , 1.3],\n",
              "       [6.5, 4.6, 4.6, 1.5],\n",
              "       [5.7, 4.5, 4.5, 1.3],\n",
              "       [6.3, 4.7, 4.7, 1.6],\n",
              "       [4.9, 3.3, 3.3, 1. ],\n",
              "       [6.6, 4.6, 4.6, 1.3],\n",
              "       [5.2, 3.9, 3.9, 1.4],\n",
              "       [5. , 3.5, 3.5, 1. ],\n",
              "       [5.9, 4.2, 4.2, 1.5],\n",
              "       [6. , 4. , 4. , 1. ],\n",
              "       [6.1, 4.7, 4.7, 1.4],\n",
              "       [5.6, 3.6, 3.6, 1.3],\n",
              "       [6.7, 4.4, 4.4, 1.4],\n",
              "       [5.6, 4.5, 4.5, 1.5],\n",
              "       [5.8, 4.1, 4.1, 1. ],\n",
              "       [6.2, 4.5, 4.5, 1.5],\n",
              "       [5.6, 3.9, 3.9, 1.1],\n",
              "       [5.9, 4.8, 4.8, 1.8],\n",
              "       [6.1, 4. , 4. , 1.3],\n",
              "       [6.3, 4.9, 4.9, 1.5],\n",
              "       [6.1, 4.7, 4.7, 1.2],\n",
              "       [6.4, 4.3, 4.3, 1.3],\n",
              "       [6.6, 4.4, 4.4, 1.4],\n",
              "       [6.8, 4.8, 4.8, 1.4],\n",
              "       [6.7, 5. , 5. , 1.7],\n",
              "       [6. , 4.5, 4.5, 1.5],\n",
              "       [5.7, 3.5, 3.5, 1. ],\n",
              "       [5.5, 3.8, 3.8, 1.1],\n",
              "       [5.5, 3.7, 3.7, 1. ],\n",
              "       [5.8, 3.9, 3.9, 1.2],\n",
              "       [6. , 5.1, 5.1, 1.6],\n",
              "       [5.4, 4.5, 4.5, 1.5],\n",
              "       [6. , 4.5, 4.5, 1.6],\n",
              "       [6.7, 4.7, 4.7, 1.5],\n",
              "       [6.3, 4.4, 4.4, 1.3],\n",
              "       [5.6, 4.1, 4.1, 1.3],\n",
              "       [5.5, 4. , 4. , 1.3],\n",
              "       [5.5, 4.4, 4.4, 1.2],\n",
              "       [6.1, 4.6, 4.6, 1.4],\n",
              "       [5.8, 4. , 4. , 1.2],\n",
              "       [5. , 3.3, 3.3, 1. ],\n",
              "       [5.6, 4.2, 4.2, 1.3],\n",
              "       [5.7, 4.2, 4.2, 1.2],\n",
              "       [5.7, 4.2, 4.2, 1.3],\n",
              "       [6.2, 4.3, 4.3, 1.3],\n",
              "       [5.1, 3. , 3. , 1.1],\n",
              "       [5.7, 4.1, 4.1, 1.3],\n",
              "       [6.3, 6. , 6. , 2.5],\n",
              "       [5.8, 5.1, 5.1, 1.9],\n",
              "       [7.1, 5.9, 5.9, 2.1],\n",
              "       [6.3, 5.6, 5.6, 1.8],\n",
              "       [6.5, 5.8, 5.8, 2.2],\n",
              "       [7.6, 6.6, 6.6, 2.1],\n",
              "       [4.9, 4.5, 4.5, 1.7],\n",
              "       [7.3, 6.3, 6.3, 1.8],\n",
              "       [6.7, 5.8, 5.8, 1.8],\n",
              "       [7.2, 6.1, 6.1, 2.5],\n",
              "       [6.5, 5.1, 5.1, 2. ],\n",
              "       [6.4, 5.3, 5.3, 1.9],\n",
              "       [6.8, 5.5, 5.5, 2.1],\n",
              "       [5.7, 5. , 5. , 2. ],\n",
              "       [5.8, 5.1, 5.1, 2.4],\n",
              "       [6.4, 5.3, 5.3, 2.3],\n",
              "       [6.5, 5.5, 5.5, 1.8],\n",
              "       [7.7, 6.7, 6.7, 2.2],\n",
              "       [7.7, 6.9, 6.9, 2.3],\n",
              "       [6. , 5. , 5. , 1.5],\n",
              "       [6.9, 5.7, 5.7, 2.3],\n",
              "       [5.6, 4.9, 4.9, 2. ],\n",
              "       [7.7, 6.7, 6.7, 2. ],\n",
              "       [6.3, 4.9, 4.9, 1.8],\n",
              "       [6.7, 5.7, 5.7, 2.1],\n",
              "       [7.2, 6. , 6. , 1.8],\n",
              "       [6.2, 4.8, 4.8, 1.8],\n",
              "       [6.1, 4.9, 4.9, 1.8],\n",
              "       [6.4, 5.6, 5.6, 2.1],\n",
              "       [7.2, 5.8, 5.8, 1.6],\n",
              "       [7.4, 6.1, 6.1, 1.9],\n",
              "       [7.9, 6.4, 6.4, 2. ],\n",
              "       [6.4, 5.6, 5.6, 2.2],\n",
              "       [6.3, 5.1, 5.1, 1.5],\n",
              "       [6.1, 5.6, 5.6, 1.4],\n",
              "       [7.7, 6.1, 6.1, 2.3],\n",
              "       [6.3, 5.6, 5.6, 2.4],\n",
              "       [6.4, 5.5, 5.5, 1.8],\n",
              "       [6. , 4.8, 4.8, 1.8],\n",
              "       [6.9, 5.4, 5.4, 2.1],\n",
              "       [6.7, 5.6, 5.6, 2.4],\n",
              "       [6.9, 5.1, 5.1, 2.3],\n",
              "       [5.8, 5.1, 5.1, 1.9],\n",
              "       [6.8, 5.9, 5.9, 2.3],\n",
              "       [6.7, 5.7, 5.7, 2.5],\n",
              "       [6.7, 5.2, 5.2, 2.3],\n",
              "       [6.3, 5. , 5. , 1.9],\n",
              "       [6.5, 5.2, 5.2, 2. ],\n",
              "       [6.2, 5.4, 5.4, 2.3],\n",
              "       [5.9, 5.1, 5.1, 1.8]])"
            ]
          },
          "metadata": {},
          "execution_count": 53
        }
      ]
    },
    {
      "cell_type": "code",
      "source": [
        "clf = LinearDiscriminantAnalysis()"
      ],
      "metadata": {
        "id": "BT-mMe7cmg9K"
      },
      "execution_count": 54,
      "outputs": []
    },
    {
      "cell_type": "code",
      "source": [
        "y = df['Species'].values"
      ],
      "metadata": {
        "id": "7rKLR-mynO0r"
      },
      "execution_count": 65,
      "outputs": []
    },
    {
      "cell_type": "code",
      "source": [
        "from sklearn import preprocessing\n",
        "le = preprocessing.LabelEncoder()\n",
        "y = le.fit_transform(y)"
      ],
      "metadata": {
        "id": "alIeEN-cnHnk"
      },
      "execution_count": 66,
      "outputs": []
    },
    {
      "cell_type": "code",
      "source": [
        "y"
      ],
      "metadata": {
        "colab": {
          "base_uri": "https://localhost:8080/"
        },
        "id": "MmlISV71nXwK",
        "outputId": "bb081def-f16b-4159-e68a-4b44f20b2864"
      },
      "execution_count": 67,
      "outputs": [
        {
          "output_type": "execute_result",
          "data": {
            "text/plain": [
              "array([0, 0, 0, 0, 0, 0, 0, 0, 0, 0, 0, 0, 0, 0, 0, 0, 0, 0, 0, 0, 0, 0,\n",
              "       0, 0, 0, 0, 0, 0, 0, 0, 0, 0, 0, 0, 0, 0, 0, 0, 0, 0, 0, 0, 0, 0,\n",
              "       0, 0, 0, 0, 0, 0, 1, 1, 1, 1, 1, 1, 1, 1, 1, 1, 1, 1, 1, 1, 1, 1,\n",
              "       1, 1, 1, 1, 1, 1, 1, 1, 1, 1, 1, 1, 1, 1, 1, 1, 1, 1, 1, 1, 1, 1,\n",
              "       1, 1, 1, 1, 1, 1, 1, 1, 1, 1, 1, 1, 2, 2, 2, 2, 2, 2, 2, 2, 2, 2,\n",
              "       2, 2, 2, 2, 2, 2, 2, 2, 2, 2, 2, 2, 2, 2, 2, 2, 2, 2, 2, 2, 2, 2,\n",
              "       2, 2, 2, 2, 2, 2, 2, 2, 2, 2, 2, 2, 2, 2, 2, 2, 2, 2])"
            ]
          },
          "metadata": {},
          "execution_count": 67
        }
      ]
    },
    {
      "cell_type": "code",
      "source": [
        "clf.fit(X, y)"
      ],
      "metadata": {
        "colab": {
          "base_uri": "https://localhost:8080/"
        },
        "id": "zkGCfobqmhwG",
        "outputId": "adf98732-677e-433f-950c-49e8351fc37e"
      },
      "execution_count": 69,
      "outputs": [
        {
          "output_type": "execute_result",
          "data": {
            "text/plain": [
              "LinearDiscriminantAnalysis()"
            ]
          },
          "metadata": {},
          "execution_count": 69
        }
      ]
    },
    {
      "cell_type": "code",
      "source": [
        "t = clf.fit_transform(X, y)"
      ],
      "metadata": {
        "id": "fiSmx-GDmysK"
      },
      "execution_count": 72,
      "outputs": []
    },
    {
      "cell_type": "code",
      "source": [
        "t"
      ],
      "metadata": {
        "colab": {
          "base_uri": "https://localhost:8080/"
        },
        "id": "CmypUnM8ovb3",
        "outputId": "b24ca084-9da6-4c33-82cd-6aea1499e2d0"
      },
      "execution_count": 73,
      "outputs": [
        {
          "output_type": "execute_result",
          "data": {
            "text/plain": [
              "array([[-7.30461464e+00,  2.91019912e-01],\n",
              "       [-6.99696714e+00, -2.76572364e-02],\n",
              "       [-6.96086356e+00, -8.50915339e-02],\n",
              "       [-6.26395195e+00, -7.66915809e-01],\n",
              "       [-7.15079089e+00,  1.31681338e-01],\n",
              "       [-6.54226418e+00,  9.23840738e-01],\n",
              "       [-6.33090090e+00, -3.64061305e-02],\n",
              "       [-6.87924697e+00, -1.29561513e-01],\n",
              "       [-6.22784837e+00, -8.24350107e-01],\n",
              "       [-6.93001819e+00, -7.58166915e-01],\n",
              "       [-7.49454198e+00,  5.07792783e-01],\n",
              "       [-6.30005553e+00, -7.09481511e-01],\n",
              "       [-7.04773836e+00, -6.56262638e-01],\n",
              "       [-7.09325137e+00, -6.69226957e-01],\n",
              "       [-8.92446877e+00,  1.92887563e+00],\n",
              "       [-7.54682329e+00,  1.92434216e+00],\n",
              "       [-7.62843988e+00,  1.96881214e+00],\n",
              "       [-7.10001967e+00,  7.60286740e-01],\n",
              "       [-7.20833041e+00,  9.32589632e-01],\n",
              "       [-6.82847574e+00,  4.99043889e-01],\n",
              "       [-6.95145413e+00, -1.46929178e-02],\n",
              "       [-6.62388077e+00,  9.68310717e-01],\n",
              "       [-7.62167158e+00,  5.39298444e-01],\n",
              "       [-5.87619794e+00,  9.15091844e-01],\n",
              "       [-5.48542376e+00, -1.49321006e+00],\n",
              "       [-6.60770304e+00, -3.90804363e-01],\n",
              "       [-6.19851309e+00,  5.47729293e-01],\n",
              "       [-7.18689447e+00,  1.89115635e-01],\n",
              "       [-7.45843840e+00,  4.50358486e-01],\n",
              "       [-6.14623178e+00, -8.68820085e-01],\n",
              "       [-6.30005553e+00, -7.09481511e-01],\n",
              "       [-7.08535203e+00,  1.44632644e+00],\n",
              "       [-7.39148945e+00, -2.80151193e-01],\n",
              "       [-7.91990966e+00,  9.28374208e-01],\n",
              "       [-6.93001819e+00, -7.58166915e-01],\n",
              "       [-7.69387874e+00,  6.54167039e-01],\n",
              "       [-8.19145358e+00,  1.18961706e+00],\n",
              "       [-6.93001819e+00, -7.58166915e-01],\n",
              "       [-6.49939230e+00, -5.63107256e-01],\n",
              "       [-7.03307072e+00,  2.97770612e-02],\n",
              "       [-7.21773984e+00,  8.62191016e-01],\n",
              "       [-6.44862107e+00,  6.54981460e-02],\n",
              "       [-6.49939230e+00, -5.63107256e-01],\n",
              "       [-5.78932313e+00,  1.48626295e+00],\n",
              "       [-5.53770507e+00, -7.66606849e-02],\n",
              "       [-6.63854841e+00,  2.82271018e-01],\n",
              "       [-6.76152679e+00, -2.31465789e-01],\n",
              "       [-6.53549588e+00, -5.05672958e-01],\n",
              "       [-7.34071823e+00,  3.48454209e-01],\n",
              "       [-7.15079089e+00,  1.31681338e-01],\n",
              "       [ 1.18882329e+00,  3.28640687e-01],\n",
              "       [ 1.77327293e+00,  3.64361772e-01],\n",
              "       [ 2.09032987e+00,  1.16083240e-01],\n",
              "       [ 1.39077714e+00, -7.02004798e-01],\n",
              "       [ 1.89099310e+00,  2.62457495e-01],\n",
              "       [ 2.44084925e+00, -1.68954190e+00],\n",
              "       [ 2.67477951e+00,  1.51804325e-01],\n",
              "       [-2.00872749e-01, -1.23713677e+00],\n",
              "       [ 1.32797940e+00, -5.16737586e-01],\n",
              "       [ 1.78529945e+00, -4.49510841e-01],\n",
              "       [ 1.88391347e-01, -1.60028390e+00],\n",
              "       [ 1.72775992e+00,  3.51397453e-01],\n",
              "       [ 7.87343866e-03, -1.31311241e+00],\n",
              "       [ 2.57323707e+00, -1.10540648e+00],\n",
              "       [ 1.50777682e-01,  5.02305178e-01],\n",
              "       [ 8.35662771e-01,  6.34353517e-01],\n",
              "       [ 3.00386296e+00, -9.10346820e-01],\n",
              "       [ 5.87064870e-01, -1.89303241e+00],\n",
              "       [ 2.08092044e+00,  4.56846239e-02],\n",
              "       [ 5.56219504e-01, -1.21995703e+00],\n",
              "       [ 3.97080840e+00,  1.91740834e-01],\n",
              "       [ 4.67834615e-01,  2.54026646e-01],\n",
              "       [ 3.01327239e+00, -8.39948204e-01],\n",
              "       [ 2.16404711e+00, -2.04394014e+00],\n",
              "       [ 8.20995130e-01, -5.16861830e-02],\n",
              "       [ 9.89486525e-01,  4.75014943e-01],\n",
              "       [ 1.76801472e+00, -2.51279311e-01],\n",
              "       [ 3.07871125e+00,  4.74696897e-01],\n",
              "       [ 2.38856795e+00, -2.72992524e-01],\n",
              "       [-8.88374926e-01, -4.84913881e-01],\n",
              "       [ 4.38499332e-01, -1.11805275e+00],\n",
              "       [-3.76395695e-02, -1.32607673e+00],\n",
              "       [ 4.53166974e-01, -4.32013053e-01],\n",
              "       [ 4.22242647e+00, -1.37118280e+00],\n",
              "       [ 3.31151047e+00, -1.22902397e+00],\n",
              "       [ 2.59316292e+00,  1.96274304e-01],\n",
              "       [ 1.85488952e+00,  3.19891793e-01],\n",
              "       [ 1.24636281e+00, -4.72267608e-01],\n",
              "       [ 1.50849731e+00, -8.03909074e-01],\n",
              "       [ 1.39077714e+00, -7.02004798e-01],\n",
              "       [ 2.27235786e+00, -2.21624303e+00],\n",
              "       [ 2.30169314e+00, -8.44163629e-01],\n",
              "       [ 7.24710899e-01, -6.93255904e-01],\n",
              "       [-3.54696503e-01, -1.07779820e+00],\n",
              "       [ 1.78004123e+00, -1.06515192e+00],\n",
              "       [ 1.42162250e+00, -1.37508018e+00],\n",
              "       [ 1.62621748e+00, -9.05813351e-01],\n",
              "       [ 1.12864264e+00, -3.70363331e-01],\n",
              "       [-1.11855705e+00,  3.34535755e-01],\n",
              "       [ 1.35467355e+00, -6.44570500e-01],\n",
              "       [ 8.04620533e+00,  9.79048720e-01],\n",
              "       [ 5.14385891e+00, -2.82059463e-01],\n",
              "       [ 5.72569147e+00,  6.37932851e-01],\n",
              "       [ 5.52786479e+00, -1.26084767e+00],\n",
              "       [ 6.58168504e+00,  4.12411085e-01],\n",
              "       [ 6.85738018e+00, -3.94074233e-01],\n",
              "       [ 4.48981919e+00, -1.08718318e+00],\n",
              "       [ 5.89043473e+00, -1.49616189e+00],\n",
              "       [ 5.45565763e+00, -1.14597908e+00],\n",
              "       [ 6.93333547e+00,  2.15185304e+00],\n",
              "       [ 4.27168761e+00,  1.30257738e+00],\n",
              "       [ 4.76400424e+00,  1.51486280e-01],\n",
              "       [ 5.10098703e+00,  1.20488853e+00],\n",
              "       [ 5.23073371e+00,  2.89111641e-01],\n",
              "       [ 6.16683379e+00,  2.06427468e+00],\n",
              "       [ 5.58238415e+00,  2.02855359e+00],\n",
              "       [ 4.94867336e+00, -6.80927675e-01],\n",
              "       [ 7.17969533e+00, -2.67116811e-02],\n",
              "       [ 7.92737815e+00, -7.99305541e-02],\n",
              "       [ 3.74628757e+00, -1.57920678e+00],\n",
              "       [ 5.89944108e+00,  1.78027506e+00],\n",
              "       [ 5.11301354e+00,  3.91015918e-01],\n",
              "       [ 6.77050537e+00, -9.65245337e-01],\n",
              "       [ 3.62705732e+00,  5.67852280e-01],\n",
              "       [ 5.79789863e+00,  5.23064256e-01],\n",
              "       [ 5.22962671e+00, -8.71771910e-01],\n",
              "       [ 3.50933714e+00,  6.69756556e-01],\n",
              "       [ 3.93470482e+00,  2.49175132e-01],\n",
              "       [ 5.98782597e+00,  3.06291384e-01],\n",
              "       [ 4.27734891e+00, -1.28781986e+00],\n",
              "       [ 5.39811811e+00, -3.45070784e-01],\n",
              "       [ 5.64822609e+00,  1.37160363e-01],\n",
              "       [ 6.19242094e+00,  7.75558212e-01],\n",
              "       [ 3.55636024e+00, -1.36243391e+00],\n",
              "       [ 5.01713239e+00, -3.45659213e+00],\n",
              "       [ 5.75502675e+00,  2.01001225e+00],\n",
              "       [ 6.75543465e+00,  1.55475329e+00],\n",
              "       [ 5.10249711e+00, -8.40266249e-01],\n",
              "       [ 3.81698465e+00,  3.51079408e-01],\n",
              "       [ 4.67561935e+00,  1.62546996e+00],\n",
              "       [ 6.14013964e+00,  2.19210759e+00],\n",
              "       [ 4.27017753e+00,  3.34773216e+00],\n",
              "       [ 5.14385891e+00, -2.82059463e-01],\n",
              "       [ 6.59635268e+00,  1.09845078e+00],\n",
              "       [ 6.61627854e+00,  2.40013157e+00],\n",
              "       [ 4.84936896e+00,  2.76781216e+00],\n",
              "       [ 4.10319622e+00,  7.75876257e-01],\n",
              "       [ 4.54323154e+00,  1.04133453e+00],\n",
              "       [ 6.16157558e+00,  1.44863359e+00],\n",
              "       [ 4.78544018e+00, -5.91987717e-01]])"
            ]
          },
          "metadata": {},
          "execution_count": 73
        }
      ]
    },
    {
      "cell_type": "code",
      "source": [
        "import matplotlib.pyplot as plt"
      ],
      "metadata": {
        "id": "jSjojLahpKWz"
      },
      "execution_count": 76,
      "outputs": []
    },
    {
      "cell_type": "code",
      "source": [
        "new_df = pd.DataFrame(t, columns=['l1','l2'])"
      ],
      "metadata": {
        "id": "5vVDPSf_pTFw"
      },
      "execution_count": 79,
      "outputs": []
    },
    {
      "cell_type": "code",
      "source": [
        "new_df"
      ],
      "metadata": {
        "colab": {
          "base_uri": "https://localhost:8080/",
          "height": 424
        },
        "id": "v3aDXI1jpbhA",
        "outputId": "51f93684-3ab5-4cd5-8f05-1e61afffbffd"
      },
      "execution_count": 80,
      "outputs": [
        {
          "output_type": "execute_result",
          "data": {
            "text/plain": [
              "           l1        l2\n",
              "0   -7.304615  0.291020\n",
              "1   -6.996967 -0.027657\n",
              "2   -6.960864 -0.085092\n",
              "3   -6.263952 -0.766916\n",
              "4   -7.150791  0.131681\n",
              "..        ...       ...\n",
              "145  4.849369  2.767812\n",
              "146  4.103196  0.775876\n",
              "147  4.543232  1.041335\n",
              "148  6.161576  1.448634\n",
              "149  4.785440 -0.591988\n",
              "\n",
              "[150 rows x 2 columns]"
            ],
            "text/html": [
              "\n",
              "  <div id=\"df-55e144f2-0a5c-4f01-9bf4-7abd07998cd6\">\n",
              "    <div class=\"colab-df-container\">\n",
              "      <div>\n",
              "<style scoped>\n",
              "    .dataframe tbody tr th:only-of-type {\n",
              "        vertical-align: middle;\n",
              "    }\n",
              "\n",
              "    .dataframe tbody tr th {\n",
              "        vertical-align: top;\n",
              "    }\n",
              "\n",
              "    .dataframe thead th {\n",
              "        text-align: right;\n",
              "    }\n",
              "</style>\n",
              "<table border=\"1\" class=\"dataframe\">\n",
              "  <thead>\n",
              "    <tr style=\"text-align: right;\">\n",
              "      <th></th>\n",
              "      <th>l1</th>\n",
              "      <th>l2</th>\n",
              "    </tr>\n",
              "  </thead>\n",
              "  <tbody>\n",
              "    <tr>\n",
              "      <th>0</th>\n",
              "      <td>-7.304615</td>\n",
              "      <td>0.291020</td>\n",
              "    </tr>\n",
              "    <tr>\n",
              "      <th>1</th>\n",
              "      <td>-6.996967</td>\n",
              "      <td>-0.027657</td>\n",
              "    </tr>\n",
              "    <tr>\n",
              "      <th>2</th>\n",
              "      <td>-6.960864</td>\n",
              "      <td>-0.085092</td>\n",
              "    </tr>\n",
              "    <tr>\n",
              "      <th>3</th>\n",
              "      <td>-6.263952</td>\n",
              "      <td>-0.766916</td>\n",
              "    </tr>\n",
              "    <tr>\n",
              "      <th>4</th>\n",
              "      <td>-7.150791</td>\n",
              "      <td>0.131681</td>\n",
              "    </tr>\n",
              "    <tr>\n",
              "      <th>...</th>\n",
              "      <td>...</td>\n",
              "      <td>...</td>\n",
              "    </tr>\n",
              "    <tr>\n",
              "      <th>145</th>\n",
              "      <td>4.849369</td>\n",
              "      <td>2.767812</td>\n",
              "    </tr>\n",
              "    <tr>\n",
              "      <th>146</th>\n",
              "      <td>4.103196</td>\n",
              "      <td>0.775876</td>\n",
              "    </tr>\n",
              "    <tr>\n",
              "      <th>147</th>\n",
              "      <td>4.543232</td>\n",
              "      <td>1.041335</td>\n",
              "    </tr>\n",
              "    <tr>\n",
              "      <th>148</th>\n",
              "      <td>6.161576</td>\n",
              "      <td>1.448634</td>\n",
              "    </tr>\n",
              "    <tr>\n",
              "      <th>149</th>\n",
              "      <td>4.785440</td>\n",
              "      <td>-0.591988</td>\n",
              "    </tr>\n",
              "  </tbody>\n",
              "</table>\n",
              "<p>150 rows × 2 columns</p>\n",
              "</div>\n",
              "      <button class=\"colab-df-convert\" onclick=\"convertToInteractive('df-55e144f2-0a5c-4f01-9bf4-7abd07998cd6')\"\n",
              "              title=\"Convert this dataframe to an interactive table.\"\n",
              "              style=\"display:none;\">\n",
              "        \n",
              "  <svg xmlns=\"http://www.w3.org/2000/svg\" height=\"24px\"viewBox=\"0 0 24 24\"\n",
              "       width=\"24px\">\n",
              "    <path d=\"M0 0h24v24H0V0z\" fill=\"none\"/>\n",
              "    <path d=\"M18.56 5.44l.94 2.06.94-2.06 2.06-.94-2.06-.94-.94-2.06-.94 2.06-2.06.94zm-11 1L8.5 8.5l.94-2.06 2.06-.94-2.06-.94L8.5 2.5l-.94 2.06-2.06.94zm10 10l.94 2.06.94-2.06 2.06-.94-2.06-.94-.94-2.06-.94 2.06-2.06.94z\"/><path d=\"M17.41 7.96l-1.37-1.37c-.4-.4-.92-.59-1.43-.59-.52 0-1.04.2-1.43.59L10.3 9.45l-7.72 7.72c-.78.78-.78 2.05 0 2.83L4 21.41c.39.39.9.59 1.41.59.51 0 1.02-.2 1.41-.59l7.78-7.78 2.81-2.81c.8-.78.8-2.07 0-2.86zM5.41 20L4 18.59l7.72-7.72 1.47 1.35L5.41 20z\"/>\n",
              "  </svg>\n",
              "      </button>\n",
              "      \n",
              "  <style>\n",
              "    .colab-df-container {\n",
              "      display:flex;\n",
              "      flex-wrap:wrap;\n",
              "      gap: 12px;\n",
              "    }\n",
              "\n",
              "    .colab-df-convert {\n",
              "      background-color: #E8F0FE;\n",
              "      border: none;\n",
              "      border-radius: 50%;\n",
              "      cursor: pointer;\n",
              "      display: none;\n",
              "      fill: #1967D2;\n",
              "      height: 32px;\n",
              "      padding: 0 0 0 0;\n",
              "      width: 32px;\n",
              "    }\n",
              "\n",
              "    .colab-df-convert:hover {\n",
              "      background-color: #E2EBFA;\n",
              "      box-shadow: 0px 1px 2px rgba(60, 64, 67, 0.3), 0px 1px 3px 1px rgba(60, 64, 67, 0.15);\n",
              "      fill: #174EA6;\n",
              "    }\n",
              "\n",
              "    [theme=dark] .colab-df-convert {\n",
              "      background-color: #3B4455;\n",
              "      fill: #D2E3FC;\n",
              "    }\n",
              "\n",
              "    [theme=dark] .colab-df-convert:hover {\n",
              "      background-color: #434B5C;\n",
              "      box-shadow: 0px 1px 3px 1px rgba(0, 0, 0, 0.15);\n",
              "      filter: drop-shadow(0px 1px 2px rgba(0, 0, 0, 0.3));\n",
              "      fill: #FFFFFF;\n",
              "    }\n",
              "  </style>\n",
              "\n",
              "      <script>\n",
              "        const buttonEl =\n",
              "          document.querySelector('#df-55e144f2-0a5c-4f01-9bf4-7abd07998cd6 button.colab-df-convert');\n",
              "        buttonEl.style.display =\n",
              "          google.colab.kernel.accessAllowed ? 'block' : 'none';\n",
              "\n",
              "        async function convertToInteractive(key) {\n",
              "          const element = document.querySelector('#df-55e144f2-0a5c-4f01-9bf4-7abd07998cd6');\n",
              "          const dataTable =\n",
              "            await google.colab.kernel.invokeFunction('convertToInteractive',\n",
              "                                                     [key], {});\n",
              "          if (!dataTable) return;\n",
              "\n",
              "          const docLinkHtml = 'Like what you see? Visit the ' +\n",
              "            '<a target=\"_blank\" href=https://colab.research.google.com/notebooks/data_table.ipynb>data table notebook</a>'\n",
              "            + ' to learn more about interactive tables.';\n",
              "          element.innerHTML = '';\n",
              "          dataTable['output_type'] = 'display_data';\n",
              "          await google.colab.output.renderOutput(dataTable, element);\n",
              "          const docLink = document.createElement('div');\n",
              "          docLink.innerHTML = docLinkHtml;\n",
              "          element.appendChild(docLink);\n",
              "        }\n",
              "      </script>\n",
              "    </div>\n",
              "  </div>\n",
              "  "
            ]
          },
          "metadata": {},
          "execution_count": 80
        }
      ]
    },
    {
      "cell_type": "code",
      "source": [
        "plt.scatter(new_df['l1'], new_df['l2'])"
      ],
      "metadata": {
        "colab": {
          "base_uri": "https://localhost:8080/",
          "height": 282
        },
        "id": "oOYfp9z1pwnQ",
        "outputId": "1ddcb27c-0af4-4612-c896-0504211bcf93"
      },
      "execution_count": 82,
      "outputs": [
        {
          "output_type": "execute_result",
          "data": {
            "text/plain": [
              "<matplotlib.collections.PathCollection at 0x7f5622fe0990>"
            ]
          },
          "metadata": {},
          "execution_count": 82
        },
        {
          "output_type": "display_data",
          "data": {
            "text/plain": [
              "<Figure size 432x288 with 1 Axes>"
            ],
            "image/png": "[encoded data removed]"
          },
          "metadata": {
            "needs_background": "light"
          }
        }
      ]
    },
    {
      "cell_type": "markdown",
      "source": [
        "# K means - LDA"
      ],
      "metadata": {
        "id": "4LH-ugBNqHZa"
      }
    },
    {
      "cell_type": "code",
      "source": [
        "from sklearn.cluster import KMeans"
      ],
      "metadata": {
        "id": "91M2iHOmqLdA"
      },
      "execution_count": 83,
      "outputs": []
    },
    {
      "cell_type": "code",
      "source": [
        "kmeans = KMeans(n_clusters=2, random_state=0).fit(new_df.values)"
      ],
      "metadata": {
        "id": "EjEPhnbjqLdC"
      },
      "execution_count": 84,
      "outputs": []
    },
    {
      "cell_type": "code",
      "source": [
        "lb = kmeans.labels_"
      ],
      "metadata": {
        "id": "E9XcAzEgqLdD"
      },
      "execution_count": 85,
      "outputs": []
    },
    {
      "cell_type": "code",
      "source": [
        "lb"
      ],
      "metadata": {
        "colab": {
          "base_uri": "https://localhost:8080/"
        },
        "outputId": "5cd6b478-6f3d-43a9-dbea-224e4d81b4b5",
        "id": "loN7Ln6bqLdD"
      },
      "execution_count": 86,
      "outputs": [
        {
          "output_type": "execute_result",
          "data": {
            "text/plain": [
              "array([0, 0, 0, 0, 0, 0, 0, 0, 0, 0, 0, 0, 0, 0, 0, 0, 0, 0, 0, 0, 0, 0,\n",
              "       0, 0, 0, 0, 0, 0, 0, 0, 0, 0, 0, 0, 0, 0, 0, 0, 0, 0, 0, 0, 0, 0,\n",
              "       0, 0, 0, 0, 0, 0, 1, 1, 1, 1, 1, 1, 1, 1, 1, 1, 1, 1, 1, 1, 1, 1,\n",
              "       1, 1, 1, 1, 1, 1, 1, 1, 1, 1, 1, 1, 1, 1, 1, 1, 1, 1, 1, 1, 1, 1,\n",
              "       1, 1, 1, 1, 1, 1, 1, 1, 1, 1, 1, 1, 1, 1, 1, 1, 1, 1, 1, 1, 1, 1,\n",
              "       1, 1, 1, 1, 1, 1, 1, 1, 1, 1, 1, 1, 1, 1, 1, 1, 1, 1, 1, 1, 1, 1,\n",
              "       1, 1, 1, 1, 1, 1, 1, 1, 1, 1, 1, 1, 1, 1, 1, 1, 1, 1], dtype=int32)"
            ]
          },
          "metadata": {},
          "execution_count": 86
        }
      ]
    },
    {
      "cell_type": "code",
      "source": [
        "centers = kmeans.cluster_centers_"
      ],
      "metadata": {
        "id": "op5kyzNaqLdE"
      },
      "execution_count": 87,
      "outputs": []
    },
    {
      "cell_type": "code",
      "source": [
        "centers"
      ],
      "metadata": {
        "colab": {
          "base_uri": "https://localhost:8080/"
        },
        "outputId": "262f9667-661e-4009-b414-643c3ff09579",
        "id": "W-LpCs_IqLdE"
      },
      "execution_count": 88,
      "outputs": [
        {
          "output_type": "execute_result",
          "data": {
            "text/plain": [
              "array([[-6.89621041,  0.18052363],\n",
              "       [ 3.44810521, -0.09026182]])"
            ]
          },
          "metadata": {},
          "execution_count": 88
        }
      ]
    },
    {
      "cell_type": "code",
      "source": [
        "out = kmeans.fit_transform(new_df.values)"
      ],
      "metadata": {
        "id": "T1eB4jM_qLdE"
      },
      "execution_count": 89,
      "outputs": []
    },
    {
      "cell_type": "code",
      "source": [
        "final_df = pd.DataFrame(out)"
      ],
      "metadata": {
        "id": "E5RcZhPeqLdE"
      },
      "execution_count": 90,
      "outputs": []
    },
    {
      "cell_type": "code",
      "source": [
        "final_df"
      ],
      "metadata": {
        "colab": {
          "base_uri": "https://localhost:8080/",
          "height": 424
        },
        "outputId": "32610967-aa52-40fa-c661-849983d3fe9f",
        "id": "sR9QXlezqLdF"
      },
      "execution_count": 91,
      "outputs": [
        {
          "output_type": "execute_result",
          "data": {
            "text/plain": [
              "             0          1\n",
              "0     0.423088  10.759478\n",
              "1     0.231282  10.445260\n",
              "2     0.273371  10.408970\n",
              "3     1.139031   9.735600\n",
              "4     0.259223  10.601220\n",
              "..         ...        ...\n",
              "145  12.027165   3.183100\n",
              "146  11.015507   1.085974\n",
              "147  11.471784   1.574742\n",
              "148  13.119218   3.119474\n",
              "149  11.707166   1.428353\n",
              "\n",
              "[150 rows x 2 columns]"
            ],
            "text/html": [
              "\n",
              "  <div id=\"df-3750d22c-2603-4f60-a31b-a870503cd178\">\n",
              "    <div class=\"colab-df-container\">\n",
              "      <div>\n",
              "<style scoped>\n",
              "    .dataframe tbody tr th:only-of-type {\n",
              "        vertical-align: middle;\n",
              "    }\n",
              "\n",
              "    .dataframe tbody tr th {\n",
              "        vertical-align: top;\n",
              "    }\n",
              "\n",
              "    .dataframe thead th {\n",
              "        text-align: right;\n",
              "    }\n",
              "</style>\n",
              "<table border=\"1\" class=\"dataframe\">\n",
              "  <thead>\n",
              "    <tr style=\"text-align: right;\">\n",
              "      <th></th>\n",
              "      <th>0</th>\n",
              "      <th>1</th>\n",
              "    </tr>\n",
              "  </thead>\n",
              "  <tbody>\n",
              "    <tr>\n",
              "      <th>0</th>\n",
              "      <td>0.423088</td>\n",
              "      <td>10.759478</td>\n",
              "    </tr>\n",
              "    <tr>\n",
              "      <th>1</th>\n",
              "      <td>0.231282</td>\n",
              "      <td>10.445260</td>\n",
              "    </tr>\n",
              "    <tr>\n",
              "      <th>2</th>\n",
              "      <td>0.273371</td>\n",
              "      <td>10.408970</td>\n",
              "    </tr>\n",
              "    <tr>\n",
              "      <th>3</th>\n",
              "      <td>1.139031</td>\n",
              "      <td>9.735600</td>\n",
              "    </tr>\n",
              "    <tr>\n",
              "      <th>4</th>\n",
              "      <td>0.259223</td>\n",
              "      <td>10.601220</td>\n",
              "    </tr>\n",
              "    <tr>\n",
              "      <th>...</th>\n",
              "      <td>...</td>\n",
              "      <td>...</td>\n",
              "    </tr>\n",
              "    <tr>\n",
              "      <th>145</th>\n",
              "      <td>12.027165</td>\n",
              "      <td>3.183100</td>\n",
              "    </tr>\n",
              "    <tr>\n",
              "      <th>146</th>\n",
              "      <td>11.015507</td>\n",
              "      <td>1.085974</td>\n",
              "    </tr>\n",
              "    <tr>\n",
              "      <th>147</th>\n",
              "      <td>11.471784</td>\n",
              "      <td>1.574742</td>\n",
              "    </tr>\n",
              "    <tr>\n",
              "      <th>148</th>\n",
              "      <td>13.119218</td>\n",
              "      <td>3.119474</td>\n",
              "    </tr>\n",
              "    <tr>\n",
              "      <th>149</th>\n",
              "      <td>11.707166</td>\n",
              "      <td>1.428353</td>\n",
              "    </tr>\n",
              "  </tbody>\n",
              "</table>\n",
              "<p>150 rows × 2 columns</p>\n",
              "</div>\n",
              "      <button class=\"colab-df-convert\" onclick=\"convertToInteractive('df-3750d22c-2603-4f60-a31b-a870503cd178')\"\n",
              "              title=\"Convert this dataframe to an interactive table.\"\n",
              "              style=\"display:none;\">\n",
              "        \n",
              "  <svg xmlns=\"http://www.w3.org/2000/svg\" height=\"24px\"viewBox=\"0 0 24 24\"\n",
              "       width=\"24px\">\n",
              "    <path d=\"M0 0h24v24H0V0z\" fill=\"none\"/>\n",
              "    <path d=\"M18.56 5.44l.94 2.06.94-2.06 2.06-.94-2.06-.94-.94-2.06-.94 2.06-2.06.94zm-11 1L8.5 8.5l.94-2.06 2.06-.94-2.06-.94L8.5 2.5l-.94 2.06-2.06.94zm10 10l.94 2.06.94-2.06 2.06-.94-2.06-.94-.94-2.06-.94 2.06-2.06.94z\"/><path d=\"M17.41 7.96l-1.37-1.37c-.4-.4-.92-.59-1.43-.59-.52 0-1.04.2-1.43.59L10.3 9.45l-7.72 7.72c-.78.78-.78 2.05 0 2.83L4 21.41c.39.39.9.59 1.41.59.51 0 1.02-.2 1.41-.59l7.78-7.78 2.81-2.81c.8-.78.8-2.07 0-2.86zM5.41 20L4 18.59l7.72-7.72 1.47 1.35L5.41 20z\"/>\n",
              "  </svg>\n",
              "      </button>\n",
              "      \n",
              "  <style>\n",
              "    .colab-df-container {\n",
              "      display:flex;\n",
              "      flex-wrap:wrap;\n",
              "      gap: 12px;\n",
              "    }\n",
              "\n",
              "    .colab-df-convert {\n",
              "      background-color: #E8F0FE;\n",
              "      border: none;\n",
              "      border-radius: 50%;\n",
              "      cursor: pointer;\n",
              "      display: none;\n",
              "      fill: #1967D2;\n",
              "      height: 32px;\n",
              "      padding: 0 0 0 0;\n",
              "      width: 32px;\n",
              "    }\n",
              "\n",
              "    .colab-df-convert:hover {\n",
              "      background-color: #E2EBFA;\n",
              "      box-shadow: 0px 1px 2px rgba(60, 64, 67, 0.3), 0px 1px 3px 1px rgba(60, 64, 67, 0.15);\n",
              "      fill: #174EA6;\n",
              "    }\n",
              "\n",
              "    [theme=dark] .colab-df-convert {\n",
              "      background-color: #3B4455;\n",
              "      fill: #D2E3FC;\n",
              "    }\n",
              "\n",
              "    [theme=dark] .colab-df-convert:hover {\n",
              "      background-color: #434B5C;\n",
              "      box-shadow: 0px 1px 3px 1px rgba(0, 0, 0, 0.15);\n",
              "      filter: drop-shadow(0px 1px 2px rgba(0, 0, 0, 0.3));\n",
              "      fill: #FFFFFF;\n",
              "    }\n",
              "  </style>\n",
              "\n",
              "      <script>\n",
              "        const buttonEl =\n",
              "          document.querySelector('#df-3750d22c-2603-4f60-a31b-a870503cd178 button.colab-df-convert');\n",
              "        buttonEl.style.display =\n",
              "          google.colab.kernel.accessAllowed ? 'block' : 'none';\n",
              "\n",
              "        async function convertToInteractive(key) {\n",
              "          const element = document.querySelector('#df-3750d22c-2603-4f60-a31b-a870503cd178');\n",
              "          const dataTable =\n",
              "            await google.colab.kernel.invokeFunction('convertToInteractive',\n",
              "                                                     [key], {});\n",
              "          if (!dataTable) return;\n",
              "\n",
              "          const docLinkHtml = 'Like what you see? Visit the ' +\n",
              "            '<a target=\"_blank\" href=https://colab.research.google.com/notebooks/data_table.ipynb>data table notebook</a>'\n",
              "            + ' to learn more about interactive tables.';\n",
              "          element.innerHTML = '';\n",
              "          dataTable['output_type'] = 'display_data';\n",
              "          await google.colab.output.renderOutput(dataTable, element);\n",
              "          const docLink = document.createElement('div');\n",
              "          docLink.innerHTML = docLinkHtml;\n",
              "          element.appendChild(docLink);\n",
              "        }\n",
              "      </script>\n",
              "    </div>\n",
              "  </div>\n",
              "  "
            ]
          },
          "metadata": {},
          "execution_count": 91
        }
      ]
    },
    {
      "cell_type": "code",
      "source": [
        "plt.scatter(final_df[0], final_df[1])"
      ],
      "metadata": {
        "colab": {
          "base_uri": "https://localhost:8080/",
          "height": 282
        },
        "outputId": "17504888-966a-4bd4-ffa9-04f903b46233",
        "id": "jrw-YbG8qLdF"
      },
      "execution_count": 92,
      "outputs": [
        {
          "output_type": "execute_result",
          "data": {
            "text/plain": [
              "<matplotlib.collections.PathCollection at 0x7f5622ee5b50>"
            ]
          },
          "metadata": {},
          "execution_count": 92
        },
        {
          "output_type": "display_data",
          "data": {
            "text/plain": [
              "<Figure size 432x288 with 1 Axes>"
            ],
            "image/png": "[encoded data removed]"
          },
          "metadata": {
            "needs_background": "light"
          }
        }
      ]
    },
    {
      "cell_type": "code",
      "source": [
        "pds = kmeans.predict(new_df.values)"
      ],
      "metadata": {
        "id": "U-jGhzBzqLdF"
      },
      "execution_count": 93,
      "outputs": []
    },
    {
      "cell_type": "code",
      "source": [
        "pds.shape"
      ],
      "metadata": {
        "colab": {
          "base_uri": "https://localhost:8080/"
        },
        "outputId": "371d7f79-bc33-476d-8f90-9f6db13a5c1b",
        "id": "5Cc2jJ14qLdF"
      },
      "execution_count": 94,
      "outputs": [
        {
          "output_type": "execute_result",
          "data": {
            "text/plain": [
              "(150,)"
            ]
          },
          "metadata": {},
          "execution_count": 94
        }
      ]
    },
    {
      "cell_type": "code",
      "source": [
        "plt.scatter(centers[0], centers[1], color='green')\n",
        "plt.scatter(new_df['l1'], new_df['l2'], c=lb, cmap='rainbow')"
      ],
      "metadata": {
        "colab": {
          "base_uri": "https://localhost:8080/",
          "height": 282
        },
        "outputId": "9a84b608-990a-4179-a44d-7b83d5c56243",
        "id": "zScyO7L-qLdF"
      },
      "execution_count": 96,
      "outputs": [
        {
          "output_type": "execute_result",
          "data": {
            "text/plain": [
              "<matplotlib.collections.PathCollection at 0x7f5622e5b710>"
            ]
          },
          "metadata": {},
          "execution_count": 96
        },
        {
          "output_type": "display_data",
          "data": {
            "text/plain": [
              "<Figure size 432x288 with 1 Axes>"
            ],
            "image/png": "[encoded data removed]"
          },
          "metadata": {
            "needs_background": "light"
          }
        }
      ]
    },
    {
      "cell_type": "markdown",
      "source": [
        "# MakeBlob Data"
      ],
      "metadata": {
        "id": "MlbDnpLzqiTB"
      }
    },
    {
      "cell_type": "code",
      "source": [
        "from sklearn.datasets import make_blobs"
      ],
      "metadata": {
        "id": "5Jh5FES0qliL"
      },
      "execution_count": 213,
      "outputs": []
    },
    {
      "cell_type": "code",
      "source": [
        "X, y = make_blobs(n_samples=100, centers=7, n_features=12, random_state=0)"
      ],
      "metadata": {
        "id": "B2oHjzIk1dpd"
      },
      "execution_count": 214,
      "outputs": []
    },
    {
      "cell_type": "code",
      "source": [
        "X"
      ],
      "metadata": {
        "colab": {
          "base_uri": "https://localhost:8080/"
        },
        "id": "yGxiRIb2wums",
        "outputId": "0391925e-5b01-44b6-e0ea-dbbfab864887"
      },
      "execution_count": 215,
      "outputs": [
        {
          "output_type": "execute_result",
          "data": {
            "text/plain": [
              "array([[  3.09361241,   9.19643387,  -8.20845383, ...,   6.1068932 ,\n",
              "         -0.90051971,   5.70453676],\n",
              "       [ -8.68913995,   3.61866826,  -6.66980392, ...,   1.31807544,\n",
              "        -10.14172303,   1.37388008],\n",
              "       [  1.75993757,   5.73934001,  -6.62336653, ...,   8.04766415,\n",
              "         -0.88095341,   6.63075624],\n",
              "       ...,\n",
              "       [  9.19452942,   0.83373748,   2.00791244, ...,   0.30873184,\n",
              "         -8.21166313,   4.20869154],\n",
              "       [ -6.83394668,   2.8766806 ,  -7.52816323, ...,   0.40406696,\n",
              "        -10.40683315,   2.24232064],\n",
              "       [  1.22494152,   9.64882413,  -8.48155387, ...,   5.30299308,\n",
              "         -0.10402967,   5.14986374]])"
            ]
          },
          "metadata": {},
          "execution_count": 215
        }
      ]
    },
    {
      "cell_type": "code",
      "source": [
        "y"
      ],
      "metadata": {
        "colab": {
          "base_uri": "https://localhost:8080/"
        },
        "id": "i38aa32BqliM",
        "outputId": "15cf4696-03b4-4bfd-9e75-9e24e19af3e5"
      },
      "execution_count": 216,
      "outputs": [
        {
          "output_type": "execute_result",
          "data": {
            "text/plain": [
              "array([1, 2, 1, 6, 4, 3, 0, 5, 6, 4, 0, 1, 0, 3, 2, 6, 4, 4, 2, 4, 5, 0,\n",
              "       2, 1, 1, 5, 4, 0, 2, 0, 3, 5, 1, 6, 4, 4, 1, 6, 2, 2, 1, 4, 2, 1,\n",
              "       0, 6, 5, 0, 3, 3, 5, 3, 2, 4, 5, 6, 6, 5, 0, 0, 0, 6, 3, 5, 3, 0,\n",
              "       5, 3, 1, 5, 2, 3, 6, 4, 0, 1, 1, 0, 6, 1, 2, 3, 6, 2, 5, 3, 4, 0,\n",
              "       5, 1, 5, 4, 3, 3, 4, 6, 2, 6, 2, 1])"
            ]
          },
          "metadata": {},
          "execution_count": 216
        }
      ]
    },
    {
      "cell_type": "code",
      "source": [
        "clf = LinearDiscriminantAnalysis(n_components = 2)\n",
        "ldaa = clf.fit_transform(X, y)"
      ],
      "metadata": {
        "id": "MicbfEEmx2jl"
      },
      "execution_count": 221,
      "outputs": []
    },
    {
      "cell_type": "code",
      "source": [
        "ldaa"
      ],
      "metadata": {
        "colab": {
          "base_uri": "https://localhost:8080/"
        },
        "id": "D0lXU4b5ysYL",
        "outputId": "d2d9ce18-3026-4c36-b972-9a51f8e32822"
      },
      "execution_count": 222,
      "outputs": [
        {
          "output_type": "execute_result",
          "data": {
            "text/plain": [
              "array([[-25.15641835,   4.78992112],\n",
              "       [  3.24226788,  19.18337919],\n",
              "       [-24.3932315 ,   3.37678911],\n",
              "       [  8.45822889,  -0.99785926],\n",
              "       [ 16.45053358,  -4.2988638 ],\n",
              "       [ 12.14557397,   2.24818473],\n",
              "       [ -7.06301248,   0.73291839],\n",
              "       [ -4.7979047 , -24.74487044],\n",
              "       [  5.81771574,   0.6268914 ],\n",
              "       [ 18.13216705,  -3.52656821],\n",
              "       [ -6.70258281,  -0.47582814],\n",
              "       [-24.35893793,   4.90705536],\n",
              "       [ -9.33650763,   2.14865627],\n",
              "       [ 12.69319236,   1.79219506],\n",
              "       [  4.04100383,  18.14943703],\n",
              "       [  6.70593477,  -0.50605653],\n",
              "       [ 17.37718185,  -4.14735637],\n",
              "       [ 17.91301375,  -4.00662237],\n",
              "       [  3.3798584 ,  18.18706758],\n",
              "       [ 18.73716059,  -6.84249993],\n",
              "       [ -4.46824458, -21.71574017],\n",
              "       [ -7.77660503,   1.37663274],\n",
              "       [  1.55637624,  19.40865167],\n",
              "       [-24.52609011,   3.84411936],\n",
              "       [-26.96597647,   3.37971789],\n",
              "       [ -2.17016274, -21.83205744],\n",
              "       [ 15.76145373,  -6.24848067],\n",
              "       [ -6.86559956,  -0.19728118],\n",
              "       [  5.13020523,  20.22183653],\n",
              "       [ -8.36529452,   0.11419084],\n",
              "       [ 11.78575557,   3.99306317],\n",
              "       [ -3.36526624, -23.02096575],\n",
              "       [-25.51822489,   2.05597965],\n",
              "       [  6.97824509,   0.04668078],\n",
              "       [ 16.90740775,  -5.05513461],\n",
              "       [ 17.01239658,  -3.2010589 ],\n",
              "       [-25.7304496 ,   3.29081473],\n",
              "       [  7.46254284,  -1.43430964],\n",
              "       [  3.72449539,  18.41857964],\n",
              "       [  3.63634914,  19.25813935],\n",
              "       [-24.69160703,   3.37008987],\n",
              "       [ 16.22327836,  -3.00213931],\n",
              "       [  3.71619513,  19.18287737],\n",
              "       [-26.5225928 ,   3.36942601],\n",
              "       [ -6.8625392 ,   0.18344936],\n",
              "       [  7.23759019,  -0.26476416],\n",
              "       [ -4.73702615, -22.24731678],\n",
              "       [ -7.92015982,   1.49708077],\n",
              "       [ 12.0129191 ,   4.60111568],\n",
              "       [ 11.36757619,   2.24529715],\n",
              "       [ -4.91144619, -21.49246461],\n",
              "       [ 10.96450571,   2.59361149],\n",
              "       [  2.17442119,  18.85614441],\n",
              "       [ 19.44624043,  -5.03579955],\n",
              "       [ -2.71000276, -21.68542455],\n",
              "       [  8.11173585,  -0.5371384 ],\n",
              "       [  8.34020441,  -0.98406446],\n",
              "       [ -1.34075041, -21.07838217],\n",
              "       [ -7.52747075,   0.08152312],\n",
              "       [ -8.17394881,   0.29498737],\n",
              "       [ -6.65822556,  -0.8282619 ],\n",
              "       [  6.95128867,   0.92748546],\n",
              "       [  9.9618183 ,   3.21360769],\n",
              "       [ -3.3855143 , -21.70407064],\n",
              "       [ 10.38586374,   3.9655024 ],\n",
              "       [ -7.54876517,   0.51967884],\n",
              "       [ -4.73344335, -20.5569825 ],\n",
              "       [ 12.22413048,   2.38311197],\n",
              "       [-25.04126221,   4.47236373],\n",
              "       [ -3.69077272, -23.14896595],\n",
              "       [  0.51316038,  19.45283243],\n",
              "       [ 12.2067968 ,   2.93656271],\n",
              "       [  6.88432515,   0.31595154],\n",
              "       [ 15.71491109,  -4.49477249],\n",
              "       [ -7.51902881,   1.52237062],\n",
              "       [-24.40436591,   2.18996414],\n",
              "       [-25.70932146,   2.53724658],\n",
              "       [ -7.91757183,   0.91044503],\n",
              "       [  5.47252331,  -0.82633576],\n",
              "       [-26.82063531,   3.4894632 ],\n",
              "       [  4.71676552,  21.70683078],\n",
              "       [ 12.49030022,   4.94206112],\n",
              "       [  7.46448472,   0.03318597],\n",
              "       [  3.03825541,  17.59604445],\n",
              "       [ -4.00643265, -22.2506724 ],\n",
              "       [ 10.50073174,   2.14454715],\n",
              "       [ 17.59670677,  -5.80770935],\n",
              "       [ -8.19963118,   1.72488465],\n",
              "       [ -4.72334667, -23.68884447],\n",
              "       [-25.74859959,   4.60443252],\n",
              "       [ -4.69958699, -22.27718952],\n",
              "       [ 16.14819681,  -3.50876104],\n",
              "       [ 13.07437611,   3.78673451],\n",
              "       [ 11.83006368,   5.09681681],\n",
              "       [ 18.39842364,  -3.66471547],\n",
              "       [  7.63404415,   0.36002745],\n",
              "       [  2.92078508,  18.73410499],\n",
              "       [  6.49190076,   0.62806534],\n",
              "       [  1.96454778,  18.33011763],\n",
              "       [-25.46357025,   4.98538497]])"
            ]
          },
          "metadata": {},
          "execution_count": 222
        }
      ]
    },
    {
      "cell_type": "code",
      "source": [
        "data = pd.DataFrame(ldaa,columns=['lda1', 'lda2'])"
      ],
      "metadata": {
        "id": "KVXCOD9DqliM"
      },
      "execution_count": 224,
      "outputs": []
    },
    {
      "cell_type": "code",
      "source": [
        "import matplotlib.pyplot as plt"
      ],
      "metadata": {
        "id": "9HeSb6DCq7M5"
      },
      "execution_count": 225,
      "outputs": []
    },
    {
      "cell_type": "code",
      "source": [
        "plt.scatter(data['lda1'], data['lda2'], c=y, cmap='rainbow')"
      ],
      "metadata": {
        "colab": {
          "base_uri": "https://localhost:8080/",
          "height": 282
        },
        "outputId": "07b409a8-70ec-4e0f-f6bb-89eaf23f7a51",
        "id": "zmL76_zsq7M6"
      },
      "execution_count": 231,
      "outputs": [
        {
          "output_type": "execute_result",
          "data": {
            "text/plain": [
              "<matplotlib.collections.PathCollection at 0x7f562072cfd0>"
            ]
          },
          "metadata": {},
          "execution_count": 231
        },
        {
          "output_type": "display_data",
          "data": {
            "text/plain": [
              "<Figure size 432x288 with 1 Axes>"
            ],
            "image/png": "[encoded data removed]"
          },
          "metadata": {
            "needs_background": "light"
          }
        }
      ]
    },
    {
      "cell_type": "code",
      "source": [
        ""
      ],
      "metadata": {
        "id": "Mv1PnjXRrRuB"
      },
      "execution_count": null,
      "outputs": []
    },
    {
      "cell_type": "markdown",
      "source": [
        "# Make_blobs K Means"
      ],
      "metadata": {
        "id": "LIXaa4oX2-6L"
      }
    },
    {
      "cell_type": "code",
      "source": [
        "from sklearn.cluster import KMeans"
      ],
      "metadata": {
        "id": "OywYNzIy270H"
      },
      "execution_count": 232,
      "outputs": []
    },
    {
      "cell_type": "code",
      "source": [
        "kmeans = KMeans(n_clusters=2, random_state=0).fit(data)"
      ],
      "metadata": {
        "id": "KC6ai3nT270P"
      },
      "execution_count": 233,
      "outputs": []
    },
    {
      "cell_type": "code",
      "source": [
        "lb = kmeans.labels_"
      ],
      "metadata": {
        "id": "X35IRlCT270P"
      },
      "execution_count": 234,
      "outputs": []
    },
    {
      "cell_type": "code",
      "source": [
        "lb"
      ],
      "metadata": {
        "colab": {
          "base_uri": "https://localhost:8080/"
        },
        "outputId": "259315b1-e423-436c-ccad-b6695d0a87da",
        "id": "K2qBq2Ah270P"
      },
      "execution_count": 235,
      "outputs": [
        {
          "output_type": "execute_result",
          "data": {
            "text/plain": [
              "array([0, 1, 0, 1, 1, 1, 0, 0, 1, 1, 0, 0, 0, 1, 1, 1, 1, 1, 1, 1, 0, 0,\n",
              "       1, 0, 0, 0, 1, 0, 1, 0, 1, 0, 0, 1, 1, 1, 0, 1, 1, 1, 0, 1, 1, 0,\n",
              "       0, 1, 0, 0, 1, 1, 0, 1, 1, 1, 0, 1, 1, 0, 0, 0, 0, 1, 1, 0, 1, 0,\n",
              "       0, 1, 0, 0, 1, 1, 1, 1, 0, 0, 0, 0, 1, 0, 1, 1, 1, 1, 0, 1, 1, 0,\n",
              "       0, 0, 0, 1, 1, 1, 1, 1, 1, 1, 1, 0], dtype=int32)"
            ]
          },
          "metadata": {},
          "execution_count": 235
        }
      ]
    },
    {
      "cell_type": "code",
      "source": [
        "centers = kmeans.cluster_centers_"
      ],
      "metadata": {
        "id": "1_3H6Zyn270P"
      },
      "execution_count": 236,
      "outputs": []
    },
    {
      "cell_type": "code",
      "source": [
        "centers"
      ],
      "metadata": {
        "colab": {
          "base_uri": "https://localhost:8080/"
        },
        "outputId": "9a7609ab-0b61-4f0e-b8b2-44a6b612f96a",
        "id": "_lHmNPqv270P"
      },
      "execution_count": 237,
      "outputs": [
        {
          "output_type": "execute_result",
          "data": {
            "text/plain": [
              "array([[-12.48245743,  -5.61763028],\n",
              "       [  9.80764513,   4.41385236]])"
            ]
          },
          "metadata": {},
          "execution_count": 237
        }
      ]
    },
    {
      "cell_type": "code",
      "source": [
        "out = kmeans.fit_transform(new_df.values)"
      ],
      "metadata": {
        "id": "5hc4trYR270P"
      },
      "execution_count": 238,
      "outputs": []
    },
    {
      "cell_type": "code",
      "source": [
        "final_df = pd.DataFrame(out)"
      ],
      "metadata": {
        "id": "1aHYSUE1270Q"
      },
      "execution_count": 239,
      "outputs": []
    },
    {
      "cell_type": "code",
      "source": [
        "final_df"
      ],
      "metadata": {
        "colab": {
          "base_uri": "https://localhost:8080/",
          "height": 424
        },
        "outputId": "8749bc11-466b-417a-8e89-2899bffaabed",
        "id": "EfyySva3270Q"
      },
      "execution_count": 240,
      "outputs": [
        {
          "output_type": "execute_result",
          "data": {
            "text/plain": [
              "              0         1\n",
              "0      2.378507  0.450276\n",
              "1      1.388378  0.539854\n",
              "2      2.274617  0.346386\n",
              "3      2.297704  0.369473\n",
              "4      1.218945  0.709286\n",
              "...         ...       ...\n",
              "11157  0.853591  1.074640\n",
              "11158  1.307574  0.620657\n",
              "11159  0.398317  2.326549\n",
              "11160  0.085286  2.013517\n",
              "11161  0.208189  2.136420\n",
              "\n",
              "[11162 rows x 2 columns]"
            ],
            "text/html": [
              "\n",
              "  <div id=\"df-e1906b4e-33a5-485a-9e97-bdd9efe9e72c\">\n",
              "    <div class=\"colab-df-container\">\n",
              "      <div>\n",
              "<style scoped>\n",
              "    .dataframe tbody tr th:only-of-type {\n",
              "        vertical-align: middle;\n",
              "    }\n",
              "\n",
              "    .dataframe tbody tr th {\n",
              "        vertical-align: top;\n",
              "    }\n",
              "\n",
              "    .dataframe thead th {\n",
              "        text-align: right;\n",
              "    }\n",
              "</style>\n",
              "<table border=\"1\" class=\"dataframe\">\n",
              "  <thead>\n",
              "    <tr style=\"text-align: right;\">\n",
              "      <th></th>\n",
              "      <th>0</th>\n",
              "      <th>1</th>\n",
              "    </tr>\n",
              "  </thead>\n",
              "  <tbody>\n",
              "    <tr>\n",
              "      <th>0</th>\n",
              "      <td>2.378507</td>\n",
              "      <td>0.450276</td>\n",
              "    </tr>\n",
              "    <tr>\n",
              "      <th>1</th>\n",
              "      <td>1.388378</td>\n",
              "      <td>0.539854</td>\n",
              "    </tr>\n",
              "    <tr>\n",
              "      <th>2</th>\n",
              "      <td>2.274617</td>\n",
              "      <td>0.346386</td>\n",
              "    </tr>\n",
              "    <tr>\n",
              "      <th>3</th>\n",
              "      <td>2.297704</td>\n",
              "      <td>0.369473</td>\n",
              "    </tr>\n",
              "    <tr>\n",
              "      <th>4</th>\n",
              "      <td>1.218945</td>\n",
              "      <td>0.709286</td>\n",
              "    </tr>\n",
              "    <tr>\n",
              "      <th>...</th>\n",
              "      <td>...</td>\n",
              "      <td>...</td>\n",
              "    </tr>\n",
              "    <tr>\n",
              "      <th>11157</th>\n",
              "      <td>0.853591</td>\n",
              "      <td>1.074640</td>\n",
              "    </tr>\n",
              "    <tr>\n",
              "      <th>11158</th>\n",
              "      <td>1.307574</td>\n",
              "      <td>0.620657</td>\n",
              "    </tr>\n",
              "    <tr>\n",
              "      <th>11159</th>\n",
              "      <td>0.398317</td>\n",
              "      <td>2.326549</td>\n",
              "    </tr>\n",
              "    <tr>\n",
              "      <th>11160</th>\n",
              "      <td>0.085286</td>\n",
              "      <td>2.013517</td>\n",
              "    </tr>\n",
              "    <tr>\n",
              "      <th>11161</th>\n",
              "      <td>0.208189</td>\n",
              "      <td>2.136420</td>\n",
              "    </tr>\n",
              "  </tbody>\n",
              "</table>\n",
              "<p>11162 rows × 2 columns</p>\n",
              "</div>\n",
              "      <button class=\"colab-df-convert\" onclick=\"convertToInteractive('df-e1906b4e-33a5-485a-9e97-bdd9efe9e72c')\"\n",
              "              title=\"Convert this dataframe to an interactive table.\"\n",
              "              style=\"display:none;\">\n",
              "        \n",
              "  <svg xmlns=\"http://www.w3.org/2000/svg\" height=\"24px\"viewBox=\"0 0 24 24\"\n",
              "       width=\"24px\">\n",
              "    <path d=\"M0 0h24v24H0V0z\" fill=\"none\"/>\n",
              "    <path d=\"M18.56 5.44l.94 2.06.94-2.06 2.06-.94-2.06-.94-.94-2.06-.94 2.06-2.06.94zm-11 1L8.5 8.5l.94-2.06 2.06-.94-2.06-.94L8.5 2.5l-.94 2.06-2.06.94zm10 10l.94 2.06.94-2.06 2.06-.94-2.06-.94-.94-2.06-.94 2.06-2.06.94z\"/><path d=\"M17.41 7.96l-1.37-1.37c-.4-.4-.92-.59-1.43-.59-.52 0-1.04.2-1.43.59L10.3 9.45l-7.72 7.72c-.78.78-.78 2.05 0 2.83L4 21.41c.39.39.9.59 1.41.59.51 0 1.02-.2 1.41-.59l7.78-7.78 2.81-2.81c.8-.78.8-2.07 0-2.86zM5.41 20L4 18.59l7.72-7.72 1.47 1.35L5.41 20z\"/>\n",
              "  </svg>\n",
              "      </button>\n",
              "      \n",
              "  <style>\n",
              "    .colab-df-container {\n",
              "      display:flex;\n",
              "      flex-wrap:wrap;\n",
              "      gap: 12px;\n",
              "    }\n",
              "\n",
              "    .colab-df-convert {\n",
              "      background-color: #E8F0FE;\n",
              "      border: none;\n",
              "      border-radius: 50%;\n",
              "      cursor: pointer;\n",
              "      display: none;\n",
              "      fill: #1967D2;\n",
              "      height: 32px;\n",
              "      padding: 0 0 0 0;\n",
              "      width: 32px;\n",
              "    }\n",
              "\n",
              "    .colab-df-convert:hover {\n",
              "      background-color: #E2EBFA;\n",
              "      box-shadow: 0px 1px 2px rgba(60, 64, 67, 0.3), 0px 1px 3px 1px rgba(60, 64, 67, 0.15);\n",
              "      fill: #174EA6;\n",
              "    }\n",
              "\n",
              "    [theme=dark] .colab-df-convert {\n",
              "      background-color: #3B4455;\n",
              "      fill: #D2E3FC;\n",
              "    }\n",
              "\n",
              "    [theme=dark] .colab-df-convert:hover {\n",
              "      background-color: #434B5C;\n",
              "      box-shadow: 0px 1px 3px 1px rgba(0, 0, 0, 0.15);\n",
              "      filter: drop-shadow(0px 1px 2px rgba(0, 0, 0, 0.3));\n",
              "      fill: #FFFFFF;\n",
              "    }\n",
              "  </style>\n",
              "\n",
              "      <script>\n",
              "        const buttonEl =\n",
              "          document.querySelector('#df-e1906b4e-33a5-485a-9e97-bdd9efe9e72c button.colab-df-convert');\n",
              "        buttonEl.style.display =\n",
              "          google.colab.kernel.accessAllowed ? 'block' : 'none';\n",
              "\n",
              "        async function convertToInteractive(key) {\n",
              "          const element = document.querySelector('#df-e1906b4e-33a5-485a-9e97-bdd9efe9e72c');\n",
              "          const dataTable =\n",
              "            await google.colab.kernel.invokeFunction('convertToInteractive',\n",
              "                                                     [key], {});\n",
              "          if (!dataTable) return;\n",
              "\n",
              "          const docLinkHtml = 'Like what you see? Visit the ' +\n",
              "            '<a target=\"_blank\" href=https://colab.research.google.com/notebooks/data_table.ipynb>data table notebook</a>'\n",
              "            + ' to learn more about interactive tables.';\n",
              "          element.innerHTML = '';\n",
              "          dataTable['output_type'] = 'display_data';\n",
              "          await google.colab.output.renderOutput(dataTable, element);\n",
              "          const docLink = document.createElement('div');\n",
              "          docLink.innerHTML = docLinkHtml;\n",
              "          element.appendChild(docLink);\n",
              "        }\n",
              "      </script>\n",
              "    </div>\n",
              "  </div>\n",
              "  "
            ]
          },
          "metadata": {},
          "execution_count": 240
        }
      ]
    },
    {
      "cell_type": "code",
      "source": [
        "plt.scatter(final_df[0], final_df[1])"
      ],
      "metadata": {
        "colab": {
          "base_uri": "https://localhost:8080/",
          "height": 282
        },
        "outputId": "d3fbcbcd-79f9-4430-c45f-e0c429e714c0",
        "id": "5PdUcKby270Q"
      },
      "execution_count": 241,
      "outputs": [
        {
          "output_type": "execute_result",
          "data": {
            "text/plain": [
              "<matplotlib.collections.PathCollection at 0x7f56206fab10>"
            ]
          },
          "metadata": {},
          "execution_count": 241
        },
        {
          "output_type": "display_data",
          "data": {
            "text/plain": [
              "<Figure size 432x288 with 1 Axes>"
            ],
            "image/png": "[encoded data removed]"
          },
          "metadata": {
            "needs_background": "light"
          }
        }
      ]
    },
    {
      "cell_type": "code",
      "source": [
        "pds = kmeans.predict(new_df.values)"
      ],
      "metadata": {
        "id": "tPzhxI6e270Q"
      },
      "execution_count": 242,
      "outputs": []
    },
    {
      "cell_type": "code",
      "source": [
        "pds.shape"
      ],
      "metadata": {
        "colab": {
          "base_uri": "https://localhost:8080/"
        },
        "outputId": "c05ca6f6-fd53-44fe-ac69-363189c06544",
        "id": "HwMWfJ64270Q"
      },
      "execution_count": 243,
      "outputs": [
        {
          "output_type": "execute_result",
          "data": {
            "text/plain": [
              "(11162,)"
            ]
          },
          "metadata": {},
          "execution_count": 243
        }
      ]
    },
    {
      "cell_type": "code",
      "source": [
        "plt.scatter(centers[0], centers[1], color='green')\n",
        "plt.scatter(data['lda1'], data['lda2'], c=lb, cmap='rainbow')"
      ],
      "metadata": {
        "colab": {
          "base_uri": "https://localhost:8080/",
          "height": 282
        },
        "outputId": "821bc8e5-ab30-45d6-f5e7-0f6c35836682",
        "id": "NhaPkp5C270Q"
      },
      "execution_count": 246,
      "outputs": [
        {
          "output_type": "execute_result",
          "data": {
            "text/plain": [
              "<matplotlib.collections.PathCollection at 0x7f5622eb3b90>"
            ]
          },
          "metadata": {},
          "execution_count": 246
        },
        {
          "output_type": "display_data",
          "data": {
            "text/plain": [
              "<Figure size 432x288 with 1 Axes>"
            ],
            "image/png": "[encoded data removed]"
          },
          "metadata": {
            "needs_background": "light"
          }
        }
      ]
    },
    {
      "cell_type": "code",
      "source": [
        ""
      ],
      "metadata": {
        "id": "jO2rX-Vq3HrW"
      },
      "execution_count": null,
      "outputs": []
    }
  ]
}