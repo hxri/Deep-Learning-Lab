{
  "nbformat": 4,
  "nbformat_minor": 0,
  "metadata": {
    "colab": {
      "name": "Experiment_6_DNN.ipynb",
      "provenance": [],
      "collapsed_sections": [],
      "authorship_tag": "ABX9TyP83fc1YqQDH3ySrois2vll",
      "include_colab_link": true
    },
    "kernelspec": {
      "name": "python3",
      "display_name": "Python 3"
    },
    "language_info": {
      "name": "python"
    }
  },
  "cells": [
    {
      "cell_type": "markdown",
      "metadata": {
        "id": "view-in-github",
        "colab_type": "text"
      },
      "source": [
        "<a href=\"https://colab.research.google.com/github/hxri/Deep-Learning-Lab/blob/main/Experiment_6_DNN.ipynb\" target=\"_parent\"><img src=\"https://colab.research.google.com/assets/colab-badge.svg\" alt=\"Open In Colab\"/></a>"
      ]
    },
    {
      "cell_type": "markdown",
      "source": [
        "#Iris Dataset"
      ],
      "metadata": {
        "id": "G3d0JsIDv-zN"
      }
    },
    {
      "cell_type": "code",
      "source": [
        "from sklearn.datasets import load_iris"
      ],
      "metadata": {
        "id": "27od1ukymRZP"
      },
      "execution_count": 204,
      "outputs": []
    },
    {
      "cell_type": "code",
      "source": [
        "iris = load_iris()\n",
        "X = iris.data\n",
        "y = iris.target"
      ],
      "metadata": {
        "id": "sU28W-BkmVqj"
      },
      "execution_count": 241,
      "outputs": []
    },
    {
      "cell_type": "code",
      "execution_count": 242,
      "metadata": {
        "id": "PO3e_L0EiFP9"
      },
      "outputs": [],
      "source": [
        "import tensorflow as tf\n",
        "from tensorflow.keras.models import Sequential\n",
        "from tensorflow.keras.layers import Dense\n",
        "from sklearn.model_selection import train_test_split\n",
        "from tensorflow.keras.utils import to_categorical"
      ]
    },
    {
      "cell_type": "code",
      "source": [
        "y = to_categorical(y)"
      ],
      "metadata": {
        "id": "M5tXs9RWt5pG"
      },
      "execution_count": 243,
      "outputs": []
    },
    {
      "cell_type": "code",
      "source": [
        "X_train, X_test, y_train, y_test = train_test_split(X, y, test_size=0.2,random_state=73)"
      ],
      "metadata": {
        "id": "GM-gqApzmhdN"
      },
      "execution_count": 244,
      "outputs": []
    },
    {
      "cell_type": "code",
      "source": [
        "X_train.shape"
      ],
      "metadata": {
        "colab": {
          "base_uri": "https://localhost:8080/"
        },
        "id": "jLKNA-QEmGa9",
        "outputId": "a297a8b5-e512-42bc-aa9b-9de5671cd225"
      },
      "execution_count": 245,
      "outputs": [
        {
          "output_type": "execute_result",
          "data": {
            "text/plain": [
              "(120, 4)"
            ]
          },
          "metadata": {},
          "execution_count": 245
        }
      ]
    },
    {
      "cell_type": "code",
      "source": [
        "y_train.shape"
      ],
      "metadata": {
        "colab": {
          "base_uri": "https://localhost:8080/"
        },
        "id": "yrA8s2O5m_4V",
        "outputId": "c9733b48-cdbb-4f30-807c-3ec15844af8d"
      },
      "execution_count": 246,
      "outputs": [
        {
          "output_type": "execute_result",
          "data": {
            "text/plain": [
              "(120, 3)"
            ]
          },
          "metadata": {},
          "execution_count": 246
        }
      ]
    },
    {
      "cell_type": "code",
      "source": [
        "model = Sequential()\n",
        "model.add(Dense(4, activation='relu', input_dim=4))\n",
        "# model.add(Dense(2, activation='relu'))\n",
        "model.add(Dense(3, activation='sigmoid'))"
      ],
      "metadata": {
        "id": "ZTsa_1KZnBfo"
      },
      "execution_count": 247,
      "outputs": []
    },
    {
      "cell_type": "code",
      "source": [
        "opt = tf.keras.optimizers.Adam(0.01)\n",
        "model.compile(loss='categorical_crossentropy', metrics=['accuracy'], optimizer=opt)"
      ],
      "metadata": {
        "id": "ifZesFngnm7t"
      },
      "execution_count": 248,
      "outputs": []
    },
    {
      "cell_type": "code",
      "source": [
        "model.summary()"
      ],
      "metadata": {
        "colab": {
          "base_uri": "https://localhost:8080/"
        },
        "id": "Pv35Iv1Pn5Pc",
        "outputId": "0b270c5e-044c-4e8a-bb0c-17905f849fa8"
      },
      "execution_count": 249,
      "outputs": [
        {
          "output_type": "stream",
          "name": "stdout",
          "text": [
            "Model: \"sequential_37\"\n",
            "_________________________________________________________________\n",
            " Layer (type)                Output Shape              Param #   \n",
            "=================================================================\n",
            " dense_82 (Dense)            (None, 4)                 20        \n",
            "                                                                 \n",
            " dense_83 (Dense)            (None, 3)                 15        \n",
            "                                                                 \n",
            "=================================================================\n",
            "Total params: 35\n",
            "Trainable params: 35\n",
            "Non-trainable params: 0\n",
            "_________________________________________________________________\n"
          ]
        }
      ]
    },
    {
      "cell_type": "code",
      "source": [
        "history = model.fit(X_train, y_train, validation_data=(X_test, y_test), epochs=50)"
      ],
      "metadata": {
        "colab": {
          "base_uri": "https://localhost:8080/"
        },
        "id": "hYz-MKZWn8ED",
        "outputId": "980740b2-9c6d-4f6b-abcc-b5abe9d6d0d4"
      },
      "execution_count": 250,
      "outputs": [
        {
          "output_type": "stream",
          "name": "stdout",
          "text": [
            "Epoch 1/50\n",
            "4/4 [==============================] - 0s 54ms/step - loss: 2.1391 - accuracy: 0.3417 - val_loss: 1.7196 - val_accuracy: 0.3000\n",
            "Epoch 2/50\n",
            "4/4 [==============================] - 0s 9ms/step - loss: 1.4303 - accuracy: 0.3417 - val_loss: 1.2854 - val_accuracy: 0.3000\n",
            "Epoch 3/50\n",
            "4/4 [==============================] - 0s 10ms/step - loss: 1.1600 - accuracy: 0.4250 - val_loss: 1.2070 - val_accuracy: 0.3333\n",
            "Epoch 4/50\n",
            "4/4 [==============================] - 0s 16ms/step - loss: 1.1593 - accuracy: 0.3333 - val_loss: 1.1896 - val_accuracy: 0.3333\n",
            "Epoch 5/50\n",
            "4/4 [==============================] - 0s 15ms/step - loss: 1.1406 - accuracy: 0.3333 - val_loss: 1.1266 - val_accuracy: 0.3333\n",
            "Epoch 6/50\n",
            "4/4 [==============================] - 0s 10ms/step - loss: 1.0713 - accuracy: 0.3333 - val_loss: 1.0514 - val_accuracy: 0.3333\n",
            "Epoch 7/50\n",
            "4/4 [==============================] - 0s 9ms/step - loss: 0.9967 - accuracy: 0.3667 - val_loss: 1.0007 - val_accuracy: 0.4000\n",
            "Epoch 8/50\n",
            "4/4 [==============================] - 0s 9ms/step - loss: 0.9545 - accuracy: 0.5417 - val_loss: 0.9779 - val_accuracy: 0.4000\n",
            "Epoch 9/50\n",
            "4/4 [==============================] - 0s 10ms/step - loss: 0.9385 - accuracy: 0.4333 - val_loss: 0.9630 - val_accuracy: 0.3667\n",
            "Epoch 10/50\n",
            "4/4 [==============================] - 0s 10ms/step - loss: 0.9166 - accuracy: 0.5083 - val_loss: 0.9340 - val_accuracy: 0.5667\n",
            "Epoch 11/50\n",
            "4/4 [==============================] - 0s 11ms/step - loss: 0.8895 - accuracy: 0.7250 - val_loss: 0.8968 - val_accuracy: 0.8000\n",
            "Epoch 12/50\n",
            "4/4 [==============================] - 0s 10ms/step - loss: 0.8636 - accuracy: 0.8250 - val_loss: 0.8697 - val_accuracy: 0.7667\n",
            "Epoch 13/50\n",
            "4/4 [==============================] - 0s 11ms/step - loss: 0.8453 - accuracy: 0.8417 - val_loss: 0.8492 - val_accuracy: 0.8000\n",
            "Epoch 14/50\n",
            "4/4 [==============================] - 0s 12ms/step - loss: 0.8271 - accuracy: 0.8333 - val_loss: 0.8298 - val_accuracy: 0.8000\n",
            "Epoch 15/50\n",
            "4/4 [==============================] - 0s 10ms/step - loss: 0.8065 - accuracy: 0.8917 - val_loss: 0.8107 - val_accuracy: 0.8333\n",
            "Epoch 16/50\n",
            "4/4 [==============================] - 0s 9ms/step - loss: 0.7851 - accuracy: 0.9083 - val_loss: 0.7911 - val_accuracy: 0.8333\n",
            "Epoch 17/50\n",
            "4/4 [==============================] - 0s 11ms/step - loss: 0.7652 - accuracy: 0.9083 - val_loss: 0.7713 - val_accuracy: 0.8333\n",
            "Epoch 18/50\n",
            "4/4 [==============================] - 0s 12ms/step - loss: 0.7457 - accuracy: 0.9333 - val_loss: 0.7508 - val_accuracy: 0.8333\n",
            "Epoch 19/50\n",
            "4/4 [==============================] - 0s 9ms/step - loss: 0.7258 - accuracy: 0.9250 - val_loss: 0.7304 - val_accuracy: 0.8667\n",
            "Epoch 20/50\n",
            "4/4 [==============================] - 0s 10ms/step - loss: 0.7098 - accuracy: 0.9000 - val_loss: 0.7099 - val_accuracy: 0.8000\n",
            "Epoch 21/50\n",
            "4/4 [==============================] - 0s 10ms/step - loss: 0.6897 - accuracy: 0.9000 - val_loss: 0.6921 - val_accuracy: 0.8667\n",
            "Epoch 22/50\n",
            "4/4 [==============================] - 0s 9ms/step - loss: 0.6728 - accuracy: 0.9167 - val_loss: 0.6726 - val_accuracy: 0.8667\n",
            "Epoch 23/50\n",
            "4/4 [==============================] - 0s 9ms/step - loss: 0.6548 - accuracy: 0.9250 - val_loss: 0.6568 - val_accuracy: 0.8667\n",
            "Epoch 24/50\n",
            "4/4 [==============================] - 0s 16ms/step - loss: 0.6351 - accuracy: 0.9417 - val_loss: 0.6378 - val_accuracy: 0.8667\n",
            "Epoch 25/50\n",
            "4/4 [==============================] - 0s 10ms/step - loss: 0.6190 - accuracy: 0.9500 - val_loss: 0.6212 - val_accuracy: 0.8667\n",
            "Epoch 26/50\n",
            "4/4 [==============================] - 0s 10ms/step - loss: 0.6025 - accuracy: 0.9417 - val_loss: 0.6041 - val_accuracy: 0.8667\n",
            "Epoch 27/50\n",
            "4/4 [==============================] - 0s 11ms/step - loss: 0.5856 - accuracy: 0.9167 - val_loss: 0.5882 - val_accuracy: 0.8667\n",
            "Epoch 28/50\n",
            "4/4 [==============================] - 0s 11ms/step - loss: 0.5701 - accuracy: 0.9500 - val_loss: 0.5737 - val_accuracy: 0.9000\n",
            "Epoch 29/50\n",
            "4/4 [==============================] - 0s 10ms/step - loss: 0.5541 - accuracy: 0.9667 - val_loss: 0.5591 - val_accuracy: 0.9000\n",
            "Epoch 30/50\n",
            "4/4 [==============================] - 0s 10ms/step - loss: 0.5392 - accuracy: 0.9667 - val_loss: 0.5441 - val_accuracy: 0.9333\n",
            "Epoch 31/50\n",
            "4/4 [==============================] - 0s 9ms/step - loss: 0.5247 - accuracy: 0.9750 - val_loss: 0.5296 - val_accuracy: 0.9000\n",
            "Epoch 32/50\n",
            "4/4 [==============================] - 0s 9ms/step - loss: 0.5164 - accuracy: 0.9333 - val_loss: 0.5197 - val_accuracy: 0.8667\n",
            "Epoch 33/50\n",
            "4/4 [==============================] - 0s 10ms/step - loss: 0.5030 - accuracy: 0.9250 - val_loss: 0.5028 - val_accuracy: 0.9000\n",
            "Epoch 34/50\n",
            "4/4 [==============================] - 0s 10ms/step - loss: 0.4828 - accuracy: 0.9750 - val_loss: 0.4899 - val_accuracy: 0.9333\n",
            "Epoch 35/50\n",
            "4/4 [==============================] - 0s 9ms/step - loss: 0.4704 - accuracy: 0.9750 - val_loss: 0.4776 - val_accuracy: 0.9000\n",
            "Epoch 36/50\n",
            "4/4 [==============================] - 0s 9ms/step - loss: 0.4573 - accuracy: 0.9833 - val_loss: 0.4657 - val_accuracy: 0.9000\n",
            "Epoch 37/50\n",
            "4/4 [==============================] - 0s 9ms/step - loss: 0.4443 - accuracy: 0.9833 - val_loss: 0.4554 - val_accuracy: 0.9000\n",
            "Epoch 38/50\n",
            "4/4 [==============================] - 0s 10ms/step - loss: 0.4345 - accuracy: 0.9750 - val_loss: 0.4445 - val_accuracy: 0.9000\n",
            "Epoch 39/50\n",
            "4/4 [==============================] - 0s 9ms/step - loss: 0.4212 - accuracy: 0.9833 - val_loss: 0.4328 - val_accuracy: 0.9000\n",
            "Epoch 40/50\n",
            "4/4 [==============================] - 0s 9ms/step - loss: 0.4125 - accuracy: 0.9667 - val_loss: 0.4215 - val_accuracy: 0.9667\n",
            "Epoch 41/50\n",
            "4/4 [==============================] - 0s 9ms/step - loss: 0.4019 - accuracy: 0.9833 - val_loss: 0.4135 - val_accuracy: 0.9000\n",
            "Epoch 42/50\n",
            "4/4 [==============================] - 0s 10ms/step - loss: 0.3902 - accuracy: 0.9833 - val_loss: 0.4043 - val_accuracy: 0.9000\n",
            "Epoch 43/50\n",
            "4/4 [==============================] - 0s 11ms/step - loss: 0.3804 - accuracy: 0.9833 - val_loss: 0.3919 - val_accuracy: 0.9333\n",
            "Epoch 44/50\n",
            "4/4 [==============================] - 0s 11ms/step - loss: 0.3713 - accuracy: 0.9833 - val_loss: 0.3837 - val_accuracy: 0.9333\n",
            "Epoch 45/50\n",
            "4/4 [==============================] - 0s 10ms/step - loss: 0.3631 - accuracy: 0.9833 - val_loss: 0.3775 - val_accuracy: 0.9000\n",
            "Epoch 46/50\n",
            "4/4 [==============================] - 0s 9ms/step - loss: 0.3521 - accuracy: 0.9833 - val_loss: 0.3663 - val_accuracy: 0.9667\n",
            "Epoch 47/50\n",
            "4/4 [==============================] - 0s 9ms/step - loss: 0.3471 - accuracy: 0.9833 - val_loss: 0.3557 - val_accuracy: 0.9667\n",
            "Epoch 48/50\n",
            "4/4 [==============================] - 0s 10ms/step - loss: 0.3412 - accuracy: 0.9833 - val_loss: 0.3564 - val_accuracy: 0.9000\n",
            "Epoch 49/50\n",
            "4/4 [==============================] - 0s 9ms/step - loss: 0.3297 - accuracy: 0.9833 - val_loss: 0.3438 - val_accuracy: 0.9333\n",
            "Epoch 50/50\n",
            "4/4 [==============================] - 0s 10ms/step - loss: 0.3207 - accuracy: 0.9833 - val_loss: 0.3354 - val_accuracy: 0.9667\n"
          ]
        }
      ]
    },
    {
      "cell_type": "code",
      "source": [
        "import keras\n",
        "from matplotlib import pyplot as plt\n",
        "plt.plot(history.history['accuracy'])\n",
        "plt.plot(history.history['val_accuracy'])\n",
        "plt.title('model accuracy')\n",
        "plt.ylabel('accuracy')\n",
        "plt.xlabel('epoch')\n",
        "plt.legend(['train', 'val'], loc='upper left')\n",
        "plt.show()"
      ],
      "metadata": {
        "colab": {
          "base_uri": "https://localhost:8080/",
          "height": 295
        },
        "outputId": "b1705329-a164-4135-e622-a6895bc41be3",
        "id": "fJt10JGF4G2q"
      },
      "execution_count": 251,
      "outputs": [
        {
          "output_type": "display_data",
          "data": {
            "text/plain": [
              "<Figure size 432x288 with 1 Axes>"
            ],
            "image/png": "[encoded data removed]"
          },
          "metadata": {
            "needs_background": "light"
          }
        }
      ]
    },
    {
      "cell_type": "code",
      "source": [
        "plt.plot(history.history['loss']) \n",
        "plt.plot(history.history['val_loss'])\n",
        "plt.title('model loss')\n",
        "plt.ylabel('loss')\n",
        "plt.xlabel('epoch')\n",
        "plt.legend(['train', 'val'], loc='upper left')\n",
        "plt.show()"
      ],
      "metadata": {
        "colab": {
          "base_uri": "https://localhost:8080/",
          "height": 295
        },
        "outputId": "54546c2c-56b3-4289-82df-90eed8464baf",
        "id": "kuQyphtX4G2r"
      },
      "execution_count": 252,
      "outputs": [
        {
          "output_type": "display_data",
          "data": {
            "text/plain": [
              "<Figure size 432x288 with 1 Axes>"
            ],
            "image/png": "[encoded data removed]"
          },
          "metadata": {
            "needs_background": "light"
          }
        }
      ]
    },
    {
      "cell_type": "markdown",
      "source": [
        "# Wine Dataset"
      ],
      "metadata": {
        "id": "uQNTlFG6wDU0"
      }
    },
    {
      "cell_type": "code",
      "source": [
        "from sklearn.datasets import load_wine"
      ],
      "metadata": {
        "id": "Nkt0WvAhwFkC"
      },
      "execution_count": 205,
      "outputs": []
    },
    {
      "cell_type": "code",
      "source": [
        "iris = load_wine()\n",
        "X = iris.data\n",
        "y = iris.target"
      ],
      "metadata": {
        "id": "3XuFdioUwJbB"
      },
      "execution_count": 206,
      "outputs": []
    },
    {
      "cell_type": "code",
      "source": [
        "X.shape"
      ],
      "metadata": {
        "colab": {
          "base_uri": "https://localhost:8080/"
        },
        "id": "FvLhHI3vwNSZ",
        "outputId": "c0a4776b-c644-447d-f52d-086670146882"
      },
      "execution_count": 207,
      "outputs": [
        {
          "output_type": "execute_result",
          "data": {
            "text/plain": [
              "(178, 13)"
            ]
          },
          "metadata": {},
          "execution_count": 207
        }
      ]
    },
    {
      "cell_type": "code",
      "source": [
        "y.shape"
      ],
      "metadata": {
        "colab": {
          "base_uri": "https://localhost:8080/"
        },
        "id": "97KrTFlhwOSF",
        "outputId": "f2981bf2-c2eb-4cf4-f099-a0c86e894ba7"
      },
      "execution_count": 208,
      "outputs": [
        {
          "output_type": "execute_result",
          "data": {
            "text/plain": [
              "(178,)"
            ]
          },
          "metadata": {},
          "execution_count": 208
        }
      ]
    },
    {
      "cell_type": "code",
      "execution_count": 209,
      "metadata": {
        "id": "3JHK4aX0wVKp"
      },
      "outputs": [],
      "source": [
        "import tensorflow as tf\n",
        "from tensorflow.keras.models import Sequential\n",
        "from tensorflow.keras.layers import Dense\n",
        "from sklearn.model_selection import train_test_split\n",
        "from tensorflow.keras.utils import to_categorical"
      ]
    },
    {
      "cell_type": "code",
      "source": [
        "y = to_categorical(y)"
      ],
      "metadata": {
        "id": "XB7fJLl6wVKp"
      },
      "execution_count": 210,
      "outputs": []
    },
    {
      "cell_type": "code",
      "source": [
        "X_train, X_test, y_train, y_test = train_test_split(X, y, test_size=0.2,random_state=73)"
      ],
      "metadata": {
        "id": "cifk7RcbwVKq"
      },
      "execution_count": 211,
      "outputs": []
    },
    {
      "cell_type": "code",
      "source": [
        "X_train.shape"
      ],
      "metadata": {
        "colab": {
          "base_uri": "https://localhost:8080/"
        },
        "outputId": "74ae5b50-1f85-4be3-84cd-6de55b473d82",
        "id": "Xx9rw41zwVKq"
      },
      "execution_count": 212,
      "outputs": [
        {
          "output_type": "execute_result",
          "data": {
            "text/plain": [
              "(142, 13)"
            ]
          },
          "metadata": {},
          "execution_count": 212
        }
      ]
    },
    {
      "cell_type": "code",
      "source": [
        "y_train.shape"
      ],
      "metadata": {
        "colab": {
          "base_uri": "https://localhost:8080/"
        },
        "outputId": "2985e722-e7f0-4607-f53e-0e54557fa5d1",
        "id": "M-VWI0hUwVKq"
      },
      "execution_count": 213,
      "outputs": [
        {
          "output_type": "execute_result",
          "data": {
            "text/plain": [
              "(142, 3)"
            ]
          },
          "metadata": {},
          "execution_count": 213
        }
      ]
    },
    {
      "cell_type": "code",
      "source": [
        "y_train[0]"
      ],
      "metadata": {
        "colab": {
          "base_uri": "https://localhost:8080/"
        },
        "id": "yuj2TB5xwbur",
        "outputId": "dd5ed2d6-10c0-4238-c33e-3a3422c7552e"
      },
      "execution_count": 217,
      "outputs": [
        {
          "output_type": "execute_result",
          "data": {
            "text/plain": [
              "array([0., 0., 1.], dtype=float32)"
            ]
          },
          "metadata": {},
          "execution_count": 217
        }
      ]
    },
    {
      "cell_type": "code",
      "source": [
        "model = Sequential()\n",
        "model.add(Dense(13, activation='relu', input_dim=13))\n",
        "# model.add(Dense(2, activation='relu'))\n",
        "model.add(Dense(3, activation='sigmoid'))"
      ],
      "metadata": {
        "id": "BDIEQwDxwVKq"
      },
      "execution_count": 233,
      "outputs": []
    },
    {
      "cell_type": "code",
      "source": [
        "opt = tf.keras.optimizers.Adam(0.01)\n",
        "model.compile(loss='categorical_crossentropy', metrics=['accuracy'], optimizer=opt)"
      ],
      "metadata": {
        "id": "PojgGSCowVKq"
      },
      "execution_count": 234,
      "outputs": []
    },
    {
      "cell_type": "code",
      "source": [
        "model.summary()"
      ],
      "metadata": {
        "colab": {
          "base_uri": "https://localhost:8080/"
        },
        "outputId": "514f8545-9ee1-4878-a486-9d54b8d7c063",
        "id": "ZuhP98r4wVKq"
      },
      "execution_count": 235,
      "outputs": [
        {
          "output_type": "stream",
          "name": "stdout",
          "text": [
            "Model: \"sequential_36\"\n",
            "_________________________________________________________________\n",
            " Layer (type)                Output Shape              Param #   \n",
            "=================================================================\n",
            " dense_80 (Dense)            (None, 13)                182       \n",
            "                                                                 \n",
            " dense_81 (Dense)            (None, 3)                 42        \n",
            "                                                                 \n",
            "=================================================================\n",
            "Total params: 224\n",
            "Trainable params: 224\n",
            "Non-trainable params: 0\n",
            "_________________________________________________________________\n"
          ]
        }
      ]
    },
    {
      "cell_type": "code",
      "source": [
        "history = model.fit(X_train, y_train, validation_data=(X_test, y_test), epochs=100)"
      ],
      "metadata": {
        "colab": {
          "base_uri": "https://localhost:8080/"
        },
        "outputId": "5a5cd431-5b2d-4c7d-caa2-bb1bbaab9078",
        "id": "Pm7GwwiCwVKq"
      },
      "execution_count": 238,
      "outputs": [
        {
          "output_type": "stream",
          "name": "stdout",
          "text": [
            "Epoch 1/100\n",
            "5/5 [==============================] - 2s 190ms/step - loss: 14.2098 - accuracy: 0.3451 - val_loss: 10.7783 - val_accuracy: 0.2778\n",
            "Epoch 2/100\n",
            "5/5 [==============================] - 0s 14ms/step - loss: 7.6012 - accuracy: 0.3310 - val_loss: 2.3533 - val_accuracy: 0.5000\n",
            "Epoch 3/100\n",
            "5/5 [==============================] - 0s 11ms/step - loss: 3.4709 - accuracy: 0.5352 - val_loss: 3.9713 - val_accuracy: 0.5556\n",
            "Epoch 4/100\n",
            "5/5 [==============================] - 0s 12ms/step - loss: 2.5011 - accuracy: 0.5423 - val_loss: 1.8149 - val_accuracy: 0.5278\n",
            "Epoch 5/100\n",
            "5/5 [==============================] - 0s 14ms/step - loss: 1.4073 - accuracy: 0.5000 - val_loss: 1.3004 - val_accuracy: 0.6111\n",
            "Epoch 6/100\n",
            "5/5 [==============================] - 0s 14ms/step - loss: 1.0024 - accuracy: 0.6338 - val_loss: 0.9671 - val_accuracy: 0.6667\n",
            "Epoch 7/100\n",
            "5/5 [==============================] - 0s 13ms/step - loss: 1.0913 - accuracy: 0.6620 - val_loss: 0.8516 - val_accuracy: 0.7778\n",
            "Epoch 8/100\n",
            "5/5 [==============================] - 0s 13ms/step - loss: 0.8762 - accuracy: 0.6408 - val_loss: 1.0143 - val_accuracy: 0.6111\n",
            "Epoch 9/100\n",
            "5/5 [==============================] - 0s 11ms/step - loss: 0.8044 - accuracy: 0.7113 - val_loss: 1.0043 - val_accuracy: 0.7222\n",
            "Epoch 10/100\n",
            "5/5 [==============================] - 0s 12ms/step - loss: 0.7530 - accuracy: 0.6972 - val_loss: 0.8729 - val_accuracy: 0.6944\n",
            "Epoch 11/100\n",
            "5/5 [==============================] - 0s 12ms/step - loss: 0.6810 - accuracy: 0.7113 - val_loss: 0.8160 - val_accuracy: 0.7500\n",
            "Epoch 12/100\n",
            "5/5 [==============================] - 0s 12ms/step - loss: 0.6370 - accuracy: 0.7465 - val_loss: 0.7821 - val_accuracy: 0.7778\n",
            "Epoch 13/100\n",
            "5/5 [==============================] - 0s 11ms/step - loss: 0.6583 - accuracy: 0.7324 - val_loss: 0.7764 - val_accuracy: 0.6944\n",
            "Epoch 14/100\n",
            "5/5 [==============================] - 0s 12ms/step - loss: 0.6660 - accuracy: 0.7817 - val_loss: 0.8347 - val_accuracy: 0.7500\n",
            "Epoch 15/100\n",
            "5/5 [==============================] - 0s 11ms/step - loss: 0.6767 - accuracy: 0.7042 - val_loss: 1.0989 - val_accuracy: 0.5833\n",
            "Epoch 16/100\n",
            "5/5 [==============================] - 0s 11ms/step - loss: 0.8491 - accuracy: 0.6549 - val_loss: 0.7204 - val_accuracy: 0.7500\n",
            "Epoch 17/100\n",
            "5/5 [==============================] - 0s 11ms/step - loss: 0.6395 - accuracy: 0.7324 - val_loss: 0.8625 - val_accuracy: 0.7778\n",
            "Epoch 18/100\n",
            "5/5 [==============================] - 0s 10ms/step - loss: 0.6964 - accuracy: 0.7254 - val_loss: 0.7141 - val_accuracy: 0.6944\n",
            "Epoch 19/100\n",
            "5/5 [==============================] - 0s 12ms/step - loss: 0.6374 - accuracy: 0.7676 - val_loss: 0.7365 - val_accuracy: 0.7222\n",
            "Epoch 20/100\n",
            "5/5 [==============================] - 0s 13ms/step - loss: 0.4960 - accuracy: 0.8099 - val_loss: 0.6785 - val_accuracy: 0.7500\n",
            "Epoch 21/100\n",
            "5/5 [==============================] - 0s 11ms/step - loss: 0.4663 - accuracy: 0.7958 - val_loss: 0.7218 - val_accuracy: 0.7222\n",
            "Epoch 22/100\n",
            "5/5 [==============================] - 0s 12ms/step - loss: 0.4594 - accuracy: 0.8451 - val_loss: 0.6427 - val_accuracy: 0.7222\n",
            "Epoch 23/100\n",
            "5/5 [==============================] - 0s 12ms/step - loss: 0.4669 - accuracy: 0.7676 - val_loss: 0.6863 - val_accuracy: 0.7500\n",
            "Epoch 24/100\n",
            "5/5 [==============================] - 0s 11ms/step - loss: 0.4870 - accuracy: 0.7887 - val_loss: 0.6145 - val_accuracy: 0.7500\n",
            "Epoch 25/100\n",
            "5/5 [==============================] - 0s 12ms/step - loss: 0.4272 - accuracy: 0.8310 - val_loss: 0.8818 - val_accuracy: 0.7222\n",
            "Epoch 26/100\n",
            "5/5 [==============================] - 0s 12ms/step - loss: 0.5691 - accuracy: 0.8451 - val_loss: 0.9427 - val_accuracy: 0.7222\n",
            "Epoch 27/100\n",
            "5/5 [==============================] - 0s 14ms/step - loss: 0.5275 - accuracy: 0.7958 - val_loss: 1.0633 - val_accuracy: 0.7500\n",
            "Epoch 28/100\n",
            "5/5 [==============================] - 0s 11ms/step - loss: 0.5208 - accuracy: 0.7746 - val_loss: 0.8630 - val_accuracy: 0.6667\n",
            "Epoch 29/100\n",
            "5/5 [==============================] - 0s 12ms/step - loss: 0.5345 - accuracy: 0.8028 - val_loss: 0.6815 - val_accuracy: 0.8056\n",
            "Epoch 30/100\n",
            "5/5 [==============================] - 0s 11ms/step - loss: 0.4256 - accuracy: 0.7887 - val_loss: 0.5888 - val_accuracy: 0.7778\n",
            "Epoch 31/100\n",
            "5/5 [==============================] - 0s 12ms/step - loss: 0.4338 - accuracy: 0.8239 - val_loss: 0.6472 - val_accuracy: 0.7500\n",
            "Epoch 32/100\n",
            "5/5 [==============================] - 0s 12ms/step - loss: 0.3612 - accuracy: 0.8380 - val_loss: 0.5703 - val_accuracy: 0.7778\n",
            "Epoch 33/100\n",
            "5/5 [==============================] - 0s 12ms/step - loss: 0.3814 - accuracy: 0.8310 - val_loss: 0.7799 - val_accuracy: 0.7778\n",
            "Epoch 34/100\n",
            "5/5 [==============================] - 0s 13ms/step - loss: 0.4654 - accuracy: 0.7817 - val_loss: 0.5315 - val_accuracy: 0.7778\n",
            "Epoch 35/100\n",
            "5/5 [==============================] - 0s 12ms/step - loss: 0.4087 - accuracy: 0.8451 - val_loss: 0.9473 - val_accuracy: 0.6944\n",
            "Epoch 36/100\n",
            "5/5 [==============================] - 0s 12ms/step - loss: 0.5029 - accuracy: 0.7746 - val_loss: 0.5893 - val_accuracy: 0.7500\n",
            "Epoch 37/100\n",
            "5/5 [==============================] - 0s 12ms/step - loss: 0.3286 - accuracy: 0.8592 - val_loss: 0.5504 - val_accuracy: 0.8611\n",
            "Epoch 38/100\n",
            "5/5 [==============================] - 0s 11ms/step - loss: 0.3373 - accuracy: 0.9296 - val_loss: 0.4892 - val_accuracy: 0.8056\n",
            "Epoch 39/100\n",
            "5/5 [==============================] - 0s 13ms/step - loss: 0.3378 - accuracy: 0.8592 - val_loss: 0.5849 - val_accuracy: 0.8333\n",
            "Epoch 40/100\n",
            "5/5 [==============================] - 0s 14ms/step - loss: 0.3191 - accuracy: 0.9085 - val_loss: 0.4653 - val_accuracy: 0.8333\n",
            "Epoch 41/100\n",
            "5/5 [==============================] - 0s 13ms/step - loss: 0.2812 - accuracy: 0.9014 - val_loss: 0.4960 - val_accuracy: 0.8333\n",
            "Epoch 42/100\n",
            "5/5 [==============================] - 0s 14ms/step - loss: 0.2872 - accuracy: 0.9014 - val_loss: 0.4888 - val_accuracy: 0.8056\n",
            "Epoch 43/100\n",
            "5/5 [==============================] - 0s 14ms/step - loss: 0.2799 - accuracy: 0.8873 - val_loss: 0.4406 - val_accuracy: 0.8333\n",
            "Epoch 44/100\n",
            "5/5 [==============================] - 0s 15ms/step - loss: 0.3247 - accuracy: 0.8803 - val_loss: 0.6116 - val_accuracy: 0.8333\n",
            "Epoch 45/100\n",
            "5/5 [==============================] - 0s 17ms/step - loss: 0.3540 - accuracy: 0.8521 - val_loss: 0.6047 - val_accuracy: 0.7500\n",
            "Epoch 46/100\n",
            "5/5 [==============================] - 0s 13ms/step - loss: 0.3241 - accuracy: 0.8592 - val_loss: 0.6570 - val_accuracy: 0.7778\n",
            "Epoch 47/100\n",
            "5/5 [==============================] - 0s 11ms/step - loss: 0.4426 - accuracy: 0.8099 - val_loss: 0.7176 - val_accuracy: 0.8056\n",
            "Epoch 48/100\n",
            "5/5 [==============================] - 0s 12ms/step - loss: 0.3654 - accuracy: 0.8873 - val_loss: 0.4521 - val_accuracy: 0.8889\n",
            "Epoch 49/100\n",
            "5/5 [==============================] - 0s 11ms/step - loss: 0.2648 - accuracy: 0.9225 - val_loss: 0.4965 - val_accuracy: 0.7778\n",
            "Epoch 50/100\n",
            "5/5 [==============================] - 0s 11ms/step - loss: 0.3153 - accuracy: 0.8662 - val_loss: 0.4904 - val_accuracy: 0.8056\n",
            "Epoch 51/100\n",
            "5/5 [==============================] - 0s 12ms/step - loss: 0.4169 - accuracy: 0.8380 - val_loss: 0.6184 - val_accuracy: 0.8611\n",
            "Epoch 52/100\n",
            "5/5 [==============================] - 0s 15ms/step - loss: 0.2859 - accuracy: 0.8944 - val_loss: 0.6540 - val_accuracy: 0.7500\n",
            "Epoch 53/100\n",
            "5/5 [==============================] - 0s 12ms/step - loss: 0.3113 - accuracy: 0.8451 - val_loss: 0.4594 - val_accuracy: 0.7778\n",
            "Epoch 54/100\n",
            "5/5 [==============================] - 0s 12ms/step - loss: 0.3456 - accuracy: 0.8099 - val_loss: 0.6046 - val_accuracy: 0.8333\n",
            "Epoch 55/100\n",
            "5/5 [==============================] - 0s 13ms/step - loss: 0.5700 - accuracy: 0.7676 - val_loss: 1.2956 - val_accuracy: 0.6389\n",
            "Epoch 56/100\n",
            "5/5 [==============================] - 0s 13ms/step - loss: 0.5674 - accuracy: 0.7817 - val_loss: 0.5375 - val_accuracy: 0.7778\n",
            "Epoch 57/100\n",
            "5/5 [==============================] - 0s 12ms/step - loss: 0.3365 - accuracy: 0.8451 - val_loss: 0.4436 - val_accuracy: 0.8056\n",
            "Epoch 58/100\n",
            "5/5 [==============================] - 0s 14ms/step - loss: 0.2459 - accuracy: 0.9085 - val_loss: 0.5220 - val_accuracy: 0.8889\n",
            "Epoch 59/100\n",
            "5/5 [==============================] - 0s 13ms/step - loss: 0.2131 - accuracy: 0.9296 - val_loss: 0.3406 - val_accuracy: 0.9167\n",
            "Epoch 60/100\n",
            "5/5 [==============================] - 0s 12ms/step - loss: 0.1914 - accuracy: 0.9507 - val_loss: 0.3406 - val_accuracy: 0.9167\n",
            "Epoch 61/100\n",
            "5/5 [==============================] - 0s 12ms/step - loss: 0.2037 - accuracy: 0.8944 - val_loss: 0.4068 - val_accuracy: 0.8889\n",
            "Epoch 62/100\n",
            "5/5 [==============================] - 0s 13ms/step - loss: 0.1889 - accuracy: 0.9437 - val_loss: 0.4562 - val_accuracy: 0.8056\n",
            "Epoch 63/100\n",
            "5/5 [==============================] - 0s 12ms/step - loss: 0.3087 - accuracy: 0.8592 - val_loss: 0.5061 - val_accuracy: 0.9167\n",
            "Epoch 64/100\n",
            "5/5 [==============================] - 0s 13ms/step - loss: 0.1983 - accuracy: 0.9437 - val_loss: 0.3903 - val_accuracy: 0.8611\n",
            "Epoch 65/100\n",
            "5/5 [==============================] - 0s 11ms/step - loss: 0.1757 - accuracy: 0.9366 - val_loss: 0.5312 - val_accuracy: 0.8889\n",
            "Epoch 66/100\n",
            "5/5 [==============================] - 0s 11ms/step - loss: 0.2045 - accuracy: 0.9296 - val_loss: 0.4134 - val_accuracy: 0.8333\n",
            "Epoch 67/100\n",
            "5/5 [==============================] - 0s 12ms/step - loss: 0.1573 - accuracy: 0.9507 - val_loss: 0.3569 - val_accuracy: 0.8889\n",
            "Epoch 68/100\n",
            "5/5 [==============================] - 0s 14ms/step - loss: 0.2314 - accuracy: 0.9296 - val_loss: 0.3238 - val_accuracy: 0.9167\n",
            "Epoch 69/100\n",
            "5/5 [==============================] - 0s 13ms/step - loss: 0.1933 - accuracy: 0.9225 - val_loss: 0.3337 - val_accuracy: 0.8333\n",
            "Epoch 70/100\n",
            "5/5 [==============================] - 0s 12ms/step - loss: 0.1662 - accuracy: 0.9437 - val_loss: 0.3370 - val_accuracy: 0.9167\n",
            "Epoch 71/100\n",
            "5/5 [==============================] - 0s 12ms/step - loss: 0.1405 - accuracy: 0.9648 - val_loss: 0.3517 - val_accuracy: 0.9167\n",
            "Epoch 72/100\n",
            "5/5 [==============================] - 0s 12ms/step - loss: 0.1526 - accuracy: 0.9507 - val_loss: 0.3263 - val_accuracy: 0.9167\n",
            "Epoch 73/100\n",
            "5/5 [==============================] - 0s 14ms/step - loss: 0.1271 - accuracy: 0.9648 - val_loss: 0.3306 - val_accuracy: 0.9167\n",
            "Epoch 74/100\n",
            "5/5 [==============================] - 0s 16ms/step - loss: 0.1543 - accuracy: 0.9437 - val_loss: 0.3161 - val_accuracy: 0.8889\n",
            "Epoch 75/100\n",
            "5/5 [==============================] - 0s 12ms/step - loss: 0.1622 - accuracy: 0.9507 - val_loss: 0.4235 - val_accuracy: 0.9167\n",
            "Epoch 76/100\n",
            "5/5 [==============================] - 0s 12ms/step - loss: 0.1723 - accuracy: 0.9296 - val_loss: 0.3368 - val_accuracy: 0.9167\n",
            "Epoch 77/100\n",
            "5/5 [==============================] - 0s 12ms/step - loss: 0.1702 - accuracy: 0.9296 - val_loss: 0.3434 - val_accuracy: 0.8889\n",
            "Epoch 78/100\n",
            "5/5 [==============================] - 0s 12ms/step - loss: 0.1897 - accuracy: 0.9225 - val_loss: 0.3360 - val_accuracy: 0.8889\n",
            "Epoch 79/100\n",
            "5/5 [==============================] - 0s 12ms/step - loss: 0.2472 - accuracy: 0.8873 - val_loss: 0.4711 - val_accuracy: 0.9167\n",
            "Epoch 80/100\n",
            "5/5 [==============================] - 0s 11ms/step - loss: 0.1807 - accuracy: 0.9155 - val_loss: 0.3844 - val_accuracy: 0.8611\n",
            "Epoch 81/100\n",
            "5/5 [==============================] - 0s 13ms/step - loss: 0.1920 - accuracy: 0.9225 - val_loss: 0.3379 - val_accuracy: 0.8611\n",
            "Epoch 82/100\n",
            "5/5 [==============================] - 0s 12ms/step - loss: 0.1627 - accuracy: 0.9366 - val_loss: 0.3921 - val_accuracy: 0.9167\n",
            "Epoch 83/100\n",
            "5/5 [==============================] - 0s 14ms/step - loss: 0.2042 - accuracy: 0.9085 - val_loss: 0.4771 - val_accuracy: 0.8889\n",
            "Epoch 84/100\n",
            "5/5 [==============================] - 0s 12ms/step - loss: 0.1530 - accuracy: 0.9366 - val_loss: 0.2783 - val_accuracy: 0.9167\n",
            "Epoch 85/100\n",
            "5/5 [==============================] - 0s 12ms/step - loss: 0.1591 - accuracy: 0.9225 - val_loss: 0.2800 - val_accuracy: 0.9167\n",
            "Epoch 86/100\n",
            "5/5 [==============================] - 0s 16ms/step - loss: 0.1654 - accuracy: 0.9225 - val_loss: 0.2936 - val_accuracy: 0.9167\n",
            "Epoch 87/100\n",
            "5/5 [==============================] - 0s 13ms/step - loss: 0.1255 - accuracy: 0.9577 - val_loss: 0.2812 - val_accuracy: 0.9167\n",
            "Epoch 88/100\n",
            "5/5 [==============================] - 0s 12ms/step - loss: 0.1746 - accuracy: 0.9225 - val_loss: 0.2966 - val_accuracy: 0.9167\n",
            "Epoch 89/100\n",
            "5/5 [==============================] - 0s 14ms/step - loss: 0.1141 - accuracy: 0.9648 - val_loss: 0.3196 - val_accuracy: 0.9167\n",
            "Epoch 90/100\n",
            "5/5 [==============================] - 0s 14ms/step - loss: 0.1275 - accuracy: 0.9577 - val_loss: 0.3063 - val_accuracy: 0.9167\n",
            "Epoch 91/100\n",
            "5/5 [==============================] - 0s 15ms/step - loss: 0.1626 - accuracy: 0.9296 - val_loss: 0.3183 - val_accuracy: 0.9167\n",
            "Epoch 92/100\n",
            "5/5 [==============================] - 0s 12ms/step - loss: 0.1497 - accuracy: 0.9507 - val_loss: 0.4897 - val_accuracy: 0.8889\n",
            "Epoch 93/100\n",
            "5/5 [==============================] - 0s 17ms/step - loss: 0.1973 - accuracy: 0.9225 - val_loss: 0.3112 - val_accuracy: 0.9167\n",
            "Epoch 94/100\n",
            "5/5 [==============================] - 0s 13ms/step - loss: 0.1523 - accuracy: 0.9296 - val_loss: 0.2851 - val_accuracy: 0.9167\n",
            "Epoch 95/100\n",
            "5/5 [==============================] - 0s 12ms/step - loss: 0.1354 - accuracy: 0.9577 - val_loss: 0.2827 - val_accuracy: 0.9167\n",
            "Epoch 96/100\n",
            "5/5 [==============================] - 0s 12ms/step - loss: 0.1648 - accuracy: 0.9225 - val_loss: 0.9773 - val_accuracy: 0.7500\n",
            "Epoch 97/100\n",
            "5/5 [==============================] - 0s 13ms/step - loss: 0.3057 - accuracy: 0.9085 - val_loss: 0.3435 - val_accuracy: 0.8611\n",
            "Epoch 98/100\n",
            "5/5 [==============================] - 0s 13ms/step - loss: 0.2599 - accuracy: 0.9085 - val_loss: 0.3376 - val_accuracy: 0.8611\n",
            "Epoch 99/100\n",
            "5/5 [==============================] - 0s 12ms/step - loss: 0.2020 - accuracy: 0.9014 - val_loss: 0.4045 - val_accuracy: 0.9167\n",
            "Epoch 100/100\n",
            "5/5 [==============================] - 0s 11ms/step - loss: 0.1620 - accuracy: 0.9296 - val_loss: 0.4398 - val_accuracy: 0.9167\n"
          ]
        }
      ]
    },
    {
      "cell_type": "code",
      "source": [
        "import keras\n",
        "from matplotlib import pyplot as plt\n",
        "plt.plot(history.history['accuracy'])\n",
        "plt.plot(history.history['val_accuracy'])\n",
        "plt.title('model accuracy')\n",
        "plt.ylabel('accuracy')\n",
        "plt.xlabel('epoch')\n",
        "plt.legend(['train', 'val'], loc='upper left')\n",
        "plt.show()"
      ],
      "metadata": {
        "colab": {
          "base_uri": "https://localhost:8080/",
          "height": 295
        },
        "outputId": "00a47756-4073-4707-ba49-58cef796c5e5",
        "id": "3MAB2xMowVKq"
      },
      "execution_count": 239,
      "outputs": [
        {
          "output_type": "display_data",
          "data": {
            "text/plain": [
              "<Figure size 432x288 with 1 Axes>"
            ],
            "image/png": "[encoded data removed]"
          },
          "metadata": {
            "needs_background": "light"
          }
        }
      ]
    },
    {
      "cell_type": "code",
      "source": [
        "plt.plot(history.history['loss']) \n",
        "plt.plot(history.history['val_loss'])\n",
        "plt.title('model loss')\n",
        "plt.ylabel('loss')\n",
        "plt.xlabel('epoch')\n",
        "plt.legend(['train', 'val'], loc='upper left')\n",
        "plt.show()"
      ],
      "metadata": {
        "colab": {
          "base_uri": "https://localhost:8080/",
          "height": 295
        },
        "id": "ozUTzpcFwobb",
        "outputId": "ad8d2934-2a1a-46a1-f5f8-489d1531bfa5"
      },
      "execution_count": 240,
      "outputs": [
        {
          "output_type": "display_data",
          "data": {
            "text/plain": [
              "<Figure size 432x288 with 1 Axes>"
            ],
            "image/png": "[encoded data removed]"
          },
          "metadata": {
            "needs_background": "light"
          }
        }
      ]
    },
    {
      "cell_type": "code",
      "source": [
        ""
      ],
      "metadata": {
        "id": "iPSY7D743eFv"
      },
      "execution_count": null,
      "outputs": []
    }
  ]
}