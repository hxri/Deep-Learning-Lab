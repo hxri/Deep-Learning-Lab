{
  "nbformat": 4,
  "nbformat_minor": 0,
  "metadata": {
    "colab": {
      "name": "Experiment_6_DNN.ipynb",
      "provenance": [],
      "collapsed_sections": [],
      "authorship_tag": "ABX9TyPaOey3pRHn8Sep1lyBoSmy",
      "include_colab_link": true
    },
    "kernelspec": {
      "name": "python3",
      "display_name": "Python 3"
    },
    "language_info": {
      "name": "python"
    },
    "accelerator": "GPU"
  },
  "cells": [
    {
      "cell_type": "markdown",
      "metadata": {
        "id": "view-in-github",
        "colab_type": "text"
      },
      "source": [
        "<a href=\"https://colab.research.google.com/github/hxri/Deep-Learning-Lab/blob/main/Experiment_6_DNN.ipynb\" target=\"_parent\"><img src=\"https://colab.research.google.com/assets/colab-badge.svg\" alt=\"Open In Colab\"/></a>"
      ]
    },
    {
      "cell_type": "markdown",
      "source": [
        "#Iris Dataset"
      ],
      "metadata": {
        "id": "G3d0JsIDv-zN"
      }
    },
    {
      "cell_type": "code",
      "source": [
        "from sklearn.datasets import load_iris"
      ],
      "metadata": {
        "id": "27od1ukymRZP"
      },
      "execution_count": null,
      "outputs": []
    },
    {
      "cell_type": "code",
      "source": [
        "iris = load_iris()\n",
        "X = iris.data\n",
        "y = iris.target"
      ],
      "metadata": {
        "id": "sU28W-BkmVqj"
      },
      "execution_count": null,
      "outputs": []
    },
    {
      "cell_type": "code",
      "execution_count": null,
      "metadata": {
        "id": "PO3e_L0EiFP9"
      },
      "outputs": [],
      "source": [
        "import tensorflow as tf\n",
        "from tensorflow.keras.models import Sequential\n",
        "from tensorflow.keras.layers import Dense\n",
        "from sklearn.model_selection import train_test_split\n",
        "from tensorflow.keras.utils import to_categorical"
      ]
    },
    {
      "cell_type": "code",
      "source": [
        "y = to_categorical(y)"
      ],
      "metadata": {
        "id": "M5tXs9RWt5pG"
      },
      "execution_count": null,
      "outputs": []
    },
    {
      "cell_type": "code",
      "source": [
        "X_train, X_test, y_train, y_test = train_test_split(X, y, test_size=0.2,random_state=73)"
      ],
      "metadata": {
        "id": "GM-gqApzmhdN"
      },
      "execution_count": null,
      "outputs": []
    },
    {
      "cell_type": "code",
      "source": [
        "X_train.shape"
      ],
      "metadata": {
        "colab": {
          "base_uri": "https://localhost:8080/"
        },
        "id": "jLKNA-QEmGa9",
        "outputId": "a297a8b5-e512-42bc-aa9b-9de5671cd225"
      },
      "execution_count": null,
      "outputs": [
        {
          "output_type": "execute_result",
          "data": {
            "text/plain": [
              "(120, 4)"
            ]
          },
          "metadata": {},
          "execution_count": 245
        }
      ]
    },
    {
      "cell_type": "code",
      "source": [
        "y_train.shape"
      ],
      "metadata": {
        "colab": {
          "base_uri": "https://localhost:8080/"
        },
        "id": "yrA8s2O5m_4V",
        "outputId": "c9733b48-cdbb-4f30-807c-3ec15844af8d"
      },
      "execution_count": null,
      "outputs": [
        {
          "output_type": "execute_result",
          "data": {
            "text/plain": [
              "(120, 3)"
            ]
          },
          "metadata": {},
          "execution_count": 246
        }
      ]
    },
    {
      "cell_type": "code",
      "source": [
        "model = Sequential()\n",
        "model.add(Dense(4, activation='relu', input_dim=4))\n",
        "# model.add(Dense(2, activation='relu'))\n",
        "model.add(Dense(3, activation='sigmoid'))"
      ],
      "metadata": {
        "id": "ZTsa_1KZnBfo"
      },
      "execution_count": null,
      "outputs": []
    },
    {
      "cell_type": "code",
      "source": [
        "opt = tf.keras.optimizers.Adam(0.01)\n",
        "model.compile(loss='categorical_crossentropy', metrics=['accuracy'], optimizer=opt)"
      ],
      "metadata": {
        "id": "ifZesFngnm7t"
      },
      "execution_count": null,
      "outputs": []
    },
    {
      "cell_type": "code",
      "source": [
        "model.summary()"
      ],
      "metadata": {
        "colab": {
          "base_uri": "https://localhost:8080/"
        },
        "id": "Pv35Iv1Pn5Pc",
        "outputId": "0b270c5e-044c-4e8a-bb0c-17905f849fa8"
      },
      "execution_count": null,
      "outputs": [
        {
          "output_type": "stream",
          "name": "stdout",
          "text": [
            "Model: \"sequential_37\"\n",
            "_________________________________________________________________\n",
            " Layer (type)                Output Shape              Param #   \n",
            "=================================================================\n",
            " dense_82 (Dense)            (None, 4)                 20        \n",
            "                                                                 \n",
            " dense_83 (Dense)            (None, 3)                 15        \n",
            "                                                                 \n",
            "=================================================================\n",
            "Total params: 35\n",
            "Trainable params: 35\n",
            "Non-trainable params: 0\n",
            "_________________________________________________________________\n"
          ]
        }
      ]
    },
    {
      "cell_type": "code",
      "source": [
        "history = model.fit(X_train, y_train, validation_data=(X_test, y_test), epochs=50)"
      ],
      "metadata": {
        "colab": {
          "base_uri": "https://localhost:8080/"
        },
        "id": "hYz-MKZWn8ED",
        "outputId": "980740b2-9c6d-4f6b-abcc-b5abe9d6d0d4"
      },
      "execution_count": null,
      "outputs": [
        {
          "output_type": "stream",
          "name": "stdout",
          "text": [
            "Epoch 1/50\n",
            "4/4 [==============================] - 0s 54ms/step - loss: 2.1391 - accuracy: 0.3417 - val_loss: 1.7196 - val_accuracy: 0.3000\n",
            "Epoch 2/50\n",
            "4/4 [==============================] - 0s 9ms/step - loss: 1.4303 - accuracy: 0.3417 - val_loss: 1.2854 - val_accuracy: 0.3000\n",
            "Epoch 3/50\n",
            "4/4 [==============================] - 0s 10ms/step - loss: 1.1600 - accuracy: 0.4250 - val_loss: 1.2070 - val_accuracy: 0.3333\n",
            "Epoch 4/50\n",
            "4/4 [==============================] - 0s 16ms/step - loss: 1.1593 - accuracy: 0.3333 - val_loss: 1.1896 - val_accuracy: 0.3333\n",
            "Epoch 5/50\n",
            "4/4 [==============================] - 0s 15ms/step - loss: 1.1406 - accuracy: 0.3333 - val_loss: 1.1266 - val_accuracy: 0.3333\n",
            "Epoch 6/50\n",
            "4/4 [==============================] - 0s 10ms/step - loss: 1.0713 - accuracy: 0.3333 - val_loss: 1.0514 - val_accuracy: 0.3333\n",
            "Epoch 7/50\n",
            "4/4 [==============================] - 0s 9ms/step - loss: 0.9967 - accuracy: 0.3667 - val_loss: 1.0007 - val_accuracy: 0.4000\n",
            "Epoch 8/50\n",
            "4/4 [==============================] - 0s 9ms/step - loss: 0.9545 - accuracy: 0.5417 - val_loss: 0.9779 - val_accuracy: 0.4000\n",
            "Epoch 9/50\n",
            "4/4 [==============================] - 0s 10ms/step - loss: 0.9385 - accuracy: 0.4333 - val_loss: 0.9630 - val_accuracy: 0.3667\n",
            "Epoch 10/50\n",
            "4/4 [==============================] - 0s 10ms/step - loss: 0.9166 - accuracy: 0.5083 - val_loss: 0.9340 - val_accuracy: 0.5667\n",
            "Epoch 11/50\n",
            "4/4 [==============================] - 0s 11ms/step - loss: 0.8895 - accuracy: 0.7250 - val_loss: 0.8968 - val_accuracy: 0.8000\n",
            "Epoch 12/50\n",
            "4/4 [==============================] - 0s 10ms/step - loss: 0.8636 - accuracy: 0.8250 - val_loss: 0.8697 - val_accuracy: 0.7667\n",
            "Epoch 13/50\n",
            "4/4 [==============================] - 0s 11ms/step - loss: 0.8453 - accuracy: 0.8417 - val_loss: 0.8492 - val_accuracy: 0.8000\n",
            "Epoch 14/50\n",
            "4/4 [==============================] - 0s 12ms/step - loss: 0.8271 - accuracy: 0.8333 - val_loss: 0.8298 - val_accuracy: 0.8000\n",
            "Epoch 15/50\n",
            "4/4 [==============================] - 0s 10ms/step - loss: 0.8065 - accuracy: 0.8917 - val_loss: 0.8107 - val_accuracy: 0.8333\n",
            "Epoch 16/50\n",
            "4/4 [==============================] - 0s 9ms/step - loss: 0.7851 - accuracy: 0.9083 - val_loss: 0.7911 - val_accuracy: 0.8333\n",
            "Epoch 17/50\n",
            "4/4 [==============================] - 0s 11ms/step - loss: 0.7652 - accuracy: 0.9083 - val_loss: 0.7713 - val_accuracy: 0.8333\n",
            "Epoch 18/50\n",
            "4/4 [==============================] - 0s 12ms/step - loss: 0.7457 - accuracy: 0.9333 - val_loss: 0.7508 - val_accuracy: 0.8333\n",
            "Epoch 19/50\n",
            "4/4 [==============================] - 0s 9ms/step - loss: 0.7258 - accuracy: 0.9250 - val_loss: 0.7304 - val_accuracy: 0.8667\n",
            "Epoch 20/50\n",
            "4/4 [==============================] - 0s 10ms/step - loss: 0.7098 - accuracy: 0.9000 - val_loss: 0.7099 - val_accuracy: 0.8000\n",
            "Epoch 21/50\n",
            "4/4 [==============================] - 0s 10ms/step - loss: 0.6897 - accuracy: 0.9000 - val_loss: 0.6921 - val_accuracy: 0.8667\n",
            "Epoch 22/50\n",
            "4/4 [==============================] - 0s 9ms/step - loss: 0.6728 - accuracy: 0.9167 - val_loss: 0.6726 - val_accuracy: 0.8667\n",
            "Epoch 23/50\n",
            "4/4 [==============================] - 0s 9ms/step - loss: 0.6548 - accuracy: 0.9250 - val_loss: 0.6568 - val_accuracy: 0.8667\n",
            "Epoch 24/50\n",
            "4/4 [==============================] - 0s 16ms/step - loss: 0.6351 - accuracy: 0.9417 - val_loss: 0.6378 - val_accuracy: 0.8667\n",
            "Epoch 25/50\n",
            "4/4 [==============================] - 0s 10ms/step - loss: 0.6190 - accuracy: 0.9500 - val_loss: 0.6212 - val_accuracy: 0.8667\n",
            "Epoch 26/50\n",
            "4/4 [==============================] - 0s 10ms/step - loss: 0.6025 - accuracy: 0.9417 - val_loss: 0.6041 - val_accuracy: 0.8667\n",
            "Epoch 27/50\n",
            "4/4 [==============================] - 0s 11ms/step - loss: 0.5856 - accuracy: 0.9167 - val_loss: 0.5882 - val_accuracy: 0.8667\n",
            "Epoch 28/50\n",
            "4/4 [==============================] - 0s 11ms/step - loss: 0.5701 - accuracy: 0.9500 - val_loss: 0.5737 - val_accuracy: 0.9000\n",
            "Epoch 29/50\n",
            "4/4 [==============================] - 0s 10ms/step - loss: 0.5541 - accuracy: 0.9667 - val_loss: 0.5591 - val_accuracy: 0.9000\n",
            "Epoch 30/50\n",
            "4/4 [==============================] - 0s 10ms/step - loss: 0.5392 - accuracy: 0.9667 - val_loss: 0.5441 - val_accuracy: 0.9333\n",
            "Epoch 31/50\n",
            "4/4 [==============================] - 0s 9ms/step - loss: 0.5247 - accuracy: 0.9750 - val_loss: 0.5296 - val_accuracy: 0.9000\n",
            "Epoch 32/50\n",
            "4/4 [==============================] - 0s 9ms/step - loss: 0.5164 - accuracy: 0.9333 - val_loss: 0.5197 - val_accuracy: 0.8667\n",
            "Epoch 33/50\n",
            "4/4 [==============================] - 0s 10ms/step - loss: 0.5030 - accuracy: 0.9250 - val_loss: 0.5028 - val_accuracy: 0.9000\n",
            "Epoch 34/50\n",
            "4/4 [==============================] - 0s 10ms/step - loss: 0.4828 - accuracy: 0.9750 - val_loss: 0.4899 - val_accuracy: 0.9333\n",
            "Epoch 35/50\n",
            "4/4 [==============================] - 0s 9ms/step - loss: 0.4704 - accuracy: 0.9750 - val_loss: 0.4776 - val_accuracy: 0.9000\n",
            "Epoch 36/50\n",
            "4/4 [==============================] - 0s 9ms/step - loss: 0.4573 - accuracy: 0.9833 - val_loss: 0.4657 - val_accuracy: 0.9000\n",
            "Epoch 37/50\n",
            "4/4 [==============================] - 0s 9ms/step - loss: 0.4443 - accuracy: 0.9833 - val_loss: 0.4554 - val_accuracy: 0.9000\n",
            "Epoch 38/50\n",
            "4/4 [==============================] - 0s 10ms/step - loss: 0.4345 - accuracy: 0.9750 - val_loss: 0.4445 - val_accuracy: 0.9000\n",
            "Epoch 39/50\n",
            "4/4 [==============================] - 0s 9ms/step - loss: 0.4212 - accuracy: 0.9833 - val_loss: 0.4328 - val_accuracy: 0.9000\n",
            "Epoch 40/50\n",
            "4/4 [==============================] - 0s 9ms/step - loss: 0.4125 - accuracy: 0.9667 - val_loss: 0.4215 - val_accuracy: 0.9667\n",
            "Epoch 41/50\n",
            "4/4 [==============================] - 0s 9ms/step - loss: 0.4019 - accuracy: 0.9833 - val_loss: 0.4135 - val_accuracy: 0.9000\n",
            "Epoch 42/50\n",
            "4/4 [==============================] - 0s 10ms/step - loss: 0.3902 - accuracy: 0.9833 - val_loss: 0.4043 - val_accuracy: 0.9000\n",
            "Epoch 43/50\n",
            "4/4 [==============================] - 0s 11ms/step - loss: 0.3804 - accuracy: 0.9833 - val_loss: 0.3919 - val_accuracy: 0.9333\n",
            "Epoch 44/50\n",
            "4/4 [==============================] - 0s 11ms/step - loss: 0.3713 - accuracy: 0.9833 - val_loss: 0.3837 - val_accuracy: 0.9333\n",
            "Epoch 45/50\n",
            "4/4 [==============================] - 0s 10ms/step - loss: 0.3631 - accuracy: 0.9833 - val_loss: 0.3775 - val_accuracy: 0.9000\n",
            "Epoch 46/50\n",
            "4/4 [==============================] - 0s 9ms/step - loss: 0.3521 - accuracy: 0.9833 - val_loss: 0.3663 - val_accuracy: 0.9667\n",
            "Epoch 47/50\n",
            "4/4 [==============================] - 0s 9ms/step - loss: 0.3471 - accuracy: 0.9833 - val_loss: 0.3557 - val_accuracy: 0.9667\n",
            "Epoch 48/50\n",
            "4/4 [==============================] - 0s 10ms/step - loss: 0.3412 - accuracy: 0.9833 - val_loss: 0.3564 - val_accuracy: 0.9000\n",
            "Epoch 49/50\n",
            "4/4 [==============================] - 0s 9ms/step - loss: 0.3297 - accuracy: 0.9833 - val_loss: 0.3438 - val_accuracy: 0.9333\n",
            "Epoch 50/50\n",
            "4/4 [==============================] - 0s 10ms/step - loss: 0.3207 - accuracy: 0.9833 - val_loss: 0.3354 - val_accuracy: 0.9667\n"
          ]
        }
      ]
    },
    {
      "cell_type": "code",
      "source": [
        "import keras\n",
        "from matplotlib import pyplot as plt\n",
        "plt.plot(history.history['accuracy'])\n",
        "plt.plot(history.history['val_accuracy'])\n",
        "plt.title('model accuracy')\n",
        "plt.ylabel('accuracy')\n",
        "plt.xlabel('epoch')\n",
        "plt.legend(['train', 'val'], loc='upper left')\n",
        "plt.show()"
      ],
      "metadata": {
        "colab": {
          "base_uri": "https://localhost:8080/",
          "height": 295
        },
        "outputId": "b1705329-a164-4135-e622-a6895bc41be3",
        "id": "fJt10JGF4G2q"
      },
      "execution_count": null,
      "outputs": [
        {
          "output_type": "display_data",
          "data": {
            "text/plain": [
              "<Figure size 432x288 with 1 Axes>"
            ],
            "image/png": "[encoded data removed]"
          },
          "metadata": {
            "needs_background": "light"
          }
        }
      ]
    },
    {
      "cell_type": "code",
      "source": [
        "plt.plot(history.history['loss']) \n",
        "plt.plot(history.history['val_loss'])\n",
        "plt.title('model loss')\n",
        "plt.ylabel('loss')\n",
        "plt.xlabel('epoch')\n",
        "plt.legend(['train', 'val'], loc='upper left')\n",
        "plt.show()"
      ],
      "metadata": {
        "colab": {
          "base_uri": "https://localhost:8080/",
          "height": 295
        },
        "outputId": "54546c2c-56b3-4289-82df-90eed8464baf",
        "id": "kuQyphtX4G2r"
      },
      "execution_count": null,
      "outputs": [
        {
          "output_type": "display_data",
          "data": {
            "text/plain": [
              "<Figure size 432x288 with 1 Axes>"
            ],
            "image/png": "[encoded data removed]"
          },
          "metadata": {
            "needs_background": "light"
          }
        }
      ]
    },
    {
      "cell_type": "markdown",
      "source": [
        "# Wine Dataset"
      ],
      "metadata": {
        "id": "uQNTlFG6wDU0"
      }
    },
    {
      "cell_type": "code",
      "source": [
        "from sklearn.datasets import load_wine"
      ],
      "metadata": {
        "id": "Nkt0WvAhwFkC"
      },
      "execution_count": null,
      "outputs": []
    },
    {
      "cell_type": "code",
      "source": [
        "iris = load_wine()\n",
        "X = iris.data\n",
        "y = iris.target"
      ],
      "metadata": {
        "id": "3XuFdioUwJbB"
      },
      "execution_count": null,
      "outputs": []
    },
    {
      "cell_type": "code",
      "source": [
        "X.shape"
      ],
      "metadata": {
        "colab": {
          "base_uri": "https://localhost:8080/"
        },
        "id": "FvLhHI3vwNSZ",
        "outputId": "c0a4776b-c644-447d-f52d-086670146882"
      },
      "execution_count": null,
      "outputs": [
        {
          "output_type": "execute_result",
          "data": {
            "text/plain": [
              "(178, 13)"
            ]
          },
          "metadata": {},
          "execution_count": 207
        }
      ]
    },
    {
      "cell_type": "code",
      "source": [
        "y.shape"
      ],
      "metadata": {
        "colab": {
          "base_uri": "https://localhost:8080/"
        },
        "id": "97KrTFlhwOSF",
        "outputId": "f2981bf2-c2eb-4cf4-f099-a0c86e894ba7"
      },
      "execution_count": null,
      "outputs": [
        {
          "output_type": "execute_result",
          "data": {
            "text/plain": [
              "(178,)"
            ]
          },
          "metadata": {},
          "execution_count": 208
        }
      ]
    },
    {
      "cell_type": "code",
      "execution_count": null,
      "metadata": {
        "id": "3JHK4aX0wVKp"
      },
      "outputs": [],
      "source": [
        "import tensorflow as tf\n",
        "from tensorflow.keras.models import Sequential\n",
        "from tensorflow.keras.layers import Dense\n",
        "from sklearn.model_selection import train_test_split\n",
        "from tensorflow.keras.utils import to_categorical"
      ]
    },
    {
      "cell_type": "code",
      "source": [
        "y = to_categorical(y)"
      ],
      "metadata": {
        "id": "XB7fJLl6wVKp"
      },
      "execution_count": null,
      "outputs": []
    },
    {
      "cell_type": "code",
      "source": [
        "X_train, X_test, y_train, y_test = train_test_split(X, y, test_size=0.2,random_state=73)"
      ],
      "metadata": {
        "id": "cifk7RcbwVKq"
      },
      "execution_count": null,
      "outputs": []
    },
    {
      "cell_type": "code",
      "source": [
        "X_train.shape"
      ],
      "metadata": {
        "colab": {
          "base_uri": "https://localhost:8080/"
        },
        "outputId": "74ae5b50-1f85-4be3-84cd-6de55b473d82",
        "id": "Xx9rw41zwVKq"
      },
      "execution_count": null,
      "outputs": [
        {
          "output_type": "execute_result",
          "data": {
            "text/plain": [
              "(142, 13)"
            ]
          },
          "metadata": {},
          "execution_count": 212
        }
      ]
    },
    {
      "cell_type": "code",
      "source": [
        "y_train.shape"
      ],
      "metadata": {
        "colab": {
          "base_uri": "https://localhost:8080/"
        },
        "outputId": "2985e722-e7f0-4607-f53e-0e54557fa5d1",
        "id": "M-VWI0hUwVKq"
      },
      "execution_count": null,
      "outputs": [
        {
          "output_type": "execute_result",
          "data": {
            "text/plain": [
              "(142, 3)"
            ]
          },
          "metadata": {},
          "execution_count": 213
        }
      ]
    },
    {
      "cell_type": "code",
      "source": [
        "y_train[0]"
      ],
      "metadata": {
        "colab": {
          "base_uri": "https://localhost:8080/"
        },
        "id": "yuj2TB5xwbur",
        "outputId": "dd5ed2d6-10c0-4238-c33e-3a3422c7552e"
      },
      "execution_count": null,
      "outputs": [
        {
          "output_type": "execute_result",
          "data": {
            "text/plain": [
              "array([0., 0., 1.], dtype=float32)"
            ]
          },
          "metadata": {},
          "execution_count": 217
        }
      ]
    },
    {
      "cell_type": "code",
      "source": [
        "model = Sequential()\n",
        "model.add(Dense(13, activation='relu', input_dim=13))\n",
        "# model.add(Dense(2, activation='relu'))\n",
        "model.add(Dense(3, activation='sigmoid'))"
      ],
      "metadata": {
        "id": "BDIEQwDxwVKq"
      },
      "execution_count": null,
      "outputs": []
    },
    {
      "cell_type": "code",
      "source": [
        "opt = tf.keras.optimizers.Adam(0.01)\n",
        "model.compile(loss='categorical_crossentropy', metrics=['accuracy'], optimizer=opt)"
      ],
      "metadata": {
        "id": "PojgGSCowVKq"
      },
      "execution_count": null,
      "outputs": []
    },
    {
      "cell_type": "code",
      "source": [
        "model.summary()"
      ],
      "metadata": {
        "colab": {
          "base_uri": "https://localhost:8080/"
        },
        "outputId": "514f8545-9ee1-4878-a486-9d54b8d7c063",
        "id": "ZuhP98r4wVKq"
      },
      "execution_count": null,
      "outputs": [
        {
          "output_type": "stream",
          "name": "stdout",
          "text": [
            "Model: \"sequential_36\"\n",
            "_________________________________________________________________\n",
            " Layer (type)                Output Shape              Param #   \n",
            "=================================================================\n",
            " dense_80 (Dense)            (None, 13)                182       \n",
            "                                                                 \n",
            " dense_81 (Dense)            (None, 3)                 42        \n",
            "                                                                 \n",
            "=================================================================\n",
            "Total params: 224\n",
            "Trainable params: 224\n",
            "Non-trainable params: 0\n",
            "_________________________________________________________________\n"
          ]
        }
      ]
    },
    {
      "cell_type": "code",
      "source": [
        "history = model.fit(X_train, y_train, validation_data=(X_test, y_test), epochs=100)"
      ],
      "metadata": {
        "colab": {
          "base_uri": "https://localhost:8080/"
        },
        "outputId": "5a5cd431-5b2d-4c7d-caa2-bb1bbaab9078",
        "id": "Pm7GwwiCwVKq"
      },
      "execution_count": null,
      "outputs": [
        {
          "output_type": "stream",
          "name": "stdout",
          "text": [
            "Epoch 1/100\n",
            "5/5 [==============================] - 2s 190ms/step - loss: 14.2098 - accuracy: 0.3451 - val_loss: 10.7783 - val_accuracy: 0.2778\n",
            "Epoch 2/100\n",
            "5/5 [==============================] - 0s 14ms/step - loss: 7.6012 - accuracy: 0.3310 - val_loss: 2.3533 - val_accuracy: 0.5000\n",
            "Epoch 3/100\n",
            "5/5 [==============================] - 0s 11ms/step - loss: 3.4709 - accuracy: 0.5352 - val_loss: 3.9713 - val_accuracy: 0.5556\n",
            "Epoch 4/100\n",
            "5/5 [==============================] - 0s 12ms/step - loss: 2.5011 - accuracy: 0.5423 - val_loss: 1.8149 - val_accuracy: 0.5278\n",
            "Epoch 5/100\n",
            "5/5 [==============================] - 0s 14ms/step - loss: 1.4073 - accuracy: 0.5000 - val_loss: 1.3004 - val_accuracy: 0.6111\n",
            "Epoch 6/100\n",
            "5/5 [==============================] - 0s 14ms/step - loss: 1.0024 - accuracy: 0.6338 - val_loss: 0.9671 - val_accuracy: 0.6667\n",
            "Epoch 7/100\n",
            "5/5 [==============================] - 0s 13ms/step - loss: 1.0913 - accuracy: 0.6620 - val_loss: 0.8516 - val_accuracy: 0.7778\n",
            "Epoch 8/100\n",
            "5/5 [==============================] - 0s 13ms/step - loss: 0.8762 - accuracy: 0.6408 - val_loss: 1.0143 - val_accuracy: 0.6111\n",
            "Epoch 9/100\n",
            "5/5 [==============================] - 0s 11ms/step - loss: 0.8044 - accuracy: 0.7113 - val_loss: 1.0043 - val_accuracy: 0.7222\n",
            "Epoch 10/100\n",
            "5/5 [==============================] - 0s 12ms/step - loss: 0.7530 - accuracy: 0.6972 - val_loss: 0.8729 - val_accuracy: 0.6944\n",
            "Epoch 11/100\n",
            "5/5 [==============================] - 0s 12ms/step - loss: 0.6810 - accuracy: 0.7113 - val_loss: 0.8160 - val_accuracy: 0.7500\n",
            "Epoch 12/100\n",
            "5/5 [==============================] - 0s 12ms/step - loss: 0.6370 - accuracy: 0.7465 - val_loss: 0.7821 - val_accuracy: 0.7778\n",
            "Epoch 13/100\n",
            "5/5 [==============================] - 0s 11ms/step - loss: 0.6583 - accuracy: 0.7324 - val_loss: 0.7764 - val_accuracy: 0.6944\n",
            "Epoch 14/100\n",
            "5/5 [==============================] - 0s 12ms/step - loss: 0.6660 - accuracy: 0.7817 - val_loss: 0.8347 - val_accuracy: 0.7500\n",
            "Epoch 15/100\n",
            "5/5 [==============================] - 0s 11ms/step - loss: 0.6767 - accuracy: 0.7042 - val_loss: 1.0989 - val_accuracy: 0.5833\n",
            "Epoch 16/100\n",
            "5/5 [==============================] - 0s 11ms/step - loss: 0.8491 - accuracy: 0.6549 - val_loss: 0.7204 - val_accuracy: 0.7500\n",
            "Epoch 17/100\n",
            "5/5 [==============================] - 0s 11ms/step - loss: 0.6395 - accuracy: 0.7324 - val_loss: 0.8625 - val_accuracy: 0.7778\n",
            "Epoch 18/100\n",
            "5/5 [==============================] - 0s 10ms/step - loss: 0.6964 - accuracy: 0.7254 - val_loss: 0.7141 - val_accuracy: 0.6944\n",
            "Epoch 19/100\n",
            "5/5 [==============================] - 0s 12ms/step - loss: 0.6374 - accuracy: 0.7676 - val_loss: 0.7365 - val_accuracy: 0.7222\n",
            "Epoch 20/100\n",
            "5/5 [==============================] - 0s 13ms/step - loss: 0.4960 - accuracy: 0.8099 - val_loss: 0.6785 - val_accuracy: 0.7500\n",
            "Epoch 21/100\n",
            "5/5 [==============================] - 0s 11ms/step - loss: 0.4663 - accuracy: 0.7958 - val_loss: 0.7218 - val_accuracy: 0.7222\n",
            "Epoch 22/100\n",
            "5/5 [==============================] - 0s 12ms/step - loss: 0.4594 - accuracy: 0.8451 - val_loss: 0.6427 - val_accuracy: 0.7222\n",
            "Epoch 23/100\n",
            "5/5 [==============================] - 0s 12ms/step - loss: 0.4669 - accuracy: 0.7676 - val_loss: 0.6863 - val_accuracy: 0.7500\n",
            "Epoch 24/100\n",
            "5/5 [==============================] - 0s 11ms/step - loss: 0.4870 - accuracy: 0.7887 - val_loss: 0.6145 - val_accuracy: 0.7500\n",
            "Epoch 25/100\n",
            "5/5 [==============================] - 0s 12ms/step - loss: 0.4272 - accuracy: 0.8310 - val_loss: 0.8818 - val_accuracy: 0.7222\n",
            "Epoch 26/100\n",
            "5/5 [==============================] - 0s 12ms/step - loss: 0.5691 - accuracy: 0.8451 - val_loss: 0.9427 - val_accuracy: 0.7222\n",
            "Epoch 27/100\n",
            "5/5 [==============================] - 0s 14ms/step - loss: 0.5275 - accuracy: 0.7958 - val_loss: 1.0633 - val_accuracy: 0.7500\n",
            "Epoch 28/100\n",
            "5/5 [==============================] - 0s 11ms/step - loss: 0.5208 - accuracy: 0.7746 - val_loss: 0.8630 - val_accuracy: 0.6667\n",
            "Epoch 29/100\n",
            "5/5 [==============================] - 0s 12ms/step - loss: 0.5345 - accuracy: 0.8028 - val_loss: 0.6815 - val_accuracy: 0.8056\n",
            "Epoch 30/100\n",
            "5/5 [==============================] - 0s 11ms/step - loss: 0.4256 - accuracy: 0.7887 - val_loss: 0.5888 - val_accuracy: 0.7778\n",
            "Epoch 31/100\n",
            "5/5 [==============================] - 0s 12ms/step - loss: 0.4338 - accuracy: 0.8239 - val_loss: 0.6472 - val_accuracy: 0.7500\n",
            "Epoch 32/100\n",
            "5/5 [==============================] - 0s 12ms/step - loss: 0.3612 - accuracy: 0.8380 - val_loss: 0.5703 - val_accuracy: 0.7778\n",
            "Epoch 33/100\n",
            "5/5 [==============================] - 0s 12ms/step - loss: 0.3814 - accuracy: 0.8310 - val_loss: 0.7799 - val_accuracy: 0.7778\n",
            "Epoch 34/100\n",
            "5/5 [==============================] - 0s 13ms/step - loss: 0.4654 - accuracy: 0.7817 - val_loss: 0.5315 - val_accuracy: 0.7778\n",
            "Epoch 35/100\n",
            "5/5 [==============================] - 0s 12ms/step - loss: 0.4087 - accuracy: 0.8451 - val_loss: 0.9473 - val_accuracy: 0.6944\n",
            "Epoch 36/100\n",
            "5/5 [==============================] - 0s 12ms/step - loss: 0.5029 - accuracy: 0.7746 - val_loss: 0.5893 - val_accuracy: 0.7500\n",
            "Epoch 37/100\n",
            "5/5 [==============================] - 0s 12ms/step - loss: 0.3286 - accuracy: 0.8592 - val_loss: 0.5504 - val_accuracy: 0.8611\n",
            "Epoch 38/100\n",
            "5/5 [==============================] - 0s 11ms/step - loss: 0.3373 - accuracy: 0.9296 - val_loss: 0.4892 - val_accuracy: 0.8056\n",
            "Epoch 39/100\n",
            "5/5 [==============================] - 0s 13ms/step - loss: 0.3378 - accuracy: 0.8592 - val_loss: 0.5849 - val_accuracy: 0.8333\n",
            "Epoch 40/100\n",
            "5/5 [==============================] - 0s 14ms/step - loss: 0.3191 - accuracy: 0.9085 - val_loss: 0.4653 - val_accuracy: 0.8333\n",
            "Epoch 41/100\n",
            "5/5 [==============================] - 0s 13ms/step - loss: 0.2812 - accuracy: 0.9014 - val_loss: 0.4960 - val_accuracy: 0.8333\n",
            "Epoch 42/100\n",
            "5/5 [==============================] - 0s 14ms/step - loss: 0.2872 - accuracy: 0.9014 - val_loss: 0.4888 - val_accuracy: 0.8056\n",
            "Epoch 43/100\n",
            "5/5 [==============================] - 0s 14ms/step - loss: 0.2799 - accuracy: 0.8873 - val_loss: 0.4406 - val_accuracy: 0.8333\n",
            "Epoch 44/100\n",
            "5/5 [==============================] - 0s 15ms/step - loss: 0.3247 - accuracy: 0.8803 - val_loss: 0.6116 - val_accuracy: 0.8333\n",
            "Epoch 45/100\n",
            "5/5 [==============================] - 0s 17ms/step - loss: 0.3540 - accuracy: 0.8521 - val_loss: 0.6047 - val_accuracy: 0.7500\n",
            "Epoch 46/100\n",
            "5/5 [==============================] - 0s 13ms/step - loss: 0.3241 - accuracy: 0.8592 - val_loss: 0.6570 - val_accuracy: 0.7778\n",
            "Epoch 47/100\n",
            "5/5 [==============================] - 0s 11ms/step - loss: 0.4426 - accuracy: 0.8099 - val_loss: 0.7176 - val_accuracy: 0.8056\n",
            "Epoch 48/100\n",
            "5/5 [==============================] - 0s 12ms/step - loss: 0.3654 - accuracy: 0.8873 - val_loss: 0.4521 - val_accuracy: 0.8889\n",
            "Epoch 49/100\n",
            "5/5 [==============================] - 0s 11ms/step - loss: 0.2648 - accuracy: 0.9225 - val_loss: 0.4965 - val_accuracy: 0.7778\n",
            "Epoch 50/100\n",
            "5/5 [==============================] - 0s 11ms/step - loss: 0.3153 - accuracy: 0.8662 - val_loss: 0.4904 - val_accuracy: 0.8056\n",
            "Epoch 51/100\n",
            "5/5 [==============================] - 0s 12ms/step - loss: 0.4169 - accuracy: 0.8380 - val_loss: 0.6184 - val_accuracy: 0.8611\n",
            "Epoch 52/100\n",
            "5/5 [==============================] - 0s 15ms/step - loss: 0.2859 - accuracy: 0.8944 - val_loss: 0.6540 - val_accuracy: 0.7500\n",
            "Epoch 53/100\n",
            "5/5 [==============================] - 0s 12ms/step - loss: 0.3113 - accuracy: 0.8451 - val_loss: 0.4594 - val_accuracy: 0.7778\n",
            "Epoch 54/100\n",
            "5/5 [==============================] - 0s 12ms/step - loss: 0.3456 - accuracy: 0.8099 - val_loss: 0.6046 - val_accuracy: 0.8333\n",
            "Epoch 55/100\n",
            "5/5 [==============================] - 0s 13ms/step - loss: 0.5700 - accuracy: 0.7676 - val_loss: 1.2956 - val_accuracy: 0.6389\n",
            "Epoch 56/100\n",
            "5/5 [==============================] - 0s 13ms/step - loss: 0.5674 - accuracy: 0.7817 - val_loss: 0.5375 - val_accuracy: 0.7778\n",
            "Epoch 57/100\n",
            "5/5 [==============================] - 0s 12ms/step - loss: 0.3365 - accuracy: 0.8451 - val_loss: 0.4436 - val_accuracy: 0.8056\n",
            "Epoch 58/100\n",
            "5/5 [==============================] - 0s 14ms/step - loss: 0.2459 - accuracy: 0.9085 - val_loss: 0.5220 - val_accuracy: 0.8889\n",
            "Epoch 59/100\n",
            "5/5 [==============================] - 0s 13ms/step - loss: 0.2131 - accuracy: 0.9296 - val_loss: 0.3406 - val_accuracy: 0.9167\n",
            "Epoch 60/100\n",
            "5/5 [==============================] - 0s 12ms/step - loss: 0.1914 - accuracy: 0.9507 - val_loss: 0.3406 - val_accuracy: 0.9167\n",
            "Epoch 61/100\n",
            "5/5 [==============================] - 0s 12ms/step - loss: 0.2037 - accuracy: 0.8944 - val_loss: 0.4068 - val_accuracy: 0.8889\n",
            "Epoch 62/100\n",
            "5/5 [==============================] - 0s 13ms/step - loss: 0.1889 - accuracy: 0.9437 - val_loss: 0.4562 - val_accuracy: 0.8056\n",
            "Epoch 63/100\n",
            "5/5 [==============================] - 0s 12ms/step - loss: 0.3087 - accuracy: 0.8592 - val_loss: 0.5061 - val_accuracy: 0.9167\n",
            "Epoch 64/100\n",
            "5/5 [==============================] - 0s 13ms/step - loss: 0.1983 - accuracy: 0.9437 - val_loss: 0.3903 - val_accuracy: 0.8611\n",
            "Epoch 65/100\n",
            "5/5 [==============================] - 0s 11ms/step - loss: 0.1757 - accuracy: 0.9366 - val_loss: 0.5312 - val_accuracy: 0.8889\n",
            "Epoch 66/100\n",
            "5/5 [==============================] - 0s 11ms/step - loss: 0.2045 - accuracy: 0.9296 - val_loss: 0.4134 - val_accuracy: 0.8333\n",
            "Epoch 67/100\n",
            "5/5 [==============================] - 0s 12ms/step - loss: 0.1573 - accuracy: 0.9507 - val_loss: 0.3569 - val_accuracy: 0.8889\n",
            "Epoch 68/100\n",
            "5/5 [==============================] - 0s 14ms/step - loss: 0.2314 - accuracy: 0.9296 - val_loss: 0.3238 - val_accuracy: 0.9167\n",
            "Epoch 69/100\n",
            "5/5 [==============================] - 0s 13ms/step - loss: 0.1933 - accuracy: 0.9225 - val_loss: 0.3337 - val_accuracy: 0.8333\n",
            "Epoch 70/100\n",
            "5/5 [==============================] - 0s 12ms/step - loss: 0.1662 - accuracy: 0.9437 - val_loss: 0.3370 - val_accuracy: 0.9167\n",
            "Epoch 71/100\n",
            "5/5 [==============================] - 0s 12ms/step - loss: 0.1405 - accuracy: 0.9648 - val_loss: 0.3517 - val_accuracy: 0.9167\n",
            "Epoch 72/100\n",
            "5/5 [==============================] - 0s 12ms/step - loss: 0.1526 - accuracy: 0.9507 - val_loss: 0.3263 - val_accuracy: 0.9167\n",
            "Epoch 73/100\n",
            "5/5 [==============================] - 0s 14ms/step - loss: 0.1271 - accuracy: 0.9648 - val_loss: 0.3306 - val_accuracy: 0.9167\n",
            "Epoch 74/100\n",
            "5/5 [==============================] - 0s 16ms/step - loss: 0.1543 - accuracy: 0.9437 - val_loss: 0.3161 - val_accuracy: 0.8889\n",
            "Epoch 75/100\n",
            "5/5 [==============================] - 0s 12ms/step - loss: 0.1622 - accuracy: 0.9507 - val_loss: 0.4235 - val_accuracy: 0.9167\n",
            "Epoch 76/100\n",
            "5/5 [==============================] - 0s 12ms/step - loss: 0.1723 - accuracy: 0.9296 - val_loss: 0.3368 - val_accuracy: 0.9167\n",
            "Epoch 77/100\n",
            "5/5 [==============================] - 0s 12ms/step - loss: 0.1702 - accuracy: 0.9296 - val_loss: 0.3434 - val_accuracy: 0.8889\n",
            "Epoch 78/100\n",
            "5/5 [==============================] - 0s 12ms/step - loss: 0.1897 - accuracy: 0.9225 - val_loss: 0.3360 - val_accuracy: 0.8889\n",
            "Epoch 79/100\n",
            "5/5 [==============================] - 0s 12ms/step - loss: 0.2472 - accuracy: 0.8873 - val_loss: 0.4711 - val_accuracy: 0.9167\n",
            "Epoch 80/100\n",
            "5/5 [==============================] - 0s 11ms/step - loss: 0.1807 - accuracy: 0.9155 - val_loss: 0.3844 - val_accuracy: 0.8611\n",
            "Epoch 81/100\n",
            "5/5 [==============================] - 0s 13ms/step - loss: 0.1920 - accuracy: 0.9225 - val_loss: 0.3379 - val_accuracy: 0.8611\n",
            "Epoch 82/100\n",
            "5/5 [==============================] - 0s 12ms/step - loss: 0.1627 - accuracy: 0.9366 - val_loss: 0.3921 - val_accuracy: 0.9167\n",
            "Epoch 83/100\n",
            "5/5 [==============================] - 0s 14ms/step - loss: 0.2042 - accuracy: 0.9085 - val_loss: 0.4771 - val_accuracy: 0.8889\n",
            "Epoch 84/100\n",
            "5/5 [==============================] - 0s 12ms/step - loss: 0.1530 - accuracy: 0.9366 - val_loss: 0.2783 - val_accuracy: 0.9167\n",
            "Epoch 85/100\n",
            "5/5 [==============================] - 0s 12ms/step - loss: 0.1591 - accuracy: 0.9225 - val_loss: 0.2800 - val_accuracy: 0.9167\n",
            "Epoch 86/100\n",
            "5/5 [==============================] - 0s 16ms/step - loss: 0.1654 - accuracy: 0.9225 - val_loss: 0.2936 - val_accuracy: 0.9167\n",
            "Epoch 87/100\n",
            "5/5 [==============================] - 0s 13ms/step - loss: 0.1255 - accuracy: 0.9577 - val_loss: 0.2812 - val_accuracy: 0.9167\n",
            "Epoch 88/100\n",
            "5/5 [==============================] - 0s 12ms/step - loss: 0.1746 - accuracy: 0.9225 - val_loss: 0.2966 - val_accuracy: 0.9167\n",
            "Epoch 89/100\n",
            "5/5 [==============================] - 0s 14ms/step - loss: 0.1141 - accuracy: 0.9648 - val_loss: 0.3196 - val_accuracy: 0.9167\n",
            "Epoch 90/100\n",
            "5/5 [==============================] - 0s 14ms/step - loss: 0.1275 - accuracy: 0.9577 - val_loss: 0.3063 - val_accuracy: 0.9167\n",
            "Epoch 91/100\n",
            "5/5 [==============================] - 0s 15ms/step - loss: 0.1626 - accuracy: 0.9296 - val_loss: 0.3183 - val_accuracy: 0.9167\n",
            "Epoch 92/100\n",
            "5/5 [==============================] - 0s 12ms/step - loss: 0.1497 - accuracy: 0.9507 - val_loss: 0.4897 - val_accuracy: 0.8889\n",
            "Epoch 93/100\n",
            "5/5 [==============================] - 0s 17ms/step - loss: 0.1973 - accuracy: 0.9225 - val_loss: 0.3112 - val_accuracy: 0.9167\n",
            "Epoch 94/100\n",
            "5/5 [==============================] - 0s 13ms/step - loss: 0.1523 - accuracy: 0.9296 - val_loss: 0.2851 - val_accuracy: 0.9167\n",
            "Epoch 95/100\n",
            "5/5 [==============================] - 0s 12ms/step - loss: 0.1354 - accuracy: 0.9577 - val_loss: 0.2827 - val_accuracy: 0.9167\n",
            "Epoch 96/100\n",
            "5/5 [==============================] - 0s 12ms/step - loss: 0.1648 - accuracy: 0.9225 - val_loss: 0.9773 - val_accuracy: 0.7500\n",
            "Epoch 97/100\n",
            "5/5 [==============================] - 0s 13ms/step - loss: 0.3057 - accuracy: 0.9085 - val_loss: 0.3435 - val_accuracy: 0.8611\n",
            "Epoch 98/100\n",
            "5/5 [==============================] - 0s 13ms/step - loss: 0.2599 - accuracy: 0.9085 - val_loss: 0.3376 - val_accuracy: 0.8611\n",
            "Epoch 99/100\n",
            "5/5 [==============================] - 0s 12ms/step - loss: 0.2020 - accuracy: 0.9014 - val_loss: 0.4045 - val_accuracy: 0.9167\n",
            "Epoch 100/100\n",
            "5/5 [==============================] - 0s 11ms/step - loss: 0.1620 - accuracy: 0.9296 - val_loss: 0.4398 - val_accuracy: 0.9167\n"
          ]
        }
      ]
    },
    {
      "cell_type": "code",
      "source": [
        "import keras\n",
        "from matplotlib import pyplot as plt\n",
        "plt.plot(history.history['accuracy'])\n",
        "plt.plot(history.history['val_accuracy'])\n",
        "plt.title('model accuracy')\n",
        "plt.ylabel('accuracy')\n",
        "plt.xlabel('epoch')\n",
        "plt.legend(['train', 'val'], loc='upper left')\n",
        "plt.show()"
      ],
      "metadata": {
        "colab": {
          "base_uri": "https://localhost:8080/",
          "height": 295
        },
        "outputId": "00a47756-4073-4707-ba49-58cef796c5e5",
        "id": "3MAB2xMowVKq"
      },
      "execution_count": null,
      "outputs": [
        {
          "output_type": "display_data",
          "data": {
            "text/plain": [
              "<Figure size 432x288 with 1 Axes>"
            ],
            "image/png": "[encoded data removed]"
          },
          "metadata": {
            "needs_background": "light"
          }
        }
      ]
    },
    {
      "cell_type": "code",
      "source": [
        "plt.plot(history.history['loss']) \n",
        "plt.plot(history.history['val_loss'])\n",
        "plt.title('model loss')\n",
        "plt.ylabel('loss')\n",
        "plt.xlabel('epoch')\n",
        "plt.legend(['train', 'val'], loc='upper left')\n",
        "plt.show()"
      ],
      "metadata": {
        "colab": {
          "base_uri": "https://localhost:8080/",
          "height": 295
        },
        "id": "ozUTzpcFwobb",
        "outputId": "ad8d2934-2a1a-46a1-f5f8-489d1531bfa5"
      },
      "execution_count": null,
      "outputs": [
        {
          "output_type": "display_data",
          "data": {
            "text/plain": [
              "<Figure size 432x288 with 1 Axes>"
            ],
            "image/png": "[encoded data removed]"
          },
          "metadata": {
            "needs_background": "light"
          }
        }
      ]
    },
    {
      "cell_type": "markdown",
      "source": [
        "# Forest Cover Dataset"
      ],
      "metadata": {
        "id": "wfn2Xq7rnp1l"
      }
    },
    {
      "cell_type": "code",
      "source": [
        "from sklearn.datasets import fetch_covtype"
      ],
      "metadata": {
        "id": "zpexywi6nzCh"
      },
      "execution_count": 4,
      "outputs": []
    },
    {
      "cell_type": "code",
      "source": [
        "X, y = fetch_covtype(return_X_y = True)"
      ],
      "metadata": {
        "id": "7rwPS5kcnzCk"
      },
      "execution_count": 5,
      "outputs": []
    },
    {
      "cell_type": "code",
      "source": [
        "X.shape"
      ],
      "metadata": {
        "colab": {
          "base_uri": "https://localhost:8080/"
        },
        "outputId": "8d4cdf6e-2725-46d8-faed-cc7002ea40d6",
        "id": "rKK5bzvznzCl"
      },
      "execution_count": 6,
      "outputs": [
        {
          "output_type": "execute_result",
          "data": {
            "text/plain": [
              "(581012, 54)"
            ]
          },
          "metadata": {},
          "execution_count": 6
        }
      ]
    },
    {
      "cell_type": "code",
      "source": [
        "y.shape"
      ],
      "metadata": {
        "colab": {
          "base_uri": "https://localhost:8080/"
        },
        "outputId": "1a7bb56c-d233-43b2-e8a5-d89a6ba9a921",
        "id": "MublosgrnzCl"
      },
      "execution_count": 7,
      "outputs": [
        {
          "output_type": "execute_result",
          "data": {
            "text/plain": [
              "(581012,)"
            ]
          },
          "metadata": {},
          "execution_count": 7
        }
      ]
    },
    {
      "cell_type": "code",
      "source": [
        "print(set(y))"
      ],
      "metadata": {
        "colab": {
          "base_uri": "https://localhost:8080/"
        },
        "id": "z6XiMnlruj0J",
        "outputId": "170ead10-867c-416a-c3e0-29f3bff1174b"
      },
      "execution_count": 8,
      "outputs": [
        {
          "output_type": "stream",
          "name": "stdout",
          "text": [
            "{1, 2, 3, 4, 5, 6, 7}\n"
          ]
        }
      ]
    },
    {
      "cell_type": "code",
      "source": [
        "y = y-1\n",
        "print(set(y))"
      ],
      "metadata": {
        "colab": {
          "base_uri": "https://localhost:8080/"
        },
        "id": "O2tx2V8ZvD4q",
        "outputId": "32f57b22-0e21-4a39-f277-2ff5285d2489"
      },
      "execution_count": 9,
      "outputs": [
        {
          "output_type": "stream",
          "name": "stdout",
          "text": [
            "{0, 1, 2, 3, 4, 5, 6}\n"
          ]
        }
      ]
    },
    {
      "cell_type": "code",
      "execution_count": 10,
      "metadata": {
        "id": "G6xpnsMGnzCl"
      },
      "outputs": [],
      "source": [
        "import tensorflow as tf\n",
        "from tensorflow.keras.models import Sequential\n",
        "from tensorflow.keras.layers import Dense, Dropout\n",
        "from sklearn.model_selection import train_test_split\n",
        "from tensorflow.keras.utils import to_categorical"
      ]
    },
    {
      "cell_type": "code",
      "source": [
        "#y = to_categorical(y)"
      ],
      "metadata": {
        "id": "Jf52uUTPnzCm"
      },
      "execution_count": 11,
      "outputs": []
    },
    {
      "cell_type": "code",
      "source": [
        "X_train, X_test, y_train, y_test = train_test_split(X, y, test_size=0.2,random_state=73)"
      ],
      "metadata": {
        "id": "hoFiF4fDnzCm"
      },
      "execution_count": 12,
      "outputs": []
    },
    {
      "cell_type": "code",
      "source": [
        "X_train.shape"
      ],
      "metadata": {
        "colab": {
          "base_uri": "https://localhost:8080/"
        },
        "outputId": "0a1729ac-58cc-4cfb-d06c-eb17bcc974a7",
        "id": "OW-K0A12nzCm"
      },
      "execution_count": 13,
      "outputs": [
        {
          "output_type": "execute_result",
          "data": {
            "text/plain": [
              "(464809, 54)"
            ]
          },
          "metadata": {},
          "execution_count": 13
        }
      ]
    },
    {
      "cell_type": "code",
      "source": [
        "y_train.shape"
      ],
      "metadata": {
        "colab": {
          "base_uri": "https://localhost:8080/"
        },
        "outputId": "bbfebf95-92b9-4cf1-b296-d34502e3fa5f",
        "id": "zRdH6NW-nzCm"
      },
      "execution_count": 14,
      "outputs": [
        {
          "output_type": "execute_result",
          "data": {
            "text/plain": [
              "(464809,)"
            ]
          },
          "metadata": {},
          "execution_count": 14
        }
      ]
    },
    {
      "cell_type": "code",
      "source": [
        "y_train[0]"
      ],
      "metadata": {
        "colab": {
          "base_uri": "https://localhost:8080/"
        },
        "outputId": "ac8c1990-4751-4cf3-dfae-6bfaf786faff",
        "id": "gLjYth4jnzCm"
      },
      "execution_count": 15,
      "outputs": [
        {
          "output_type": "execute_result",
          "data": {
            "text/plain": [
              "0"
            ]
          },
          "metadata": {},
          "execution_count": 15
        }
      ]
    },
    {
      "cell_type": "code",
      "source": [
        "model = Sequential()\n",
        "model.add(Dense(128, activation='relu', input_dim=54))\n",
        "model.add(Dense(64, activation='relu'))\n",
        "model.add(Dense(32, activation='relu'))\n",
        "model.add(Dense(16, activation='relu'))\n",
        "model.add(Dense(7, activation='softmax'))"
      ],
      "metadata": {
        "id": "PGjYihu6nzCm"
      },
      "execution_count": 16,
      "outputs": []
    },
    {
      "cell_type": "code",
      "source": [
        "opt = tf.keras.optimizers.Adam(0.01)\n",
        "model.compile(loss='sparse_categorical_crossentropy', metrics=['accuracy'], optimizer=opt)"
      ],
      "metadata": {
        "id": "7JVDyAKlnzCm"
      },
      "execution_count": 17,
      "outputs": []
    },
    {
      "cell_type": "code",
      "source": [
        "model.summary()"
      ],
      "metadata": {
        "colab": {
          "base_uri": "https://localhost:8080/"
        },
        "outputId": "075d153c-0635-47ed-c82b-ae00e45c90ae",
        "id": "RW7zAlY4nzCm"
      },
      "execution_count": 18,
      "outputs": [
        {
          "output_type": "stream",
          "name": "stdout",
          "text": [
            "Model: \"sequential\"\n",
            "_________________________________________________________________\n",
            " Layer (type)                Output Shape              Param #   \n",
            "=================================================================\n",
            " dense (Dense)               (None, 128)               7040      \n",
            "                                                                 \n",
            " dense_1 (Dense)             (None, 64)                8256      \n",
            "                                                                 \n",
            " dense_2 (Dense)             (None, 32)                2080      \n",
            "                                                                 \n",
            " dense_3 (Dense)             (None, 16)                528       \n",
            "                                                                 \n",
            " dense_4 (Dense)             (None, 7)                 119       \n",
            "                                                                 \n",
            "=================================================================\n",
            "Total params: 18,023\n",
            "Trainable params: 18,023\n",
            "Non-trainable params: 0\n",
            "_________________________________________________________________\n"
          ]
        }
      ]
    },
    {
      "cell_type": "code",
      "source": [
        "history = model.fit(X_train, y_train, validation_data=(X_test, y_test), epochs=150, batch_size=4086)"
      ],
      "metadata": {
        "colab": {
          "base_uri": "https://localhost:8080/"
        },
        "outputId": "1e17c591-565a-43ae-faa9-c3bf9d023a09",
        "id": "Fp27LhgOnzCm"
      },
      "execution_count": 19,
      "outputs": [
        {
          "output_type": "stream",
          "name": "stdout",
          "text": [
            "Epoch 1/150\n",
            "114/114 [==============================] - 2s 7ms/step - loss: 11.9795 - accuracy: 0.4192 - val_loss: 1.2489 - val_accuracy: 0.4767\n",
            "Epoch 2/150\n",
            "114/114 [==============================] - 1s 5ms/step - loss: 1.1699 - accuracy: 0.4788 - val_loss: 1.1233 - val_accuracy: 0.4777\n",
            "Epoch 3/150\n",
            "114/114 [==============================] - 1s 5ms/step - loss: 1.4440 - accuracy: 0.4689 - val_loss: 1.2116 - val_accuracy: 0.3972\n",
            "Epoch 4/150\n",
            "114/114 [==============================] - 1s 5ms/step - loss: 1.0880 - accuracy: 0.5029 - val_loss: 1.0663 - val_accuracy: 0.5321\n",
            "Epoch 5/150\n",
            "114/114 [==============================] - 1s 4ms/step - loss: 1.0546 - accuracy: 0.5376 - val_loss: 1.0425 - val_accuracy: 0.5439\n",
            "Epoch 6/150\n",
            "114/114 [==============================] - 1s 4ms/step - loss: 1.0248 - accuracy: 0.5481 - val_loss: 1.0045 - val_accuracy: 0.5565\n",
            "Epoch 7/150\n",
            "114/114 [==============================] - 1s 5ms/step - loss: 0.9854 - accuracy: 0.5638 - val_loss: 0.9630 - val_accuracy: 0.5875\n",
            "Epoch 8/150\n",
            "114/114 [==============================] - 1s 5ms/step - loss: 0.9413 - accuracy: 0.5957 - val_loss: 0.9175 - val_accuracy: 0.6282\n",
            "Epoch 9/150\n",
            "114/114 [==============================] - 1s 5ms/step - loss: 0.8958 - accuracy: 0.6414 - val_loss: 0.8704 - val_accuracy: 0.6715\n",
            "Epoch 10/150\n",
            "114/114 [==============================] - 1s 4ms/step - loss: 0.8533 - accuracy: 0.6755 - val_loss: 0.8285 - val_accuracy: 0.6904\n",
            "Epoch 11/150\n",
            "114/114 [==============================] - 1s 5ms/step - loss: 0.8139 - accuracy: 0.6896 - val_loss: 0.7943 - val_accuracy: 0.7015\n",
            "Epoch 12/150\n",
            "114/114 [==============================] - 1s 5ms/step - loss: 0.8183 - accuracy: 0.6693 - val_loss: 0.7668 - val_accuracy: 0.7079\n",
            "Epoch 13/150\n",
            "114/114 [==============================] - 1s 5ms/step - loss: 0.7997 - accuracy: 0.6743 - val_loss: 0.7696 - val_accuracy: 0.6828\n",
            "Epoch 14/150\n",
            "114/114 [==============================] - 1s 5ms/step - loss: 0.7643 - accuracy: 0.6886 - val_loss: 0.7525 - val_accuracy: 0.7017\n",
            "Epoch 15/150\n",
            "114/114 [==============================] - 1s 5ms/step - loss: 0.7448 - accuracy: 0.6950 - val_loss: 0.7107 - val_accuracy: 0.7143\n",
            "Epoch 16/150\n",
            "114/114 [==============================] - 1s 5ms/step - loss: 0.7340 - accuracy: 0.6944 - val_loss: 0.7084 - val_accuracy: 0.7061\n",
            "Epoch 17/150\n",
            "114/114 [==============================] - 1s 5ms/step - loss: 0.7216 - accuracy: 0.6952 - val_loss: 0.6827 - val_accuracy: 0.7178\n",
            "Epoch 18/150\n",
            "114/114 [==============================] - 1s 5ms/step - loss: 0.6865 - accuracy: 0.7123 - val_loss: 0.6806 - val_accuracy: 0.7104\n",
            "Epoch 19/150\n",
            "114/114 [==============================] - 1s 4ms/step - loss: 0.6850 - accuracy: 0.7104 - val_loss: 1.0474 - val_accuracy: 0.5662\n",
            "Epoch 20/150\n",
            "114/114 [==============================] - 1s 5ms/step - loss: 0.7165 - accuracy: 0.6927 - val_loss: 0.6568 - val_accuracy: 0.7245\n",
            "Epoch 21/150\n",
            "114/114 [==============================] - 1s 4ms/step - loss: 0.6771 - accuracy: 0.7128 - val_loss: 0.6536 - val_accuracy: 0.7262\n",
            "Epoch 22/150\n",
            "114/114 [==============================] - 1s 5ms/step - loss: 0.6673 - accuracy: 0.7198 - val_loss: 0.6401 - val_accuracy: 0.7353\n",
            "Epoch 23/150\n",
            "114/114 [==============================] - 1s 4ms/step - loss: 0.7206 - accuracy: 0.7027 - val_loss: 0.6667 - val_accuracy: 0.7104\n",
            "Epoch 24/150\n",
            "114/114 [==============================] - 1s 5ms/step - loss: 0.6568 - accuracy: 0.7221 - val_loss: 0.6389 - val_accuracy: 0.7308\n",
            "Epoch 25/150\n",
            "114/114 [==============================] - 1s 5ms/step - loss: 0.6871 - accuracy: 0.7107 - val_loss: 0.6354 - val_accuracy: 0.7338\n",
            "Epoch 26/150\n",
            "114/114 [==============================] - 1s 5ms/step - loss: 0.6404 - accuracy: 0.7309 - val_loss: 0.6272 - val_accuracy: 0.7386\n",
            "Epoch 27/150\n",
            "114/114 [==============================] - 1s 5ms/step - loss: 0.6528 - accuracy: 0.7225 - val_loss: 0.6224 - val_accuracy: 0.7383\n",
            "Epoch 28/150\n",
            "114/114 [==============================] - 1s 5ms/step - loss: 0.6892 - accuracy: 0.7124 - val_loss: 0.9823 - val_accuracy: 0.6014\n",
            "Epoch 29/150\n",
            "114/114 [==============================] - 1s 5ms/step - loss: 0.6663 - accuracy: 0.7197 - val_loss: 0.6199 - val_accuracy: 0.7393\n",
            "Epoch 30/150\n",
            "114/114 [==============================] - 1s 5ms/step - loss: 0.6215 - accuracy: 0.7385 - val_loss: 0.6515 - val_accuracy: 0.7189\n",
            "Epoch 31/150\n",
            "114/114 [==============================] - 1s 5ms/step - loss: 0.6298 - accuracy: 0.7331 - val_loss: 0.6006 - val_accuracy: 0.7500\n",
            "Epoch 32/150\n",
            "114/114 [==============================] - 1s 4ms/step - loss: 0.6155 - accuracy: 0.7405 - val_loss: 0.5990 - val_accuracy: 0.7486\n",
            "Epoch 33/150\n",
            "114/114 [==============================] - 1s 5ms/step - loss: 0.6390 - accuracy: 0.7291 - val_loss: 0.5984 - val_accuracy: 0.7505\n",
            "Epoch 34/150\n",
            "114/114 [==============================] - 1s 5ms/step - loss: 0.6063 - accuracy: 0.7434 - val_loss: 0.7864 - val_accuracy: 0.6556\n",
            "Epoch 35/150\n",
            "114/114 [==============================] - 1s 5ms/step - loss: 0.7908 - accuracy: 0.6876 - val_loss: 0.6433 - val_accuracy: 0.7340\n",
            "Epoch 36/150\n",
            "114/114 [==============================] - 1s 4ms/step - loss: 0.6336 - accuracy: 0.7344 - val_loss: 0.6220 - val_accuracy: 0.7370\n",
            "Epoch 37/150\n",
            "114/114 [==============================] - 1s 5ms/step - loss: 0.6272 - accuracy: 0.7338 - val_loss: 0.6121 - val_accuracy: 0.7424\n",
            "Epoch 38/150\n",
            "114/114 [==============================] - 1s 4ms/step - loss: 0.6166 - accuracy: 0.7401 - val_loss: 0.5957 - val_accuracy: 0.7513\n",
            "Epoch 39/150\n",
            "114/114 [==============================] - 1s 5ms/step - loss: 0.6083 - accuracy: 0.7444 - val_loss: 0.6057 - val_accuracy: 0.7415\n",
            "Epoch 40/150\n",
            "114/114 [==============================] - 1s 5ms/step - loss: 0.6109 - accuracy: 0.7424 - val_loss: 0.6161 - val_accuracy: 0.7343\n",
            "Epoch 41/150\n",
            "114/114 [==============================] - 1s 5ms/step - loss: 0.6063 - accuracy: 0.7436 - val_loss: 0.5995 - val_accuracy: 0.7432\n",
            "Epoch 42/150\n",
            "114/114 [==============================] - 1s 5ms/step - loss: 0.6090 - accuracy: 0.7414 - val_loss: 0.6157 - val_accuracy: 0.7333\n",
            "Epoch 43/150\n",
            "114/114 [==============================] - 1s 4ms/step - loss: 0.6489 - accuracy: 0.7280 - val_loss: 0.5924 - val_accuracy: 0.7502\n",
            "Epoch 44/150\n",
            "114/114 [==============================] - 1s 4ms/step - loss: 0.5862 - accuracy: 0.7541 - val_loss: 0.5729 - val_accuracy: 0.7599\n",
            "Epoch 45/150\n",
            "114/114 [==============================] - 1s 5ms/step - loss: 0.6593 - accuracy: 0.7272 - val_loss: 0.6004 - val_accuracy: 0.7472\n",
            "Epoch 46/150\n",
            "114/114 [==============================] - 1s 5ms/step - loss: 0.5933 - accuracy: 0.7509 - val_loss: 0.5699 - val_accuracy: 0.7652\n",
            "Epoch 47/150\n",
            "114/114 [==============================] - 1s 5ms/step - loss: 0.5855 - accuracy: 0.7539 - val_loss: 0.5710 - val_accuracy: 0.7612\n",
            "Epoch 48/150\n",
            "114/114 [==============================] - 1s 5ms/step - loss: 0.6181 - accuracy: 0.7401 - val_loss: 0.5755 - val_accuracy: 0.7600\n",
            "Epoch 49/150\n",
            "114/114 [==============================] - 1s 5ms/step - loss: 0.5806 - accuracy: 0.7556 - val_loss: 0.5661 - val_accuracy: 0.7630\n",
            "Epoch 50/150\n",
            "114/114 [==============================] - 1s 5ms/step - loss: 0.5918 - accuracy: 0.7495 - val_loss: 0.5944 - val_accuracy: 0.7553\n",
            "Epoch 51/150\n",
            "114/114 [==============================] - 0s 4ms/step - loss: 0.5759 - accuracy: 0.7570 - val_loss: 0.5556 - val_accuracy: 0.7667\n",
            "Epoch 52/150\n",
            "114/114 [==============================] - 1s 5ms/step - loss: 0.5880 - accuracy: 0.7507 - val_loss: 0.5796 - val_accuracy: 0.7559\n",
            "Epoch 53/150\n",
            "114/114 [==============================] - 1s 5ms/step - loss: 0.5719 - accuracy: 0.7581 - val_loss: 0.5500 - val_accuracy: 0.7693\n",
            "Epoch 54/150\n",
            "114/114 [==============================] - 1s 4ms/step - loss: 0.5703 - accuracy: 0.7595 - val_loss: 0.5552 - val_accuracy: 0.7685\n",
            "Epoch 55/150\n",
            "114/114 [==============================] - 1s 5ms/step - loss: 0.5798 - accuracy: 0.7546 - val_loss: 0.5604 - val_accuracy: 0.7634\n",
            "Epoch 56/150\n",
            "114/114 [==============================] - 1s 4ms/step - loss: 0.5813 - accuracy: 0.7540 - val_loss: 0.5939 - val_accuracy: 0.7439\n",
            "Epoch 57/150\n",
            "114/114 [==============================] - 1s 5ms/step - loss: 0.5709 - accuracy: 0.7581 - val_loss: 0.5486 - val_accuracy: 0.7692\n",
            "Epoch 58/150\n",
            "114/114 [==============================] - 0s 4ms/step - loss: 0.5783 - accuracy: 0.7552 - val_loss: 0.6064 - val_accuracy: 0.7457\n",
            "Epoch 59/150\n",
            "114/114 [==============================] - 1s 5ms/step - loss: 0.5626 - accuracy: 0.7623 - val_loss: 0.5487 - val_accuracy: 0.7663\n",
            "Epoch 60/150\n",
            "114/114 [==============================] - 1s 4ms/step - loss: 0.5544 - accuracy: 0.7654 - val_loss: 0.5583 - val_accuracy: 0.7647\n",
            "Epoch 61/150\n",
            "114/114 [==============================] - 1s 5ms/step - loss: 0.5728 - accuracy: 0.7566 - val_loss: 0.5511 - val_accuracy: 0.7694\n",
            "Epoch 62/150\n",
            "114/114 [==============================] - 1s 5ms/step - loss: 0.5561 - accuracy: 0.7645 - val_loss: 0.5541 - val_accuracy: 0.7613\n",
            "Epoch 63/150\n",
            "114/114 [==============================] - 1s 4ms/step - loss: 0.5684 - accuracy: 0.7585 - val_loss: 0.5353 - val_accuracy: 0.7743\n",
            "Epoch 64/150\n",
            "114/114 [==============================] - 1s 5ms/step - loss: 0.5545 - accuracy: 0.7653 - val_loss: 0.5248 - val_accuracy: 0.7809\n",
            "Epoch 65/150\n",
            "114/114 [==============================] - 1s 4ms/step - loss: 0.5496 - accuracy: 0.7678 - val_loss: 0.5304 - val_accuracy: 0.7805\n",
            "Epoch 66/150\n",
            "114/114 [==============================] - 1s 5ms/step - loss: 0.5541 - accuracy: 0.7657 - val_loss: 0.5329 - val_accuracy: 0.7781\n",
            "Epoch 67/150\n",
            "114/114 [==============================] - 1s 5ms/step - loss: 0.5487 - accuracy: 0.7681 - val_loss: 0.5513 - val_accuracy: 0.7686\n",
            "Epoch 68/150\n",
            "114/114 [==============================] - 1s 5ms/step - loss: 0.5497 - accuracy: 0.7671 - val_loss: 0.5184 - val_accuracy: 0.7828\n",
            "Epoch 69/150\n",
            "114/114 [==============================] - 1s 5ms/step - loss: 0.5411 - accuracy: 0.7712 - val_loss: 0.5173 - val_accuracy: 0.7834\n",
            "Epoch 70/150\n",
            "114/114 [==============================] - 1s 5ms/step - loss: 0.5442 - accuracy: 0.7691 - val_loss: 0.5947 - val_accuracy: 0.7422\n",
            "Epoch 71/150\n",
            "114/114 [==============================] - 0s 4ms/step - loss: 0.5419 - accuracy: 0.7709 - val_loss: 0.5291 - val_accuracy: 0.7805\n",
            "Epoch 72/150\n",
            "114/114 [==============================] - 1s 5ms/step - loss: 0.5383 - accuracy: 0.7724 - val_loss: 0.6188 - val_accuracy: 0.7270\n",
            "Epoch 73/150\n",
            "114/114 [==============================] - 1s 5ms/step - loss: 0.5471 - accuracy: 0.7685 - val_loss: 0.5284 - val_accuracy: 0.7793\n",
            "Epoch 74/150\n",
            "114/114 [==============================] - 1s 4ms/step - loss: 0.5403 - accuracy: 0.7706 - val_loss: 0.5503 - val_accuracy: 0.7632\n",
            "Epoch 75/150\n",
            "114/114 [==============================] - 1s 4ms/step - loss: 0.5196 - accuracy: 0.7815 - val_loss: 0.5028 - val_accuracy: 0.7882\n",
            "Epoch 76/150\n",
            "114/114 [==============================] - 1s 5ms/step - loss: 0.5612 - accuracy: 0.7622 - val_loss: 0.5041 - val_accuracy: 0.7889\n",
            "Epoch 77/150\n",
            "114/114 [==============================] - 1s 4ms/step - loss: 0.5339 - accuracy: 0.7739 - val_loss: 0.5081 - val_accuracy: 0.7849\n",
            "Epoch 78/150\n",
            "114/114 [==============================] - 1s 4ms/step - loss: 0.5171 - accuracy: 0.7821 - val_loss: 0.5303 - val_accuracy: 0.7783\n",
            "Epoch 79/150\n",
            "114/114 [==============================] - 1s 5ms/step - loss: 0.5168 - accuracy: 0.7824 - val_loss: 0.6491 - val_accuracy: 0.7038\n",
            "Epoch 80/150\n",
            "114/114 [==============================] - 1s 5ms/step - loss: 0.5437 - accuracy: 0.7689 - val_loss: 0.5224 - val_accuracy: 0.7735\n",
            "Epoch 81/150\n",
            "114/114 [==============================] - 1s 5ms/step - loss: 0.5157 - accuracy: 0.7829 - val_loss: 0.4971 - val_accuracy: 0.7926\n",
            "Epoch 82/150\n",
            "114/114 [==============================] - 1s 4ms/step - loss: 0.5120 - accuracy: 0.7843 - val_loss: 0.5020 - val_accuracy: 0.7884\n",
            "Epoch 83/150\n",
            "114/114 [==============================] - 1s 4ms/step - loss: 0.5166 - accuracy: 0.7828 - val_loss: 0.5028 - val_accuracy: 0.7908\n",
            "Epoch 84/150\n",
            "114/114 [==============================] - 1s 4ms/step - loss: 0.5240 - accuracy: 0.7777 - val_loss: 0.4993 - val_accuracy: 0.7921\n",
            "Epoch 85/150\n",
            "114/114 [==============================] - 1s 4ms/step - loss: 0.5098 - accuracy: 0.7834 - val_loss: 0.5063 - val_accuracy: 0.7844\n",
            "Epoch 86/150\n",
            "114/114 [==============================] - 0s 4ms/step - loss: 0.5103 - accuracy: 0.7837 - val_loss: 0.6402 - val_accuracy: 0.7252\n",
            "Epoch 87/150\n",
            "114/114 [==============================] - 1s 5ms/step - loss: 0.5031 - accuracy: 0.7875 - val_loss: 0.4871 - val_accuracy: 0.7978\n",
            "Epoch 88/150\n",
            "114/114 [==============================] - 1s 4ms/step - loss: 0.5198 - accuracy: 0.7796 - val_loss: 0.5106 - val_accuracy: 0.7819\n",
            "Epoch 89/150\n",
            "114/114 [==============================] - 1s 5ms/step - loss: 0.4978 - accuracy: 0.7893 - val_loss: 0.4902 - val_accuracy: 0.7960\n",
            "Epoch 90/150\n",
            "114/114 [==============================] - 1s 4ms/step - loss: 0.4968 - accuracy: 0.7903 - val_loss: 0.4751 - val_accuracy: 0.8023\n",
            "Epoch 91/150\n",
            "114/114 [==============================] - 1s 5ms/step - loss: 0.4942 - accuracy: 0.7912 - val_loss: 0.4729 - val_accuracy: 0.8027\n",
            "Epoch 92/150\n",
            "114/114 [==============================] - 1s 4ms/step - loss: 0.5222 - accuracy: 0.7773 - val_loss: 0.5241 - val_accuracy: 0.7791\n",
            "Epoch 93/150\n",
            "114/114 [==============================] - 1s 5ms/step - loss: 0.4899 - accuracy: 0.7936 - val_loss: 0.4969 - val_accuracy: 0.7876\n",
            "Epoch 94/150\n",
            "114/114 [==============================] - 1s 4ms/step - loss: 0.4865 - accuracy: 0.7942 - val_loss: 0.4738 - val_accuracy: 0.8000\n",
            "Epoch 95/150\n",
            "114/114 [==============================] - 1s 4ms/step - loss: 0.5085 - accuracy: 0.7842 - val_loss: 0.4847 - val_accuracy: 0.7943\n",
            "Epoch 96/150\n",
            "114/114 [==============================] - 1s 5ms/step - loss: 0.4856 - accuracy: 0.7948 - val_loss: 0.4752 - val_accuracy: 0.8028\n",
            "Epoch 97/150\n",
            "114/114 [==============================] - 1s 5ms/step - loss: 0.4905 - accuracy: 0.7924 - val_loss: 0.4802 - val_accuracy: 0.7958\n",
            "Epoch 98/150\n",
            "114/114 [==============================] - 1s 4ms/step - loss: 0.4945 - accuracy: 0.7909 - val_loss: 0.4976 - val_accuracy: 0.7907\n",
            "Epoch 99/150\n",
            "114/114 [==============================] - 1s 4ms/step - loss: 0.4882 - accuracy: 0.7935 - val_loss: 0.4720 - val_accuracy: 0.8016\n",
            "Epoch 100/150\n",
            "114/114 [==============================] - 1s 5ms/step - loss: 0.4819 - accuracy: 0.7966 - val_loss: 0.5323 - val_accuracy: 0.7680\n",
            "Epoch 101/150\n",
            "114/114 [==============================] - 1s 5ms/step - loss: 0.4933 - accuracy: 0.7909 - val_loss: 0.4992 - val_accuracy: 0.7890\n",
            "Epoch 102/150\n",
            "114/114 [==============================] - 1s 5ms/step - loss: 0.4783 - accuracy: 0.7988 - val_loss: 0.4919 - val_accuracy: 0.7905\n",
            "Epoch 103/150\n",
            "114/114 [==============================] - 1s 4ms/step - loss: 0.4818 - accuracy: 0.7961 - val_loss: 0.4760 - val_accuracy: 0.8002\n",
            "Epoch 104/150\n",
            "114/114 [==============================] - 1s 5ms/step - loss: 0.4955 - accuracy: 0.7897 - val_loss: 0.5165 - val_accuracy: 0.7756\n",
            "Epoch 105/150\n",
            "114/114 [==============================] - 1s 4ms/step - loss: 0.4838 - accuracy: 0.7954 - val_loss: 0.4824 - val_accuracy: 0.7954\n",
            "Epoch 106/150\n",
            "114/114 [==============================] - 1s 5ms/step - loss: 0.4679 - accuracy: 0.8027 - val_loss: 0.4514 - val_accuracy: 0.8110\n",
            "Epoch 107/150\n",
            "114/114 [==============================] - 1s 4ms/step - loss: 0.4749 - accuracy: 0.8002 - val_loss: 0.4628 - val_accuracy: 0.8052\n",
            "Epoch 108/150\n",
            "114/114 [==============================] - 1s 4ms/step - loss: 0.4824 - accuracy: 0.7964 - val_loss: 0.4739 - val_accuracy: 0.8027\n",
            "Epoch 109/150\n",
            "114/114 [==============================] - 1s 5ms/step - loss: 0.4710 - accuracy: 0.8008 - val_loss: 0.4775 - val_accuracy: 0.7994\n",
            "Epoch 110/150\n",
            "114/114 [==============================] - 1s 4ms/step - loss: 0.4795 - accuracy: 0.7976 - val_loss: 0.4787 - val_accuracy: 0.8000\n",
            "Epoch 111/150\n",
            "114/114 [==============================] - 0s 4ms/step - loss: 0.4666 - accuracy: 0.8044 - val_loss: 0.4542 - val_accuracy: 0.8083\n",
            "Epoch 112/150\n",
            "114/114 [==============================] - 1s 5ms/step - loss: 0.4684 - accuracy: 0.8031 - val_loss: 0.5343 - val_accuracy: 0.7710\n",
            "Epoch 113/150\n",
            "114/114 [==============================] - 1s 5ms/step - loss: 0.4844 - accuracy: 0.7952 - val_loss: 0.4593 - val_accuracy: 0.8074\n",
            "Epoch 114/150\n",
            "114/114 [==============================] - 1s 4ms/step - loss: 0.4728 - accuracy: 0.8008 - val_loss: 0.4517 - val_accuracy: 0.8125\n",
            "Epoch 115/150\n",
            "114/114 [==============================] - 1s 5ms/step - loss: 0.4628 - accuracy: 0.8058 - val_loss: 0.4500 - val_accuracy: 0.8118\n",
            "Epoch 116/150\n",
            "114/114 [==============================] - 1s 4ms/step - loss: 0.4653 - accuracy: 0.8037 - val_loss: 0.4655 - val_accuracy: 0.8028\n",
            "Epoch 117/150\n",
            "114/114 [==============================] - 1s 5ms/step - loss: 0.4587 - accuracy: 0.8069 - val_loss: 0.4641 - val_accuracy: 0.8076\n",
            "Epoch 118/150\n",
            "114/114 [==============================] - 1s 5ms/step - loss: 0.4597 - accuracy: 0.8069 - val_loss: 0.4449 - val_accuracy: 0.8139\n",
            "Epoch 119/150\n",
            "114/114 [==============================] - 1s 4ms/step - loss: 0.4678 - accuracy: 0.8031 - val_loss: 0.4479 - val_accuracy: 0.8120\n",
            "Epoch 120/150\n",
            "114/114 [==============================] - 1s 5ms/step - loss: 0.4618 - accuracy: 0.8057 - val_loss: 0.5480 - val_accuracy: 0.7574\n",
            "Epoch 121/150\n",
            "114/114 [==============================] - 1s 5ms/step - loss: 0.4666 - accuracy: 0.8033 - val_loss: 0.5059 - val_accuracy: 0.7824\n",
            "Epoch 122/150\n",
            "114/114 [==============================] - 1s 5ms/step - loss: 0.4581 - accuracy: 0.8077 - val_loss: 0.4398 - val_accuracy: 0.8181\n",
            "Epoch 123/150\n",
            "114/114 [==============================] - 1s 5ms/step - loss: 0.4579 - accuracy: 0.8079 - val_loss: 0.4689 - val_accuracy: 0.8031\n",
            "Epoch 124/150\n",
            "114/114 [==============================] - 1s 5ms/step - loss: 0.4761 - accuracy: 0.7987 - val_loss: 0.4841 - val_accuracy: 0.7910\n",
            "Epoch 125/150\n",
            "114/114 [==============================] - 1s 4ms/step - loss: 0.4626 - accuracy: 0.8050 - val_loss: 0.4671 - val_accuracy: 0.8014\n",
            "Epoch 126/150\n",
            "114/114 [==============================] - 1s 5ms/step - loss: 0.4554 - accuracy: 0.8088 - val_loss: 0.4371 - val_accuracy: 0.8166\n",
            "Epoch 127/150\n",
            "114/114 [==============================] - 1s 8ms/step - loss: 0.4686 - accuracy: 0.8023 - val_loss: 0.4479 - val_accuracy: 0.8082\n",
            "Epoch 128/150\n",
            "114/114 [==============================] - 1s 6ms/step - loss: 0.4531 - accuracy: 0.8099 - val_loss: 0.4517 - val_accuracy: 0.8081\n",
            "Epoch 129/150\n",
            "114/114 [==============================] - 1s 6ms/step - loss: 0.4575 - accuracy: 0.8075 - val_loss: 0.4367 - val_accuracy: 0.8191\n",
            "Epoch 130/150\n",
            "114/114 [==============================] - 1s 5ms/step - loss: 0.4510 - accuracy: 0.8102 - val_loss: 0.4526 - val_accuracy: 0.8142\n",
            "Epoch 131/150\n",
            "114/114 [==============================] - 1s 4ms/step - loss: 0.4524 - accuracy: 0.8101 - val_loss: 0.4330 - val_accuracy: 0.8195\n",
            "Epoch 132/150\n",
            "114/114 [==============================] - 1s 5ms/step - loss: 0.4490 - accuracy: 0.8112 - val_loss: 0.4518 - val_accuracy: 0.8092\n",
            "Epoch 133/150\n",
            "114/114 [==============================] - 1s 5ms/step - loss: 0.4466 - accuracy: 0.8123 - val_loss: 0.4490 - val_accuracy: 0.8109\n",
            "Epoch 134/150\n",
            "114/114 [==============================] - 1s 4ms/step - loss: 0.4584 - accuracy: 0.8065 - val_loss: 0.4368 - val_accuracy: 0.8163\n",
            "Epoch 135/150\n",
            "114/114 [==============================] - 1s 5ms/step - loss: 0.4481 - accuracy: 0.8116 - val_loss: 0.4254 - val_accuracy: 0.8228\n",
            "Epoch 136/150\n",
            "114/114 [==============================] - 1s 5ms/step - loss: 0.4549 - accuracy: 0.8088 - val_loss: 0.4386 - val_accuracy: 0.8133\n",
            "Epoch 137/150\n",
            "114/114 [==============================] - 1s 5ms/step - loss: 0.4417 - accuracy: 0.8149 - val_loss: 0.4424 - val_accuracy: 0.8139\n",
            "Epoch 138/150\n",
            "114/114 [==============================] - 1s 5ms/step - loss: 0.4426 - accuracy: 0.8143 - val_loss: 0.4456 - val_accuracy: 0.8124\n",
            "Epoch 139/150\n",
            "114/114 [==============================] - 1s 5ms/step - loss: 0.4437 - accuracy: 0.8131 - val_loss: 0.4304 - val_accuracy: 0.8187\n",
            "Epoch 140/150\n",
            "114/114 [==============================] - 1s 5ms/step - loss: 0.4509 - accuracy: 0.8107 - val_loss: 0.4339 - val_accuracy: 0.8160\n",
            "Epoch 141/150\n",
            "114/114 [==============================] - 1s 5ms/step - loss: 0.4502 - accuracy: 0.8103 - val_loss: 0.4339 - val_accuracy: 0.8181\n",
            "Epoch 142/150\n",
            "114/114 [==============================] - 1s 5ms/step - loss: 0.4444 - accuracy: 0.8134 - val_loss: 0.4348 - val_accuracy: 0.8148\n",
            "Epoch 143/150\n",
            "114/114 [==============================] - 1s 5ms/step - loss: 0.4450 - accuracy: 0.8128 - val_loss: 0.4266 - val_accuracy: 0.8210\n",
            "Epoch 144/150\n",
            "114/114 [==============================] - 1s 5ms/step - loss: 0.4433 - accuracy: 0.8133 - val_loss: 0.4525 - val_accuracy: 0.8100\n",
            "Epoch 145/150\n",
            "114/114 [==============================] - 1s 5ms/step - loss: 0.4558 - accuracy: 0.8082 - val_loss: 0.4957 - val_accuracy: 0.7899\n",
            "Epoch 146/150\n",
            "114/114 [==============================] - 1s 5ms/step - loss: 0.4426 - accuracy: 0.8140 - val_loss: 0.4429 - val_accuracy: 0.8148\n",
            "Epoch 147/150\n",
            "114/114 [==============================] - 1s 5ms/step - loss: 0.4413 - accuracy: 0.8149 - val_loss: 0.4444 - val_accuracy: 0.8117\n",
            "Epoch 148/150\n",
            "114/114 [==============================] - 1s 5ms/step - loss: 0.4430 - accuracy: 0.8139 - val_loss: 0.4357 - val_accuracy: 0.8159\n",
            "Epoch 149/150\n",
            "114/114 [==============================] - 1s 5ms/step - loss: 0.4411 - accuracy: 0.8146 - val_loss: 0.4286 - val_accuracy: 0.8203\n",
            "Epoch 150/150\n",
            "114/114 [==============================] - 1s 5ms/step - loss: 0.4374 - accuracy: 0.8168 - val_loss: 0.4312 - val_accuracy: 0.8202\n"
          ]
        }
      ]
    },
    {
      "cell_type": "code",
      "source": [
        "import keras\n",
        "from matplotlib import pyplot as plt\n",
        "plt.plot(history.history['accuracy'])\n",
        "plt.plot(history.history['val_accuracy'])\n",
        "plt.title('model accuracy')\n",
        "plt.ylabel('accuracy')\n",
        "plt.xlabel('epoch')\n",
        "plt.legend(['train', 'val'], loc='upper left')\n",
        "plt.show()"
      ],
      "metadata": {
        "colab": {
          "base_uri": "https://localhost:8080/",
          "height": 294
        },
        "outputId": "19d65fae-1dca-40f2-d539-d86b814ccf1e",
        "id": "5CiwnE-wnzCn"
      },
      "execution_count": 20,
      "outputs": [
        {
          "output_type": "display_data",
          "data": {
            "text/plain": [
              "<Figure size 432x288 with 1 Axes>"
            ],
            "image/png": "[encoded data removed]"
          },
          "metadata": {
            "needs_background": "light"
          }
        }
      ]
    },
    {
      "cell_type": "code",
      "source": [
        "plt.plot(history.history['loss']) \n",
        "plt.plot(history.history['val_loss'])\n",
        "plt.title('model loss')\n",
        "plt.ylabel('loss')\n",
        "plt.xlabel('epoch')\n",
        "plt.legend(['train', 'val'], loc='upper left')\n",
        "plt.show()"
      ],
      "metadata": {
        "colab": {
          "base_uri": "https://localhost:8080/",
          "height": 294
        },
        "outputId": "7b51aa7a-9aa6-481b-ecc7-00a659de0f09",
        "id": "6NbAGLYcnzCn"
      },
      "execution_count": 21,
      "outputs": [
        {
          "output_type": "display_data",
          "data": {
            "text/plain": [
              "<Figure size 432x288 with 1 Axes>"
            ],
            "image/png": "[encoded data removed]"
          },
          "metadata": {
            "needs_background": "light"
          }
        }
      ]
    },
    {
      "cell_type": "code",
      "source": [
        ""
      ],
      "metadata": {
        "id": "msf4gEvTsO7h"
      },
      "execution_count": null,
      "outputs": []
    }
  ]
}