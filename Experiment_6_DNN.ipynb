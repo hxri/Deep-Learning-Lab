{
  "nbformat": 4,
  "nbformat_minor": 0,
  "metadata": {
    "colab": {
      "name": "Experiment_6_DNN.ipynb",
      "provenance": [],
      "authorship_tag": "ABX9TyMPfZSHcp4te/zbWf1y3To1",
      "include_colab_link": true
    },
    "kernelspec": {
      "name": "python3",
      "display_name": "Python 3"
    },
    "language_info": {
      "name": "python"
    }
  },
  "cells": [
    {
      "cell_type": "markdown",
      "metadata": {
        "id": "view-in-github",
        "colab_type": "text"
      },
      "source": [
        "<a href=\"https://colab.research.google.com/github/hxri/Deep-Learning-Lab/blob/main/Experiment_6_DNN.ipynb\" target=\"_parent\"><img src=\"https://colab.research.google.com/assets/colab-badge.svg\" alt=\"Open In Colab\"/></a>"
      ]
    },
    {
      "cell_type": "markdown",
      "source": [
        "#Iris Dataset"
      ],
      "metadata": {
        "id": "G3d0JsIDv-zN"
      }
    },
    {
      "cell_type": "code",
      "source": [
        "from sklearn.datasets import load_iris"
      ],
      "metadata": {
        "id": "27od1ukymRZP"
      },
      "execution_count": 204,
      "outputs": []
    },
    {
      "cell_type": "code",
      "source": [
        "iris = load_iris()\n",
        "X = iris.data\n",
        "y = iris.target"
      ],
      "metadata": {
        "id": "sU28W-BkmVqj"
      },
      "execution_count": 6,
      "outputs": []
    },
    {
      "cell_type": "code",
      "execution_count": 157,
      "metadata": {
        "id": "PO3e_L0EiFP9"
      },
      "outputs": [],
      "source": [
        "import tensorflow as tf\n",
        "from tensorflow.keras.models import Sequential\n",
        "from tensorflow.keras.layers import Dense\n",
        "from sklearn.model_selection import train_test_split\n",
        "from tensorflow.keras.utils import to_categorical"
      ]
    },
    {
      "cell_type": "code",
      "source": [
        "y = to_categorical(y)"
      ],
      "metadata": {
        "id": "M5tXs9RWt5pG"
      },
      "execution_count": 158,
      "outputs": []
    },
    {
      "cell_type": "code",
      "source": [
        "X_train, X_test, y_train, y_test = train_test_split(X, y, test_size=0.2,random_state=73)"
      ],
      "metadata": {
        "id": "GM-gqApzmhdN"
      },
      "execution_count": 159,
      "outputs": []
    },
    {
      "cell_type": "code",
      "source": [
        "X_train.shape"
      ],
      "metadata": {
        "colab": {
          "base_uri": "https://localhost:8080/"
        },
        "id": "jLKNA-QEmGa9",
        "outputId": "5e9a8594-6f03-49b2-fdaa-000295ecd682"
      },
      "execution_count": 160,
      "outputs": [
        {
          "output_type": "execute_result",
          "data": {
            "text/plain": [
              "(120, 4)"
            ]
          },
          "metadata": {},
          "execution_count": 160
        }
      ]
    },
    {
      "cell_type": "code",
      "source": [
        "y_train.shape"
      ],
      "metadata": {
        "colab": {
          "base_uri": "https://localhost:8080/"
        },
        "id": "yrA8s2O5m_4V",
        "outputId": "101be939-8337-494d-abf0-962a1f15d6d8"
      },
      "execution_count": 161,
      "outputs": [
        {
          "output_type": "execute_result",
          "data": {
            "text/plain": [
              "(120, 3)"
            ]
          },
          "metadata": {},
          "execution_count": 161
        }
      ]
    },
    {
      "cell_type": "code",
      "source": [
        "model = Sequential()\n",
        "model.add(Dense(4, activation='relu', input_dim=4))\n",
        "# model.add(Dense(2, activation='relu'))\n",
        "model.add(Dense(3, activation='sigmoid'))"
      ],
      "metadata": {
        "id": "ZTsa_1KZnBfo"
      },
      "execution_count": 200,
      "outputs": []
    },
    {
      "cell_type": "code",
      "source": [
        "opt = tf.keras.optimizers.Adam(0.01)\n",
        "model.compile(loss='categorical_crossentropy', metrics=['accuracy'], optimizer=opt)"
      ],
      "metadata": {
        "id": "ifZesFngnm7t"
      },
      "execution_count": 201,
      "outputs": []
    },
    {
      "cell_type": "code",
      "source": [
        "model.summary()"
      ],
      "metadata": {
        "colab": {
          "base_uri": "https://localhost:8080/"
        },
        "id": "Pv35Iv1Pn5Pc",
        "outputId": "3cbaf208-dc3a-42aa-c930-f554b8fd4512"
      },
      "execution_count": 202,
      "outputs": [
        {
          "output_type": "stream",
          "name": "stdout",
          "text": [
            "Model: \"sequential_31\"\n",
            "_________________________________________________________________\n",
            " Layer (type)                Output Shape              Param #   \n",
            "=================================================================\n",
            " dense_70 (Dense)            (None, 4)                 20        \n",
            "                                                                 \n",
            " dense_71 (Dense)            (None, 3)                 15        \n",
            "                                                                 \n",
            "=================================================================\n",
            "Total params: 35\n",
            "Trainable params: 35\n",
            "Non-trainable params: 0\n",
            "_________________________________________________________________\n"
          ]
        }
      ]
    },
    {
      "cell_type": "code",
      "source": [
        "history = model.fit(X_train, y_train, epochs=50)"
      ],
      "metadata": {
        "colab": {
          "base_uri": "https://localhost:8080/"
        },
        "id": "hYz-MKZWn8ED",
        "outputId": "874bfe14-9fbd-4e41-d396-2953a223d355"
      },
      "execution_count": 203,
      "outputs": [
        {
          "output_type": "stream",
          "name": "stdout",
          "text": [
            "Epoch 1/50\n",
            "4/4 [==============================] - 0s 3ms/step - loss: 1.2033 - accuracy: 0.3250\n",
            "Epoch 2/50\n",
            "4/4 [==============================] - 0s 3ms/step - loss: 0.9706 - accuracy: 0.3250\n",
            "Epoch 3/50\n",
            "4/4 [==============================] - 0s 3ms/step - loss: 0.8944 - accuracy: 0.6583\n",
            "Epoch 4/50\n",
            "4/4 [==============================] - 0s 4ms/step - loss: 0.8422 - accuracy: 0.6583\n",
            "Epoch 5/50\n",
            "4/4 [==============================] - 0s 3ms/step - loss: 0.7944 - accuracy: 0.6583\n",
            "Epoch 6/50\n",
            "4/4 [==============================] - 0s 3ms/step - loss: 0.7523 - accuracy: 0.6583\n",
            "Epoch 7/50\n",
            "4/4 [==============================] - 0s 3ms/step - loss: 0.7161 - accuracy: 0.6583\n",
            "Epoch 8/50\n",
            "4/4 [==============================] - 0s 4ms/step - loss: 0.6908 - accuracy: 0.6583\n",
            "Epoch 9/50\n",
            "4/4 [==============================] - 0s 4ms/step - loss: 0.6675 - accuracy: 0.6583\n",
            "Epoch 10/50\n",
            "4/4 [==============================] - 0s 3ms/step - loss: 0.6396 - accuracy: 0.6583\n",
            "Epoch 11/50\n",
            "4/4 [==============================] - 0s 3ms/step - loss: 0.6154 - accuracy: 0.6583\n",
            "Epoch 12/50\n",
            "4/4 [==============================] - 0s 3ms/step - loss: 0.5943 - accuracy: 0.6583\n",
            "Epoch 13/50\n",
            "4/4 [==============================] - 0s 3ms/step - loss: 0.5759 - accuracy: 0.6583\n",
            "Epoch 14/50\n",
            "4/4 [==============================] - 0s 3ms/step - loss: 0.5559 - accuracy: 0.6583\n",
            "Epoch 15/50\n",
            "4/4 [==============================] - 0s 3ms/step - loss: 0.5399 - accuracy: 0.6583\n",
            "Epoch 16/50\n",
            "4/4 [==============================] - 0s 3ms/step - loss: 0.5247 - accuracy: 0.6583\n",
            "Epoch 17/50\n",
            "4/4 [==============================] - 0s 3ms/step - loss: 0.5112 - accuracy: 0.6583\n",
            "Epoch 18/50\n",
            "4/4 [==============================] - 0s 3ms/step - loss: 0.4979 - accuracy: 0.6583\n",
            "Epoch 19/50\n",
            "4/4 [==============================] - 0s 3ms/step - loss: 0.4854 - accuracy: 0.7250\n",
            "Epoch 20/50\n",
            "4/4 [==============================] - 0s 3ms/step - loss: 0.4718 - accuracy: 0.8583\n",
            "Epoch 21/50\n",
            "4/4 [==============================] - 0s 3ms/step - loss: 0.4501 - accuracy: 0.9500\n",
            "Epoch 22/50\n",
            "4/4 [==============================] - 0s 3ms/step - loss: 0.4287 - accuracy: 0.9583\n",
            "Epoch 23/50\n",
            "4/4 [==============================] - 0s 3ms/step - loss: 0.4053 - accuracy: 0.9500\n",
            "Epoch 24/50\n",
            "4/4 [==============================] - 0s 3ms/step - loss: 0.3814 - accuracy: 0.9583\n",
            "Epoch 25/50\n",
            "4/4 [==============================] - 0s 3ms/step - loss: 0.3597 - accuracy: 0.9500\n",
            "Epoch 26/50\n",
            "4/4 [==============================] - 0s 3ms/step - loss: 0.3395 - accuracy: 0.9500\n",
            "Epoch 27/50\n",
            "4/4 [==============================] - 0s 3ms/step - loss: 0.3199 - accuracy: 0.9583\n",
            "Epoch 28/50\n",
            "4/4 [==============================] - 0s 4ms/step - loss: 0.3059 - accuracy: 0.9583\n",
            "Epoch 29/50\n",
            "4/4 [==============================] - 0s 3ms/step - loss: 0.2898 - accuracy: 0.9583\n",
            "Epoch 30/50\n",
            "4/4 [==============================] - 0s 4ms/step - loss: 0.2796 - accuracy: 0.9500\n",
            "Epoch 31/50\n",
            "4/4 [==============================] - 0s 3ms/step - loss: 0.2599 - accuracy: 0.9667\n",
            "Epoch 32/50\n",
            "4/4 [==============================] - 0s 3ms/step - loss: 0.2529 - accuracy: 0.9583\n",
            "Epoch 33/50\n",
            "4/4 [==============================] - 0s 3ms/step - loss: 0.2355 - accuracy: 0.9583\n",
            "Epoch 34/50\n",
            "4/4 [==============================] - 0s 3ms/step - loss: 0.2275 - accuracy: 0.9667\n",
            "Epoch 35/50\n",
            "4/4 [==============================] - 0s 3ms/step - loss: 0.2172 - accuracy: 0.9583\n",
            "Epoch 36/50\n",
            "4/4 [==============================] - 0s 3ms/step - loss: 0.2104 - accuracy: 0.9667\n",
            "Epoch 37/50\n",
            "4/4 [==============================] - 0s 2ms/step - loss: 0.1984 - accuracy: 0.9667\n",
            "Epoch 38/50\n",
            "4/4 [==============================] - 0s 4ms/step - loss: 0.1942 - accuracy: 0.9667\n",
            "Epoch 39/50\n",
            "4/4 [==============================] - 0s 3ms/step - loss: 0.1842 - accuracy: 0.9667\n",
            "Epoch 40/50\n",
            "4/4 [==============================] - 0s 4ms/step - loss: 0.1762 - accuracy: 0.9667\n",
            "Epoch 41/50\n",
            "4/4 [==============================] - 0s 3ms/step - loss: 0.1708 - accuracy: 0.9667\n",
            "Epoch 42/50\n",
            "4/4 [==============================] - 0s 4ms/step - loss: 0.1685 - accuracy: 0.9667\n",
            "Epoch 43/50\n",
            "4/4 [==============================] - 0s 3ms/step - loss: 0.1599 - accuracy: 0.9667\n",
            "Epoch 44/50\n",
            "4/4 [==============================] - 0s 3ms/step - loss: 0.1552 - accuracy: 0.9667\n",
            "Epoch 45/50\n",
            "4/4 [==============================] - 0s 4ms/step - loss: 0.1535 - accuracy: 0.9667\n",
            "Epoch 46/50\n",
            "4/4 [==============================] - 0s 4ms/step - loss: 0.1438 - accuracy: 0.9833\n",
            "Epoch 47/50\n",
            "4/4 [==============================] - 0s 3ms/step - loss: 0.1521 - accuracy: 0.9583\n",
            "Epoch 48/50\n",
            "4/4 [==============================] - 0s 3ms/step - loss: 0.1446 - accuracy: 0.9667\n",
            "Epoch 49/50\n",
            "4/4 [==============================] - 0s 3ms/step - loss: 0.1431 - accuracy: 0.9583\n",
            "Epoch 50/50\n",
            "4/4 [==============================] - 0s 3ms/step - loss: 0.1308 - accuracy: 0.9667\n"
          ]
        }
      ]
    },
    {
      "cell_type": "code",
      "source": [
        "import matplotlib.pyplot as plt\n",
        "plt.plot(history.history['accuracy'])\n",
        "plt.title('model accuracy')\n",
        "plt.ylabel('accuracy')                                   \n",
        "plt.xlabel('epoch')\n",
        "plt.legend(['train'], loc='upper left')\n",
        "plt.show()"
      ],
      "metadata": {
        "colab": {
          "base_uri": "https://localhost:8080/",
          "height": 295
        },
        "id": "8uTsuBIIoI2Z",
        "outputId": "e4b0f0e2-32f9-4260-e141-423d1618def3"
      },
      "execution_count": 195,
      "outputs": [
        {
          "output_type": "display_data",
          "data": {
            "text/plain": [
              "<Figure size 432x288 with 1 Axes>"
            ],
            "image/png": "[encoded data removed]"
          },
          "metadata": {
            "needs_background": "light"
          }
        }
      ]
    },
    {
      "cell_type": "code",
      "source": [
        ""
      ],
      "metadata": {
        "id": "LzyU34b_pt0H"
      },
      "execution_count": null,
      "outputs": []
    },
    {
      "cell_type": "markdown",
      "source": [
        "# Wine Dataset"
      ],
      "metadata": {
        "id": "uQNTlFG6wDU0"
      }
    },
    {
      "cell_type": "code",
      "source": [
        "from sklearn.datasets import load_wine"
      ],
      "metadata": {
        "id": "Nkt0WvAhwFkC"
      },
      "execution_count": 205,
      "outputs": []
    },
    {
      "cell_type": "code",
      "source": [
        "iris = load_wine()\n",
        "X = iris.data\n",
        "y = iris.target"
      ],
      "metadata": {
        "id": "3XuFdioUwJbB"
      },
      "execution_count": 206,
      "outputs": []
    },
    {
      "cell_type": "code",
      "source": [
        "X.shape"
      ],
      "metadata": {
        "colab": {
          "base_uri": "https://localhost:8080/"
        },
        "id": "FvLhHI3vwNSZ",
        "outputId": "c0a4776b-c644-447d-f52d-086670146882"
      },
      "execution_count": 207,
      "outputs": [
        {
          "output_type": "execute_result",
          "data": {
            "text/plain": [
              "(178, 13)"
            ]
          },
          "metadata": {},
          "execution_count": 207
        }
      ]
    },
    {
      "cell_type": "code",
      "source": [
        "y.shape"
      ],
      "metadata": {
        "colab": {
          "base_uri": "https://localhost:8080/"
        },
        "id": "97KrTFlhwOSF",
        "outputId": "f2981bf2-c2eb-4cf4-f099-a0c86e894ba7"
      },
      "execution_count": 208,
      "outputs": [
        {
          "output_type": "execute_result",
          "data": {
            "text/plain": [
              "(178,)"
            ]
          },
          "metadata": {},
          "execution_count": 208
        }
      ]
    },
    {
      "cell_type": "code",
      "execution_count": 209,
      "metadata": {
        "id": "3JHK4aX0wVKp"
      },
      "outputs": [],
      "source": [
        "import tensorflow as tf\n",
        "from tensorflow.keras.models import Sequential\n",
        "from tensorflow.keras.layers import Dense\n",
        "from sklearn.model_selection import train_test_split\n",
        "from tensorflow.keras.utils import to_categorical"
      ]
    },
    {
      "cell_type": "code",
      "source": [
        "y = to_categorical(y)"
      ],
      "metadata": {
        "id": "XB7fJLl6wVKp"
      },
      "execution_count": 210,
      "outputs": []
    },
    {
      "cell_type": "code",
      "source": [
        "X_train, X_test, y_train, y_test = train_test_split(X, y, test_size=0.2,random_state=73)"
      ],
      "metadata": {
        "id": "cifk7RcbwVKq"
      },
      "execution_count": 211,
      "outputs": []
    },
    {
      "cell_type": "code",
      "source": [
        "X_train.shape"
      ],
      "metadata": {
        "colab": {
          "base_uri": "https://localhost:8080/"
        },
        "outputId": "74ae5b50-1f85-4be3-84cd-6de55b473d82",
        "id": "Xx9rw41zwVKq"
      },
      "execution_count": 212,
      "outputs": [
        {
          "output_type": "execute_result",
          "data": {
            "text/plain": [
              "(142, 13)"
            ]
          },
          "metadata": {},
          "execution_count": 212
        }
      ]
    },
    {
      "cell_type": "code",
      "source": [
        "y_train.shape"
      ],
      "metadata": {
        "colab": {
          "base_uri": "https://localhost:8080/"
        },
        "outputId": "2985e722-e7f0-4607-f53e-0e54557fa5d1",
        "id": "M-VWI0hUwVKq"
      },
      "execution_count": 213,
      "outputs": [
        {
          "output_type": "execute_result",
          "data": {
            "text/plain": [
              "(142, 3)"
            ]
          },
          "metadata": {},
          "execution_count": 213
        }
      ]
    },
    {
      "cell_type": "code",
      "source": [
        "y_train[0]"
      ],
      "metadata": {
        "colab": {
          "base_uri": "https://localhost:8080/"
        },
        "id": "yuj2TB5xwbur",
        "outputId": "dd5ed2d6-10c0-4238-c33e-3a3422c7552e"
      },
      "execution_count": 217,
      "outputs": [
        {
          "output_type": "execute_result",
          "data": {
            "text/plain": [
              "array([0., 0., 1.], dtype=float32)"
            ]
          },
          "metadata": {},
          "execution_count": 217
        }
      ]
    },
    {
      "cell_type": "code",
      "source": [
        "model = Sequential()\n",
        "model.add(Dense(13, activation='relu', input_dim=13))\n",
        "# model.add(Dense(2, activation='relu'))\n",
        "model.add(Dense(3, activation='sigmoid'))"
      ],
      "metadata": {
        "id": "BDIEQwDxwVKq"
      },
      "execution_count": 228,
      "outputs": []
    },
    {
      "cell_type": "code",
      "source": [
        "opt = tf.keras.optimizers.Adam(0.01)\n",
        "model.compile(loss='categorical_crossentropy', metrics=['accuracy'], optimizer=opt)"
      ],
      "metadata": {
        "id": "PojgGSCowVKq"
      },
      "execution_count": 229,
      "outputs": []
    },
    {
      "cell_type": "code",
      "source": [
        "model.summary()"
      ],
      "metadata": {
        "colab": {
          "base_uri": "https://localhost:8080/"
        },
        "outputId": "6da03e62-6cf1-4584-db67-ccf9b8a95e97",
        "id": "ZuhP98r4wVKq"
      },
      "execution_count": 230,
      "outputs": [
        {
          "output_type": "stream",
          "name": "stdout",
          "text": [
            "Model: \"sequential_35\"\n",
            "_________________________________________________________________\n",
            " Layer (type)                Output Shape              Param #   \n",
            "=================================================================\n",
            " dense_78 (Dense)            (None, 13)                182       \n",
            "                                                                 \n",
            " dense_79 (Dense)            (None, 3)                 42        \n",
            "                                                                 \n",
            "=================================================================\n",
            "Total params: 224\n",
            "Trainable params: 224\n",
            "Non-trainable params: 0\n",
            "_________________________________________________________________\n"
          ]
        }
      ]
    },
    {
      "cell_type": "code",
      "source": [
        "history = model.fit(X_train, y_train, epochs=100)"
      ],
      "metadata": {
        "colab": {
          "base_uri": "https://localhost:8080/"
        },
        "outputId": "3df2ef9e-a3c1-4e09-da69-1ae1cf449ccd",
        "id": "Pm7GwwiCwVKq"
      },
      "execution_count": 231,
      "outputs": [
        {
          "output_type": "stream",
          "name": "stdout",
          "text": [
            "Epoch 1/100\n",
            "5/5 [==============================] - 0s 3ms/step - loss: 317.4745 - accuracy: 0.3944\n",
            "Epoch 2/100\n",
            "5/5 [==============================] - 0s 3ms/step - loss: 214.6910 - accuracy: 0.3944\n",
            "Epoch 3/100\n",
            "5/5 [==============================] - 0s 2ms/step - loss: 117.0089 - accuracy: 0.3944\n",
            "Epoch 4/100\n",
            "5/5 [==============================] - 0s 3ms/step - loss: 47.6206 - accuracy: 0.2958\n",
            "Epoch 5/100\n",
            "5/5 [==============================] - 0s 3ms/step - loss: 30.6646 - accuracy: 0.2676\n",
            "Epoch 6/100\n",
            "5/5 [==============================] - 0s 3ms/step - loss: 19.4126 - accuracy: 0.3380\n",
            "Epoch 7/100\n",
            "5/5 [==============================] - 0s 3ms/step - loss: 22.1674 - accuracy: 0.3380\n",
            "Epoch 8/100\n",
            "5/5 [==============================] - 0s 3ms/step - loss: 13.9574 - accuracy: 0.3803\n",
            "Epoch 9/100\n",
            "5/5 [==============================] - 0s 3ms/step - loss: 11.8397 - accuracy: 0.4225\n",
            "Epoch 10/100\n",
            "5/5 [==============================] - 0s 3ms/step - loss: 6.4232 - accuracy: 0.3451\n",
            "Epoch 11/100\n",
            "5/5 [==============================] - 0s 3ms/step - loss: 2.5212 - accuracy: 0.3803\n",
            "Epoch 12/100\n",
            "5/5 [==============================] - 0s 3ms/step - loss: 1.6846 - accuracy: 0.5141\n",
            "Epoch 13/100\n",
            "5/5 [==============================] - 0s 3ms/step - loss: 1.5669 - accuracy: 0.5000\n",
            "Epoch 14/100\n",
            "5/5 [==============================] - 0s 3ms/step - loss: 0.9018 - accuracy: 0.7042\n",
            "Epoch 15/100\n",
            "5/5 [==============================] - 0s 3ms/step - loss: 0.8842 - accuracy: 0.6479\n",
            "Epoch 16/100\n",
            "5/5 [==============================] - 0s 3ms/step - loss: 0.8488 - accuracy: 0.6901\n",
            "Epoch 17/100\n",
            "5/5 [==============================] - 0s 4ms/step - loss: 0.6628 - accuracy: 0.7465\n",
            "Epoch 18/100\n",
            "5/5 [==============================] - 0s 3ms/step - loss: 0.5540 - accuracy: 0.8028\n",
            "Epoch 19/100\n",
            "5/5 [==============================] - 0s 3ms/step - loss: 0.5291 - accuracy: 0.7676\n",
            "Epoch 20/100\n",
            "5/5 [==============================] - 0s 3ms/step - loss: 0.5071 - accuracy: 0.7746\n",
            "Epoch 21/100\n",
            "5/5 [==============================] - 0s 3ms/step - loss: 0.4960 - accuracy: 0.8028\n",
            "Epoch 22/100\n",
            "5/5 [==============================] - 0s 3ms/step - loss: 0.4841 - accuracy: 0.7746\n",
            "Epoch 23/100\n",
            "5/5 [==============================] - 0s 3ms/step - loss: 0.4805 - accuracy: 0.8099\n",
            "Epoch 24/100\n",
            "5/5 [==============================] - 0s 3ms/step - loss: 0.4465 - accuracy: 0.7958\n",
            "Epoch 25/100\n",
            "5/5 [==============================] - 0s 2ms/step - loss: 0.4370 - accuracy: 0.7887\n",
            "Epoch 26/100\n",
            "5/5 [==============================] - 0s 3ms/step - loss: 0.4483 - accuracy: 0.8099\n",
            "Epoch 27/100\n",
            "5/5 [==============================] - 0s 4ms/step - loss: 0.4674 - accuracy: 0.8169\n",
            "Epoch 28/100\n",
            "5/5 [==============================] - 0s 3ms/step - loss: 0.4313 - accuracy: 0.8239\n",
            "Epoch 29/100\n",
            "5/5 [==============================] - 0s 3ms/step - loss: 0.4040 - accuracy: 0.8239\n",
            "Epoch 30/100\n",
            "5/5 [==============================] - 0s 3ms/step - loss: 0.3866 - accuracy: 0.8310\n",
            "Epoch 31/100\n",
            "5/5 [==============================] - 0s 2ms/step - loss: 0.4021 - accuracy: 0.8662\n",
            "Epoch 32/100\n",
            "5/5 [==============================] - 0s 3ms/step - loss: 0.4052 - accuracy: 0.8380\n",
            "Epoch 33/100\n",
            "5/5 [==============================] - 0s 3ms/step - loss: 0.4359 - accuracy: 0.8099\n",
            "Epoch 34/100\n",
            "5/5 [==============================] - 0s 2ms/step - loss: 0.3980 - accuracy: 0.8239\n",
            "Epoch 35/100\n",
            "5/5 [==============================] - 0s 3ms/step - loss: 0.3898 - accuracy: 0.8310\n",
            "Epoch 36/100\n",
            "5/5 [==============================] - 0s 3ms/step - loss: 0.3543 - accuracy: 0.8451\n",
            "Epoch 37/100\n",
            "5/5 [==============================] - 0s 3ms/step - loss: 0.3902 - accuracy: 0.8662\n",
            "Epoch 38/100\n",
            "5/5 [==============================] - 0s 2ms/step - loss: 0.4148 - accuracy: 0.8310\n",
            "Epoch 39/100\n",
            "5/5 [==============================] - 0s 2ms/step - loss: 0.3857 - accuracy: 0.8380\n",
            "Epoch 40/100\n",
            "5/5 [==============================] - 0s 3ms/step - loss: 0.3561 - accuracy: 0.8873\n",
            "Epoch 41/100\n",
            "5/5 [==============================] - 0s 2ms/step - loss: 0.3576 - accuracy: 0.8380\n",
            "Epoch 42/100\n",
            "5/5 [==============================] - 0s 3ms/step - loss: 0.3890 - accuracy: 0.8239\n",
            "Epoch 43/100\n",
            "5/5 [==============================] - 0s 3ms/step - loss: 0.4660 - accuracy: 0.8380\n",
            "Epoch 44/100\n",
            "5/5 [==============================] - 0s 3ms/step - loss: 0.3457 - accuracy: 0.8521\n",
            "Epoch 45/100\n",
            "5/5 [==============================] - 0s 4ms/step - loss: 0.3638 - accuracy: 0.8521\n",
            "Epoch 46/100\n",
            "5/5 [==============================] - 0s 2ms/step - loss: 0.3029 - accuracy: 0.9014\n",
            "Epoch 47/100\n",
            "5/5 [==============================] - 0s 3ms/step - loss: 0.2822 - accuracy: 0.9085\n",
            "Epoch 48/100\n",
            "5/5 [==============================] - 0s 3ms/step - loss: 0.3126 - accuracy: 0.8732\n",
            "Epoch 49/100\n",
            "5/5 [==============================] - 0s 3ms/step - loss: 0.2704 - accuracy: 0.9014\n",
            "Epoch 50/100\n",
            "5/5 [==============================] - 0s 3ms/step - loss: 0.2791 - accuracy: 0.9014\n",
            "Epoch 51/100\n",
            "5/5 [==============================] - 0s 3ms/step - loss: 0.3518 - accuracy: 0.8592\n",
            "Epoch 52/100\n",
            "5/5 [==============================] - 0s 3ms/step - loss: 0.3340 - accuracy: 0.8521\n",
            "Epoch 53/100\n",
            "5/5 [==============================] - 0s 3ms/step - loss: 0.3091 - accuracy: 0.8662\n",
            "Epoch 54/100\n",
            "5/5 [==============================] - 0s 3ms/step - loss: 0.2482 - accuracy: 0.8873\n",
            "Epoch 55/100\n",
            "5/5 [==============================] - 0s 3ms/step - loss: 0.2939 - accuracy: 0.8732\n",
            "Epoch 56/100\n",
            "5/5 [==============================] - 0s 3ms/step - loss: 0.3191 - accuracy: 0.8732\n",
            "Epoch 57/100\n",
            "5/5 [==============================] - 0s 4ms/step - loss: 0.2691 - accuracy: 0.8873\n",
            "Epoch 58/100\n",
            "5/5 [==============================] - 0s 3ms/step - loss: 0.2470 - accuracy: 0.8944\n",
            "Epoch 59/100\n",
            "5/5 [==============================] - 0s 3ms/step - loss: 0.2729 - accuracy: 0.8944\n",
            "Epoch 60/100\n",
            "5/5 [==============================] - 0s 3ms/step - loss: 0.3157 - accuracy: 0.8592\n",
            "Epoch 61/100\n",
            "5/5 [==============================] - 0s 2ms/step - loss: 0.2394 - accuracy: 0.9225\n",
            "Epoch 62/100\n",
            "5/5 [==============================] - 0s 3ms/step - loss: 0.2213 - accuracy: 0.9296\n",
            "Epoch 63/100\n",
            "5/5 [==============================] - 0s 3ms/step - loss: 0.2473 - accuracy: 0.9085\n",
            "Epoch 64/100\n",
            "5/5 [==============================] - 0s 3ms/step - loss: 0.2307 - accuracy: 0.8944\n",
            "Epoch 65/100\n",
            "5/5 [==============================] - 0s 2ms/step - loss: 0.2731 - accuracy: 0.9014\n",
            "Epoch 66/100\n",
            "5/5 [==============================] - 0s 3ms/step - loss: 0.2513 - accuracy: 0.9155\n",
            "Epoch 67/100\n",
            "5/5 [==============================] - 0s 4ms/step - loss: 0.2287 - accuracy: 0.9085\n",
            "Epoch 68/100\n",
            "5/5 [==============================] - 0s 3ms/step - loss: 0.2087 - accuracy: 0.9296\n",
            "Epoch 69/100\n",
            "5/5 [==============================] - 0s 3ms/step - loss: 0.2230 - accuracy: 0.9014\n",
            "Epoch 70/100\n",
            "5/5 [==============================] - 0s 3ms/step - loss: 0.2122 - accuracy: 0.9296\n",
            "Epoch 71/100\n",
            "5/5 [==============================] - 0s 3ms/step - loss: 0.1842 - accuracy: 0.9437\n",
            "Epoch 72/100\n",
            "5/5 [==============================] - 0s 4ms/step - loss: 0.2096 - accuracy: 0.9296\n",
            "Epoch 73/100\n",
            "5/5 [==============================] - 0s 3ms/step - loss: 0.2105 - accuracy: 0.9296\n",
            "Epoch 74/100\n",
            "5/5 [==============================] - 0s 3ms/step - loss: 0.2261 - accuracy: 0.9155\n",
            "Epoch 75/100\n",
            "5/5 [==============================] - 0s 3ms/step - loss: 0.1866 - accuracy: 0.9225\n",
            "Epoch 76/100\n",
            "5/5 [==============================] - 0s 2ms/step - loss: 0.1820 - accuracy: 0.9296\n",
            "Epoch 77/100\n",
            "5/5 [==============================] - 0s 2ms/step - loss: 0.1755 - accuracy: 0.9366\n",
            "Epoch 78/100\n",
            "5/5 [==============================] - 0s 2ms/step - loss: 0.2079 - accuracy: 0.9225\n",
            "Epoch 79/100\n",
            "5/5 [==============================] - 0s 3ms/step - loss: 0.2267 - accuracy: 0.9225\n",
            "Epoch 80/100\n",
            "5/5 [==============================] - 0s 3ms/step - loss: 0.2990 - accuracy: 0.8803\n",
            "Epoch 81/100\n",
            "5/5 [==============================] - 0s 3ms/step - loss: 0.2582 - accuracy: 0.8873\n",
            "Epoch 82/100\n",
            "5/5 [==============================] - 0s 3ms/step - loss: 0.2227 - accuracy: 0.9014\n",
            "Epoch 83/100\n",
            "5/5 [==============================] - 0s 3ms/step - loss: 0.1621 - accuracy: 0.9437\n",
            "Epoch 84/100\n",
            "5/5 [==============================] - 0s 3ms/step - loss: 0.1942 - accuracy: 0.9366\n",
            "Epoch 85/100\n",
            "5/5 [==============================] - 0s 2ms/step - loss: 0.1683 - accuracy: 0.9366\n",
            "Epoch 86/100\n",
            "5/5 [==============================] - 0s 2ms/step - loss: 0.2124 - accuracy: 0.8873\n",
            "Epoch 87/100\n",
            "5/5 [==============================] - 0s 3ms/step - loss: 0.2491 - accuracy: 0.8873\n",
            "Epoch 88/100\n",
            "5/5 [==============================] - 0s 3ms/step - loss: 0.2055 - accuracy: 0.9155\n",
            "Epoch 89/100\n",
            "5/5 [==============================] - 0s 3ms/step - loss: 0.3018 - accuracy: 0.8873\n",
            "Epoch 90/100\n",
            "5/5 [==============================] - 0s 4ms/step - loss: 0.2905 - accuracy: 0.8873\n",
            "Epoch 91/100\n",
            "5/5 [==============================] - 0s 2ms/step - loss: 0.4621 - accuracy: 0.8099\n",
            "Epoch 92/100\n",
            "5/5 [==============================] - 0s 2ms/step - loss: 0.5299 - accuracy: 0.8099\n",
            "Epoch 93/100\n",
            "5/5 [==============================] - 0s 2ms/step - loss: 0.4611 - accuracy: 0.8239\n",
            "Epoch 94/100\n",
            "5/5 [==============================] - 0s 3ms/step - loss: 0.2726 - accuracy: 0.8873\n",
            "Epoch 95/100\n",
            "5/5 [==============================] - 0s 3ms/step - loss: 0.2161 - accuracy: 0.9155\n",
            "Epoch 96/100\n",
            "5/5 [==============================] - 0s 3ms/step - loss: 0.2185 - accuracy: 0.9225\n",
            "Epoch 97/100\n",
            "5/5 [==============================] - 0s 3ms/step - loss: 0.2200 - accuracy: 0.9225\n",
            "Epoch 98/100\n",
            "5/5 [==============================] - 0s 2ms/step - loss: 0.1553 - accuracy: 0.9225\n",
            "Epoch 99/100\n",
            "5/5 [==============================] - 0s 3ms/step - loss: 0.1498 - accuracy: 0.9366\n",
            "Epoch 100/100\n",
            "5/5 [==============================] - 0s 3ms/step - loss: 0.1447 - accuracy: 0.9507\n"
          ]
        }
      ]
    },
    {
      "cell_type": "code",
      "source": [
        "import matplotlib.pyplot as plt\n",
        "plt.plot(history.history['accuracy'])\n",
        "plt.title('model accuracy')\n",
        "plt.ylabel('accuracy')                                   \n",
        "plt.xlabel('epoch')\n",
        "plt.legend(['train'], loc='upper left')\n",
        "plt.show()"
      ],
      "metadata": {
        "colab": {
          "base_uri": "https://localhost:8080/",
          "height": 295
        },
        "outputId": "f73fb6b6-cf8d-45b0-823a-26f51f7763f1",
        "id": "3MAB2xMowVKq"
      },
      "execution_count": 232,
      "outputs": [
        {
          "output_type": "display_data",
          "data": {
            "text/plain": [
              "<Figure size 432x288 with 1 Axes>"
            ],
            "image/png": "[encoded data removed]"
          },
          "metadata": {
            "needs_background": "light"
          }
        }
      ]
    },
    {
      "cell_type": "code",
      "source": [
        ""
      ],
      "metadata": {
        "id": "ozUTzpcFwobb"
      },
      "execution_count": null,
      "outputs": []
    }
  ]
}