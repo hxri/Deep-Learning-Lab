{
  "nbformat": 4,
  "nbformat_minor": 0,
  "metadata": {
    "colab": {
      "name": "Experiment_7_ML_Classifier.ipynb",
      "provenance": [],
      "authorship_tag": "ABX9TyPFXTkrqPFPt8cQbljYmypW",
      "include_colab_link": true
    },
    "kernelspec": {
      "name": "python3",
      "display_name": "Python 3"
    },
    "language_info": {
      "name": "python"
    }
  },
  "cells": [
    {
      "cell_type": "markdown",
      "metadata": {
        "id": "view-in-github",
        "colab_type": "text"
      },
      "source": [
        "<a href=\"https://colab.research.google.com/github/hxri/Deep-Learning-Lab/blob/main/Experiment_7_ML_Classifier.ipynb\" target=\"_parent\"><img src=\"https://colab.research.google.com/assets/colab-badge.svg\" alt=\"Open In Colab\"/></a>"
      ]
    },
    {
      "cell_type": "markdown",
      "source": [
        "#Iris Dataset"
      ],
      "metadata": {
        "id": "G3d0JsIDv-zN"
      }
    },
    {
      "cell_type": "code",
      "source": [
        "from sklearn.datasets import load_iris"
      ],
      "metadata": {
        "id": "27od1ukymRZP"
      },
      "execution_count": 5,
      "outputs": []
    },
    {
      "cell_type": "code",
      "source": [
        "iris = load_iris()\n",
        "X = iris.data\n",
        "y = iris.target"
      ],
      "metadata": {
        "id": "sU28W-BkmVqj"
      },
      "execution_count": 6,
      "outputs": []
    },
    {
      "cell_type": "code",
      "execution_count": 7,
      "metadata": {
        "id": "PO3e_L0EiFP9"
      },
      "outputs": [],
      "source": [
        "from sklearn.neural_network import MLPClassifier\n",
        "from sklearn.datasets import make_classification\n",
        "from sklearn.model_selection import train_test_split"
      ]
    },
    {
      "cell_type": "code",
      "source": [
        "X_train, X_test, y_train, y_test = train_test_split(X, y, test_size=0.2,random_state=73)"
      ],
      "metadata": {
        "id": "GM-gqApzmhdN"
      },
      "execution_count": 8,
      "outputs": []
    },
    {
      "cell_type": "code",
      "source": [
        "X_train.shape"
      ],
      "metadata": {
        "colab": {
          "base_uri": "https://localhost:8080/"
        },
        "id": "jLKNA-QEmGa9",
        "outputId": "8d39bd5b-164f-4c1b-9b0b-118305100cb9"
      },
      "execution_count": 9,
      "outputs": [
        {
          "output_type": "execute_result",
          "data": {
            "text/plain": [
              "(120, 4)"
            ]
          },
          "metadata": {},
          "execution_count": 9
        }
      ]
    },
    {
      "cell_type": "code",
      "source": [
        "y_train.shape"
      ],
      "metadata": {
        "colab": {
          "base_uri": "https://localhost:8080/"
        },
        "id": "yrA8s2O5m_4V",
        "outputId": "ae781036-b2b4-47ea-dbff-bcc60987748d"
      },
      "execution_count": 10,
      "outputs": [
        {
          "output_type": "execute_result",
          "data": {
            "text/plain": [
              "(120,)"
            ]
          },
          "metadata": {},
          "execution_count": 10
        }
      ]
    },
    {
      "cell_type": "code",
      "source": [
        "clf = MLPClassifier(random_state=1, max_iter=300).fit(X_train, y_train)\n",
        "preds = clf.predict(X_test)\n",
        "preds"
      ],
      "metadata": {
        "colab": {
          "base_uri": "https://localhost:8080/"
        },
        "id": "YSrGewrS1Yoc",
        "outputId": "54fec8dd-8c88-4b0a-e388-0ebcc191a240"
      },
      "execution_count": 14,
      "outputs": [
        {
          "output_type": "stream",
          "name": "stderr",
          "text": [
            "/usr/local/lib/python3.7/dist-packages/sklearn/neural_network/_multilayer_perceptron.py:696: ConvergenceWarning: Stochastic Optimizer: Maximum iterations (300) reached and the optimization hasn't converged yet.\n",
            "  ConvergenceWarning,\n"
          ]
        },
        {
          "output_type": "execute_result",
          "data": {
            "text/plain": [
              "array([1, 0, 1, 0, 1, 2, 0, 2, 1, 1, 2, 2, 0, 0, 0, 2, 1, 2, 1, 2, 1, 2,\n",
              "       2, 0, 2, 1, 0, 0, 0, 0])"
            ]
          },
          "metadata": {},
          "execution_count": 14
        }
      ]
    },
    {
      "cell_type": "code",
      "source": [
        "from sklearn.metrics import classification_report\n",
        "print(classification_report(y_test,preds))"
      ],
      "metadata": {
        "colab": {
          "base_uri": "https://localhost:8080/"
        },
        "id": "O5aAJdAp1oSW",
        "outputId": "1a0a9702-dd29-4912-d53b-bb9714b47b6d"
      },
      "execution_count": 15,
      "outputs": [
        {
          "output_type": "stream",
          "name": "stdout",
          "text": [
            "              precision    recall  f1-score   support\n",
            "\n",
            "           0       1.00      1.00      1.00        11\n",
            "           1       1.00      1.00      1.00         9\n",
            "           2       1.00      1.00      1.00        10\n",
            "\n",
            "    accuracy                           1.00        30\n",
            "   macro avg       1.00      1.00      1.00        30\n",
            "weighted avg       1.00      1.00      1.00        30\n",
            "\n"
          ]
        }
      ]
    },
    {
      "cell_type": "markdown",
      "source": [
        "#WIne Dataset"
      ],
      "metadata": {
        "id": "7lPehSyj2kSs"
      }
    },
    {
      "cell_type": "code",
      "source": [
        "from sklearn.datasets import load_wine"
      ],
      "metadata": {
        "id": "Czkf0ISU2kSu"
      },
      "execution_count": 16,
      "outputs": []
    },
    {
      "cell_type": "code",
      "source": [
        "iris = load_wine()\n",
        "X = iris.data\n",
        "y = iris.target"
      ],
      "metadata": {
        "id": "Xof3FOUm2kSv"
      },
      "execution_count": 17,
      "outputs": []
    },
    {
      "cell_type": "code",
      "execution_count": 18,
      "metadata": {
        "id": "l2aikNJY2kSw"
      },
      "outputs": [],
      "source": [
        "from sklearn.neural_network import MLPClassifier\n",
        "from sklearn.datasets import make_classification\n",
        "from sklearn.model_selection import train_test_split"
      ]
    },
    {
      "cell_type": "code",
      "source": [
        "X_train, X_test, y_train, y_test = train_test_split(X, y, test_size=0.2,random_state=73)"
      ],
      "metadata": {
        "id": "D36ZSYtU2kSx"
      },
      "execution_count": 19,
      "outputs": []
    },
    {
      "cell_type": "code",
      "source": [
        "X_train.shape"
      ],
      "metadata": {
        "colab": {
          "base_uri": "https://localhost:8080/"
        },
        "outputId": "19a61d5a-7e4a-45cd-ad3b-4313001fe5a4",
        "id": "nzFP8fzX2kSx"
      },
      "execution_count": 20,
      "outputs": [
        {
          "output_type": "execute_result",
          "data": {
            "text/plain": [
              "(142, 13)"
            ]
          },
          "metadata": {},
          "execution_count": 20
        }
      ]
    },
    {
      "cell_type": "code",
      "source": [
        "y_train.shape"
      ],
      "metadata": {
        "colab": {
          "base_uri": "https://localhost:8080/"
        },
        "outputId": "68a59ab3-1525-4b50-b90b-cfcbd8225113",
        "id": "6-7eB-6u2kSx"
      },
      "execution_count": 21,
      "outputs": [
        {
          "output_type": "execute_result",
          "data": {
            "text/plain": [
              "(142,)"
            ]
          },
          "metadata": {},
          "execution_count": 21
        }
      ]
    },
    {
      "cell_type": "code",
      "source": [
        "clf = MLPClassifier(random_state=1, max_iter=300).fit(X_train, y_train)\n",
        "preds = clf.predict(X_test)\n",
        "preds"
      ],
      "metadata": {
        "colab": {
          "base_uri": "https://localhost:8080/"
        },
        "outputId": "d491af5b-2dd9-4655-b78e-70ca770fe62d",
        "id": "gDM_9xLO2kSy"
      },
      "execution_count": 22,
      "outputs": [
        {
          "output_type": "stream",
          "name": "stderr",
          "text": [
            "/usr/local/lib/python3.7/dist-packages/sklearn/neural_network/_multilayer_perceptron.py:696: ConvergenceWarning: Stochastic Optimizer: Maximum iterations (300) reached and the optimization hasn't converged yet.\n",
            "  ConvergenceWarning,\n"
          ]
        },
        {
          "output_type": "execute_result",
          "data": {
            "text/plain": [
              "array([1, 1, 1, 2, 1, 1, 1, 1, 0, 2, 0, 1, 2, 0, 2, 1, 1, 0, 1, 0, 2, 0,\n",
              "       2, 0, 1, 2, 0, 1, 1, 1, 0, 1, 1, 0, 2, 2])"
            ]
          },
          "metadata": {},
          "execution_count": 22
        }
      ]
    },
    {
      "cell_type": "code",
      "source": [
        "from sklearn.metrics import classification_report\n",
        "print(classification_report(y_test,preds))"
      ],
      "metadata": {
        "colab": {
          "base_uri": "https://localhost:8080/"
        },
        "outputId": "ff90da2c-9708-4234-e918-56879577c829",
        "id": "cs-T9hV42kSy"
      },
      "execution_count": 23,
      "outputs": [
        {
          "output_type": "stream",
          "name": "stdout",
          "text": [
            "              precision    recall  f1-score   support\n",
            "\n",
            "           0       0.80      0.73      0.76        11\n",
            "           1       0.82      0.93      0.87        15\n",
            "           2       1.00      0.90      0.95        10\n",
            "\n",
            "    accuracy                           0.86        36\n",
            "   macro avg       0.87      0.85      0.86        36\n",
            "weighted avg       0.87      0.86      0.86        36\n",
            "\n"
          ]
        }
      ]
    },
    {
      "cell_type": "markdown",
      "source": [
        "# Forest Cover Dataset"
      ],
      "metadata": {
        "id": "wfn2Xq7rnp1l"
      }
    },
    {
      "cell_type": "code",
      "source": [
        "from sklearn.datasets import fetch_covtype"
      ],
      "metadata": {
        "id": "zpexywi6nzCh"
      },
      "execution_count": 24,
      "outputs": []
    },
    {
      "cell_type": "code",
      "source": [
        "X, y = fetch_covtype(return_X_y = True)"
      ],
      "metadata": {
        "id": "7rwPS5kcnzCk"
      },
      "execution_count": 25,
      "outputs": []
    },
    {
      "cell_type": "code",
      "source": [
        "X.shape"
      ],
      "metadata": {
        "colab": {
          "base_uri": "https://localhost:8080/"
        },
        "outputId": "6aca0fec-c5f0-4d01-9a43-0025f390797d",
        "id": "rKK5bzvznzCl"
      },
      "execution_count": 26,
      "outputs": [
        {
          "output_type": "execute_result",
          "data": {
            "text/plain": [
              "(581012, 54)"
            ]
          },
          "metadata": {},
          "execution_count": 26
        }
      ]
    },
    {
      "cell_type": "code",
      "source": [
        "y.shape"
      ],
      "metadata": {
        "colab": {
          "base_uri": "https://localhost:8080/"
        },
        "outputId": "182e3e3a-4673-4f83-fb77-62973db4394a",
        "id": "MublosgrnzCl"
      },
      "execution_count": 27,
      "outputs": [
        {
          "output_type": "execute_result",
          "data": {
            "text/plain": [
              "(581012,)"
            ]
          },
          "metadata": {},
          "execution_count": 27
        }
      ]
    },
    {
      "cell_type": "code",
      "source": [
        "print(set(y))"
      ],
      "metadata": {
        "colab": {
          "base_uri": "https://localhost:8080/"
        },
        "id": "z6XiMnlruj0J",
        "outputId": "8104e8c3-6505-4c20-96f9-a1fc40a4f30a"
      },
      "execution_count": 28,
      "outputs": [
        {
          "output_type": "stream",
          "name": "stdout",
          "text": [
            "{1, 2, 3, 4, 5, 6, 7}\n"
          ]
        }
      ]
    },
    {
      "cell_type": "code",
      "source": [
        "y = y-1\n",
        "print(set(y))"
      ],
      "metadata": {
        "colab": {
          "base_uri": "https://localhost:8080/"
        },
        "id": "O2tx2V8ZvD4q",
        "outputId": "8f8bdf31-8237-49d2-ea71-4a82f3b33aea"
      },
      "execution_count": 29,
      "outputs": [
        {
          "output_type": "stream",
          "name": "stdout",
          "text": [
            "{0, 1, 2, 3, 4, 5, 6}\n"
          ]
        }
      ]
    },
    {
      "cell_type": "code",
      "execution_count": 30,
      "metadata": {
        "id": "TcU-JSn53BR-"
      },
      "outputs": [],
      "source": [
        "from sklearn.neural_network import MLPClassifier\n",
        "from sklearn.datasets import make_classification\n",
        "from sklearn.model_selection import train_test_split"
      ]
    },
    {
      "cell_type": "code",
      "source": [
        "X_train, X_test, y_train, y_test = train_test_split(X, y, test_size=0.2,random_state=73)"
      ],
      "metadata": {
        "id": "Csz_0v0Y3BR_"
      },
      "execution_count": 31,
      "outputs": []
    },
    {
      "cell_type": "code",
      "source": [
        "X_train.shape"
      ],
      "metadata": {
        "colab": {
          "base_uri": "https://localhost:8080/"
        },
        "outputId": "afa1e063-3f54-48d1-c13f-b33be1fb911c",
        "id": "SVhT2jkZ3BSA"
      },
      "execution_count": 32,
      "outputs": [
        {
          "output_type": "execute_result",
          "data": {
            "text/plain": [
              "(464809, 54)"
            ]
          },
          "metadata": {},
          "execution_count": 32
        }
      ]
    },
    {
      "cell_type": "code",
      "source": [
        "y_train.shape"
      ],
      "metadata": {
        "colab": {
          "base_uri": "https://localhost:8080/"
        },
        "outputId": "195f7d11-86e0-4f50-dd26-0bf613915f57",
        "id": "0UjUttB93BSC"
      },
      "execution_count": 33,
      "outputs": [
        {
          "output_type": "execute_result",
          "data": {
            "text/plain": [
              "(464809,)"
            ]
          },
          "metadata": {},
          "execution_count": 33
        }
      ]
    },
    {
      "cell_type": "code",
      "source": [
        "clf = MLPClassifier(random_state=1,hidden_layer_sizes=100,solver='adam',verbose=True,batch_size=2048, max_iter=100).fit(X_train, y_train)\n",
        "preds = clf.predict(X_test)\n",
        "preds"
      ],
      "metadata": {
        "colab": {
          "base_uri": "https://localhost:8080/"
        },
        "outputId": "6ecf5f53-7f65-4757-db2d-c1773c1e9e8f",
        "id": "OY6TZJP13BSC"
      },
      "execution_count": 46,
      "outputs": [
        {
          "output_type": "stream",
          "name": "stdout",
          "text": [
            "Iteration 1, loss = 9.36848596\n",
            "Iteration 2, loss = 2.46132779\n",
            "Iteration 3, loss = 1.93472252\n",
            "Iteration 4, loss = 1.76710567\n",
            "Iteration 5, loss = 1.52593039\n",
            "Iteration 6, loss = 1.56984673\n",
            "Iteration 7, loss = 1.55575300\n",
            "Iteration 8, loss = 1.26723512\n",
            "Iteration 9, loss = 1.38715277\n",
            "Iteration 10, loss = 1.74335873\n",
            "Iteration 11, loss = 1.30598890\n",
            "Iteration 12, loss = 1.18469521\n",
            "Iteration 13, loss = 1.35763861\n",
            "Iteration 14, loss = 1.27237675\n",
            "Iteration 15, loss = 1.45268615\n",
            "Iteration 16, loss = 1.66721701\n",
            "Iteration 17, loss = 1.08315118\n",
            "Iteration 18, loss = 1.22757501\n",
            "Iteration 19, loss = 1.11536992\n",
            "Iteration 20, loss = 1.48310642\n",
            "Iteration 21, loss = 1.05368653\n",
            "Iteration 22, loss = 1.13890819\n",
            "Iteration 23, loss = 1.29043760\n",
            "Iteration 24, loss = 1.39400933\n",
            "Iteration 25, loss = 1.08750686\n",
            "Iteration 26, loss = 1.09629110\n",
            "Iteration 27, loss = 1.07593775\n",
            "Iteration 28, loss = 1.64361582\n",
            "Iteration 29, loss = 1.51920080\n",
            "Iteration 30, loss = 0.98692990\n",
            "Iteration 31, loss = 1.15637461\n",
            "Iteration 32, loss = 1.17852457\n",
            "Iteration 33, loss = 1.30564909\n",
            "Iteration 34, loss = 0.95492009\n",
            "Iteration 35, loss = 1.14464809\n",
            "Iteration 36, loss = 1.84489713\n",
            "Iteration 37, loss = 0.87193797\n",
            "Iteration 38, loss = 1.10585710\n",
            "Iteration 39, loss = 1.21747451\n",
            "Iteration 40, loss = 0.95847358\n",
            "Iteration 41, loss = 1.04061216\n",
            "Iteration 42, loss = 1.02556594\n",
            "Iteration 43, loss = 1.06746893\n",
            "Iteration 44, loss = 1.38685143\n",
            "Iteration 45, loss = 0.92238216\n",
            "Iteration 46, loss = 1.03047540\n",
            "Iteration 47, loss = 1.02886651\n",
            "Iteration 48, loss = 1.05035029\n",
            "Training loss did not improve more than tol=0.000100 for 10 consecutive epochs. Stopping.\n"
          ]
        },
        {
          "output_type": "execute_result",
          "data": {
            "text/plain": [
              "array([2, 1, 1, ..., 1, 1, 0], dtype=int32)"
            ]
          },
          "metadata": {},
          "execution_count": 46
        }
      ]
    },
    {
      "cell_type": "code",
      "source": [
        "from sklearn.metrics import classification_report\n",
        "print(classification_report(y_test,preds))"
      ],
      "metadata": {
        "colab": {
          "base_uri": "https://localhost:8080/"
        },
        "outputId": "d7f770b9-954c-4eb8-a355-3f94bbb22b3a",
        "id": "CGBcCImo3BSD"
      },
      "execution_count": 48,
      "outputs": [
        {
          "output_type": "stream",
          "name": "stdout",
          "text": [
            "              precision    recall  f1-score   support\n",
            "\n",
            "           0       0.85      0.43      0.57     42485\n",
            "           1       0.67      0.93      0.78     56580\n",
            "           2       0.60      0.93      0.73      7135\n",
            "           3       0.81      0.19      0.31       574\n",
            "           4       0.81      0.10      0.17      1860\n",
            "           5       0.58      0.08      0.13      3506\n",
            "           6       0.67      0.72      0.69      4063\n",
            "\n",
            "    accuracy                           0.70    116203\n",
            "   macro avg       0.71      0.48      0.48    116203\n",
            "weighted avg       0.73      0.70      0.67    116203\n",
            "\n"
          ]
        }
      ]
    }
  ]
}